{
  "cells": [
    {
      "cell_type": "markdown",
      "metadata": {
        "id": "9dJCSR72lCxe"
      },
      "source": [
        "# Part 1 - Wordle Game"
      ]
    },
    {
      "cell_type": "code",
      "execution_count": 1,
      "metadata": {
        "id": "4bUdFeJDysdB"
      },
      "outputs": [],
      "source": [
        "import pandas as pd\n",
        "import numpy as np\n",
        "import random\n",
        "from termcolor import colored"
      ]
    },
    {
      "cell_type": "markdown",
      "metadata": {
        "id": "l92D6Dqhq58a"
      },
      "source": [
        "## Codes to setup the game"
      ]
    },
    {
      "cell_type": "code",
      "execution_count": 2,
      "metadata": {
        "colab": {
          "base_uri": "https://localhost:8080/"
        },
        "id": "B7c0D_sbdhPf",
        "outputId": "a38f95c5-bc9d-4ea4-d7ec-461485766bb7"
      },
      "outputs": [
        {
          "output_type": "stream",
          "name": "stdout",
          "text": [
            "Mounted at /content/drive\n"
          ]
        }
      ],
      "source": [
        "# Mount Google Drive to access files\n",
        "from google.colab import drive\n",
        "drive.mount('/content/drive')"
      ]
    },
    {
      "cell_type": "code",
      "execution_count": 3,
      "metadata": {
        "id": "1UGJsmN1dnbf"
      },
      "outputs": [],
      "source": [
        "# Load files into dataframe\n",
        "full_df = pd.read_csv('/content/drive/MyDrive/Wordle/Data/combined_wordlist.txt', sep=\" \", header=None)\n",
        "allowed_df = pd.read_csv('/content/drive/MyDrive/Wordle/Data/official_allowed_guesses.txt', sep=\" \", header=None)\n",
        "real_df = pd.read_csv('/content/drive/MyDrive/Wordle/Data/shuffled_real_wordles.txt', sep=\" \", header=None)"
      ]
    },
    {
      "cell_type": "code",
      "execution_count": null,
      "metadata": {
        "id": "qEFck_19fihQ"
      },
      "outputs": [],
      "source": [
        "# Upload file manually\n",
        "\"\"\"\n",
        "# Run this multiple times to upload all files\n",
        "from google.colab import files\n",
        "uploaded = files.upload()\n",
        "\"\"\""
      ]
    },
    {
      "cell_type": "code",
      "execution_count": null,
      "metadata": {
        "id": "YHlF-mE3flw5"
      },
      "outputs": [],
      "source": [
        "# Load files into dataframe, if uploaded manually\n",
        "\"\"\"\n",
        "# Load files into dataframe\n",
        "full_df = pd.read_csv('combined_wordlist.txt', sep=\" \", header=None)\n",
        "real_df = pd.read_csv('shuffled_real_wordles.txt', sep=\" \", header=None)\n",
        "allowed_df = pd.read_csv('official_allowed_guesses.txt', sep=\" \", header=None)\n",
        "\"\"\""
      ]
    },
    {
      "cell_type": "code",
      "execution_count": 4,
      "metadata": {
        "id": "ahcpdGj40sV1"
      },
      "outputs": [],
      "source": [
        "# Convert dataframes into list\n",
        "full_list = full_df[0].values.tolist()\n",
        "allowed_list = allowed_df[0].values.tolist()\n",
        "real_list = real_df[0].values.tolist()\n",
        "\n",
        "# Global variables\n",
        "# Use global because it's easier to update them rather than passing outputs around\n",
        "global alphabet\n",
        "global guess\n",
        "global result\n",
        "\n",
        "# Use escape word to quit game before attempts are used up\n",
        "escape_word = 'gameover'\n",
        "\n",
        "# Set random state\n",
        "global_random_state = 1"
      ]
    },
    {
      "cell_type": "code",
      "execution_count": 5,
      "metadata": {
        "id": "QJgP0E41JLxS"
      },
      "outputs": [],
      "source": [
        "# Set alphabet, which is displayed for available choices\n",
        "def reset_alphabet():\n",
        "    global alphabet\n",
        "    alphabet = {'a': 'white', 'b': 'white', 'c': 'white', 'd': 'white', 'e': 'white', 'f': 'white', 'g': 'white',\n",
        "                'h': 'white', 'i': 'white', 'j': 'white', 'k': 'white', 'l': 'white', 'm': 'white', 'n': 'white',\n",
        "                'o': 'white', 'p': 'white', 'q': 'white', 'r': 'white', 's': 'white', 't': 'white',\n",
        "                'u': 'white', 'v': 'white', 'w': 'white', 'x': 'white', 'y': 'white', 'z': 'white'}\n",
        "\n",
        "\n",
        "# Ask for input\n",
        "def ask_input():\n",
        "    global guess\n",
        "    \n",
        "    while True:\n",
        "        guess = input('Enter a 5 letters word: ').lower()\n",
        "\n",
        "        # Secret escape word can be accepted\n",
        "        if guess == escape_word:\n",
        "            break\n",
        "        # Only accept word within full_list\n",
        "        elif guess not in full_list:\n",
        "            print('Invalid input. ', end='')\n",
        "        else:\n",
        "            break\n",
        "\n",
        "\n",
        "# Verify input and display result\n",
        "def verify_input(answer, guess, output=False, printout=True):\n",
        "    result = ['grey'] * 5                       # Initialize result\n",
        "\n",
        "    answer_list = []                            # Initialize answer, to help deal with duplicate letters\n",
        "    for n in answer:\n",
        "        answer_list.append(n)\n",
        "\n",
        "    for i in range(5):                          # First loop for green\n",
        "        cur = guess[i]\n",
        "        if cur == answer[i]:                    # If letter is a match\n",
        "            result[i] = 'green'                 # Display this letter in result as green\n",
        "            alphabet[cur] = 'green'             # Display this letter in alphabet as green\n",
        "            answer_list.remove(cur)             # Remove this letter in answer_list, to remove duplicate for yellow check\n",
        "\n",
        "    for i in range(5):                          # Second loop for yellow and grey\n",
        "        cur = guess[i]\n",
        "        if cur in (answer_list):                # If match with answer_list, which has matched letter removed\n",
        "            if result[i] != 'green':            # Only update result to yellow, if it's not already green\n",
        "                result[i] = 'yellow'\n",
        "                answer_list.remove(cur)         # Similar to above, remove this letter in answer_list\n",
        "            if alphabet[cur] != 'green':        # Only update alphabet to yellow, if it's not already green\n",
        "                alphabet[cur] = 'yellow'\n",
        "        if cur not in answer:                   # If no match with original answer\n",
        "            alphabet[cur] = 'grey'              # Display this letter in alphabet as grey\n",
        "\n",
        "    # Show guess result in color\n",
        "    if printout:                                # Printout will be false during simulation\n",
        "        for i in range(5):\n",
        "            if result[i] in ('green', 'grey'):\n",
        "                print(colored(guess[i], 'white', 'on_'+result[i], attrs=['bold']), end='')\n",
        "            else:\n",
        "                print(colored(guess[i], 'grey', 'on_'+result[i], attrs=['bold']), end='')\n",
        "        print()\n",
        "\n",
        "    # Show available letters of alphabet in color\n",
        "    if printout:                                # Printout will be false during simulation\n",
        "        print('Available letters: ', end='')\n",
        "        for k, v in alphabet.items():\n",
        "            if v in ('green', 'grey'):\n",
        "                print(colored(k, 'white', 'on_'+v, attrs=['bold']), end='')\n",
        "            else:\n",
        "                print(colored(k, 'grey', 'on_'+v, attrs=['bold']), end='')\n",
        "        print()\n",
        "\n",
        "    # Return output in numeric format, which is used in solver\n",
        "    if output:\n",
        "        for i, n in enumerate(result):\n",
        "            if n == 'grey':\n",
        "                result[i] = 0\n",
        "            elif n == 'yellow':\n",
        "                result[i] = 1\n",
        "            elif n == 'green': \n",
        "                result[i] = 2\n",
        "        return result\n",
        "\n",
        "\n",
        "# Play game with limited attempts\n",
        "def wordle_game(max_try=6):\n",
        "    answer = random.choice(real_list)           # Random word each game\n",
        "    reset_alphabet()\n",
        "    attempt = 0\n",
        "\n",
        "    while attempt < max_try:\n",
        "        print('Attempt ', attempt + 1, '/', max_try)\n",
        "        ask_input()\n",
        "\n",
        "        if guess == escape_word:                # If guess is secret escape word, end game with loss\n",
        "            attempt = max_try\n",
        "        else:\n",
        "            verify_input(answer, guess)\n",
        "\n",
        "            if guess != answer:\n",
        "                attempt += 1\n",
        "            else:\n",
        "                print('You win!')\n",
        "                attempt = max_try + 1\n",
        "                break\n",
        "\n",
        "    if attempt == max_try:\n",
        "        print('You lost, the answer is \\'', answer, '\\'.')\n"
      ]
    },
    {
      "cell_type": "markdown",
      "metadata": {
        "id": "DAzdQG8mlTWV"
      },
      "source": [
        "## Play a game"
      ]
    },
    {
      "cell_type": "code",
      "execution_count": null,
      "metadata": {
        "colab": {
          "base_uri": "https://localhost:8080/"
        },
        "id": "k-6gPaQaePBp",
        "outputId": "06904b3a-adb6-4319-fdfa-bf1fdc7c9176"
      },
      "outputs": [
        {
          "name": "stdout",
          "output_type": "stream",
          "text": [
            "Attempt  1 / 6\n",
            "Enter a 5 letters word: tares\n",
            "\u001b[1m\u001b[40m\u001b[37mt\u001b[0m\u001b[1m\u001b[43m\u001b[30ma\u001b[0m\u001b[1m\u001b[43m\u001b[30mr\u001b[0m\u001b[1m\u001b[40m\u001b[37me\u001b[0m\u001b[1m\u001b[43m\u001b[30ms\u001b[0m\n",
            "Available letters: \u001b[1m\u001b[43m\u001b[30ma\u001b[0m\u001b[1m\u001b[47m\u001b[30mb\u001b[0m\u001b[1m\u001b[47m\u001b[30mc\u001b[0m\u001b[1m\u001b[47m\u001b[30md\u001b[0m\u001b[1m\u001b[40m\u001b[37me\u001b[0m\u001b[1m\u001b[47m\u001b[30mf\u001b[0m\u001b[1m\u001b[47m\u001b[30mg\u001b[0m\u001b[1m\u001b[47m\u001b[30mh\u001b[0m\u001b[1m\u001b[47m\u001b[30mi\u001b[0m\u001b[1m\u001b[47m\u001b[30mj\u001b[0m\u001b[1m\u001b[47m\u001b[30mk\u001b[0m\u001b[1m\u001b[47m\u001b[30ml\u001b[0m\u001b[1m\u001b[47m\u001b[30mm\u001b[0m\u001b[1m\u001b[47m\u001b[30mn\u001b[0m\u001b[1m\u001b[47m\u001b[30mo\u001b[0m\u001b[1m\u001b[47m\u001b[30mp\u001b[0m\u001b[1m\u001b[47m\u001b[30mq\u001b[0m\u001b[1m\u001b[43m\u001b[30mr\u001b[0m\u001b[1m\u001b[43m\u001b[30ms\u001b[0m\u001b[1m\u001b[40m\u001b[37mt\u001b[0m\u001b[1m\u001b[47m\u001b[30mu\u001b[0m\u001b[1m\u001b[47m\u001b[30mv\u001b[0m\u001b[1m\u001b[47m\u001b[30mw\u001b[0m\u001b[1m\u001b[47m\u001b[30mx\u001b[0m\u001b[1m\u001b[47m\u001b[30my\u001b[0m\u001b[1m\u001b[47m\u001b[30mz\u001b[0m\n",
            "Attempt  2 / 6\n",
            "Enter a 5 letters word: shaky\n",
            "\u001b[1m\u001b[42m\u001b[37ms\u001b[0m\u001b[1m\u001b[40m\u001b[37mh\u001b[0m\u001b[1m\u001b[43m\u001b[30ma\u001b[0m\u001b[1m\u001b[40m\u001b[37mk\u001b[0m\u001b[1m\u001b[40m\u001b[37my\u001b[0m\n",
            "Available letters: \u001b[1m\u001b[43m\u001b[30ma\u001b[0m\u001b[1m\u001b[47m\u001b[30mb\u001b[0m\u001b[1m\u001b[47m\u001b[30mc\u001b[0m\u001b[1m\u001b[47m\u001b[30md\u001b[0m\u001b[1m\u001b[40m\u001b[37me\u001b[0m\u001b[1m\u001b[47m\u001b[30mf\u001b[0m\u001b[1m\u001b[47m\u001b[30mg\u001b[0m\u001b[1m\u001b[40m\u001b[37mh\u001b[0m\u001b[1m\u001b[47m\u001b[30mi\u001b[0m\u001b[1m\u001b[47m\u001b[30mj\u001b[0m\u001b[1m\u001b[40m\u001b[37mk\u001b[0m\u001b[1m\u001b[47m\u001b[30ml\u001b[0m\u001b[1m\u001b[47m\u001b[30mm\u001b[0m\u001b[1m\u001b[47m\u001b[30mn\u001b[0m\u001b[1m\u001b[47m\u001b[30mo\u001b[0m\u001b[1m\u001b[47m\u001b[30mp\u001b[0m\u001b[1m\u001b[47m\u001b[30mq\u001b[0m\u001b[1m\u001b[43m\u001b[30mr\u001b[0m\u001b[1m\u001b[42m\u001b[37ms\u001b[0m\u001b[1m\u001b[40m\u001b[37mt\u001b[0m\u001b[1m\u001b[47m\u001b[30mu\u001b[0m\u001b[1m\u001b[47m\u001b[30mv\u001b[0m\u001b[1m\u001b[47m\u001b[30mw\u001b[0m\u001b[1m\u001b[47m\u001b[30mx\u001b[0m\u001b[1m\u001b[40m\u001b[37my\u001b[0m\u001b[1m\u001b[47m\u001b[30mz\u001b[0m\n",
            "Attempt  3 / 6\n",
            "Enter a 5 letters word: soars\n",
            "\u001b[1m\u001b[42m\u001b[37ms\u001b[0m\u001b[1m\u001b[42m\u001b[37mo\u001b[0m\u001b[1m\u001b[43m\u001b[30ma\u001b[0m\u001b[1m\u001b[43m\u001b[30mr\u001b[0m\u001b[1m\u001b[40m\u001b[37ms\u001b[0m\n",
            "Available letters: \u001b[1m\u001b[43m\u001b[30ma\u001b[0m\u001b[1m\u001b[47m\u001b[30mb\u001b[0m\u001b[1m\u001b[47m\u001b[30mc\u001b[0m\u001b[1m\u001b[47m\u001b[30md\u001b[0m\u001b[1m\u001b[40m\u001b[37me\u001b[0m\u001b[1m\u001b[47m\u001b[30mf\u001b[0m\u001b[1m\u001b[47m\u001b[30mg\u001b[0m\u001b[1m\u001b[40m\u001b[37mh\u001b[0m\u001b[1m\u001b[47m\u001b[30mi\u001b[0m\u001b[1m\u001b[47m\u001b[30mj\u001b[0m\u001b[1m\u001b[40m\u001b[37mk\u001b[0m\u001b[1m\u001b[47m\u001b[30ml\u001b[0m\u001b[1m\u001b[47m\u001b[30mm\u001b[0m\u001b[1m\u001b[47m\u001b[30mn\u001b[0m\u001b[1m\u001b[42m\u001b[37mo\u001b[0m\u001b[1m\u001b[47m\u001b[30mp\u001b[0m\u001b[1m\u001b[47m\u001b[30mq\u001b[0m\u001b[1m\u001b[43m\u001b[30mr\u001b[0m\u001b[1m\u001b[42m\u001b[37ms\u001b[0m\u001b[1m\u001b[40m\u001b[37mt\u001b[0m\u001b[1m\u001b[47m\u001b[30mu\u001b[0m\u001b[1m\u001b[47m\u001b[30mv\u001b[0m\u001b[1m\u001b[47m\u001b[30mw\u001b[0m\u001b[1m\u001b[47m\u001b[30mx\u001b[0m\u001b[1m\u001b[40m\u001b[37my\u001b[0m\u001b[1m\u001b[47m\u001b[30mz\u001b[0m\n",
            "Attempt  4 / 6\n",
            "Enter a 5 letters word: solar\n",
            "\u001b[1m\u001b[42m\u001b[37ms\u001b[0m\u001b[1m\u001b[42m\u001b[37mo\u001b[0m\u001b[1m\u001b[40m\u001b[37ml\u001b[0m\u001b[1m\u001b[42m\u001b[37ma\u001b[0m\u001b[1m\u001b[42m\u001b[37mr\u001b[0m\n",
            "Available letters: \u001b[1m\u001b[42m\u001b[37ma\u001b[0m\u001b[1m\u001b[47m\u001b[30mb\u001b[0m\u001b[1m\u001b[47m\u001b[30mc\u001b[0m\u001b[1m\u001b[47m\u001b[30md\u001b[0m\u001b[1m\u001b[40m\u001b[37me\u001b[0m\u001b[1m\u001b[47m\u001b[30mf\u001b[0m\u001b[1m\u001b[47m\u001b[30mg\u001b[0m\u001b[1m\u001b[40m\u001b[37mh\u001b[0m\u001b[1m\u001b[47m\u001b[30mi\u001b[0m\u001b[1m\u001b[47m\u001b[30mj\u001b[0m\u001b[1m\u001b[40m\u001b[37mk\u001b[0m\u001b[1m\u001b[40m\u001b[37ml\u001b[0m\u001b[1m\u001b[47m\u001b[30mm\u001b[0m\u001b[1m\u001b[47m\u001b[30mn\u001b[0m\u001b[1m\u001b[42m\u001b[37mo\u001b[0m\u001b[1m\u001b[47m\u001b[30mp\u001b[0m\u001b[1m\u001b[47m\u001b[30mq\u001b[0m\u001b[1m\u001b[42m\u001b[37mr\u001b[0m\u001b[1m\u001b[42m\u001b[37ms\u001b[0m\u001b[1m\u001b[40m\u001b[37mt\u001b[0m\u001b[1m\u001b[47m\u001b[30mu\u001b[0m\u001b[1m\u001b[47m\u001b[30mv\u001b[0m\u001b[1m\u001b[47m\u001b[30mw\u001b[0m\u001b[1m\u001b[47m\u001b[30mx\u001b[0m\u001b[1m\u001b[40m\u001b[37my\u001b[0m\u001b[1m\u001b[47m\u001b[30mz\u001b[0m\n",
            "Attempt  5 / 6\n",
            "Enter a 5 letters word: sonar\n",
            "\u001b[1m\u001b[42m\u001b[37ms\u001b[0m\u001b[1m\u001b[42m\u001b[37mo\u001b[0m\u001b[1m\u001b[42m\u001b[37mn\u001b[0m\u001b[1m\u001b[42m\u001b[37ma\u001b[0m\u001b[1m\u001b[42m\u001b[37mr\u001b[0m\n",
            "Available letters: \u001b[1m\u001b[42m\u001b[37ma\u001b[0m\u001b[1m\u001b[47m\u001b[30mb\u001b[0m\u001b[1m\u001b[47m\u001b[30mc\u001b[0m\u001b[1m\u001b[47m\u001b[30md\u001b[0m\u001b[1m\u001b[40m\u001b[37me\u001b[0m\u001b[1m\u001b[47m\u001b[30mf\u001b[0m\u001b[1m\u001b[47m\u001b[30mg\u001b[0m\u001b[1m\u001b[40m\u001b[37mh\u001b[0m\u001b[1m\u001b[47m\u001b[30mi\u001b[0m\u001b[1m\u001b[47m\u001b[30mj\u001b[0m\u001b[1m\u001b[40m\u001b[37mk\u001b[0m\u001b[1m\u001b[40m\u001b[37ml\u001b[0m\u001b[1m\u001b[47m\u001b[30mm\u001b[0m\u001b[1m\u001b[42m\u001b[37mn\u001b[0m\u001b[1m\u001b[42m\u001b[37mo\u001b[0m\u001b[1m\u001b[47m\u001b[30mp\u001b[0m\u001b[1m\u001b[47m\u001b[30mq\u001b[0m\u001b[1m\u001b[42m\u001b[37mr\u001b[0m\u001b[1m\u001b[42m\u001b[37ms\u001b[0m\u001b[1m\u001b[40m\u001b[37mt\u001b[0m\u001b[1m\u001b[47m\u001b[30mu\u001b[0m\u001b[1m\u001b[47m\u001b[30mv\u001b[0m\u001b[1m\u001b[47m\u001b[30mw\u001b[0m\u001b[1m\u001b[47m\u001b[30mx\u001b[0m\u001b[1m\u001b[40m\u001b[37my\u001b[0m\u001b[1m\u001b[47m\u001b[30mz\u001b[0m\n",
            "You win!\n"
          ]
        }
      ],
      "source": [
        "# Play game\n",
        "wordle_game()"
      ]
    },
    {
      "cell_type": "markdown",
      "metadata": {
        "id": "xHDBEOwdlrx7"
      },
      "source": [
        "# Part 2 - Wordle Solver using Information Gain\n",
        "Provide suggestions solely on maximizing information gain"
      ]
    },
    {
      "cell_type": "code",
      "execution_count": 6,
      "metadata": {
        "id": "ft4xa1T8yY5B"
      },
      "outputs": [],
      "source": [
        "import itertools\n",
        "import math\n",
        "import csv\n",
        "from tqdm import tqdm"
      ]
    },
    {
      "cell_type": "markdown",
      "metadata": {
        "id": "BPjvg_HHjRDV"
      },
      "source": [
        "## Codes to get information gain"
      ]
    },
    {
      "cell_type": "code",
      "execution_count": 7,
      "metadata": {
        "colab": {
          "base_uri": "https://localhost:8080/"
        },
        "id": "MDIFaNRbsXuL",
        "outputId": "05e1e612-9317-4921-9a51-b3227886a7a9"
      },
      "outputs": [
        {
          "output_type": "stream",
          "name": "stdout",
          "text": [
            "243\n",
            "[(0, 0, 0, 0, 0), (0, 0, 0, 0, 1), (0, 0, 0, 0, 2), (0, 0, 0, 1, 0), (0, 0, 0, 1, 1), (0, 0, 0, 1, 2), (0, 0, 0, 2, 0), (0, 0, 0, 2, 1), (0, 0, 0, 2, 2), (0, 0, 1, 0, 0), (0, 0, 1, 0, 1), (0, 0, 1, 0, 2), (0, 0, 1, 1, 0), (0, 0, 1, 1, 1), (0, 0, 1, 1, 2), (0, 0, 1, 2, 0), (0, 0, 1, 2, 1), (0, 0, 1, 2, 2), (0, 0, 2, 0, 0), (0, 0, 2, 0, 1), (0, 0, 2, 0, 2), (0, 0, 2, 1, 0), (0, 0, 2, 1, 1), (0, 0, 2, 1, 2), (0, 0, 2, 2, 0), (0, 0, 2, 2, 1), (0, 0, 2, 2, 2), (0, 1, 0, 0, 0), (0, 1, 0, 0, 1), (0, 1, 0, 0, 2), (0, 1, 0, 1, 0), (0, 1, 0, 1, 1), (0, 1, 0, 1, 2), (0, 1, 0, 2, 0), (0, 1, 0, 2, 1), (0, 1, 0, 2, 2), (0, 1, 1, 0, 0), (0, 1, 1, 0, 1), (0, 1, 1, 0, 2), (0, 1, 1, 1, 0), (0, 1, 1, 1, 1), (0, 1, 1, 1, 2), (0, 1, 1, 2, 0), (0, 1, 1, 2, 1), (0, 1, 1, 2, 2), (0, 1, 2, 0, 0), (0, 1, 2, 0, 1), (0, 1, 2, 0, 2), (0, 1, 2, 1, 0), (0, 1, 2, 1, 1), (0, 1, 2, 1, 2), (0, 1, 2, 2, 0), (0, 1, 2, 2, 1), (0, 1, 2, 2, 2), (0, 2, 0, 0, 0), (0, 2, 0, 0, 1), (0, 2, 0, 0, 2), (0, 2, 0, 1, 0), (0, 2, 0, 1, 1), (0, 2, 0, 1, 2), (0, 2, 0, 2, 0), (0, 2, 0, 2, 1), (0, 2, 0, 2, 2), (0, 2, 1, 0, 0), (0, 2, 1, 0, 1), (0, 2, 1, 0, 2), (0, 2, 1, 1, 0), (0, 2, 1, 1, 1), (0, 2, 1, 1, 2), (0, 2, 1, 2, 0), (0, 2, 1, 2, 1), (0, 2, 1, 2, 2), (0, 2, 2, 0, 0), (0, 2, 2, 0, 1), (0, 2, 2, 0, 2), (0, 2, 2, 1, 0), (0, 2, 2, 1, 1), (0, 2, 2, 1, 2), (0, 2, 2, 2, 0), (0, 2, 2, 2, 1), (0, 2, 2, 2, 2), (1, 0, 0, 0, 0), (1, 0, 0, 0, 1), (1, 0, 0, 0, 2), (1, 0, 0, 1, 0), (1, 0, 0, 1, 1), (1, 0, 0, 1, 2), (1, 0, 0, 2, 0), (1, 0, 0, 2, 1), (1, 0, 0, 2, 2), (1, 0, 1, 0, 0), (1, 0, 1, 0, 1), (1, 0, 1, 0, 2), (1, 0, 1, 1, 0), (1, 0, 1, 1, 1), (1, 0, 1, 1, 2), (1, 0, 1, 2, 0), (1, 0, 1, 2, 1), (1, 0, 1, 2, 2), (1, 0, 2, 0, 0), (1, 0, 2, 0, 1), (1, 0, 2, 0, 2), (1, 0, 2, 1, 0), (1, 0, 2, 1, 1), (1, 0, 2, 1, 2), (1, 0, 2, 2, 0), (1, 0, 2, 2, 1), (1, 0, 2, 2, 2), (1, 1, 0, 0, 0), (1, 1, 0, 0, 1), (1, 1, 0, 0, 2), (1, 1, 0, 1, 0), (1, 1, 0, 1, 1), (1, 1, 0, 1, 2), (1, 1, 0, 2, 0), (1, 1, 0, 2, 1), (1, 1, 0, 2, 2), (1, 1, 1, 0, 0), (1, 1, 1, 0, 1), (1, 1, 1, 0, 2), (1, 1, 1, 1, 0), (1, 1, 1, 1, 1), (1, 1, 1, 1, 2), (1, 1, 1, 2, 0), (1, 1, 1, 2, 1), (1, 1, 1, 2, 2), (1, 1, 2, 0, 0), (1, 1, 2, 0, 1), (1, 1, 2, 0, 2), (1, 1, 2, 1, 0), (1, 1, 2, 1, 1), (1, 1, 2, 1, 2), (1, 1, 2, 2, 0), (1, 1, 2, 2, 1), (1, 1, 2, 2, 2), (1, 2, 0, 0, 0), (1, 2, 0, 0, 1), (1, 2, 0, 0, 2), (1, 2, 0, 1, 0), (1, 2, 0, 1, 1), (1, 2, 0, 1, 2), (1, 2, 0, 2, 0), (1, 2, 0, 2, 1), (1, 2, 0, 2, 2), (1, 2, 1, 0, 0), (1, 2, 1, 0, 1), (1, 2, 1, 0, 2), (1, 2, 1, 1, 0), (1, 2, 1, 1, 1), (1, 2, 1, 1, 2), (1, 2, 1, 2, 0), (1, 2, 1, 2, 1), (1, 2, 1, 2, 2), (1, 2, 2, 0, 0), (1, 2, 2, 0, 1), (1, 2, 2, 0, 2), (1, 2, 2, 1, 0), (1, 2, 2, 1, 1), (1, 2, 2, 1, 2), (1, 2, 2, 2, 0), (1, 2, 2, 2, 1), (1, 2, 2, 2, 2), (2, 0, 0, 0, 0), (2, 0, 0, 0, 1), (2, 0, 0, 0, 2), (2, 0, 0, 1, 0), (2, 0, 0, 1, 1), (2, 0, 0, 1, 2), (2, 0, 0, 2, 0), (2, 0, 0, 2, 1), (2, 0, 0, 2, 2), (2, 0, 1, 0, 0), (2, 0, 1, 0, 1), (2, 0, 1, 0, 2), (2, 0, 1, 1, 0), (2, 0, 1, 1, 1), (2, 0, 1, 1, 2), (2, 0, 1, 2, 0), (2, 0, 1, 2, 1), (2, 0, 1, 2, 2), (2, 0, 2, 0, 0), (2, 0, 2, 0, 1), (2, 0, 2, 0, 2), (2, 0, 2, 1, 0), (2, 0, 2, 1, 1), (2, 0, 2, 1, 2), (2, 0, 2, 2, 0), (2, 0, 2, 2, 1), (2, 0, 2, 2, 2), (2, 1, 0, 0, 0), (2, 1, 0, 0, 1), (2, 1, 0, 0, 2), (2, 1, 0, 1, 0), (2, 1, 0, 1, 1), (2, 1, 0, 1, 2), (2, 1, 0, 2, 0), (2, 1, 0, 2, 1), (2, 1, 0, 2, 2), (2, 1, 1, 0, 0), (2, 1, 1, 0, 1), (2, 1, 1, 0, 2), (2, 1, 1, 1, 0), (2, 1, 1, 1, 1), (2, 1, 1, 1, 2), (2, 1, 1, 2, 0), (2, 1, 1, 2, 1), (2, 1, 1, 2, 2), (2, 1, 2, 0, 0), (2, 1, 2, 0, 1), (2, 1, 2, 0, 2), (2, 1, 2, 1, 0), (2, 1, 2, 1, 1), (2, 1, 2, 1, 2), (2, 1, 2, 2, 0), (2, 1, 2, 2, 1), (2, 1, 2, 2, 2), (2, 2, 0, 0, 0), (2, 2, 0, 0, 1), (2, 2, 0, 0, 2), (2, 2, 0, 1, 0), (2, 2, 0, 1, 1), (2, 2, 0, 1, 2), (2, 2, 0, 2, 0), (2, 2, 0, 2, 1), (2, 2, 0, 2, 2), (2, 2, 1, 0, 0), (2, 2, 1, 0, 1), (2, 2, 1, 0, 2), (2, 2, 1, 1, 0), (2, 2, 1, 1, 1), (2, 2, 1, 1, 2), (2, 2, 1, 2, 0), (2, 2, 1, 2, 1), (2, 2, 1, 2, 2), (2, 2, 2, 0, 0), (2, 2, 2, 0, 1), (2, 2, 2, 0, 2), (2, 2, 2, 1, 0), (2, 2, 2, 1, 1), (2, 2, 2, 1, 2), (2, 2, 2, 2, 0), (2, 2, 2, 2, 1), (2, 2, 2, 2, 2)]\n"
          ]
        }
      ],
      "source": [
        "# Create result_matrix\n",
        "# It contains all possible combinations of guess results:\n",
        "# grey - 0\n",
        "# yellow - 1\n",
        "# green - 2\n",
        "result_matrix = list(itertools.product([0, 1, 2], repeat=5))\n",
        "print(len(result_matrix))\n",
        "print(result_matrix)"
      ]
    },
    {
      "cell_type": "code",
      "execution_count": 8,
      "metadata": {
        "id": "sjDK7V9GjfiC"
      },
      "outputs": [],
      "source": [
        "# Get possible words based on green\n",
        "def check_green(letter, position, current_possible):\n",
        "    new_possible = []\n",
        "    for word in current_possible:\n",
        "        if letter == word[position]:\n",
        "            new_possible.append(word)\n",
        "            # Update remaining position\n",
        "    return new_possible\n",
        "\n",
        "\n",
        "# Get possible words based on yellow\n",
        "# remaining_pos for yellow excludes green position, and current yellow position\n",
        "def check_yellow(letter, position, remaining_pos, current_possible):\n",
        "    new_possible = []\n",
        "    for word in current_possible:\n",
        "        if letter != word[position]:                                # No match on yellow's position\n",
        "            for i in remaining_pos:                                 # Check all remaining position\n",
        "                if letter == word[i]:                               # Look for match\n",
        "                    new_possible.append(word)\n",
        "    new_possible = list(set(new_possible))                          # Convert to set then back to list to only keep unique\n",
        "    return new_possible\n",
        "\n",
        "\n",
        "# Get possible words based on grey\n",
        "# remaining_pos for grey excludes green position; if a letter alread appeared, remaining_pos = position\n",
        "def check_grey(letter, position, remaining_pos, current_possible):\n",
        "    new_possible = []\n",
        "    for word in current_possible:\n",
        "        keep = True                                                 # Set keep to True, assuming we keep this word\n",
        "        for i in remaining_pos:\n",
        "            if letter == word[i]:                                   # If a letter is matched in remaining position\n",
        "                keep = False                                        # Set keep to False\n",
        "        if keep == True:                                            # Only add to list if keep is True\n",
        "            new_possible.append(word)\n",
        "    return new_possible\n",
        "\n",
        "\n",
        "# Combine the 3 functions from above\n",
        "# Get possible words based on result\n",
        "def get_possible_words(guess, result, current_possible):\n",
        "    new_possible = current_possible\n",
        "    remaining_pos = list(range(5))\n",
        "    appeared_yellow = []\n",
        "\n",
        "    # Green\n",
        "    for i in range(5):\n",
        "        if result[i] == 2:\n",
        "            new_possible = check_green(guess[i], i, new_possible)\n",
        "            remaining_pos.remove(i)\n",
        "\n",
        "    # Yellow\n",
        "    for i in range(5):\n",
        "        if result[i] == 1:\n",
        "            temp_remaining_pos = [x for x in remaining_pos if x != i]                           # Need to ignore current yellow from remaining_pos\n",
        "            new_possible = check_yellow(guess[i], i, temp_remaining_pos, new_possible)\n",
        "            appeared_yellow.append(guess[i])\n",
        "\n",
        "    # Grey\n",
        "    for i in range(5):\n",
        "        if result[i] == 0:\n",
        "            if guess[i] in appeared_yellow:                                                     # If a letter is grey but already appeared as yellow, it just means it's not appearing at its current position\n",
        "                new_possible = check_grey(guess[i], i, [i], new_possible)                       # So only check it on its exact positions\n",
        "            else:\n",
        "                new_possible = check_grey(guess[i], i, remaining_pos, new_possible)\n",
        "\n",
        "    return new_possible"
      ]
    },
    {
      "cell_type": "code",
      "execution_count": 9,
      "metadata": {
        "id": "KEr7IBS3pwe-"
      },
      "outputs": [],
      "source": [
        "# Measure a word with result_matrix, show all details\n",
        "# Note, this isn't used in wordle_solver, but it helps explain how information gain is calculated\n",
        "def measure_guess_gain_detail(guess, current_possible):\n",
        "    word_list = []\n",
        "    result_list = []\n",
        "    possible_count_list = []\n",
        "    removed_count_list = []\n",
        "    probability_list = []\n",
        "    gain_list = []\n",
        "\n",
        "    for result in result_matrix:\n",
        "        word_list.append(guess)\n",
        "        result_list.append(result)\n",
        "\n",
        "        possible_word = get_possible_words(guess, result, current_possible)\n",
        "\n",
        "        possible_count_list.append(len(possible_word))\n",
        "\n",
        "        removed = len(current_possible) - len(possible_word)\n",
        "        removed_count_list.append(removed)\n",
        "\n",
        "        probability = len(possible_word) / len(current_possible)\n",
        "        probability_list.append(probability)\n",
        "\n",
        "        # Gain is calculated using probability of this result * information gain of using this result\n",
        "        if probability != 0:\n",
        "            gain_list.append(probability * math.log2(1/probability))\n",
        "        else: gain_list.append(0)\n",
        "\n",
        "    output_df = pd.DataFrame({\n",
        "        'Guess': word_list,\n",
        "        'Result': result_list,\n",
        "        'Possible Count': possible_count_list,\n",
        "        'Removed Count': removed_count_list,\n",
        "        'Result Possibility': probability_list,\n",
        "        'Information Gain': gain_list\n",
        "    })\n",
        "\n",
        "\n",
        "    return output_df"
      ]
    },
    {
      "cell_type": "code",
      "execution_count": 40,
      "metadata": {
        "colab": {
          "base_uri": "https://localhost:8080/"
        },
        "id": "GcDXdYeGxiKo",
        "outputId": "8e2c1e12-5107-4aa3-ce15-888833647ac6"
      },
      "outputs": [
        {
          "output_type": "stream",
          "name": "stdout",
          "text": [
            "     Guess           Result  Possible Count  Removed Count  Result Possibility  Information Gain\n",
            "0    tares  (0, 0, 0, 0, 0)             858          12114            0.066142          0.259165\n",
            "1    tares  (0, 0, 0, 0, 1)             296          12676            0.022818          0.124444\n",
            "2    tares  (0, 0, 0, 0, 2)             814          12158            0.062751          0.250640\n",
            "3    tares  (0, 0, 0, 1, 0)             637          12335            0.049106          0.213510\n",
            "4    tares  (0, 0, 0, 1, 1)             213          12759            0.016420          0.097344\n",
            "..     ...              ...             ...            ...                 ...               ...\n",
            "238  tares  (2, 2, 2, 1, 1)               0          12972            0.000000          0.000000\n",
            "239  tares  (2, 2, 2, 1, 2)               0          12972            0.000000          0.000000\n",
            "240  tares  (2, 2, 2, 2, 0)               1          12971            0.000077          0.001053\n",
            "241  tares  (2, 2, 2, 2, 1)               0          12972            0.000000          0.000000\n",
            "242  tares  (2, 2, 2, 2, 2)               1          12971            0.000077          0.001053\n",
            "\n",
            "[243 rows x 6 columns]\n",
            "6.194052544375466\n"
          ]
        }
      ],
      "source": [
        "# Look at detail of gain for a word\n",
        "pd.set_option('display.width', 150)\n",
        "print(measure_guess_gain_detail('tares', full_list))\n",
        "print(measure_guess_gain_detail('tares', full_list)['Information Gain'].sum())"
      ]
    },
    {
      "cell_type": "code",
      "execution_count": 11,
      "metadata": {
        "id": "xjYO-TYWYuYS"
      },
      "outputs": [],
      "source": [
        "# Measure a word with result_matrix, just show information gain\n",
        "def measure_guess_gain(guess, current_possible):\n",
        "    gain_list = []\n",
        "\n",
        "    for result in result_matrix:\n",
        "        possible_word = get_possible_words(guess, result, current_possible)\n",
        "\n",
        "        probability = len(possible_word) / len(current_possible)\n",
        "\n",
        "        # Gain is calculated using probability of this result * information gain\n",
        "        if probability != 0:\n",
        "            gain_list.append(probability * math.log2(1/probability))\n",
        "\n",
        "    return sum(gain_list)"
      ]
    },
    {
      "cell_type": "code",
      "execution_count": 12,
      "metadata": {
        "colab": {
          "base_uri": "https://localhost:8080/"
        },
        "id": "9gqVS-GNxsfY",
        "outputId": "bdfd358d-23c0-4153-a437-85012112b4e0"
      },
      "outputs": [
        {
          "output_type": "stream",
          "name": "stdout",
          "text": [
            "5.871215373158408\n"
          ]
        }
      ],
      "source": [
        "# Look at information gain for a word\n",
        "print(measure_guess_gain('slate', full_list))"
      ]
    },
    {
      "cell_type": "markdown",
      "metadata": {
        "id": "TIMmcUy2I_dG"
      },
      "source": [
        "## Generate recommendation for 1st guess\n",
        "- Only need to run these codes onces\n",
        "- In the future, just load the csv or pick a word from result\n",
        "- This is to save time"
      ]
    },
    {
      "cell_type": "code",
      "execution_count": null,
      "metadata": {
        "colab": {
          "base_uri": "https://localhost:8080/"
        },
        "id": "UsbypHJlbD7J",
        "outputId": "3e806582-5b8e-4a22-902d-8df1df616a27"
      },
      "outputs": [
        {
          "name": "stderr",
          "output_type": "stream",
          "text": [
            "100%|██████████| 12972/12972 [1:51:05<00:00,  1.95it/s]\n"
          ]
        }
      ],
      "source": [
        "# These codes only need to be ran once, because the output is saved into a CSV\n",
        "\"\"\"\n",
        "with open('1st_guess_info_gain.csv', 'w', newline='') as file:\n",
        "    writer = csv.writer(file)\n",
        "    for word in tqdm(full_list):\n",
        "        word_gain = measure_guess_gain(word, full_list)\n",
        "        writer.writerow([word, word_gain])\n",
        "\"\"\""
      ]
    },
    {
      "cell_type": "code",
      "execution_count": 13,
      "metadata": {
        "colab": {
          "base_uri": "https://localhost:8080/",
          "height": 363
        },
        "id": "r-l2_zMFNIei",
        "outputId": "4326248b-e1e3-48b1-d455-1e37ed3417b9"
      },
      "outputs": [
        {
          "output_type": "execute_result",
          "data": {
            "text/plain": [
              "        Word  IG Score\n",
              "103    tares  6.194053\n",
              "9267   lares  6.149919\n",
              "6646   rales  6.114343\n",
              "1202   rates  6.096243\n",
              "7529   teras  6.076619\n",
              "6625   nares  6.066831\n",
              "12250  soare  6.061395\n",
              "9592   tales  6.054988\n",
              "11871  reais  6.049778\n",
              "783    tears  6.032339"
            ],
            "text/html": [
              "\n",
              "  <div id=\"df-bfe0ac10-5332-43f1-adbf-963c05777c76\">\n",
              "    <div class=\"colab-df-container\">\n",
              "      <div>\n",
              "<style scoped>\n",
              "    .dataframe tbody tr th:only-of-type {\n",
              "        vertical-align: middle;\n",
              "    }\n",
              "\n",
              "    .dataframe tbody tr th {\n",
              "        vertical-align: top;\n",
              "    }\n",
              "\n",
              "    .dataframe thead th {\n",
              "        text-align: right;\n",
              "    }\n",
              "</style>\n",
              "<table border=\"1\" class=\"dataframe\">\n",
              "  <thead>\n",
              "    <tr style=\"text-align: right;\">\n",
              "      <th></th>\n",
              "      <th>Word</th>\n",
              "      <th>IG Score</th>\n",
              "    </tr>\n",
              "  </thead>\n",
              "  <tbody>\n",
              "    <tr>\n",
              "      <th>103</th>\n",
              "      <td>tares</td>\n",
              "      <td>6.194053</td>\n",
              "    </tr>\n",
              "    <tr>\n",
              "      <th>9267</th>\n",
              "      <td>lares</td>\n",
              "      <td>6.149919</td>\n",
              "    </tr>\n",
              "    <tr>\n",
              "      <th>6646</th>\n",
              "      <td>rales</td>\n",
              "      <td>6.114343</td>\n",
              "    </tr>\n",
              "    <tr>\n",
              "      <th>1202</th>\n",
              "      <td>rates</td>\n",
              "      <td>6.096243</td>\n",
              "    </tr>\n",
              "    <tr>\n",
              "      <th>7529</th>\n",
              "      <td>teras</td>\n",
              "      <td>6.076619</td>\n",
              "    </tr>\n",
              "    <tr>\n",
              "      <th>6625</th>\n",
              "      <td>nares</td>\n",
              "      <td>6.066831</td>\n",
              "    </tr>\n",
              "    <tr>\n",
              "      <th>12250</th>\n",
              "      <td>soare</td>\n",
              "      <td>6.061395</td>\n",
              "    </tr>\n",
              "    <tr>\n",
              "      <th>9592</th>\n",
              "      <td>tales</td>\n",
              "      <td>6.054988</td>\n",
              "    </tr>\n",
              "    <tr>\n",
              "      <th>11871</th>\n",
              "      <td>reais</td>\n",
              "      <td>6.049778</td>\n",
              "    </tr>\n",
              "    <tr>\n",
              "      <th>783</th>\n",
              "      <td>tears</td>\n",
              "      <td>6.032339</td>\n",
              "    </tr>\n",
              "  </tbody>\n",
              "</table>\n",
              "</div>\n",
              "      <button class=\"colab-df-convert\" onclick=\"convertToInteractive('df-bfe0ac10-5332-43f1-adbf-963c05777c76')\"\n",
              "              title=\"Convert this dataframe to an interactive table.\"\n",
              "              style=\"display:none;\">\n",
              "        \n",
              "  <svg xmlns=\"http://www.w3.org/2000/svg\" height=\"24px\"viewBox=\"0 0 24 24\"\n",
              "       width=\"24px\">\n",
              "    <path d=\"M0 0h24v24H0V0z\" fill=\"none\"/>\n",
              "    <path d=\"M18.56 5.44l.94 2.06.94-2.06 2.06-.94-2.06-.94-.94-2.06-.94 2.06-2.06.94zm-11 1L8.5 8.5l.94-2.06 2.06-.94-2.06-.94L8.5 2.5l-.94 2.06-2.06.94zm10 10l.94 2.06.94-2.06 2.06-.94-2.06-.94-.94-2.06-.94 2.06-2.06.94z\"/><path d=\"M17.41 7.96l-1.37-1.37c-.4-.4-.92-.59-1.43-.59-.52 0-1.04.2-1.43.59L10.3 9.45l-7.72 7.72c-.78.78-.78 2.05 0 2.83L4 21.41c.39.39.9.59 1.41.59.51 0 1.02-.2 1.41-.59l7.78-7.78 2.81-2.81c.8-.78.8-2.07 0-2.86zM5.41 20L4 18.59l7.72-7.72 1.47 1.35L5.41 20z\"/>\n",
              "  </svg>\n",
              "      </button>\n",
              "      \n",
              "  <style>\n",
              "    .colab-df-container {\n",
              "      display:flex;\n",
              "      flex-wrap:wrap;\n",
              "      gap: 12px;\n",
              "    }\n",
              "\n",
              "    .colab-df-convert {\n",
              "      background-color: #E8F0FE;\n",
              "      border: none;\n",
              "      border-radius: 50%;\n",
              "      cursor: pointer;\n",
              "      display: none;\n",
              "      fill: #1967D2;\n",
              "      height: 32px;\n",
              "      padding: 0 0 0 0;\n",
              "      width: 32px;\n",
              "    }\n",
              "\n",
              "    .colab-df-convert:hover {\n",
              "      background-color: #E2EBFA;\n",
              "      box-shadow: 0px 1px 2px rgba(60, 64, 67, 0.3), 0px 1px 3px 1px rgba(60, 64, 67, 0.15);\n",
              "      fill: #174EA6;\n",
              "    }\n",
              "\n",
              "    [theme=dark] .colab-df-convert {\n",
              "      background-color: #3B4455;\n",
              "      fill: #D2E3FC;\n",
              "    }\n",
              "\n",
              "    [theme=dark] .colab-df-convert:hover {\n",
              "      background-color: #434B5C;\n",
              "      box-shadow: 0px 1px 3px 1px rgba(0, 0, 0, 0.15);\n",
              "      filter: drop-shadow(0px 1px 2px rgba(0, 0, 0, 0.3));\n",
              "      fill: #FFFFFF;\n",
              "    }\n",
              "  </style>\n",
              "\n",
              "      <script>\n",
              "        const buttonEl =\n",
              "          document.querySelector('#df-bfe0ac10-5332-43f1-adbf-963c05777c76 button.colab-df-convert');\n",
              "        buttonEl.style.display =\n",
              "          google.colab.kernel.accessAllowed ? 'block' : 'none';\n",
              "\n",
              "        async function convertToInteractive(key) {\n",
              "          const element = document.querySelector('#df-bfe0ac10-5332-43f1-adbf-963c05777c76');\n",
              "          const dataTable =\n",
              "            await google.colab.kernel.invokeFunction('convertToInteractive',\n",
              "                                                     [key], {});\n",
              "          if (!dataTable) return;\n",
              "\n",
              "          const docLinkHtml = 'Like what you see? Visit the ' +\n",
              "            '<a target=\"_blank\" href=https://colab.research.google.com/notebooks/data_table.ipynb>data table notebook</a>'\n",
              "            + ' to learn more about interactive tables.';\n",
              "          element.innerHTML = '';\n",
              "          dataTable['output_type'] = 'display_data';\n",
              "          await google.colab.output.renderOutput(dataTable, element);\n",
              "          const docLink = document.createElement('div');\n",
              "          docLink.innerHTML = docLinkHtml;\n",
              "          element.appendChild(docLink);\n",
              "        }\n",
              "      </script>\n",
              "    </div>\n",
              "  </div>\n",
              "  "
            ]
          },
          "metadata": {},
          "execution_count": 13
        }
      ],
      "source": [
        "# Load guess information gain file\n",
        "guess1_gain_df = pd.read_csv('/content/drive/MyDrive/Wordle/Data/1st_guess_info_gain.csv')\n",
        "\n",
        "# Load files into dataframe, if uploaded manually\n",
        "# guess1_gain_df = pd.read_csv('1st_guess_info_gain.csv')\n",
        "\n",
        "# Rename \"Score\" into \"IG Score\" (Information Gain Score)\n",
        "guess1_gain_df = guess1_gain_df.rename(columns={\"Score\": \"IG Score\"})\n",
        "\n",
        "# Get top 10 list\n",
        "top10_guess1_df = guess1_gain_df.sort_values(by='IG Score', ascending=False)[0:10]\n",
        "top10_guess1_df"
      ]
    },
    {
      "cell_type": "markdown",
      "metadata": {
        "id": "pUQL50pzIzev"
      },
      "source": [
        "## Codes to run Wordle Solver"
      ]
    },
    {
      "cell_type": "code",
      "execution_count": 14,
      "metadata": {
        "id": "Cj9Z7b8j5wVU"
      },
      "outputs": [],
      "source": [
        "# Measure information gain for all possible guesses\n",
        "def measure_guess_gain_list(guess_list, current_possible):\n",
        "    word_list = []\n",
        "    gain_list = []\n",
        "\n",
        "    for word in tqdm(guess_list):                                                               # This part takes awhile, so show a progress bar\n",
        "        word_list.append(word)\n",
        "        gain_list.append(measure_guess_gain(word, current_possible))\n",
        "\n",
        "    output_df = pd.DataFrame({\n",
        "        'Word': word_list,\n",
        "        'Score': gain_list\n",
        "    })\n",
        "\n",
        "    output_df = output_df.sort_values(by='Score', ascending=False)\n",
        "\n",
        "    return output_df\n",
        "\n",
        "\n",
        "# Ask for input\n",
        "def ask_input_solver(status):\n",
        "    while True:\n",
        "        global guess\n",
        "        global result\n",
        "\n",
        "        if status == 'guess':\n",
        "            message = 'Which word did you guess? '\n",
        "\n",
        "            guess = input(message).lower()\n",
        "        \n",
        "            # Secret escape word can be accepted\n",
        "            if guess == escape_word:\n",
        "                break\n",
        "            # Only accept word within full_list\n",
        "            elif guess not in full_list:\n",
        "                print('Invalid input. ', end='')\n",
        "            else:\n",
        "                break\n",
        "\n",
        "        elif status == 'result':\n",
        "            message = 'What is the result? '\n",
        "\n",
        "            result = input(message)\n",
        "            if result == escape_word:\n",
        "                guess = escape_word\n",
        "                break\n",
        "            else:\n",
        "                try:\n",
        "                    result = tuple([int(a) for a in str(result)])           # Wrap input result in a tuple, to match result_matrix\n",
        "                    if result not in result_matrix:                         # If input result is not within result matrix\n",
        "                        print('Invalid input. ', end='')\n",
        "                    else:\n",
        "                        break\n",
        "                except:\n",
        "                    print('Invalid input. ', end='')\n",
        "\n",
        "\n",
        "# Solve a game with limited attempts\n",
        "def wordle_solver(max_try=6):\n",
        "    attempt = 0\n",
        "    prev_possible = full_list\n",
        "\n",
        "    print('Top 10 recommended 1st guess:')\n",
        "    print(top10_guess1_df.to_string(index=False))\n",
        "\n",
        "    while attempt < max_try:\n",
        "        print('Attempt ', attempt + 1, '/', max_try)\n",
        "\n",
        "        ask_input_solver('guess')\n",
        "        if guess == escape_word:                # If guess is secret escape word, end session\n",
        "            attempt = max_try\n",
        "            break\n",
        "        \n",
        "        ask_input_solver('result')\n",
        "        if result == escape_word:               # If result is secret escape word, end session\n",
        "            attempt = max_try\n",
        "            break\n",
        "\n",
        "        if result == (2, 2, 2, 2, 2):\n",
        "            print('You won!')\n",
        "            attempt = max_try + 1\n",
        "            break\n",
        "        else:\n",
        "            curr_possible = get_possible_words(guess, result, prev_possible)\n",
        "            curr_gain = measure_guess_gain_list(curr_possible, curr_possible)\n",
        "            \n",
        "            print('# of words remaining', len(curr_possible))\n",
        "            print('Top 10 recommended guess:')\n",
        "            print(curr_gain[0:10].to_string(index=False))\n",
        "            print('-' * 30)\n",
        "\n",
        "            # Prepare for next loop\n",
        "            prev_possible = curr_possible\n",
        "            attempt += 1\n",
        "\n",
        "    if attempt >= max_try:\n",
        "        print('Game Over')"
      ]
    },
    {
      "cell_type": "markdown",
      "metadata": {
        "id": "jU1aGQqEU6kY"
      },
      "source": [
        "## Solve a game\n",
        "\n",
        "When prompted to enter result, use numbers to represent color.\n",
        "\n",
        "- 0 = Grey\n",
        "\n",
        "- 1 = Yellow\n",
        "\n",
        "- 2 = Green\n",
        "\n",
        "\n",
        "For example, the word below would be 20010."
      ]
    },
    {
      "cell_type": "markdown",
      "metadata": {
        "id": "X0B-I8Pp0-qp"
      },
      "source": [
        "![Result Example.JPG](data:image/jpeg;base64,/9j/4AAQSkZJRgABAQEAYABgAAD/4RDyRXhpZgAATU0AKgAAAAgABAE7AAIAAAANAAAISodpAAQAAAABAAAIWJydAAEAAAAaAAAQ0OocAAcAAAgMAAAAPgAAAAAc6gAAAAgAAAAAAAAAAAAAAAAAAAAAAAAAAAAAAAAAAAAAAAAAAAAAAAAAAAAAAAAAAAAAAAAAAAAAAAAAAAAAAAAAAAAAAAAAAAAAAAAAAAAAAAAAAAAAAAAAAAAAAAAAAAAAAAAAAAAAAAAAAAAAAAAAAAAAAAAAAAAAAAAAAAAAAAAAAAAAAAAAAAAAAAAAAAAAAAAAAAAAAAAAAAAAAAAAAAAAAAAAAAAAAAAAAAAAAAAAAAAAAAAAAAAAAAAAAAAAAAAAAAAAAAAAAAAAAAAAAAAAAAAAAAAAAAAAAAAAAAAAAAAAAAAAAAAAAAAAAAAAAAAAAAAAAAAAAAAAAAAAAAAAAAAAAAAAAAAAAAAAAAAAAAAAAAAAAAAAAAAAAAAAAAAAAAAAAAAAAAAAAAAAAAAAAAAAAAAAAAAAAAAAAAAAAAAAAAAAAAAAAAAAAAAAAAAAAAAAAAAAAAAAAAAAAAAAAAAAAAAAAAAAAAAAAAAAAAAAAAAAAAAAAAAAAAAAAAAAAAAAAAAAAAAAAAAAAAAAAAAAAAAAAAAAAAAAAAAAAAAAAAAAAAAAAAAAAAAAAAAAAAAAAAAAAAAAAAAAAAAAAAAAAAAAAAAAAAAAAAAAAAAAAAAAAAAAAAAAAAAAAAAAAAAAAAAAAAAAAAAAAAAAAAAAAAAAAAAAAAAAAAAAAAAAAAAAAAAAAAAAAAAAAAAAAAAAAAAAAAAAAAAAAAAAAAAAAAAAAAAAAAAAAAAAAAAAAAAAAAAAAAAAAAAAAAAAAAAAAAAAAAAAAAAAAAAAAAAAAAAAAAAAAAAAAAAAAAAAAAAAAAAAAAAAAAAAAAAAAAAAAAAAAAAAAAAAAAAAAAAAAAAAAAAAAAAAAAAAAAAAAAAAAAAAAAAAAAAAAAAAAAAAAAAAAAAAAAAAAAAAAAAAAAAAAAAAAAAAAAAAAAAAAAAAAAAAAAAAAAAAAAAAAAAAAAAAAAAAAAAAAAAAAAAAAAAAAAAAAAAAAAAAAAAAAAAAAAAAAAAAAAAAAAAAAAAAAAAAAAAAAAAAAAAAAAAAAAAAAAAAAAAAAAAAAAAAAAAAAAAAAAAAAAAAAAAAAAAAAAAAAAAAAAAAAAAAAAAAAAAAAAAAAAAAAAAAAAAAAAAAAAAAAAAAAAAAAAAAAAAAAAAAAAAAAAAAAAAAAAAAAAAAAAAAAAAAAAAAAAAAAAAAAAAAAAAAAAAAAAAAAAAAAAAAAAAAAAAAAAAAAAAAAAAAAAAAAAAAAAAAAAAAAAAAAAAAAAAAAAAAAAAAAAAAAAAAAAAAAAAAAAAAAAAAAAAAAAAAAAAAAAAAAAAAAAAAAAAAAAAAAAAAAAAAAAAAAAAAAAAAAAAAAAAAAAAAAAAAAAAAAAAAAAAAAAAAAAAAAAAAAAAAAAAAAAAAAAAAAAAAAAAAAAAAAAAAAAAAAAAAAAAAAAAAAAAAAAAAAAAAAAAAAAAAAAAAAAAAAAAAAAAAAAAAAAAAAAAAAAAAAAAAAAAAAAAAAAAAAAAAAAAAAAAAAAAAAAAAAAAAAAAAAAAAAAAAAAAAAAAAAAAAAAAAAAAAAAAAAAAAAAAAAAAAAAAAAAAAAAAAAAAAAAAAAAAAAAAAAAAAAAAAAAAAAAAAAAAAAAAAAAAAAAAAAAAAAAAAAAAAAAAAAAAAAAAAAAAAAAAAAAAAAAAAAAAAAAAAAAAAAAAAAAAAAAAAAAAAAAAAAAAAAAAAAAAAAAAAAAAAAAAAAAAAAAAAAAAAAAAAAAAAAAAAAAAAAAAAAAAAAAAAAAAAAAAAAAAAAAAAAAAAAAAAAAAAAAAAAAAAAAAAAAAAAAAAAAAAAAAAAAAAAAAAAAAAAAAAAAAAAAAAAAAAAAAAAAAAAAAAAAAAAAAAAAAAAAAAAAAAAAAAAAAAAAAAAAAAAAAAAAAAAAAAAAAAAAAAAAAAAAAAAAAAAAAAAAAAAAAAAAAAAAAAAAAAAAAAAAAAAAAAAAAAAAAAAAAAAAAAAAAAAAAAAAAAAAAAAAAAAAAAAAAAAAAAAAAAAAAAAAAAAAAAAAAAAAAAAAAAAAAAAAAAAAAAAAAAAAAAAAAAAAAAAAAAAAAAAAAAAAAAAAAAAAAAAAAAAAAAAAAAAAAAAAAAAAAAAAAAAAAAAAAAAAAAAAAAAAAAAAAAAAAAAAAAAAAAAAAAAAAAAAAAAAAAAAAAAAAAAAAAAAAAAAAAAAAAAAAAAAAAAAAAAAAAAAAAAAAAAAAAAAAAAAAAAAAAAAAAAAAAAAAAAAAAAAAAAAAAAAAAAAAAAAAAAAAAAAAAAAAAAAAAAAAAAAAAAAAAAAAAAAAAAAAAAAAAAAAAAAAAAAAAAAAAAAAAAAAAAAAAAAAAAAAAAAAAAAAAAAAAAAAAAAAAAAAAAAAAAAAAAAAAAAAAAAAAAAAAAAAAAAAAAAAAAAAAAAAAAAAAAAAAAAAAAAAAAAAAAAAAAAAAAAAAAAAAAAAAAAAAAAAAAAAAAAAAAAAAAAAAAAAAAAAAAAAAAAAAAAAAAAAAAAAAAAAAAAAAAAAAAAAAAAAAAAAAAAAAAAAAAAAAAAAAAAAAAAAAAAAAAAAAAAAAAAAAAAAAAAAAAAAAAAAAAAAAAAAAAAAAAAAAAAAAAAAAAAAAAAAAAAAAAAAAAAAAAAAAAAAAAAAAAAAAAAAAAAAAAAAAAAAAAAAAAAAAAAAAAAAAAAAAAAAAAAAAAAAAAAAAAAAAAAAAAAAAAAAAAFdhbmdzaHUgUGVuZwAAAAWQAwACAAAAFAAAEKaQBAACAAAAFAAAELqSkQACAAAAAzExAACSkgACAAAAAzExAADqHAAHAAAIDAAACJoAAAAAHOoAAAAIAAAAAAAAAAAAAAAAAAAAAAAAAAAAAAAAAAAAAAAAAAAAAAAAAAAAAAAAAAAAAAAAAAAAAAAAAAAAAAAAAAAAAAAAAAAAAAAAAAAAAAAAAAAAAAAAAAAAAAAAAAAAAAAAAAAAAAAAAAAAAAAAAAAAAAAAAAAAAAAAAAAAAAAAAAAAAAAAAAAAAAAAAAAAAAAAAAAAAAAAAAAAAAAAAAAAAAAAAAAAAAAAAAAAAAAAAAAAAAAAAAAAAAAAAAAAAAAAAAAAAAAAAAAAAAAAAAAAAAAAAAAAAAAAAAAAAAAAAAAAAAAAAAAAAAAAAAAAAAAAAAAAAAAAAAAAAAAAAAAAAAAAAAAAAAAAAAAAAAAAAAAAAAAAAAAAAAAAAAAAAAAAAAAAAAAAAAAAAAAAAAAAAAAAAAAAAAAAAAAAAAAAAAAAAAAAAAAAAAAAAAAAAAAAAAAAAAAAAAAAAAAAAAAAAAAAAAAAAAAAAAAAAAAAAAAAAAAAAAAAAAAAAAAAAAAAAAAAAAAAAAAAAAAAAAAAAAAAAAAAAAAAAAAAAAAAAAAAAAAAAAAAAAAAAAAAAAAAAAAAAAAAAAAAAAAAAAAAAAAAAAAAAAAAAAAAAAAAAAAAAAAAAAAAAAAAAAAAAAAAAAAAAAAAAAAAAAAAAAAAAAAAAAAAAAAAAAAAAAAAAAAAAAAAAAAAAAAAAAAAAAAAAAAAAAAAAAAAAAAAAAAAAAAAAAAAAAAAAAAAAAAAAAAAAAAAAAAAAAAAAAAAAAAAAAAAAAAAAAAAAAAAAAAAAAAAAAAAAAAAAAAAAAAAAAAAAAAAAAAAAAAAAAAAAAAAAAAAAAAAAAAAAAAAAAAAAAAAAAAAAAAAAAAAAAAAAAAAAAAAAAAAAAAAAAAAAAAAAAAAAAAAAAAAAAAAAAAAAAAAAAAAAAAAAAAAAAAAAAAAAAAAAAAAAAAAAAAAAAAAAAAAAAAAAAAAAAAAAAAAAAAAAAAAAAAAAAAAAAAAAAAAAAAAAAAAAAAAAAAAAAAAAAAAAAAAAAAAAAAAAAAAAAAAAAAAAAAAAAAAAAAAAAAAAAAAAAAAAAAAAAAAAAAAAAAAAAAAAAAAAAAAAAAAAAAAAAAAAAAAAAAAAAAAAAAAAAAAAAAAAAAAAAAAAAAAAAAAAAAAAAAAAAAAAAAAAAAAAAAAAAAAAAAAAAAAAAAAAAAAAAAAAAAAAAAAAAAAAAAAAAAAAAAAAAAAAAAAAAAAAAAAAAAAAAAAAAAAAAAAAAAAAAAAAAAAAAAAAAAAAAAAAAAAAAAAAAAAAAAAAAAAAAAAAAAAAAAAAAAAAAAAAAAAAAAAAAAAAAAAAAAAAAAAAAAAAAAAAAAAAAAAAAAAAAAAAAAAAAAAAAAAAAAAAAAAAAAAAAAAAAAAAAAAAAAAAAAAAAAAAAAAAAAAAAAAAAAAAAAAAAAAAAAAAAAAAAAAAAAAAAAAAAAAAAAAAAAAAAAAAAAAAAAAAAAAAAAAAAAAAAAAAAAAAAAAAAAAAAAAAAAAAAAAAAAAAAAAAAAAAAAAAAAAAAAAAAAAAAAAAAAAAAAAAAAAAAAAAAAAAAAAAAAAAAAAAAAAAAAAAAAAAAAAAAAAAAAAAAAAAAAAAAAAAAAAAAAAAAAAAAAAAAAAAAAAAAAAAAAAAAAAAAAAAAAAAAAAAAAAAAAAAAAAAAAAAAAAAAAAAAAAAAAAAAAAAAAAAAAAAAAAAAAAAAAAAAAAAAAAAAAAAAAAAAAAAAAAAAAAAAAAAAAAAAAAAAAAAAAAAAAAAAAAAAAAAAAAAAAAAAAAAAAAAAAAAAAAAAAAAAAAAAAAAAAAAAAAAAAAAAAAAAAAAAAAAAAAAAAAAAAAAAAAAAAAAAAAAAAAAAAAAAAAAAAAAAAAAAAAAAAAAAAAAAAAAAAAAAAAAAAAAAAAAAAAAAAAAAAAAAAAAAAAAAAAAAAAAAAAAAAAAAAAAAAAAAAAAAAAAAAAAAAAAAAAAAAAAAAAAAAAAAAAAAAAAAAAAAAAAAAAAAAAAAAAAAAAAAAAAAAAAAAAAAAAAAAAAAAAAAAAAAAAAAAAAAAAAAAAAAAAAAAAAAAAAAAAAAAAAAAAAAAAAAAAAAAAAAAAAAAAAAAAAAAAAAAAAAAAAAAAAAAAAAAAAAAAAAAAAAAAAAAAAAAAAAAAAAAAAAAAAAAAAAAAAAAAAAAAAAAAAAAAAAAAAAAAAAAAAAAAAAAAAAAAAAAAAAAAAAAAAAAAAAAAAAAAAAAAAAAAAAAAAAAAAAAAAAAAAAAAAAAAAAAAAAAAAAAAAAAAAAAAAAAAAAAAAAAAAAAAAAAAAAAAAAAAAAAAAAAAAAAAAAAAAAAAAAAAAAAAAAAAAAAAAAAAAAAAAAAAAAAAAAAAAAAAAAAAAAAAAAAAAAAAAAAAAAAAAAAAAAAAAAAAAAAAAAAAAAAAAAAAAAAAAAAAAAAAAAAAAAAAAAAAAAAAAAAAAAAAAAAAAAAAAAAAAAAAAAAAAAAAAAAAAAAAAAAAAAAAAAAAAAAAAAAAAAAAAAAAAAAAAAAAAAAAAAAAAAAAAAAAAAAAAAAAAAAAAAAAAAAAAAAAAAAAAAAAAAAAAAAAAAAAAAAAAAAAAAAAAAAAAAAAAAAAAAAAAAAAAAAAAAAAAAAAAAAAAAAAAAAAAAAAAAAAAAAAAAAAAAAAAAAAAAAAAAAAAAAAAAAAAAAAAAAAAAAAAAAAAAAAAAAAAAAAAAAyMDIyOjAzOjExIDA2OjUzOjEwADIwMjI6MDM6MTEgMDY6NTM6MTAAAABXAGEAbgBnAHMAaAB1ACAAUABlAG4AZwAAAP/hCx9odHRwOi8vbnMuYWRvYmUuY29tL3hhcC8xLjAvADw/eHBhY2tldCBiZWdpbj0n77u/JyBpZD0nVzVNME1wQ2VoaUh6cmVTek5UY3prYzlkJz8+DQo8eDp4bXBtZXRhIHhtbG5zOng9ImFkb2JlOm5zOm1ldGEvIj48cmRmOlJERiB4bWxuczpyZGY9Imh0dHA6Ly93d3cudzMub3JnLzE5OTkvMDIvMjItcmRmLXN5bnRheC1ucyMiPjxyZGY6RGVzY3JpcHRpb24gcmRmOmFib3V0PSJ1dWlkOmZhZjViZGQ1LWJhM2QtMTFkYS1hZDMxLWQzM2Q3NTE4MmYxYiIgeG1sbnM6ZGM9Imh0dHA6Ly9wdXJsLm9yZy9kYy9lbGVtZW50cy8xLjEvIi8+PHJkZjpEZXNjcmlwdGlvbiByZGY6YWJvdXQ9InV1aWQ6ZmFmNWJkZDUtYmEzZC0xMWRhLWFkMzEtZDMzZDc1MTgyZjFiIiB4bWxuczp4bXA9Imh0dHA6Ly9ucy5hZG9iZS5jb20veGFwLzEuMC8iPjx4bXA6Q3JlYXRlRGF0ZT4yMDIyLTAzLTExVDA2OjUzOjEwLjEwOTwveG1wOkNyZWF0ZURhdGU+PC9yZGY6RGVzY3JpcHRpb24+PHJkZjpEZXNjcmlwdGlvbiByZGY6YWJvdXQ9InV1aWQ6ZmFmNWJkZDUtYmEzZC0xMWRhLWFkMzEtZDMzZDc1MTgyZjFiIiB4bWxuczpkYz0iaHR0cDovL3B1cmwub3JnL2RjL2VsZW1lbnRzLzEuMS8iPjxkYzpjcmVhdG9yPjxyZGY6U2VxIHhtbG5zOnJkZj0iaHR0cDovL3d3dy53My5vcmcvMTk5OS8wMi8yMi1yZGYtc3ludGF4LW5zIyI+PHJkZjpsaT5XYW5nc2h1IFBlbmc8L3JkZjpsaT48L3JkZjpTZXE+DQoJCQk8L2RjOmNyZWF0b3I+PC9yZGY6RGVzY3JpcHRpb24+PC9yZGY6UkRGPjwveDp4bXBtZXRhPg0KICAgICAgICAgICAgICAgICAgICAgICAgICAgICAgICAgICAgICAgICAgICAgICAgICAgICAgICAgICAgICAgICAgICAgICAgICAgICAgICAgICAgICAgICAgICAgICAgICAgIAogICAgICAgICAgICAgICAgICAgICAgICAgICAgICAgICAgICAgICAgICAgICAgICAgICAgICAgICAgICAgICAgICAgICAgICAgICAgICAgICAgICAgICAgICAgICAgICAgICAgCiAgICAgICAgICAgICAgICAgICAgICAgICAgICAgICAgICAgICAgICAgICAgICAgICAgICAgICAgICAgICAgICAgICAgICAgICAgICAgICAgICAgICAgICAgICAgICAgICAgICAKICAgICAgICAgICAgICAgICAgICAgICAgICAgICAgICAgICAgICAgICAgICAgICAgICAgICAgICAgICAgICAgICAgICAgICAgICAgICAgICAgICAgICAgICAgICAgICAgICAgIAogICAgICAgICAgICAgICAgICAgICAgICAgICAgICAgICAgICAgICAgICAgICAgICAgICAgICAgICAgICAgICAgICAgICAgICAgICAgICAgICAgICAgICAgICAgICAgICAgICAgCiAgICAgICAgICAgICAgICAgICAgICAgICAgICAgICAgICAgICAgICAgICAgICAgICAgICAgICAgICAgICAgICAgICAgICAgICAgICAgICAgICAgICAgICAgICAgICAgICAgICAKICAgICAgICAgICAgICAgICAgICAgICAgICAgICAgICAgICAgICAgICAgICAgICAgICAgICAgICAgICAgICAgICAgICAgICAgICAgICAgICAgICAgICAgICAgICAgICAgICAgIAogICAgICAgICAgICAgICAgICAgICAgICAgICAgICAgICAgICAgICAgICAgICAgICAgICAgICAgICAgICAgICAgICAgICAgICAgICAgICAgICAgICAgICAgICAgICAgICAgICAgCiAgICAgICAgICAgICAgICAgICAgICAgICAgICAgICAgICAgICAgICAgICAgICAgICAgICAgICAgICAgICAgICAgICAgICAgICAgICAgICAgICAgICAgICAgICAgICAgICAgICAKICAgICAgICAgICAgICAgICAgICAgICAgICAgICAgICAgICAgICAgICAgICAgICAgICAgICAgICAgICAgICAgICAgICAgICAgICAgICAgICAgICAgICAgICAgICAgICAgICAgIAogICAgICAgICAgICAgICAgICAgICAgICAgICAgICAgICAgICAgICAgICAgICAgICAgICAgICAgICAgICAgICAgICAgICAgICAgICAgICAgICAgICAgICAgICAgICAgICAgICAgCiAgICAgICAgICAgICAgICAgICAgICAgICAgICAgICAgICAgICAgICAgICAgICAgICAgICAgICAgICAgICAgICAgICAgICAgICAgICAgICAgICAgICAgICAgICAgICAgICAgICAKICAgICAgICAgICAgICAgICAgICAgICAgICAgICAgICAgICAgICAgICAgICAgICAgICAgICAgICAgICAgICAgICAgICAgICAgICAgICAgICAgICAgICAgICAgICAgICAgICAgIAogICAgICAgICAgICAgICAgICAgICAgICAgICAgICAgICAgICAgICAgICAgICAgICAgICAgICAgICAgICAgICAgICAgICAgICAgICAgICAgICAgICAgICAgICAgICAgICAgICAgCiAgICAgICAgICAgICAgICAgICAgICAgICAgICAgICAgICAgICAgICAgICAgICAgICAgICAgICAgICAgICAgICAgICAgICAgICAgICAgICAgICAgICAgICAgICAgICAgICAgICAKICAgICAgICAgICAgICAgICAgICAgICAgICAgICAgICAgICAgICAgICAgICAgICAgICAgICAgICAgICAgICAgICAgICAgICAgICAgICAgICAgICAgICAgICAgICAgICAgICAgIAogICAgICAgICAgICAgICAgICAgICAgICAgICAgICAgICAgICAgICAgICAgICAgICAgICAgICAgICAgICAgICAgICAgICAgICAgICAgICAgICAgICAgICAgICAgICAgICAgICAgCiAgICAgICAgICAgICAgICAgICAgICAgICAgICAgICAgICAgICAgICAgICAgICAgICAgICAgICAgICAgICAgICAgICAgICAgICAgICAgICAgICAgICAgICAgICAgICAgICAgICAKICAgICAgICAgICAgICAgICAgICAgICAgICAgICAgICAgICAgICAgICAgICAgICAgICAgICAgICAgICAgICAgICAgICAgICAgICAgICAgICAgICAgICAgICAgICAgICAgICAgIAogICAgICAgICAgICAgICAgICAgICAgICAgICAgICAgICAgICAgICAgICAgICAgICAgICAgICAgICAgICAgICAgICAgICAgICAgICAgICAgICAgICAgICAgICAgICAgICAgICAgCiAgICAgICAgICAgICAgICAgICAgICAgICAgICA8P3hwYWNrZXQgZW5kPSd3Jz8+/9sAQwAHBQUGBQQHBgUGCAcHCAoRCwoJCQoVDxAMERgVGhkYFRgXGx4nIRsdJR0XGCIuIiUoKSssKxogLzMvKjInKisq/9sAQwEHCAgKCQoUCwsUKhwYHCoqKioqKioqKioqKioqKioqKioqKioqKioqKioqKioqKioqKioqKioqKioqKioqKioq/8AAEQgAUAFuAwEiAAIRAQMRAf/EAB8AAAEFAQEBAQEBAAAAAAAAAAABAgMEBQYHCAkKC//EALUQAAIBAwMCBAMFBQQEAAABfQECAwAEEQUSITFBBhNRYQcicRQygZGhCCNCscEVUtHwJDNicoIJChYXGBkaJSYnKCkqNDU2Nzg5OkNERUZHSElKU1RVVldYWVpjZGVmZ2hpanN0dXZ3eHl6g4SFhoeIiYqSk5SVlpeYmZqio6Slpqeoqaqys7S1tre4ubrCw8TFxsfIycrS09TV1tfY2drh4uPk5ebn6Onq8fLz9PX29/j5+v/EAB8BAAMBAQEBAQEBAQEAAAAAAAABAgMEBQYHCAkKC//EALURAAIBAgQEAwQHBQQEAAECdwABAgMRBAUhMQYSQVEHYXETIjKBCBRCkaGxwQkjM1LwFWJy0QoWJDThJfEXGBkaJicoKSo1Njc4OTpDREVGR0hJSlNUVVZXWFlaY2RlZmdoaWpzdHV2d3h5eoKDhIWGh4iJipKTlJWWl5iZmqKjpKWmp6ipqrKztLW2t7i5usLDxMXGx8jJytLT1NXW19jZ2uLj5OXm5+jp6vLz9PX29/j5+v/aAAwDAQACEQMRAD8A+kaKK4jxb4tvdP1RrDTWWExAGSQqGJJGcDPGMEVjWrRox5pETmoK7O3oryj/AITTX/8An/8A/IMf/wATR/wmmv8A/P8A/wDkGP8A+Jrj/tGl2f4f5mH1qHZnq9FeUf8ACaa//wA//wD5Bj/+Jo/4TTX/APn/AP8AyDH/APE0f2jS7P8AD/MPrUOzPV6K8o/4TTX/APn/AP8AyDH/APE0f8Jpr/8Az/8A/kGP/wCJo/tGl2f4f5h9ah2Z6vRXlUfjbXkkDNeK4B5VoUwfyANekaNqI1bR7e9CbPNXlfQgkH9Qa6KGKp1m1E0p1o1HZF2iuCvfF2oy3TmzlEEIOEUIpJHqcg1X/wCEq1n/AJ/P/ISf4V3+ykXzo9Forzr/AISrWf8An8/8hJ/hR/wlWs/8/n/kJP8ACn7GQc6PRaK86/4SrWf+fz/yEn+FH/CVaz/z+f8AkJP8KPYyDnR6LRXnX/CVaz/z+f8AkJP8KsWXi7UYrpDeSieEnDqUUED1GAKXspBzo72iqmqXo07TJ7oru8teB6knA/U1wzeK9YZiRdBQewiXA/MVMYOWw3JI9Eorzr/hKtZ/5/P/ACEn+FH/AAlWs/8AP5/5CT/Cr9jIXOj0WivOv+Eq1n/n8/8AISf4Uf8ACVaz/wA/n/kJP8KPYyDnR6LRXnX/AAlWs/8AP5/5CT/Cj/hKtZ/5/P8AyEn+FHsZBzo9Fork/DfiS7vdQFnfMJfMBKOFAIIGccewNbGu6nJp1vGIAPNlJAJGcAdf51yYmrHC03UqbI1pxdWSjE1KK4r/AISDU/8An5/8hr/hR/wkGp/8/P8A5DX/AArw/wDWHC/yy+5f5nb9Qq91/XyO1oriv+Eg1P8A5+f/ACGv+FH/AAkGp/8APz/5DX/Cj/WHC/yy+5f5h9Qq91/XyO1oriv+Eg1P/n5/8hr/AIUf8JBqf/Pz/wCQ1/wo/wBYcL/LL7l/mH1Cr3X9fI7WiuK/4SDU/wDn5/8AIa/4V0OhanJqNvIJwPNiIBIGMg9P5V1YXN8PiqvsoJpvv/w7M6uEqUo8zNSiuT8SeJLuy1A2diwi8sAu5UEkkZxz7EVjf8JVrP8Az+f+Qk/wr3FTk1c4nJI9Forzr/hKtZ/5/P8AyEn+FH/CVaz/AM/n/kJP8KfsZC50ei0V51/wlWs/8/n/AJCT/Cj/AISrWf8An8/8hJ/hR7GQc6PRaK86/wCEq1n/AJ/P/ISf4UqeK9YVgTdBwD90xLg/kKPZSDnR6JRVTS73+0dMgugu3zF5HoQcH9RVusdiwryjxp/yN97/ANs//Ra16vXlHjT/AJG+9/7Z/wDota83Mf4S9f0Zy4r4F6mFRRRXhHnhRRRQAUUUUAFer+C/+RQsv+2n/oxq8or1fwX/AMihZf8AbT/0Y1ell38V+n6o6sL8b9DgKKKK+sOgKKKKACiiigAooooA9F8Vf8izdf8AAP8A0Na86r0XxV/yLN1/wD/0Na86rGj8Jc9wooorYgKKKKACiiigDX8K/wDIzWv/AAP/ANAaui8W/wDLp/wP/wBlrnfCv/IzWv8AwP8A9Aaui8W/8un/AAP/ANlr5/Pv9yn8v/Skd+B/jL5/kc3RRRX5ufRBRRRQAUUUUAFdJ4S/5e/+Af8As1c3XSeEv+Xv/gH/ALNXrZN/v0Pn+TOXGfwJfL8znfFX/IzXX/AP/QFrIrX8Vf8AIzXX/AP/AEBayK/UI/Cj5l7hRRRVCCiiigAooooA9F8K/wDIs2v/AAP/ANDatesjwr/yLNr/AMD/APQ2rXril8TN1sFeUeNP+Rvvf+2f/ota9Xryjxp/yN97/wBs/wD0WteXmP8ACXr+jObFfAvUwqKKK8I889G8Mafa6Z4XGrC1+1XTIZPlXLdeFX0qovxAtLktDqWkkREYI3iT8CCBWRoniXVNC09N1sZ7BmOwuCAD3Ab+ldTpmq6T4w8y3utOxMibj5ihsDpw45H6V7UantEoUZW02a/U7KcvdUYuz9NzzWZxLPJIqCMMxYIvRcnoKZV/XLBNM1u6s4mLJE+FJ64IyP51QrxrW0OWSak0wr1fwX/yKFl/20/9GNXlFer+C/8AkULL/tp/6MavRy7+K/T9UdGF+N+hwFFFFfWHQS2k/wBmvIZyu/ypFfbnGcHOK7jRfESaxfNb/Ylh2oX3b93cDGMD1rgq6HwV/wAhuT/rg38xUTSa1HFtM1tU8UppupS2n9nrJ5ZHz+ZjOQD02+9cSx3MT0yc1qeJ/wDkZLv6r/6CKyqVOKUUypN3sFFFFaEHovir/kWbr/gH/oa151Xovir/AJFm6/4B/wChrXnVY0fhLnuFFFa3hrT/AO0NZj3jMUP7x/w6D86121IOu0a0h0nS7WC42rNcNzkdWIzj8AMVx3iHT/7O1iWNRiKT95H9D2/A5rstY0efUru3mivBALc7lXZn5s9evsKreLtPN3pIuFGZbb5jjuvf/H8K54y97m7mvLpY4OiiiukyNfwr/wAjNa/8D/8AQGrovFv/AC6f8D/9lrnfCv8AyM1r/wAD/wDQGrovFv8Ay6f8D/8AZa+fz7/cp/L/ANKR34H+Mvn+RzdFFFfm59EdT4VUGynyAf3np7U1PEdvJP5NxZ7ULbSchh+IxT/Cn/HjP/10/pTrTR9Ke6LxTm4dTuKmQHHPoK+1oLEvD4dUGkmne9tf177Hjz9n7WbqJlDxHpkNoY7i2UIrnayDoD7VhVt+JL8z3ItVRlWE87v4j/hWJXzWZey+tz9jt+vX8T0MNz+yXPuFdJ4S/wCXv/gH/s1c3XSeEv8Al7/4B/7NW2Tf79D5/kycZ/Al8vzOd8Vf8jNdf8A/9AWsitfxV/yM11/wD/0BayK/UI/Cj5l7hXeeHpFt/CIuDGHMYkfHTOCe9cHXe+HZvs3hAT7d/lrI23OM4JOKir8JUPiM7/hN0/6Ba/8Af7/7Gubv7r7bfzXIj8sSNu2Zziuk/wCE3X/oGL/3+/8Asa5RjuYn1OaIRs72sDem4lFFFakHovhX/kWbX/gf/obVr1keFf8AkWbX/gf/AKG1a9cUviZutgryjxp/yN97/wBs/wD0Wter15R40/5G+9/7Z/8Aota8vMf4S9f0ZzYr4F6mFRRRXhHnnV6N43fTdPjsrixjmijG1SjbTj3GCD+lXbj4hRRwsumaaI2YfekIAB+g6/nXD0V1/XK3La5rGtOKsmSXFxLdXEk9w5eSRizMe5qOiiuQybbd2Fer+C/+RQsv+2n/AKMavKK9X8F/8ihZf9tP/RjV6WXfxX6fqjqwvxv0OAooor6w6ArQ0XVf7HvmuPJ87chTbv29wc5wfSs+iluBb1W//tLUpbsReV5mPl3ZxgY6/hVSiihKysht3CiiimI9F8Vf8izdf8A/9DWvOq9F8Vf8izdf8A/9DWvOqxo/CXPcK2tE8QJo1tIiWfmySNkyGTH0GMVi0Vq0mrMjYdLI00zyyHLuxZj6k1taR4lOmae9pLa/aY2JIzJtwD1HQ1h0UOKasx3d7isVLkoCFzwCc4FJRRTEa/hX/kZrX/gf/oDV0Xi3/l0/4H/7LXO+Ff8AkZrX/gf/AKA1dF4t/wCXT/gf/stfP59/uU/l/wClI78D/GXz/I5uiiivzc+iNXSta/syB4/s/m723Z37ccfSqdreyWl8LmLghslc9R6VWorpeKrNQXN8G3kZ+yhdu2+5o6rqcepsji28qReC2/OR6dKzqKKzq1Z1pupPd/10KhBQjyx2Cuk8Jf8AL3/wD/2aubrpPCX/AC9/8A/9mr0cm/36Hz/JnPjP4Evl+Zzvir/kZrr/AIB/6AtZFa/ir/kZrr/gH/oC1kV+oR+FHzL3Cuh0nxV/ZmmpaGy83aSd3m4zk56YNc9RTaTVmCdjrP8AhN0/6Ba/9/v/ALGuc1K8GoajLdCPyhIQdmc44x1qtRUqEU7oHJsKKKKsR6L4V/5Fm1/4H/6G1a9ZHhX/AJFm1/4H/wChtWvXFL4mbrYK8q8bRsni26ZlIDhGU+o2AfzBr1WqWo6Np+rBRqFssxT7rZII/Ec1x4qg69PlTMq1N1I2R4xRXq//AAhegf8APh/5Gk/+Ko/4QvQP+fD/AMjSf/FV5n9nVe6/H/I5fqs+6PKKK9X/AOEL0D/nw/8AI0n/AMVR/wAIXoH/AD4f+RpP/iqP7Oq91+P+QfVZ90eUUV6v/wAIXoH/AD4f+RpP/iqP+EL0D/nw/wDI0n/xVH9nVe6/H/IPqs+6PKK9Z8HI0fhKxDgqSHbB9C7EfoaE8HaDHIHXT1JByN0jsPyJxW0qhVCqAFAwAB0rswmElRk5SZtRoum7s8ldGjkZHGGUkEHsaSvTLvQdMvZjLc2is56spK5+uCM1B/wiujf8+f8A5Ff/ABr2vbI15GedUV6L/wAIro3/AD5/+RX/AMaP+EV0b/nz/wDIr/40e2iHIzzqivRf+EV0b/nz/wDIr/40f8Iro3/Pn/5Ff/Gj20Q5GedUqI0kiogyzEAAdzXon/CK6N/z5/8AkV/8antNC0yymEttaKsg6MSWx9Mk4o9sg5GReJ0Z/Dd2FGThT+AYE15xXrbAMpVgCCMEHvWU3hjR3YsbMZPpIwH5A1FOooqzKlG55zRXov8Awiujf8+f/kV/8aP+EV0b/nz/APIr/wCNX7aJPIzzqivRf+EV0b/nz/8AIr/40f8ACK6N/wA+f/kV/wDGj20Q5GedUV6L/wAIro3/AD5/+RX/AMaP+EV0b/nz/wDIr/40e2iHIzkvCiM3iS3KjIUOW9htI/qK6LxapKWrY+UFwT9cf4VsWWmWenKRZW6xbupGST+J5qaeCK5iMc6K6HqCK83MaLxlCVJO1/0dzpw8/YzUmeeUV2v/AAj+mf8APt/5Eb/Gj/hH9M/59v8AyI3+NfIf6vYr+aP3v/I9b6/S7P8Ar5nFUV2v/CP6Z/z7f+RG/wAaP+Ef0z/n2/8AIjf40f6vYr+aP3v/ACD6/S7P+vmcVRXa/wDCP6Z/z7f+RG/xo/4R/TP+fb/yI3+NH+r2K/mj97/yD6/S7P8Ar5nFV0vhJSEumx8pKAH6Z/xrQ/4R/TP+fb/yI3+NXoIIraIRwIqIOgAr0MuyathsQq1SS0vtftbsjnxGMhUpuEVuef8AitGXxJcFhgMEK+42gf0rHr1K90yz1EAXlusu3oTwR+I5ql/wiujf8+f/AJFf/GvsI1UlZnkuDuedUV6L/wAIro3/AD5/+RX/AMaP+EV0b/nz/wDIr/40/bRFyM86or0X/hFdG/58/wDyK/8AjR/wiujf8+f/AJFf/Gj20Q5GedUV6L/wiujf8+f/AJFf/GnJ4Z0eNwy2Skj+87MPyJo9tEORh4YRk8N2gcYOGPPoWJFatIAFUBQAAMADtS1zt3dzVH//2Q==)"
      ]
    },
    {
      "cell_type": "code",
      "execution_count": 37,
      "metadata": {
        "colab": {
          "base_uri": "https://localhost:8080/"
        },
        "id": "MjJSO74wyFqo",
        "outputId": "71a8a932-75fc-4bd7-de08-d7127301c8c0"
      },
      "outputs": [
        {
          "name": "stdout",
          "output_type": "stream",
          "text": [
            "Top 10 recommended 1st guess:\n",
            " Word  IG Score\n",
            "tares  6.194053\n",
            "lares  6.149919\n",
            "rales  6.114343\n",
            "rates  6.096243\n",
            "teras  6.076619\n",
            "nares  6.066831\n",
            "soare  6.061395\n",
            "tales  6.054988\n",
            "reais  6.049778\n",
            "tears  6.032339\n",
            "Attempt  1 / 6\n",
            "Which word did you guess? tares\n",
            "What is the result? 10011\n"
          ]
        },
        {
          "output_type": "stream",
          "name": "stderr",
          "text": [
            "100%|██████████| 96/96 [00:00<00:00, 138.74it/s]\n"
          ]
        },
        {
          "name": "stdout",
          "output_type": "stream",
          "text": [
            "# of words remaining 96\n",
            "Top 10 recommended guess:\n",
            " Word    Score\n",
            "sente 6.106118\n",
            "stept 6.083382\n",
            "stent 5.843787\n",
            "suete 5.695349\n",
            "styte 5.600700\n",
            "steme 5.082155\n",
            "stele 5.081460\n",
            "stede 5.014712\n",
            "geste 4.963633\n",
            "egest 4.667513\n",
            "------------------------------\n",
            "Attempt  2 / 6\n",
            "Which word did you guess? sente\n",
            "What is the result? 12020\n"
          ]
        },
        {
          "output_type": "stream",
          "name": "stderr",
          "text": [
            "100%|██████████| 8/8 [00:00<00:00, 290.97it/s]\n"
          ]
        },
        {
          "name": "stdout",
          "output_type": "stream",
          "text": [
            "# of words remaining 8\n",
            "Top 10 recommended guess:\n",
            " Word    Score\n",
            "pesty 1.811278\n",
            "pesto 1.548795\n",
            "yesty 1.405639\n",
            "festy 1.405639\n",
            "zesty 1.405639\n",
            "besti 1.061278\n",
            "mesto 1.061278\n",
            "cesti 1.061278\n",
            "------------------------------\n",
            "Attempt  3 / 6\n",
            "Which word did you guess? pesty\n",
            "What is the result? 02222\n"
          ]
        },
        {
          "output_type": "stream",
          "name": "stderr",
          "text": [
            "100%|██████████| 3/3 [00:00<00:00, 292.10it/s]\n"
          ]
        },
        {
          "name": "stdout",
          "output_type": "stream",
          "text": [
            "# of words remaining 3\n",
            "Top 10 recommended guess:\n",
            " Word    Score\n",
            "yesty 0.918296\n",
            "festy 0.918296\n",
            "zesty 0.918296\n",
            "------------------------------\n",
            "Attempt  4 / 6\n",
            "Which word did you guess? yesty\n",
            "What is the result? 02222\n"
          ]
        },
        {
          "output_type": "stream",
          "name": "stderr",
          "text": [
            "100%|██████████| 2/2 [00:00<00:00, 311.38it/s]\n"
          ]
        },
        {
          "name": "stdout",
          "output_type": "stream",
          "text": [
            "# of words remaining 2\n",
            "Top 10 recommended guess:\n",
            " Word  Score\n",
            "festy    1.0\n",
            "zesty    1.0\n",
            "------------------------------\n",
            "Attempt  5 / 6\n",
            "Which word did you guess? festy\n",
            "What is the result? 02222\n"
          ]
        },
        {
          "output_type": "stream",
          "name": "stderr",
          "text": [
            "100%|██████████| 1/1 [00:00<00:00, 286.36it/s]\n"
          ]
        },
        {
          "output_type": "stream",
          "name": "stdout",
          "text": [
            "# of words remaining 1\n",
            "Top 10 recommended guess:\n",
            " Word  Score\n",
            "zesty    0.0\n",
            "------------------------------\n",
            "Attempt  6 / 6\n",
            "Which word did you guess? zesty\n",
            "What is the result? 22222\n",
            "You won!\n",
            "Game Over\n"
          ]
        }
      ],
      "source": [
        "# Result color code: Grey=0, Yellow=1, Green=2\n",
        "# Example: 01002, if second letter is yellow and last letter is green\n",
        "wordle_solver()"
      ]
    },
    {
      "cell_type": "markdown",
      "metadata": {
        "id": "MnjcGlc-88tY"
      },
      "source": [
        "# Part 3 - Wordle Solver with Machine Learning Added"
      ]
    },
    {
      "cell_type": "markdown",
      "metadata": {
        "id": "EmcgNHOnLguQ"
      },
      "source": [
        "## Cleaning and Feature Engineering"
      ]
    },
    {
      "cell_type": "markdown",
      "metadata": {
        "id": "Z8uxHIkSQ1dI"
      },
      "source": [
        "Create ML_df which is full list of words with extra details used for ML"
      ]
    },
    {
      "cell_type": "code",
      "execution_count": 15,
      "metadata": {
        "colab": {
          "base_uri": "https://localhost:8080/",
          "height": 224
        },
        "id": "wls7Q4O8Qwfb",
        "outputId": "99660f4f-02ef-4011-c7a5-8ec90368005c"
      },
      "outputs": [
        {
          "output_type": "stream",
          "name": "stdout",
          "text": [
            "(12972, 1)\n"
          ]
        },
        {
          "output_type": "execute_result",
          "data": {
            "text/plain": [
              "    word\n",
              "0  noles\n",
              "1  melas\n",
              "2  waist\n",
              "3  ohias\n",
              "4  mummy"
            ],
            "text/html": [
              "\n",
              "  <div id=\"df-61b36376-4101-464b-bc3b-646694043995\">\n",
              "    <div class=\"colab-df-container\">\n",
              "      <div>\n",
              "<style scoped>\n",
              "    .dataframe tbody tr th:only-of-type {\n",
              "        vertical-align: middle;\n",
              "    }\n",
              "\n",
              "    .dataframe tbody tr th {\n",
              "        vertical-align: top;\n",
              "    }\n",
              "\n",
              "    .dataframe thead th {\n",
              "        text-align: right;\n",
              "    }\n",
              "</style>\n",
              "<table border=\"1\" class=\"dataframe\">\n",
              "  <thead>\n",
              "    <tr style=\"text-align: right;\">\n",
              "      <th></th>\n",
              "      <th>word</th>\n",
              "    </tr>\n",
              "  </thead>\n",
              "  <tbody>\n",
              "    <tr>\n",
              "      <th>0</th>\n",
              "      <td>noles</td>\n",
              "    </tr>\n",
              "    <tr>\n",
              "      <th>1</th>\n",
              "      <td>melas</td>\n",
              "    </tr>\n",
              "    <tr>\n",
              "      <th>2</th>\n",
              "      <td>waist</td>\n",
              "    </tr>\n",
              "    <tr>\n",
              "      <th>3</th>\n",
              "      <td>ohias</td>\n",
              "    </tr>\n",
              "    <tr>\n",
              "      <th>4</th>\n",
              "      <td>mummy</td>\n",
              "    </tr>\n",
              "  </tbody>\n",
              "</table>\n",
              "</div>\n",
              "      <button class=\"colab-df-convert\" onclick=\"convertToInteractive('df-61b36376-4101-464b-bc3b-646694043995')\"\n",
              "              title=\"Convert this dataframe to an interactive table.\"\n",
              "              style=\"display:none;\">\n",
              "        \n",
              "  <svg xmlns=\"http://www.w3.org/2000/svg\" height=\"24px\"viewBox=\"0 0 24 24\"\n",
              "       width=\"24px\">\n",
              "    <path d=\"M0 0h24v24H0V0z\" fill=\"none\"/>\n",
              "    <path d=\"M18.56 5.44l.94 2.06.94-2.06 2.06-.94-2.06-.94-.94-2.06-.94 2.06-2.06.94zm-11 1L8.5 8.5l.94-2.06 2.06-.94-2.06-.94L8.5 2.5l-.94 2.06-2.06.94zm10 10l.94 2.06.94-2.06 2.06-.94-2.06-.94-.94-2.06-.94 2.06-2.06.94z\"/><path d=\"M17.41 7.96l-1.37-1.37c-.4-.4-.92-.59-1.43-.59-.52 0-1.04.2-1.43.59L10.3 9.45l-7.72 7.72c-.78.78-.78 2.05 0 2.83L4 21.41c.39.39.9.59 1.41.59.51 0 1.02-.2 1.41-.59l7.78-7.78 2.81-2.81c.8-.78.8-2.07 0-2.86zM5.41 20L4 18.59l7.72-7.72 1.47 1.35L5.41 20z\"/>\n",
              "  </svg>\n",
              "      </button>\n",
              "      \n",
              "  <style>\n",
              "    .colab-df-container {\n",
              "      display:flex;\n",
              "      flex-wrap:wrap;\n",
              "      gap: 12px;\n",
              "    }\n",
              "\n",
              "    .colab-df-convert {\n",
              "      background-color: #E8F0FE;\n",
              "      border: none;\n",
              "      border-radius: 50%;\n",
              "      cursor: pointer;\n",
              "      display: none;\n",
              "      fill: #1967D2;\n",
              "      height: 32px;\n",
              "      padding: 0 0 0 0;\n",
              "      width: 32px;\n",
              "    }\n",
              "\n",
              "    .colab-df-convert:hover {\n",
              "      background-color: #E2EBFA;\n",
              "      box-shadow: 0px 1px 2px rgba(60, 64, 67, 0.3), 0px 1px 3px 1px rgba(60, 64, 67, 0.15);\n",
              "      fill: #174EA6;\n",
              "    }\n",
              "\n",
              "    [theme=dark] .colab-df-convert {\n",
              "      background-color: #3B4455;\n",
              "      fill: #D2E3FC;\n",
              "    }\n",
              "\n",
              "    [theme=dark] .colab-df-convert:hover {\n",
              "      background-color: #434B5C;\n",
              "      box-shadow: 0px 1px 3px 1px rgba(0, 0, 0, 0.15);\n",
              "      filter: drop-shadow(0px 1px 2px rgba(0, 0, 0, 0.3));\n",
              "      fill: #FFFFFF;\n",
              "    }\n",
              "  </style>\n",
              "\n",
              "      <script>\n",
              "        const buttonEl =\n",
              "          document.querySelector('#df-61b36376-4101-464b-bc3b-646694043995 button.colab-df-convert');\n",
              "        buttonEl.style.display =\n",
              "          google.colab.kernel.accessAllowed ? 'block' : 'none';\n",
              "\n",
              "        async function convertToInteractive(key) {\n",
              "          const element = document.querySelector('#df-61b36376-4101-464b-bc3b-646694043995');\n",
              "          const dataTable =\n",
              "            await google.colab.kernel.invokeFunction('convertToInteractive',\n",
              "                                                     [key], {});\n",
              "          if (!dataTable) return;\n",
              "\n",
              "          const docLinkHtml = 'Like what you see? Visit the ' +\n",
              "            '<a target=\"_blank\" href=https://colab.research.google.com/notebooks/data_table.ipynb>data table notebook</a>'\n",
              "            + ' to learn more about interactive tables.';\n",
              "          element.innerHTML = '';\n",
              "          dataTable['output_type'] = 'display_data';\n",
              "          await google.colab.output.renderOutput(dataTable, element);\n",
              "          const docLink = document.createElement('div');\n",
              "          docLink.innerHTML = docLinkHtml;\n",
              "          element.appendChild(docLink);\n",
              "        }\n",
              "      </script>\n",
              "    </div>\n",
              "  </div>\n",
              "  "
            ]
          },
          "metadata": {},
          "execution_count": 15
        }
      ],
      "source": [
        "# Create ML_df\n",
        "ML_df = full_df.copy()\n",
        "ML_df.columns = ['word']                                     # Add header so it can be joined (merged) on this column\n",
        "print(ML_df.shape)\n",
        "ML_df.head()"
      ]
    },
    {
      "cell_type": "markdown",
      "metadata": {
        "id": "7iyNsH3GRjhK"
      },
      "source": [
        "### Add a column for Answer\n",
        "\n",
        "- This will be a boolean showing whether the word was used as answer before\n",
        "- This column will be used as output(y) in ML models"
      ]
    },
    {
      "cell_type": "code",
      "source": [
        "# Update answer column on ML_df, showing if the word was used as answer\n",
        "answer_check = ML_df['word'].isin(real_list)\n",
        "ML_df['answer'] = answer_check.astype(int)                      # Convert bool to int\n",
        "\n",
        "# Double check that we have the correct number of answer set to 1 or True\n",
        "print(len(real_list))\n",
        "print(sum(ML_df['answer']))\n",
        "\n",
        "print(ML_df.shape)\n",
        "ML_df.head()"
      ],
      "metadata": {
        "colab": {
          "base_uri": "https://localhost:8080/",
          "height": 258
        },
        "id": "EnpwBRoHIyt6",
        "outputId": "a8319996-0b82-48d7-b834-20d03b9d80af"
      },
      "execution_count": 16,
      "outputs": [
        {
          "output_type": "stream",
          "name": "stdout",
          "text": [
            "2315\n",
            "2315\n",
            "(12972, 2)\n"
          ]
        },
        {
          "output_type": "execute_result",
          "data": {
            "text/plain": [
              "    word  answer\n",
              "0  noles       0\n",
              "1  melas       0\n",
              "2  waist       1\n",
              "3  ohias       0\n",
              "4  mummy       1"
            ],
            "text/html": [
              "\n",
              "  <div id=\"df-33e4efbd-af12-49e7-8a96-0a6f1b7955d5\">\n",
              "    <div class=\"colab-df-container\">\n",
              "      <div>\n",
              "<style scoped>\n",
              "    .dataframe tbody tr th:only-of-type {\n",
              "        vertical-align: middle;\n",
              "    }\n",
              "\n",
              "    .dataframe tbody tr th {\n",
              "        vertical-align: top;\n",
              "    }\n",
              "\n",
              "    .dataframe thead th {\n",
              "        text-align: right;\n",
              "    }\n",
              "</style>\n",
              "<table border=\"1\" class=\"dataframe\">\n",
              "  <thead>\n",
              "    <tr style=\"text-align: right;\">\n",
              "      <th></th>\n",
              "      <th>word</th>\n",
              "      <th>answer</th>\n",
              "    </tr>\n",
              "  </thead>\n",
              "  <tbody>\n",
              "    <tr>\n",
              "      <th>0</th>\n",
              "      <td>noles</td>\n",
              "      <td>0</td>\n",
              "    </tr>\n",
              "    <tr>\n",
              "      <th>1</th>\n",
              "      <td>melas</td>\n",
              "      <td>0</td>\n",
              "    </tr>\n",
              "    <tr>\n",
              "      <th>2</th>\n",
              "      <td>waist</td>\n",
              "      <td>1</td>\n",
              "    </tr>\n",
              "    <tr>\n",
              "      <th>3</th>\n",
              "      <td>ohias</td>\n",
              "      <td>0</td>\n",
              "    </tr>\n",
              "    <tr>\n",
              "      <th>4</th>\n",
              "      <td>mummy</td>\n",
              "      <td>1</td>\n",
              "    </tr>\n",
              "  </tbody>\n",
              "</table>\n",
              "</div>\n",
              "      <button class=\"colab-df-convert\" onclick=\"convertToInteractive('df-33e4efbd-af12-49e7-8a96-0a6f1b7955d5')\"\n",
              "              title=\"Convert this dataframe to an interactive table.\"\n",
              "              style=\"display:none;\">\n",
              "        \n",
              "  <svg xmlns=\"http://www.w3.org/2000/svg\" height=\"24px\"viewBox=\"0 0 24 24\"\n",
              "       width=\"24px\">\n",
              "    <path d=\"M0 0h24v24H0V0z\" fill=\"none\"/>\n",
              "    <path d=\"M18.56 5.44l.94 2.06.94-2.06 2.06-.94-2.06-.94-.94-2.06-.94 2.06-2.06.94zm-11 1L8.5 8.5l.94-2.06 2.06-.94-2.06-.94L8.5 2.5l-.94 2.06-2.06.94zm10 10l.94 2.06.94-2.06 2.06-.94-2.06-.94-.94-2.06-.94 2.06-2.06.94z\"/><path d=\"M17.41 7.96l-1.37-1.37c-.4-.4-.92-.59-1.43-.59-.52 0-1.04.2-1.43.59L10.3 9.45l-7.72 7.72c-.78.78-.78 2.05 0 2.83L4 21.41c.39.39.9.59 1.41.59.51 0 1.02-.2 1.41-.59l7.78-7.78 2.81-2.81c.8-.78.8-2.07 0-2.86zM5.41 20L4 18.59l7.72-7.72 1.47 1.35L5.41 20z\"/>\n",
              "  </svg>\n",
              "      </button>\n",
              "      \n",
              "  <style>\n",
              "    .colab-df-container {\n",
              "      display:flex;\n",
              "      flex-wrap:wrap;\n",
              "      gap: 12px;\n",
              "    }\n",
              "\n",
              "    .colab-df-convert {\n",
              "      background-color: #E8F0FE;\n",
              "      border: none;\n",
              "      border-radius: 50%;\n",
              "      cursor: pointer;\n",
              "      display: none;\n",
              "      fill: #1967D2;\n",
              "      height: 32px;\n",
              "      padding: 0 0 0 0;\n",
              "      width: 32px;\n",
              "    }\n",
              "\n",
              "    .colab-df-convert:hover {\n",
              "      background-color: #E2EBFA;\n",
              "      box-shadow: 0px 1px 2px rgba(60, 64, 67, 0.3), 0px 1px 3px 1px rgba(60, 64, 67, 0.15);\n",
              "      fill: #174EA6;\n",
              "    }\n",
              "\n",
              "    [theme=dark] .colab-df-convert {\n",
              "      background-color: #3B4455;\n",
              "      fill: #D2E3FC;\n",
              "    }\n",
              "\n",
              "    [theme=dark] .colab-df-convert:hover {\n",
              "      background-color: #434B5C;\n",
              "      box-shadow: 0px 1px 3px 1px rgba(0, 0, 0, 0.15);\n",
              "      filter: drop-shadow(0px 1px 2px rgba(0, 0, 0, 0.3));\n",
              "      fill: #FFFFFF;\n",
              "    }\n",
              "  </style>\n",
              "\n",
              "      <script>\n",
              "        const buttonEl =\n",
              "          document.querySelector('#df-33e4efbd-af12-49e7-8a96-0a6f1b7955d5 button.colab-df-convert');\n",
              "        buttonEl.style.display =\n",
              "          google.colab.kernel.accessAllowed ? 'block' : 'none';\n",
              "\n",
              "        async function convertToInteractive(key) {\n",
              "          const element = document.querySelector('#df-33e4efbd-af12-49e7-8a96-0a6f1b7955d5');\n",
              "          const dataTable =\n",
              "            await google.colab.kernel.invokeFunction('convertToInteractive',\n",
              "                                                     [key], {});\n",
              "          if (!dataTable) return;\n",
              "\n",
              "          const docLinkHtml = 'Like what you see? Visit the ' +\n",
              "            '<a target=\"_blank\" href=https://colab.research.google.com/notebooks/data_table.ipynb>data table notebook</a>'\n",
              "            + ' to learn more about interactive tables.';\n",
              "          element.innerHTML = '';\n",
              "          dataTable['output_type'] = 'display_data';\n",
              "          await google.colab.output.renderOutput(dataTable, element);\n",
              "          const docLink = document.createElement('div');\n",
              "          docLink.innerHTML = docLinkHtml;\n",
              "          element.appendChild(docLink);\n",
              "        }\n",
              "      </script>\n",
              "    </div>\n",
              "  </div>\n",
              "  "
            ]
          },
          "metadata": {},
          "execution_count": 16
        }
      ]
    },
    {
      "cell_type": "markdown",
      "metadata": {
        "id": "jWzms2j8-pW4"
      },
      "source": [
        "### Add a column for Word Frequency\n",
        "\n",
        "- This column uses the number of count for this word as frequency\n",
        "- Source: https://www.kaggle.com/rtatman/english-word-frequency?select=unigram_freq.csv\n",
        "- This column will be used as one of the inputs(X) in the ML models"
      ]
    },
    {
      "cell_type": "code",
      "execution_count": 17,
      "metadata": {
        "colab": {
          "base_uri": "https://localhost:8080/",
          "height": 258
        },
        "id": "MqCRgALq88Mj",
        "outputId": "7fef028a-c358-4c77-b44c-6408b7ed4b37"
      },
      "outputs": [
        {
          "output_type": "stream",
          "name": "stdout",
          "text": [
            "(333333, 2)\n",
            "(8092, 2)\n",
            "(12972, 4)\n"
          ]
        },
        {
          "output_type": "execute_result",
          "data": {
            "text/plain": [
              "    word  answer      count  count_norm\n",
              "0  noles       0    55380.0    0.000015\n",
              "1  melas       0    64255.0    0.000018\n",
              "2  waist       1  5013500.0    0.001391\n",
              "3  ohias       0        0.0    0.000000\n",
              "4  mummy       1  1878933.0    0.000521"
            ],
            "text/html": [
              "\n",
              "  <div id=\"df-c03eb8ab-7cd9-4659-b475-f1731b4d5593\">\n",
              "    <div class=\"colab-df-container\">\n",
              "      <div>\n",
              "<style scoped>\n",
              "    .dataframe tbody tr th:only-of-type {\n",
              "        vertical-align: middle;\n",
              "    }\n",
              "\n",
              "    .dataframe tbody tr th {\n",
              "        vertical-align: top;\n",
              "    }\n",
              "\n",
              "    .dataframe thead th {\n",
              "        text-align: right;\n",
              "    }\n",
              "</style>\n",
              "<table border=\"1\" class=\"dataframe\">\n",
              "  <thead>\n",
              "    <tr style=\"text-align: right;\">\n",
              "      <th></th>\n",
              "      <th>word</th>\n",
              "      <th>answer</th>\n",
              "      <th>count</th>\n",
              "      <th>count_norm</th>\n",
              "    </tr>\n",
              "  </thead>\n",
              "  <tbody>\n",
              "    <tr>\n",
              "      <th>0</th>\n",
              "      <td>noles</td>\n",
              "      <td>0</td>\n",
              "      <td>55380.0</td>\n",
              "      <td>0.000015</td>\n",
              "    </tr>\n",
              "    <tr>\n",
              "      <th>1</th>\n",
              "      <td>melas</td>\n",
              "      <td>0</td>\n",
              "      <td>64255.0</td>\n",
              "      <td>0.000018</td>\n",
              "    </tr>\n",
              "    <tr>\n",
              "      <th>2</th>\n",
              "      <td>waist</td>\n",
              "      <td>1</td>\n",
              "      <td>5013500.0</td>\n",
              "      <td>0.001391</td>\n",
              "    </tr>\n",
              "    <tr>\n",
              "      <th>3</th>\n",
              "      <td>ohias</td>\n",
              "      <td>0</td>\n",
              "      <td>0.0</td>\n",
              "      <td>0.000000</td>\n",
              "    </tr>\n",
              "    <tr>\n",
              "      <th>4</th>\n",
              "      <td>mummy</td>\n",
              "      <td>1</td>\n",
              "      <td>1878933.0</td>\n",
              "      <td>0.000521</td>\n",
              "    </tr>\n",
              "  </tbody>\n",
              "</table>\n",
              "</div>\n",
              "      <button class=\"colab-df-convert\" onclick=\"convertToInteractive('df-c03eb8ab-7cd9-4659-b475-f1731b4d5593')\"\n",
              "              title=\"Convert this dataframe to an interactive table.\"\n",
              "              style=\"display:none;\">\n",
              "        \n",
              "  <svg xmlns=\"http://www.w3.org/2000/svg\" height=\"24px\"viewBox=\"0 0 24 24\"\n",
              "       width=\"24px\">\n",
              "    <path d=\"M0 0h24v24H0V0z\" fill=\"none\"/>\n",
              "    <path d=\"M18.56 5.44l.94 2.06.94-2.06 2.06-.94-2.06-.94-.94-2.06-.94 2.06-2.06.94zm-11 1L8.5 8.5l.94-2.06 2.06-.94-2.06-.94L8.5 2.5l-.94 2.06-2.06.94zm10 10l.94 2.06.94-2.06 2.06-.94-2.06-.94-.94-2.06-.94 2.06-2.06.94z\"/><path d=\"M17.41 7.96l-1.37-1.37c-.4-.4-.92-.59-1.43-.59-.52 0-1.04.2-1.43.59L10.3 9.45l-7.72 7.72c-.78.78-.78 2.05 0 2.83L4 21.41c.39.39.9.59 1.41.59.51 0 1.02-.2 1.41-.59l7.78-7.78 2.81-2.81c.8-.78.8-2.07 0-2.86zM5.41 20L4 18.59l7.72-7.72 1.47 1.35L5.41 20z\"/>\n",
              "  </svg>\n",
              "      </button>\n",
              "      \n",
              "  <style>\n",
              "    .colab-df-container {\n",
              "      display:flex;\n",
              "      flex-wrap:wrap;\n",
              "      gap: 12px;\n",
              "    }\n",
              "\n",
              "    .colab-df-convert {\n",
              "      background-color: #E8F0FE;\n",
              "      border: none;\n",
              "      border-radius: 50%;\n",
              "      cursor: pointer;\n",
              "      display: none;\n",
              "      fill: #1967D2;\n",
              "      height: 32px;\n",
              "      padding: 0 0 0 0;\n",
              "      width: 32px;\n",
              "    }\n",
              "\n",
              "    .colab-df-convert:hover {\n",
              "      background-color: #E2EBFA;\n",
              "      box-shadow: 0px 1px 2px rgba(60, 64, 67, 0.3), 0px 1px 3px 1px rgba(60, 64, 67, 0.15);\n",
              "      fill: #174EA6;\n",
              "    }\n",
              "\n",
              "    [theme=dark] .colab-df-convert {\n",
              "      background-color: #3B4455;\n",
              "      fill: #D2E3FC;\n",
              "    }\n",
              "\n",
              "    [theme=dark] .colab-df-convert:hover {\n",
              "      background-color: #434B5C;\n",
              "      box-shadow: 0px 1px 3px 1px rgba(0, 0, 0, 0.15);\n",
              "      filter: drop-shadow(0px 1px 2px rgba(0, 0, 0, 0.3));\n",
              "      fill: #FFFFFF;\n",
              "    }\n",
              "  </style>\n",
              "\n",
              "      <script>\n",
              "        const buttonEl =\n",
              "          document.querySelector('#df-c03eb8ab-7cd9-4659-b475-f1731b4d5593 button.colab-df-convert');\n",
              "        buttonEl.style.display =\n",
              "          google.colab.kernel.accessAllowed ? 'block' : 'none';\n",
              "\n",
              "        async function convertToInteractive(key) {\n",
              "          const element = document.querySelector('#df-c03eb8ab-7cd9-4659-b475-f1731b4d5593');\n",
              "          const dataTable =\n",
              "            await google.colab.kernel.invokeFunction('convertToInteractive',\n",
              "                                                     [key], {});\n",
              "          if (!dataTable) return;\n",
              "\n",
              "          const docLinkHtml = 'Like what you see? Visit the ' +\n",
              "            '<a target=\"_blank\" href=https://colab.research.google.com/notebooks/data_table.ipynb>data table notebook</a>'\n",
              "            + ' to learn more about interactive tables.';\n",
              "          element.innerHTML = '';\n",
              "          dataTable['output_type'] = 'display_data';\n",
              "          await google.colab.output.renderOutput(dataTable, element);\n",
              "          const docLink = document.createElement('div');\n",
              "          docLink.innerHTML = docLinkHtml;\n",
              "          element.appendChild(docLink);\n",
              "        }\n",
              "      </script>\n",
              "    </div>\n",
              "  </div>\n",
              "  "
            ]
          },
          "metadata": {},
          "execution_count": 17
        }
      ],
      "source": [
        "from sklearn import preprocessing\n",
        "\n",
        "# Load word frequency file\n",
        "freq_df = pd.read_csv('/content/drive/MyDrive/Wordle/Data/unigram_freq.csv')\n",
        "print(freq_df.shape)\n",
        "\n",
        "# Only keep words in wordle full list\n",
        "freq_wordle_df = freq_df.loc[freq_df['word'].isin(full_list)]\n",
        "print(freq_wordle_df.shape)\n",
        "\n",
        "# Add new column to ML_df, showing frequency\n",
        "ML_df = pd.merge(ML_df, freq_wordle_df, on='word', how='left')\n",
        "ML_df['count'] = ML_df['count'].fillna(0)                     # Replace NaN with 0\n",
        "\n",
        "# Add new column to ML_df, showing normalized frequency\n",
        "count_norm = preprocessing.normalize([ML_df['count']])\n",
        "ML_df['count_norm'] = count_norm[0]\n",
        "\n",
        "print(ML_df.shape)\n",
        "ML_df.head()"
      ]
    },
    {
      "cell_type": "markdown",
      "metadata": {
        "id": "cjYN7FoJ30Dv"
      },
      "source": [
        "### Add a column for Base Form\n",
        "\n",
        "- This will be a boolean showing if the word is in its base form\n",
        "- I hypothesized that plural forms and past tense words will less likely be picked as answer\n",
        "- If this is confirmed, then the number of likely guesses can be reduced\n",
        "- This column will be used as one of the inputs(X) in the ML models"
      ]
    },
    {
      "cell_type": "code",
      "execution_count": 20,
      "metadata": {
        "id": "qC0WnLls3xe3",
        "colab": {
          "base_uri": "https://localhost:8080/"
        },
        "outputId": "602b9962-b443-46e3-fdbb-131f4a848f05"
      },
      "outputs": [
        {
          "output_type": "stream",
          "name": "stdout",
          "text": [
            "[nltk_data] Downloading package wordnet to /root/nltk_data...\n",
            "[nltk_data]   Package wordnet is already up-to-date!\n"
          ]
        }
      ],
      "source": [
        "import nltk\n",
        "from nltk.stem import WordNetLemmatizer\n",
        "nltk.download('wordnet')\n",
        "\n",
        "# Save the lemmatizer into an object\n",
        "wordnet_lemmatizer = WordNetLemmatizer()\n",
        "\n",
        "# Create list of lemmatized singular words (for noun) from full_list\n",
        "singular_words = []\n",
        "for word in full_list:\n",
        "    if word == wordnet_lemmatizer.lemmatize(word, 'n'):\n",
        "        singular_words.append(word)\n",
        "\n",
        "# Create list of lemmatized present tense words (for verb) from full_list\n",
        "present_words = []\n",
        "for word in full_list:\n",
        "    if word == wordnet_lemmatizer.lemmatize(word, 'v'):\n",
        "        present_words.append(word)\n",
        "\n",
        "# Add new column to ML_df, showing if the word is in singular form (for noun)\n",
        "singular_check = ML_df['word'].isin(singular_words)\n",
        "ML_df['singular'] = singular_check.astype(int)                          # Convert bool to int\n",
        "\n",
        "# Add new column to ML_df, showing if the word is in present form (for verb)\n",
        "present_check = ML_df['word'].isin(present_words)\n",
        "ML_df['present'] = present_check.astype(int)                          # Convert bool to int"
      ]
    },
    {
      "cell_type": "code",
      "execution_count": 21,
      "metadata": {
        "colab": {
          "base_uri": "https://localhost:8080/"
        },
        "id": "fgRSaX365zVG",
        "outputId": "5ccdde57-ccbc-43c2-8880-e8e95bc6eb0d"
      },
      "outputs": [
        {
          "output_type": "stream",
          "name": "stdout",
          "text": [
            "      word  answer      count  count_norm  singular  present\n",
            "615  cigar       1  3993843.0    0.001108         1        1\n",
            "\n",
            "        word  answer      count  count_norm  singular  present\n",
            "11739  plush       1  4692870.0    0.001302         1        1\n",
            "\n",
            "       word  answer       count  count_norm  singular  present\n",
            "3331  meals       0  11515834.0    0.003195         0        1\n",
            "\n",
            "       word  answer       count  count_norm  singular  present\n",
            "4429  words       0  90910143.0    0.025222         0        0\n",
            "\n",
            "       word  answer      count  count_norm  singular  present\n",
            "1670  acted       0  4468180.0     0.00124         1        0\n",
            "\n",
            "     word  answer      count  count_norm  singular  present\n",
            "31  boxed       0  5778226.0    0.001603         1        0\n",
            "\n",
            "Count of False\n",
            "2041\n",
            "1413\n"
          ]
        }
      ],
      "source": [
        "# Look at a few words to check if result is right\n",
        "print(ML_df[ML_df['word'] == 'cigar'].to_string())\n",
        "print()\n",
        "print(ML_df[ML_df['word'] == 'plush'].to_string())\n",
        "print()\n",
        "print(ML_df[ML_df['word'] == 'meals'].to_string())              # Plural\n",
        "print()\n",
        "print(ML_df[ML_df['word'] == 'words'].to_string())              # Plural\n",
        "print()\n",
        "print(ML_df[ML_df['word'] == 'acted'].to_string())              # Past tense\n",
        "print()\n",
        "print(ML_df[ML_df['word'] == 'boxed'].to_string())              # Past tense\n",
        "print()\n",
        "\n",
        "print('Count of False')\n",
        "print(len(ML_df[ML_df['singular'] == 0]))\n",
        "print(len(ML_df[ML_df['present'] == 0]))"
      ]
    },
    {
      "cell_type": "markdown",
      "metadata": {
        "id": "lIQ60xse29ks"
      },
      "source": [
        "### Add a column for Name\n",
        "\n",
        "- This will be a boolean showing if the word is in a name\n",
        "- Source: https://github.com/hadley/data-baby-names/blob/master/baby-names.csv\n",
        "- Source: https://github.com/smashew/NameDatabases/blob/master/NamesDatabases/first%20names/us.txt\n",
        "- I hypothesized that words that are common names are less likely be picked as answer (this is actually false, which will be shown later)\n",
        "- If this is confirmed, then the number of likely guesses can be reduced\n",
        "- This column will be used as one of the inputs(X) in the ML models"
      ]
    },
    {
      "cell_type": "code",
      "source": [
        "# Load name file\n",
        "name_df = pd.read_csv('/content/drive/MyDrive/Wordle/Data/common_names.txt', header=None)\n",
        "\n",
        "# Get list of names\n",
        "name_list = name_df[0]\n",
        "\n",
        "# Convert to lower case\n",
        "name_list = list(map(lambda x: x.lower(), name_list))\n",
        "\n",
        "# Only keep words in wordle full list\n",
        "name_wordle_list = [w for w in name_list if w in full_list]\n",
        "\n",
        "# Add new column to ML_df, showing if the word is in a name\n",
        "name_check = ML_df['word'].isin(name_wordle_list)\n",
        "ML_df['name'] = name_check.astype(int)                          # Convert bool to int\n",
        "\n",
        "# Look at a few words to check if result is right\n",
        "print(ML_df[ML_df['word'] == 'billy'].to_string())\n",
        "print()\n",
        "print(ML_df[ML_df['word'] == 'nancy'].to_string())\n",
        "print()\n",
        "print(ML_df[ML_df['word'] == 'jacky'].to_string())              # This name database doesn't have Jacky for some reason\n",
        "print()\n",
        "print(ML_df[ML_df['word'] == 'price'].to_string())\n",
        "print()"
      ],
      "metadata": {
        "colab": {
          "base_uri": "https://localhost:8080/"
        },
        "id": "20CZSeSl3JlG",
        "outputId": "89644b19-60e3-4288-8824-6b448feb6bd2"
      },
      "execution_count": 22,
      "outputs": [
        {
          "output_type": "stream",
          "name": "stdout",
          "text": [
            "       word  answer       count  count_norm  singular  present  name\n",
            "5840  billy       1  13515249.0     0.00375         1        1     1\n",
            "\n",
            "       word  answer       count  count_norm  singular  present  name\n",
            "5152  nancy       0  13381057.0    0.003712         1        1     1\n",
            "\n",
            "       word  answer     count  count_norm  singular  present  name\n",
            "6181  jacky       0  395853.0     0.00011         1        1     0\n",
            "\n",
            "      word  answer        count  count_norm  singular  present  name\n",
            "407  price       1  501651226.0     0.13918         1        1     0\n",
            "\n"
          ]
        }
      ]
    },
    {
      "cell_type": "code",
      "execution_count": 23,
      "metadata": {
        "colab": {
          "base_uri": "https://localhost:8080/"
        },
        "id": "TlTBteCXgJMe",
        "outputId": "bdb4c04e-f170-4184-e5a7-34c12af97a52"
      },
      "outputs": [
        {
          "output_type": "stream",
          "name": "stdout",
          "text": [
            "A:1, N:1\n",
            "86\n",
            "\n",
            "A:0, N:1\n",
            "145\n",
            "\n",
            "A:1, N:0\n",
            "2229\n",
            "\n",
            "A:0, N:0\n",
            "10512\n"
          ]
        }
      ],
      "source": [
        "# Count of words that are answer and name\n",
        "print('A:1, N:1')\n",
        "print(ML_df[(ML_df['answer'] == 1) & (ML_df['name'] == 1)].shape[0])\n",
        "print()\n",
        "\n",
        "# Count of words that are not answer and name\n",
        "print('A:0, N:1')\n",
        "print(ML_df[(ML_df['answer'] == 0) & (ML_df['name'] == 1)].shape[0])\n",
        "print()\n",
        "\n",
        "# Count of words that are answer and not name\n",
        "print('A:1, N:0')\n",
        "print(ML_df[(ML_df['answer'] == 1) & (ML_df['name'] == 0)].shape[0])\n",
        "print()\n",
        "\n",
        "# Count of words that are not answer and not name\n",
        "print('A:0, N:0')\n",
        "print(ML_df[(ML_df['answer'] == 0) & (ML_df['name'] == 0)].shape[0])"
      ]
    },
    {
      "cell_type": "markdown",
      "metadata": {
        "id": "8CSj9mKUctjD"
      },
      "source": [
        "## Feature selection"
      ]
    },
    {
      "cell_type": "code",
      "execution_count": 24,
      "metadata": {
        "colab": {
          "base_uri": "https://localhost:8080/",
          "height": 143
        },
        "id": "gAiXXHzfcq_-",
        "outputId": "716d9187-1f41-4ab9-b4df-8b2249eafbc3"
      },
      "outputs": [
        {
          "output_type": "execute_result",
          "data": {
            "text/plain": [
              "               count  count_norm  singular  present    name\n",
              "answer                                                     \n",
              "0       1.469030e+06      0.0004    0.8090   0.8764  0.0136\n",
              "1       2.056245e+07      0.0057    0.9974   0.9585  0.0371"
            ],
            "text/html": [
              "\n",
              "  <div id=\"df-c4890197-7068-45c4-a409-2b40a011e5f8\">\n",
              "    <div class=\"colab-df-container\">\n",
              "      <div>\n",
              "<style scoped>\n",
              "    .dataframe tbody tr th:only-of-type {\n",
              "        vertical-align: middle;\n",
              "    }\n",
              "\n",
              "    .dataframe tbody tr th {\n",
              "        vertical-align: top;\n",
              "    }\n",
              "\n",
              "    .dataframe thead th {\n",
              "        text-align: right;\n",
              "    }\n",
              "</style>\n",
              "<table border=\"1\" class=\"dataframe\">\n",
              "  <thead>\n",
              "    <tr style=\"text-align: right;\">\n",
              "      <th></th>\n",
              "      <th>count</th>\n",
              "      <th>count_norm</th>\n",
              "      <th>singular</th>\n",
              "      <th>present</th>\n",
              "      <th>name</th>\n",
              "    </tr>\n",
              "    <tr>\n",
              "      <th>answer</th>\n",
              "      <th></th>\n",
              "      <th></th>\n",
              "      <th></th>\n",
              "      <th></th>\n",
              "      <th></th>\n",
              "    </tr>\n",
              "  </thead>\n",
              "  <tbody>\n",
              "    <tr>\n",
              "      <th>0</th>\n",
              "      <td>1.469030e+06</td>\n",
              "      <td>0.0004</td>\n",
              "      <td>0.8090</td>\n",
              "      <td>0.8764</td>\n",
              "      <td>0.0136</td>\n",
              "    </tr>\n",
              "    <tr>\n",
              "      <th>1</th>\n",
              "      <td>2.056245e+07</td>\n",
              "      <td>0.0057</td>\n",
              "      <td>0.9974</td>\n",
              "      <td>0.9585</td>\n",
              "      <td>0.0371</td>\n",
              "    </tr>\n",
              "  </tbody>\n",
              "</table>\n",
              "</div>\n",
              "      <button class=\"colab-df-convert\" onclick=\"convertToInteractive('df-c4890197-7068-45c4-a409-2b40a011e5f8')\"\n",
              "              title=\"Convert this dataframe to an interactive table.\"\n",
              "              style=\"display:none;\">\n",
              "        \n",
              "  <svg xmlns=\"http://www.w3.org/2000/svg\" height=\"24px\"viewBox=\"0 0 24 24\"\n",
              "       width=\"24px\">\n",
              "    <path d=\"M0 0h24v24H0V0z\" fill=\"none\"/>\n",
              "    <path d=\"M18.56 5.44l.94 2.06.94-2.06 2.06-.94-2.06-.94-.94-2.06-.94 2.06-2.06.94zm-11 1L8.5 8.5l.94-2.06 2.06-.94-2.06-.94L8.5 2.5l-.94 2.06-2.06.94zm10 10l.94 2.06.94-2.06 2.06-.94-2.06-.94-.94-2.06-.94 2.06-2.06.94z\"/><path d=\"M17.41 7.96l-1.37-1.37c-.4-.4-.92-.59-1.43-.59-.52 0-1.04.2-1.43.59L10.3 9.45l-7.72 7.72c-.78.78-.78 2.05 0 2.83L4 21.41c.39.39.9.59 1.41.59.51 0 1.02-.2 1.41-.59l7.78-7.78 2.81-2.81c.8-.78.8-2.07 0-2.86zM5.41 20L4 18.59l7.72-7.72 1.47 1.35L5.41 20z\"/>\n",
              "  </svg>\n",
              "      </button>\n",
              "      \n",
              "  <style>\n",
              "    .colab-df-container {\n",
              "      display:flex;\n",
              "      flex-wrap:wrap;\n",
              "      gap: 12px;\n",
              "    }\n",
              "\n",
              "    .colab-df-convert {\n",
              "      background-color: #E8F0FE;\n",
              "      border: none;\n",
              "      border-radius: 50%;\n",
              "      cursor: pointer;\n",
              "      display: none;\n",
              "      fill: #1967D2;\n",
              "      height: 32px;\n",
              "      padding: 0 0 0 0;\n",
              "      width: 32px;\n",
              "    }\n",
              "\n",
              "    .colab-df-convert:hover {\n",
              "      background-color: #E2EBFA;\n",
              "      box-shadow: 0px 1px 2px rgba(60, 64, 67, 0.3), 0px 1px 3px 1px rgba(60, 64, 67, 0.15);\n",
              "      fill: #174EA6;\n",
              "    }\n",
              "\n",
              "    [theme=dark] .colab-df-convert {\n",
              "      background-color: #3B4455;\n",
              "      fill: #D2E3FC;\n",
              "    }\n",
              "\n",
              "    [theme=dark] .colab-df-convert:hover {\n",
              "      background-color: #434B5C;\n",
              "      box-shadow: 0px 1px 3px 1px rgba(0, 0, 0, 0.15);\n",
              "      filter: drop-shadow(0px 1px 2px rgba(0, 0, 0, 0.3));\n",
              "      fill: #FFFFFF;\n",
              "    }\n",
              "  </style>\n",
              "\n",
              "      <script>\n",
              "        const buttonEl =\n",
              "          document.querySelector('#df-c4890197-7068-45c4-a409-2b40a011e5f8 button.colab-df-convert');\n",
              "        buttonEl.style.display =\n",
              "          google.colab.kernel.accessAllowed ? 'block' : 'none';\n",
              "\n",
              "        async function convertToInteractive(key) {\n",
              "          const element = document.querySelector('#df-c4890197-7068-45c4-a409-2b40a011e5f8');\n",
              "          const dataTable =\n",
              "            await google.colab.kernel.invokeFunction('convertToInteractive',\n",
              "                                                     [key], {});\n",
              "          if (!dataTable) return;\n",
              "\n",
              "          const docLinkHtml = 'Like what you see? Visit the ' +\n",
              "            '<a target=\"_blank\" href=https://colab.research.google.com/notebooks/data_table.ipynb>data table notebook</a>'\n",
              "            + ' to learn more about interactive tables.';\n",
              "          element.innerHTML = '';\n",
              "          dataTable['output_type'] = 'display_data';\n",
              "          await google.colab.output.renderOutput(dataTable, element);\n",
              "          const docLink = document.createElement('div');\n",
              "          docLink.innerHTML = docLinkHtml;\n",
              "          element.appendChild(docLink);\n",
              "        }\n",
              "      </script>\n",
              "    </div>\n",
              "  </div>\n",
              "  "
            ]
          },
          "metadata": {},
          "execution_count": 24
        }
      ],
      "source": [
        "# Group by answer\n",
        "ML_df.groupby(by='answer').mean().round(4)"
      ]
    },
    {
      "cell_type": "markdown",
      "source": [
        "Words that are answer:\n",
        "\n",
        "- tend to have a higher count\n",
        "- are much more likely to be in base form (singular and present)\n",
        "- are slightly more likely to be name"
      ],
      "metadata": {
        "id": "buUl6In3PTMd"
      }
    },
    {
      "cell_type": "code",
      "execution_count": 25,
      "metadata": {
        "colab": {
          "base_uri": "https://localhost:8080/",
          "height": 334
        },
        "id": "So86Qf9yt6ze",
        "outputId": "b2ab2f15-6858-4d37-e74b-ff51a1aca754"
      },
      "outputs": [
        {
          "output_type": "stream",
          "name": "stdout",
          "text": [
            "Feature: 0, Score: 0.68882\n",
            "Feature: 1, Score: 0.27190\n",
            "Feature: 2, Score: 0.02126\n",
            "Feature: 3, Score: 0.01802\n"
          ]
        },
        {
          "output_type": "display_data",
          "data": {
            "text/plain": [
              "<Figure size 432x288 with 1 Axes>"
            ],
            "image/png": "[encoded data removed]"
          },
          "metadata": {
            "needs_background": "light"
          }
        }
      ],
      "source": [
        "# Decision tree for feature importance on a regression problem\n",
        "from sklearn.tree import DecisionTreeRegressor\n",
        "from matplotlib import pyplot\n",
        "\n",
        "# Define dataset\n",
        "y = ML_df[['answer']]\n",
        "X = ML_df[['count_norm', 'singular', 'present', 'name']]\n",
        "\n",
        "# Define the model (give it max depth of 5, which is one more than features of X)\n",
        "model = DecisionTreeRegressor(max_depth=5, random_state=global_random_state)\n",
        "\n",
        "# Fit the model\n",
        "model.fit(X, y)\n",
        "\n",
        "# Get importance\n",
        "importance = model.feature_importances_\n",
        "\n",
        "# Summarize feature importance\n",
        "for i,v in enumerate(importance):\n",
        "\tprint('Feature: %0d, Score: %.5f' % (i,v))\n",
        " \n",
        "# Plot feature importance\n",
        "pyplot.bar([x for x in range(len(importance))], importance)\n",
        "pyplot.show()"
      ]
    },
    {
      "cell_type": "markdown",
      "source": [
        "In conclusion, seems like name is not a good predictor (at least with current setup). It is also shown that my hypothesis about name less likely to be answer is false.\n",
        "\n",
        "This is verified by just looking at the mean, as well as using decision tree regressor to check feature importance.\n",
        "\n",
        "So name column will not be selected as input feature for ML models in later sections.\n",
        "\n",
        "Whether a word is in present tense is also not a useful predictor (surprisingly).\n",
        "\n",
        "Reference: https://machinelearningmastery.com/calculate-feature-importance-with-python/"
      ],
      "metadata": {
        "id": "_vLwJJxSPM8d"
      }
    },
    {
      "cell_type": "markdown",
      "metadata": {
        "id": "DJjQ7WoM9coO"
      },
      "source": [
        "## ML"
      ]
    },
    {
      "cell_type": "code",
      "execution_count": 26,
      "metadata": {
        "id": "Wa6z2hRLSTwv"
      },
      "outputs": [],
      "source": [
        "from sklearn.feature_selection import RFECV\n",
        "from sklearn import model_selection\n",
        "from sklearn.model_selection import train_test_split\n",
        "from sklearn.model_selection import GridSearchCV\n",
        "from sklearn.model_selection import PredefinedSplit\n",
        "from sklearn.model_selection import cross_val_score\n",
        "from sklearn import svm, tree, linear_model, neighbors, naive_bayes, ensemble, discriminant_analysis, gaussian_process\n",
        "from sklearn import metrics\n",
        "\n",
        "import warnings"
      ]
    },
    {
      "cell_type": "markdown",
      "metadata": {
        "id": "gLosbv8cuUYP"
      },
      "source": [
        "### Train Test Split"
      ]
    },
    {
      "cell_type": "code",
      "source": [
        "# Load Wordle answers listed in order; this dataset differs from real_list, because real_list is in random order\n",
        "answer_ordered_df = pd.read_csv('/content/drive/MyDrive/Wordle/Data/Wordle Answers.csv')\n",
        "\n",
        "# Only take 1st 300 words, as currently these answers are known\n",
        "answer_ordered_df = answer_ordered_df[0:300]\n",
        "\n",
        "# Convert into list\n",
        "answer_list = answer_ordered_df['Word'].values.tolist()\n",
        "\n",
        "# Check\n",
        "print(len(answer_list))\n",
        "print(answer_list[0:5])\n",
        "print()\n",
        "\n",
        "# Add new column to ML_df, marking these 300 answers as ones we want to keep for model\n",
        "in_model_check = ML_df['word'].isin(answer_list)\n",
        "ML_df['in_model'] = in_model_check.astype(int)                  # Convert bool to int\n",
        "\n",
        "# Look at a few words to check if result is right\n",
        "print(ML_df[ML_df['word'] == 'cigar'].to_string())\n",
        "print()\n",
        "print(ML_df[ML_df['word'] == 'awake'].to_string())\n",
        "print()\n",
        "print(ML_df[ML_df['word'] == 'heist'].to_string())              # This word is an answer, but it is for a later date, so it should have in_model == 0\n",
        "print()\n",
        "print(ML_df[ML_df['word'] == 'ovolo'].to_string())              # Not an answer and not in model"
      ],
      "metadata": {
        "colab": {
          "base_uri": "https://localhost:8080/"
        },
        "id": "Ai7et0lYKxOL",
        "outputId": "34d9cbab-e9c7-43dc-f037-bfc0e062fd01"
      },
      "execution_count": 27,
      "outputs": [
        {
          "output_type": "stream",
          "name": "stdout",
          "text": [
            "300\n",
            "['cigar', 'rebut', 'sissy', 'humph', 'awake']\n",
            "\n",
            "      word  answer      count  count_norm  singular  present  name  in_model\n",
            "615  cigar       1  3993843.0    0.001108         1        1     0         1\n",
            "\n",
            "       word  answer      count  count_norm  singular  present  name  in_model\n",
            "7427  awake       1  3230337.0    0.000896         1        1     0         1\n",
            "\n",
            "        word  answer     count  count_norm  singular  present  name  in_model\n",
            "10442  heist       1  419629.0    0.000116         1        1     0         0\n",
            "\n",
            "       word  answer  count  count_norm  singular  present  name  in_model\n",
            "9639  ovolo       0    0.0         0.0         1        1     0         0\n"
          ]
        }
      ]
    },
    {
      "cell_type": "code",
      "execution_count": null,
      "metadata": {
        "colab": {
          "base_uri": "https://localhost:8080/"
        },
        "id": "cerdEm2_7b62",
        "outputId": "5423f6ba-b16e-4ac6-8b8b-3e9b3ff3eefd"
      },
      "outputs": [
        {
          "output_type": "stream",
          "name": "stdout",
          "text": [
            "  Full list: 12972\n",
            "Answer list: 2315\n",
            "Ratio: 5.603455723542116\n",
            "ML_300_df: (300, 8)\n",
            "ML_1380_df: (1380, 8)\n",
            "ML_1680_df: (1680, 8)\n"
          ]
        }
      ],
      "source": [
        "# Find ratio of answer and full list\n",
        "print('  Full list:', len(full_list))\n",
        "print('Answer list:', len(real_list))\n",
        "\n",
        "ratio = len(full_list) / len(real_list)\n",
        "print('Ratio:', ratio)\n",
        "\n",
        "# Maintain the ratio in our sample selection\n",
        "# Since there is only 300 words as known answers, use 300 * 5.6 = 1680 as total sample size\n",
        "\n",
        "# Extract 300 entries where word was used as answer, which we marked as in_model\n",
        "ML_300_df = ML_df[ML_df['in_model'] == 1]\n",
        "print('ML_300_df:', ML_300_df.shape)\n",
        "\n",
        "# Extract 1380 entries where word was not used as answer\n",
        "ML_1380_df = ML_df[ML_df['answer'] == 0].sample(n=1380, random_state=1)\n",
        "print('ML_1380_df:', ML_1380_df.shape)\n",
        "\n",
        "# Combine above 2 dataframes, and create the whole set of 1680 words used to run ML model\n",
        "ML_1680_df = pd.concat([ML_300_df, ML_1380_df])\n",
        "print('ML_1680_df:', ML_1680_df.shape)"
      ]
    },
    {
      "cell_type": "code",
      "execution_count": null,
      "metadata": {
        "colab": {
          "base_uri": "https://localhost:8080/",
          "height": 276
        },
        "id": "HA0gHiDnE-O8",
        "outputId": "2f143614-48c6-4fae-c6af-a9b76efd8277"
      },
      "outputs": [
        {
          "output_type": "stream",
          "name": "stdout",
          "text": [
            "(1512, 2)\n",
            "(168, 2)\n",
            "(1512,)\n",
            "(168,)\n"
          ]
        },
        {
          "output_type": "execute_result",
          "data": {
            "text/plain": [
              "       count_norm  singular\n",
              "34       0.000000         1\n",
              "4379     0.000000         1\n",
              "12910    0.000027         1\n",
              "12847    0.000000         1\n",
              "11459    0.000000         1"
            ],
            "text/html": [
              "\n",
              "  <div id=\"df-98398e59-74fa-48e0-a0a4-a870acc46c50\">\n",
              "    <div class=\"colab-df-container\">\n",
              "      <div>\n",
              "<style scoped>\n",
              "    .dataframe tbody tr th:only-of-type {\n",
              "        vertical-align: middle;\n",
              "    }\n",
              "\n",
              "    .dataframe tbody tr th {\n",
              "        vertical-align: top;\n",
              "    }\n",
              "\n",
              "    .dataframe thead th {\n",
              "        text-align: right;\n",
              "    }\n",
              "</style>\n",
              "<table border=\"1\" class=\"dataframe\">\n",
              "  <thead>\n",
              "    <tr style=\"text-align: right;\">\n",
              "      <th></th>\n",
              "      <th>count_norm</th>\n",
              "      <th>singular</th>\n",
              "    </tr>\n",
              "  </thead>\n",
              "  <tbody>\n",
              "    <tr>\n",
              "      <th>34</th>\n",
              "      <td>0.000000</td>\n",
              "      <td>1</td>\n",
              "    </tr>\n",
              "    <tr>\n",
              "      <th>4379</th>\n",
              "      <td>0.000000</td>\n",
              "      <td>1</td>\n",
              "    </tr>\n",
              "    <tr>\n",
              "      <th>12910</th>\n",
              "      <td>0.000027</td>\n",
              "      <td>1</td>\n",
              "    </tr>\n",
              "    <tr>\n",
              "      <th>12847</th>\n",
              "      <td>0.000000</td>\n",
              "      <td>1</td>\n",
              "    </tr>\n",
              "    <tr>\n",
              "      <th>11459</th>\n",
              "      <td>0.000000</td>\n",
              "      <td>1</td>\n",
              "    </tr>\n",
              "  </tbody>\n",
              "</table>\n",
              "</div>\n",
              "      <button class=\"colab-df-convert\" onclick=\"convertToInteractive('df-98398e59-74fa-48e0-a0a4-a870acc46c50')\"\n",
              "              title=\"Convert this dataframe to an interactive table.\"\n",
              "              style=\"display:none;\">\n",
              "        \n",
              "  <svg xmlns=\"http://www.w3.org/2000/svg\" height=\"24px\"viewBox=\"0 0 24 24\"\n",
              "       width=\"24px\">\n",
              "    <path d=\"M0 0h24v24H0V0z\" fill=\"none\"/>\n",
              "    <path d=\"M18.56 5.44l.94 2.06.94-2.06 2.06-.94-2.06-.94-.94-2.06-.94 2.06-2.06.94zm-11 1L8.5 8.5l.94-2.06 2.06-.94-2.06-.94L8.5 2.5l-.94 2.06-2.06.94zm10 10l.94 2.06.94-2.06 2.06-.94-2.06-.94-.94-2.06-.94 2.06-2.06.94z\"/><path d=\"M17.41 7.96l-1.37-1.37c-.4-.4-.92-.59-1.43-.59-.52 0-1.04.2-1.43.59L10.3 9.45l-7.72 7.72c-.78.78-.78 2.05 0 2.83L4 21.41c.39.39.9.59 1.41.59.51 0 1.02-.2 1.41-.59l7.78-7.78 2.81-2.81c.8-.78.8-2.07 0-2.86zM5.41 20L4 18.59l7.72-7.72 1.47 1.35L5.41 20z\"/>\n",
              "  </svg>\n",
              "      </button>\n",
              "      \n",
              "  <style>\n",
              "    .colab-df-container {\n",
              "      display:flex;\n",
              "      flex-wrap:wrap;\n",
              "      gap: 12px;\n",
              "    }\n",
              "\n",
              "    .colab-df-convert {\n",
              "      background-color: #E8F0FE;\n",
              "      border: none;\n",
              "      border-radius: 50%;\n",
              "      cursor: pointer;\n",
              "      display: none;\n",
              "      fill: #1967D2;\n",
              "      height: 32px;\n",
              "      padding: 0 0 0 0;\n",
              "      width: 32px;\n",
              "    }\n",
              "\n",
              "    .colab-df-convert:hover {\n",
              "      background-color: #E2EBFA;\n",
              "      box-shadow: 0px 1px 2px rgba(60, 64, 67, 0.3), 0px 1px 3px 1px rgba(60, 64, 67, 0.15);\n",
              "      fill: #174EA6;\n",
              "    }\n",
              "\n",
              "    [theme=dark] .colab-df-convert {\n",
              "      background-color: #3B4455;\n",
              "      fill: #D2E3FC;\n",
              "    }\n",
              "\n",
              "    [theme=dark] .colab-df-convert:hover {\n",
              "      background-color: #434B5C;\n",
              "      box-shadow: 0px 1px 3px 1px rgba(0, 0, 0, 0.15);\n",
              "      filter: drop-shadow(0px 1px 2px rgba(0, 0, 0, 0.3));\n",
              "      fill: #FFFFFF;\n",
              "    }\n",
              "  </style>\n",
              "\n",
              "      <script>\n",
              "        const buttonEl =\n",
              "          document.querySelector('#df-98398e59-74fa-48e0-a0a4-a870acc46c50 button.colab-df-convert');\n",
              "        buttonEl.style.display =\n",
              "          google.colab.kernel.accessAllowed ? 'block' : 'none';\n",
              "\n",
              "        async function convertToInteractive(key) {\n",
              "          const element = document.querySelector('#df-98398e59-74fa-48e0-a0a4-a870acc46c50');\n",
              "          const dataTable =\n",
              "            await google.colab.kernel.invokeFunction('convertToInteractive',\n",
              "                                                     [key], {});\n",
              "          if (!dataTable) return;\n",
              "\n",
              "          const docLinkHtml = 'Like what you see? Visit the ' +\n",
              "            '<a target=\"_blank\" href=https://colab.research.google.com/notebooks/data_table.ipynb>data table notebook</a>'\n",
              "            + ' to learn more about interactive tables.';\n",
              "          element.innerHTML = '';\n",
              "          dataTable['output_type'] = 'display_data';\n",
              "          await google.colab.output.renderOutput(dataTable, element);\n",
              "          const docLink = document.createElement('div');\n",
              "          docLink.innerHTML = docLinkHtml;\n",
              "          element.appendChild(docLink);\n",
              "        }\n",
              "      </script>\n",
              "    </div>\n",
              "  </div>\n",
              "  "
            ]
          },
          "metadata": {},
          "execution_count": 416
        }
      ],
      "source": [
        "# Train test split\n",
        "# Note, name is not selected as feature\n",
        "features = ['count_norm', 'singular']\n",
        "\n",
        "y = ML_1680_df['answer']\n",
        "X = ML_1680_df[features]\n",
        "\n",
        "X_train, X_valid, y_train, y_valid = train_test_split(X, y, test_size=0.1, random_state=global_random_state)\n",
        "\n",
        "print(X_train.shape)\n",
        "print(X_valid.shape)\n",
        "print(y_train.shape)\n",
        "print(y_valid.shape)\n",
        "\n",
        "X_train.head()"
      ]
    },
    {
      "cell_type": "markdown",
      "metadata": {
        "id": "qnPKdvrnLEBn"
      },
      "source": [
        "\n",
        "### Model Selection\n",
        "\n",
        "- Quickly apply multiple ML algorithms, and evaluate which performs better\n",
        "- Codes are from: https://www.kaggle.com/ldfreeman3/a-data-science-framework-to-achieve-99-accuracy\n",
        "- However, I made some adjustments of my own\n"
      ]
    },
    {
      "cell_type": "code",
      "execution_count": null,
      "metadata": {
        "id": "GjGNsRvo71Xc"
      },
      "outputs": [],
      "source": [
        "\"\"\"\n",
        "# These codes only need to be ran once\n",
        "\"\"\"\n",
        "\n",
        "# Both F1_score and Recall have merits to be the scoring method\n",
        "# F1 score helps find a balanced result\n",
        "# Recall is also good, because the point is to get as many positives as possible and false positive can be tolerated\n",
        "score_method = 'f1_micro'\n",
        "# score_method = 'recall'\n",
        "\n",
        "# Turn off warnings (most warnings are about models not converging)\n",
        "# Reset warnings at the end of this block\n",
        "warnings.filterwarnings(\"ignore\")\n",
        "\n",
        "# Machine Learning Algorithm (MLA) Selection and Initialization\n",
        "MLA = [\n",
        "    # Ensemble Methods\n",
        "    ensemble.AdaBoostClassifier(),\n",
        "    ensemble.BaggingClassifier(),\n",
        "    ensemble.ExtraTreesClassifier(),\n",
        "    ensemble.GradientBoostingClassifier(),\n",
        "    ensemble.RandomForestClassifier(),\n",
        "\n",
        "    # Gaussian Processes\n",
        "    gaussian_process.GaussianProcessClassifier(),\n",
        "\n",
        "    # GLM\n",
        "    linear_model.LogisticRegressionCV(),\n",
        "    linear_model.PassiveAggressiveClassifier(),\n",
        "    linear_model.RidgeClassifierCV(),\n",
        "    linear_model.SGDClassifier(),\n",
        "    linear_model.Perceptron(),\n",
        "\n",
        "    # Navies Bayes\n",
        "    naive_bayes.BernoulliNB(),\n",
        "    naive_bayes.GaussianNB(),\n",
        "\n",
        "    # Nearest Neighbor\n",
        "    neighbors.KNeighborsClassifier(),\n",
        "\n",
        "    # SVM\n",
        "    svm.SVC(probability=True),\n",
        "    # svm.NuSVC(probability=True),                                  # This is skipped because it runs into issues\n",
        "    svm.LinearSVC(),\n",
        "\n",
        "    # Trees\n",
        "    tree.DecisionTreeClassifier(),\n",
        "    tree.ExtraTreeClassifier(),\n",
        "\n",
        "    # Discriminant Analysis\n",
        "    discriminant_analysis.LinearDiscriminantAnalysis(),\n",
        "    discriminant_analysis.QuadraticDiscriminantAnalysis()\n",
        "]\n",
        "\n",
        "# Split dataset in cross-validation with this splitter class\n",
        "# Note: this is an alternative to train_test_split\n",
        "cv_split = model_selection.ShuffleSplit(n_splits=10, test_size=.2, train_size=.7, random_state=global_random_state)\n",
        "# Run model 10x with 70/20 split intentionally leaving out 10%\n",
        "\n",
        "# Create table to compare MLA metrics\n",
        "MLA_columns = ['[MLA Name]',\n",
        "               '[MLA Parameters]',\n",
        "               '[MLA Train Score Mean]',\n",
        "               '[MLA Test Score Mean]',\n",
        "               '[MLA Test Score Mean Minus 3*STD]',\n",
        "               '[MLA Time]']\n",
        "MLA_compare = pd.DataFrame(columns=MLA_columns)\n",
        "\n",
        "# Create table to compare MLA predictions\n",
        "MLA_predict = y\n",
        "\n",
        "# Index through MLA and save performance to table\n",
        "row_index = 0\n",
        "for alg in MLA:\n",
        "    # Set name and parameters\n",
        "    MLA_name = alg.__class__.__name__\n",
        "    MLA_compare.loc[row_index, '[MLA Name]'] = MLA_name\n",
        "    MLA_compare.loc[row_index, '[MLA Parameters]'] = str(alg.get_params())\n",
        "\n",
        "    # Score model with cross validation\n",
        "    cv_results = model_selection.cross_validate(alg, X, y, scoring=score_method, cv=cv_split, return_train_score=True)\n",
        "\n",
        "    MLA_compare.loc[row_index, '[MLA Train Score Mean]'] = cv_results['train_score'].mean()\n",
        "    MLA_compare.loc[row_index, '[MLA Test Score Mean]'] = cv_results['test_score'].mean()\n",
        "\n",
        "    # If this is a non-bias random sample, then +/-3 standard deviations (std) from the mean, should statistically capture 99.7% of the subsets\n",
        "    # Let's know the worst that can happen!\n",
        "    MLA_compare.loc[row_index, '[MLA Test Score Mean Minus 3*STD]'] = cv_results['test_score'].mean() - cv_results['test_score'].std() * 3\n",
        "\n",
        "    MLA_compare.loc[row_index, '[MLA Time]'] = cv_results['fit_time'].mean()\n",
        "\n",
        "    # Save MLA predictions\n",
        "    alg.fit(X, y)\n",
        "    MLA_predict[MLA_name] = alg.predict(X)\n",
        "\n",
        "    y = ML_1680_df['answer']      # Some models changed Y, so it is refreshed here\n",
        "\n",
        "    row_index += 1\n",
        "\n",
        "# Reset warnings\n",
        "warnings.resetwarnings()"
      ]
    },
    {
      "cell_type": "code",
      "execution_count": null,
      "metadata": {
        "colab": {
          "base_uri": "https://localhost:8080/"
        },
        "id": "rDSJd9sq_RYi",
        "outputId": "d60b6234-3e3a-4060-ce9e-6fc48da4345b"
      },
      "outputs": [
        {
          "output_type": "stream",
          "name": "stdout",
          "text": [
            "             [MLA Name]     [MLA Parameters] [MLA Train Score Mean] [MLA Test Score Mean] [MLA Test Score Mean Minus 3*STD] [MLA Time]\n",
            "0    AdaBoostClassifier  {'algorithm': 'S...             0.927891               0.912798              0.875757                0.187621\n",
            "3   GradientBoosting...  {'ccp_alpha': 0....             0.947024               0.912798              0.887845                0.106718\n",
            "13  KNeighborsClassi...  {'algorithm': 'a...             0.931207               0.908333              0.884442                0.003287\n",
            "16  DecisionTreeClas...  {'ccp_alpha': 0....              0.98835               0.887798              0.852521                0.003586\n",
            "17  ExtraTreeClassifier  {'ccp_alpha': 0....             0.989711               0.887798              0.860997                0.002861\n",
            "4   RandomForestClas...  {'bootstrap': Tr...              0.98835               0.887202              0.848396                0.179983\n",
            "1     BaggingClassifier  {'base_estimator...             0.978146               0.886905              0.845026                0.024658\n",
            "2   ExtraTreesClassi...  {'bootstrap': Fa...             0.995918               0.884226               0.84775                0.132668\n",
            "6   LogisticRegressi...  {'Cs': 10, 'clas...             0.863435               0.866071               0.80473                 0.23128\n",
            "18  LinearDiscrimina...  {'covariance_est...             0.835289               0.840774              0.773099                0.003976\n",
            "8     RidgeClassifierCV  {'alphas': array...             0.828061               0.833929              0.762858                0.004909\n",
            "9         SGDClassifier  {'alpha': 0.0001...              0.82466               0.828571              0.763301                0.005916\n",
            "14                  SVC  {'C': 1.0, 'brea...             0.823129               0.827976              0.762147                0.119284\n",
            "15            LinearSVC  {'C': 1.0, 'clas...             0.823384               0.827976              0.762147                0.005376\n",
            "5   GaussianProcessC...  {'copy_X_train':...             0.820748               0.826786              0.760353                1.654093\n",
            "11          BernoulliNB  {'alpha': 1.0, '...             0.820748               0.826786              0.760353                0.003372\n",
            "10           Perceptron  {'alpha': 0.0001...             0.795578                0.79494              0.611983                0.003343\n",
            "7   PassiveAggressiv...  {'C': 1.0, 'aver...             0.732143               0.725298               0.11126                0.003539\n",
            "12           GaussianNB  {'priors': None,...             0.349405               0.338988              0.230114                0.002912\n",
            "19  QuadraticDiscrim...  {'priors': None,...             0.179252               0.173214              0.106782                 0.00283\n",
            "------------------------------\n"
          ]
        }
      ],
      "source": [
        "\"\"\"\n",
        "# These codes only need to be ran once\n",
        "\"\"\"\n",
        "\n",
        "# Print and sort table\n",
        "MLA_compare.sort_values(by=['[MLA Test Score Mean]'], ascending=False, inplace=True)\n",
        "with pd.option_context('display.max_columns', None, 'display.max_colwidth', 20):\n",
        "    print(MLA_compare)\n",
        "print('-' * 30)"
      ]
    },
    {
      "cell_type": "markdown",
      "metadata": {
        "id": "_xnYnTGUPXxb"
      },
      "source": [
        "### Adaptive Boost Classifier (on Decision Tree)\n",
        "\n",
        "- In terms of F1 score, best performing model is AdaBoostClassifier, bosting on decision tree\n",
        "- But it's recall is not high"
      ]
    },
    {
      "cell_type": "code",
      "execution_count": null,
      "metadata": {
        "colab": {
          "base_uri": "https://localhost:8080/"
        },
        "id": "7TbWBw0hRz3e",
        "outputId": "51f2e6fc-8ce2-4bbe-f2c6-99671513ac24"
      },
      "outputs": [
        {
          "output_type": "stream",
          "name": "stdout",
          "text": [
            "<<Adaptive Boost>>\n",
            "{'base_estimator': DecisionTreeClassifier(max_depth=2, random_state=1), 'learning_rate': 0.01, 'n_estimators': 20, 'random_state': 1}\n"
          ]
        }
      ],
      "source": [
        "\"\"\"\n",
        "# These codes only need to be ran once\n",
        "\"\"\"\n",
        "\n",
        "# Hyper-parameter search using GridSearchCV\n",
        "parameters = {'base_estimator': [tree.DecisionTreeClassifier(max_depth=2, random_state=global_random_state),\n",
        "                                 tree.DecisionTreeClassifier(max_depth=3, random_state=global_random_state),\n",
        "                                 tree.DecisionTreeClassifier(max_depth=4, random_state=global_random_state),\n",
        "                                 tree.DecisionTreeClassifier(max_depth=5, random_state=global_random_state)],\n",
        "              'n_estimators': list(range(10, 60, 10)),\n",
        "              'learning_rate': [0.01, 0.05, 0.1, 0.2, 0.3, 0.4, 0.5],\n",
        "              'random_state': [global_random_state]}\n",
        "# Note: models such as rf_model and gb_model could be added into base_estimator\n",
        "\n",
        "ab_gridSearch = GridSearchCV(ensemble.AdaBoostClassifier(),\n",
        "                             parameters,\n",
        "                             cv=5,\n",
        "                             scoring='f1_micro')\n",
        "ab_gridSearch.fit(X_train, y_train)\n",
        "print(\"<<Adaptive Boost>>\")\n",
        "print(ab_gridSearch.best_params_)"
      ]
    },
    {
      "cell_type": "code",
      "execution_count": null,
      "metadata": {
        "colab": {
          "base_uri": "https://localhost:8080/"
        },
        "id": "9KvUeoUXYt3f",
        "outputId": "afe5f79c-00f7-479f-cdff-467260a802a6"
      },
      "outputs": [
        {
          "output_type": "stream",
          "name": "stdout",
          "text": [
            "           Training Data  Validation Data\n",
            "Accuracy        0.923942         0.934524\n",
            "F1 Score        0.775828         0.835821\n",
            "Precision       0.805668         0.848485\n",
            "Recall          0.748120         0.823529\n",
            "AUC Score       0.854799         0.893108\n"
          ]
        }
      ],
      "source": [
        "# Build model using best_estimator_ from Grid Search\n",
        "# Uncomment and use the line below if block above was ran\n",
        "# ab_model = ab_gridSearch.best_estimator_\n",
        "\n",
        "# ------------------------------------------------------------------------------\n",
        "\n",
        "# Build model by manually inputting the best_estimator parameters\n",
        "# {'base_estimator': DecisionTreeClassifier(max_depth=2, random_state=1), 'learning_rate': 0.01, 'n_estimators': 20, 'random_state': 1}\n",
        "dc_model = tree.DecisionTreeClassifier(max_depth=2, random_state=global_random_state)\n",
        "ab_model = ensemble.AdaBoostClassifier(base_estimator=dc_model, learning_rate=0.01, n_estimators=20, random_state=global_random_state)\n",
        "\n",
        "ab_model.fit(X_train, y_train)\n",
        "y_train_pred = ab_model.predict(X_train)\n",
        "y_valid_pred = ab_model.predict(X_valid)\n",
        "\n",
        "# Evaluate model using prediction on training and validation set\n",
        "train_score = {'Accuracy': metrics.accuracy_score(y_train, y_train_pred),\n",
        "               'F1 Score': metrics.f1_score(y_train, y_train_pred),\n",
        "               'Precision': metrics.precision_score(y_train, y_train_pred),\n",
        "               'Recall': metrics.recall_score(y_train, y_train_pred),\n",
        "               'AUC Score': metrics.roc_auc_score(y_train, y_train_pred)}\n",
        "validation_score = {'Accuracy': metrics.accuracy_score(y_valid, y_valid_pred),\n",
        "                    'F1 Score': metrics.f1_score(y_valid, y_valid_pred),\n",
        "                    'Precision': metrics.precision_score(y_valid, y_valid_pred),\n",
        "                    'Recall': metrics.recall_score(y_valid, y_valid_pred),\n",
        "                    'AUC Score': metrics.roc_auc_score(y_valid, y_valid_pred)}\n",
        "\n",
        "ab_result = pd.DataFrame({'Training Data': train_score, 'Validation Data': validation_score})\n",
        "print(ab_result)"
      ]
    },
    {
      "cell_type": "markdown",
      "metadata": {
        "id": "LVtJ2ce8Av1j"
      },
      "source": [
        "### Evaluate Model\n",
        "\n",
        "- Now the true test, predict the whole dataset and see if it does well\n",
        "- View the wrong predictions in test set, so we can get some insights on which word it gets wrong\n",
        "- There is a bit of \"cheating\" here, by looking at all the answers for Wordle game in the future, but this is only for evaluation\n",
        "- The ML model doesn't use this data, so the model itself is still honest and doesn't overfit"
      ]
    },
    {
      "cell_type": "code",
      "execution_count": null,
      "metadata": {
        "colab": {
          "base_uri": "https://localhost:8080/",
          "height": 736
        },
        "id": "OemhVSKlWaVl",
        "outputId": "bfb5eaa1-debc-45f1-f2cf-393885e38cdb"
      },
      "outputs": [
        {
          "output_type": "stream",
          "name": "stdout",
          "text": [
            "Confusion Matrix\n",
            "              pred:False  pred:True\n",
            "answer:False       10060        597\n",
            "answer:True          657       1658\n",
            "\n",
            "Accuracy\n",
            "0.9033302497687327\n",
            "\n",
            "F1 Score\n",
            "0.7256017505470459\n",
            "\n",
            "Precision\n",
            "0.7352549889135255\n",
            "\n",
            "Recall\n",
            "0.7161987041036717\n",
            "\n",
            "Wrong Predictions\n"
          ]
        },
        {
          "output_type": "execute_result",
          "data": {
            "text/plain": [
              "        word  answer        count  count_norm  singular  present  name  in_model  pred\n",
              "31     boxed       0    5778226.0    0.001603         1        0     0         0     1\n",
              "60     posed       0    3604888.0    0.001000         1        0     0         0     1\n",
              "64     yahoo       0  155733641.0    0.043207         1        1     0         0     1\n",
              "66     annul       1     146490.0    0.000041         1        1     0         0     0\n",
              "72     gamut       1     553397.0    0.000154         1        1     0         0     0\n",
              "...      ...     ...          ...         ...       ...      ...   ...       ...   ...\n",
              "12909  bates       0    3503755.0    0.000972         1        0     0         0     1\n",
              "12912  rhine       0    1162642.0    0.000323         1        1     0         0     1\n",
              "12951  paced       0    2755521.0    0.000764         1        0     0         0     1\n",
              "12959  bough       1     520067.0    0.000144         1        1     0         0     0\n",
              "12966  crept       1     588735.0    0.000163         1        0     0         0     0\n",
              "\n",
              "[1254 rows x 9 columns]"
            ],
            "text/html": [
              "\n",
              "  <div id=\"df-25520b40-e2d7-448c-b6d2-a8cac2f2e5f2\">\n",
              "    <div class=\"colab-df-container\">\n",
              "      <div>\n",
              "<style scoped>\n",
              "    .dataframe tbody tr th:only-of-type {\n",
              "        vertical-align: middle;\n",
              "    }\n",
              "\n",
              "    .dataframe tbody tr th {\n",
              "        vertical-align: top;\n",
              "    }\n",
              "\n",
              "    .dataframe thead th {\n",
              "        text-align: right;\n",
              "    }\n",
              "</style>\n",
              "<table border=\"1\" class=\"dataframe\">\n",
              "  <thead>\n",
              "    <tr style=\"text-align: right;\">\n",
              "      <th></th>\n",
              "      <th>word</th>\n",
              "      <th>answer</th>\n",
              "      <th>count</th>\n",
              "      <th>count_norm</th>\n",
              "      <th>singular</th>\n",
              "      <th>present</th>\n",
              "      <th>name</th>\n",
              "      <th>in_model</th>\n",
              "      <th>pred</th>\n",
              "    </tr>\n",
              "  </thead>\n",
              "  <tbody>\n",
              "    <tr>\n",
              "      <th>31</th>\n",
              "      <td>boxed</td>\n",
              "      <td>0</td>\n",
              "      <td>5778226.0</td>\n",
              "      <td>0.001603</td>\n",
              "      <td>1</td>\n",
              "      <td>0</td>\n",
              "      <td>0</td>\n",
              "      <td>0</td>\n",
              "      <td>1</td>\n",
              "    </tr>\n",
              "    <tr>\n",
              "      <th>60</th>\n",
              "      <td>posed</td>\n",
              "      <td>0</td>\n",
              "      <td>3604888.0</td>\n",
              "      <td>0.001000</td>\n",
              "      <td>1</td>\n",
              "      <td>0</td>\n",
              "      <td>0</td>\n",
              "      <td>0</td>\n",
              "      <td>1</td>\n",
              "    </tr>\n",
              "    <tr>\n",
              "      <th>64</th>\n",
              "      <td>yahoo</td>\n",
              "      <td>0</td>\n",
              "      <td>155733641.0</td>\n",
              "      <td>0.043207</td>\n",
              "      <td>1</td>\n",
              "      <td>1</td>\n",
              "      <td>0</td>\n",
              "      <td>0</td>\n",
              "      <td>1</td>\n",
              "    </tr>\n",
              "    <tr>\n",
              "      <th>66</th>\n",
              "      <td>annul</td>\n",
              "      <td>1</td>\n",
              "      <td>146490.0</td>\n",
              "      <td>0.000041</td>\n",
              "      <td>1</td>\n",
              "      <td>1</td>\n",
              "      <td>0</td>\n",
              "      <td>0</td>\n",
              "      <td>0</td>\n",
              "    </tr>\n",
              "    <tr>\n",
              "      <th>72</th>\n",
              "      <td>gamut</td>\n",
              "      <td>1</td>\n",
              "      <td>553397.0</td>\n",
              "      <td>0.000154</td>\n",
              "      <td>1</td>\n",
              "      <td>1</td>\n",
              "      <td>0</td>\n",
              "      <td>0</td>\n",
              "      <td>0</td>\n",
              "    </tr>\n",
              "    <tr>\n",
              "      <th>...</th>\n",
              "      <td>...</td>\n",
              "      <td>...</td>\n",
              "      <td>...</td>\n",
              "      <td>...</td>\n",
              "      <td>...</td>\n",
              "      <td>...</td>\n",
              "      <td>...</td>\n",
              "      <td>...</td>\n",
              "      <td>...</td>\n",
              "    </tr>\n",
              "    <tr>\n",
              "      <th>12909</th>\n",
              "      <td>bates</td>\n",
              "      <td>0</td>\n",
              "      <td>3503755.0</td>\n",
              "      <td>0.000972</td>\n",
              "      <td>1</td>\n",
              "      <td>0</td>\n",
              "      <td>0</td>\n",
              "      <td>0</td>\n",
              "      <td>1</td>\n",
              "    </tr>\n",
              "    <tr>\n",
              "      <th>12912</th>\n",
              "      <td>rhine</td>\n",
              "      <td>0</td>\n",
              "      <td>1162642.0</td>\n",
              "      <td>0.000323</td>\n",
              "      <td>1</td>\n",
              "      <td>1</td>\n",
              "      <td>0</td>\n",
              "      <td>0</td>\n",
              "      <td>1</td>\n",
              "    </tr>\n",
              "    <tr>\n",
              "      <th>12951</th>\n",
              "      <td>paced</td>\n",
              "      <td>0</td>\n",
              "      <td>2755521.0</td>\n",
              "      <td>0.000764</td>\n",
              "      <td>1</td>\n",
              "      <td>0</td>\n",
              "      <td>0</td>\n",
              "      <td>0</td>\n",
              "      <td>1</td>\n",
              "    </tr>\n",
              "    <tr>\n",
              "      <th>12959</th>\n",
              "      <td>bough</td>\n",
              "      <td>1</td>\n",
              "      <td>520067.0</td>\n",
              "      <td>0.000144</td>\n",
              "      <td>1</td>\n",
              "      <td>1</td>\n",
              "      <td>0</td>\n",
              "      <td>0</td>\n",
              "      <td>0</td>\n",
              "    </tr>\n",
              "    <tr>\n",
              "      <th>12966</th>\n",
              "      <td>crept</td>\n",
              "      <td>1</td>\n",
              "      <td>588735.0</td>\n",
              "      <td>0.000163</td>\n",
              "      <td>1</td>\n",
              "      <td>0</td>\n",
              "      <td>0</td>\n",
              "      <td>0</td>\n",
              "      <td>0</td>\n",
              "    </tr>\n",
              "  </tbody>\n",
              "</table>\n",
              "<p>1254 rows × 9 columns</p>\n",
              "</div>\n",
              "      <button class=\"colab-df-convert\" onclick=\"convertToInteractive('df-25520b40-e2d7-448c-b6d2-a8cac2f2e5f2')\"\n",
              "              title=\"Convert this dataframe to an interactive table.\"\n",
              "              style=\"display:none;\">\n",
              "        \n",
              "  <svg xmlns=\"http://www.w3.org/2000/svg\" height=\"24px\"viewBox=\"0 0 24 24\"\n",
              "       width=\"24px\">\n",
              "    <path d=\"M0 0h24v24H0V0z\" fill=\"none\"/>\n",
              "    <path d=\"M18.56 5.44l.94 2.06.94-2.06 2.06-.94-2.06-.94-.94-2.06-.94 2.06-2.06.94zm-11 1L8.5 8.5l.94-2.06 2.06-.94-2.06-.94L8.5 2.5l-.94 2.06-2.06.94zm10 10l.94 2.06.94-2.06 2.06-.94-2.06-.94-.94-2.06-.94 2.06-2.06.94z\"/><path d=\"M17.41 7.96l-1.37-1.37c-.4-.4-.92-.59-1.43-.59-.52 0-1.04.2-1.43.59L10.3 9.45l-7.72 7.72c-.78.78-.78 2.05 0 2.83L4 21.41c.39.39.9.59 1.41.59.51 0 1.02-.2 1.41-.59l7.78-7.78 2.81-2.81c.8-.78.8-2.07 0-2.86zM5.41 20L4 18.59l7.72-7.72 1.47 1.35L5.41 20z\"/>\n",
              "  </svg>\n",
              "      </button>\n",
              "      \n",
              "  <style>\n",
              "    .colab-df-container {\n",
              "      display:flex;\n",
              "      flex-wrap:wrap;\n",
              "      gap: 12px;\n",
              "    }\n",
              "\n",
              "    .colab-df-convert {\n",
              "      background-color: #E8F0FE;\n",
              "      border: none;\n",
              "      border-radius: 50%;\n",
              "      cursor: pointer;\n",
              "      display: none;\n",
              "      fill: #1967D2;\n",
              "      height: 32px;\n",
              "      padding: 0 0 0 0;\n",
              "      width: 32px;\n",
              "    }\n",
              "\n",
              "    .colab-df-convert:hover {\n",
              "      background-color: #E2EBFA;\n",
              "      box-shadow: 0px 1px 2px rgba(60, 64, 67, 0.3), 0px 1px 3px 1px rgba(60, 64, 67, 0.15);\n",
              "      fill: #174EA6;\n",
              "    }\n",
              "\n",
              "    [theme=dark] .colab-df-convert {\n",
              "      background-color: #3B4455;\n",
              "      fill: #D2E3FC;\n",
              "    }\n",
              "\n",
              "    [theme=dark] .colab-df-convert:hover {\n",
              "      background-color: #434B5C;\n",
              "      box-shadow: 0px 1px 3px 1px rgba(0, 0, 0, 0.15);\n",
              "      filter: drop-shadow(0px 1px 2px rgba(0, 0, 0, 0.3));\n",
              "      fill: #FFFFFF;\n",
              "    }\n",
              "  </style>\n",
              "\n",
              "      <script>\n",
              "        const buttonEl =\n",
              "          document.querySelector('#df-25520b40-e2d7-448c-b6d2-a8cac2f2e5f2 button.colab-df-convert');\n",
              "        buttonEl.style.display =\n",
              "          google.colab.kernel.accessAllowed ? 'block' : 'none';\n",
              "\n",
              "        async function convertToInteractive(key) {\n",
              "          const element = document.querySelector('#df-25520b40-e2d7-448c-b6d2-a8cac2f2e5f2');\n",
              "          const dataTable =\n",
              "            await google.colab.kernel.invokeFunction('convertToInteractive',\n",
              "                                                     [key], {});\n",
              "          if (!dataTable) return;\n",
              "\n",
              "          const docLinkHtml = 'Like what you see? Visit the ' +\n",
              "            '<a target=\"_blank\" href=https://colab.research.google.com/notebooks/data_table.ipynb>data table notebook</a>'\n",
              "            + ' to learn more about interactive tables.';\n",
              "          element.innerHTML = '';\n",
              "          dataTable['output_type'] = 'display_data';\n",
              "          await google.colab.output.renderOutput(dataTable, element);\n",
              "          const docLink = document.createElement('div');\n",
              "          docLink.innerHTML = docLinkHtml;\n",
              "          element.appendChild(docLink);\n",
              "        }\n",
              "      </script>\n",
              "    </div>\n",
              "  </div>\n",
              "  "
            ]
          },
          "metadata": {},
          "execution_count": 436
        }
      ],
      "source": [
        "pred = ab_model.predict(ML_df[features])\n",
        "\n",
        "pred_result_df = ML_df.copy()\n",
        "pred_result_df['pred'] = pred                                               # Add pred_proba as a column\n",
        "\n",
        "print('Confusion Matrix')\n",
        "conf_matrix = pd.DataFrame(metrics.confusion_matrix(ML_df['answer'], pred), \n",
        "                           index=['answer:False', 'answer:True'],\n",
        "                           columns=['pred:False', 'pred:True'])\n",
        "print(conf_matrix)\n",
        "print()\n",
        "\n",
        "print('Accuracy')\n",
        "print(metrics.accuracy_score(ML_df['answer'], pred))\n",
        "print()\n",
        "\n",
        "print('F1 Score')\n",
        "print(metrics.f1_score(ML_df['answer'], pred))\n",
        "print()\n",
        "\n",
        "print('Precision')\n",
        "print(metrics.precision_score(ML_df['answer'], pred))\n",
        "print()\n",
        "\n",
        "print('Recall')\n",
        "print(metrics.recall_score(ML_df['answer'], pred))\n",
        "print()\n",
        "\n",
        "print('Wrong Predictions')\n",
        "pred_result_df[pred_result_df['pred'] != pred_result_df['answer']]"
      ]
    },
    {
      "cell_type": "markdown",
      "source": [
        "Use predict_proba's second number, to get probability of predictiong 'answer' (1)\n",
        "\n",
        "predict_proba shows two classes, 0 and 1 in this case\n",
        "\n",
        "We just need 1's probability, so add this at the end: [:, 1]"
      ],
      "metadata": {
        "id": "ziIm_V1hQnPd"
      }
    },
    {
      "cell_type": "code",
      "execution_count": null,
      "metadata": {
        "colab": {
          "base_uri": "https://localhost:8080/",
          "height": 206
        },
        "id": "OuGimopfguBg",
        "outputId": "f5b48b26-54f1-4c65-8e07-a6a957237ab1"
      },
      "outputs": [
        {
          "output_type": "execute_result",
          "data": {
            "text/plain": [
              "    word  answer      count  count_norm  singular  present  name  in_model      pred\n",
              "0  noles       0    55380.0    0.000015         1        1     0         0  0.016116\n",
              "1  melas       0    64255.0    0.000018         1        1     0         0  0.016116\n",
              "2  waist       1  5013500.0    0.001391         1        1     0         0  0.804226\n",
              "3  ohias       0        0.0    0.000000         1        1     0         0  0.016116\n",
              "4  mummy       1  1878933.0    0.000521         1        1     0         0  0.761396"
            ],
            "text/html": [
              "\n",
              "  <div id=\"df-65f54024-9c6b-4418-9daa-c74119a46e6a\">\n",
              "    <div class=\"colab-df-container\">\n",
              "      <div>\n",
              "<style scoped>\n",
              "    .dataframe tbody tr th:only-of-type {\n",
              "        vertical-align: middle;\n",
              "    }\n",
              "\n",
              "    .dataframe tbody tr th {\n",
              "        vertical-align: top;\n",
              "    }\n",
              "\n",
              "    .dataframe thead th {\n",
              "        text-align: right;\n",
              "    }\n",
              "</style>\n",
              "<table border=\"1\" class=\"dataframe\">\n",
              "  <thead>\n",
              "    <tr style=\"text-align: right;\">\n",
              "      <th></th>\n",
              "      <th>word</th>\n",
              "      <th>answer</th>\n",
              "      <th>count</th>\n",
              "      <th>count_norm</th>\n",
              "      <th>singular</th>\n",
              "      <th>present</th>\n",
              "      <th>name</th>\n",
              "      <th>in_model</th>\n",
              "      <th>pred</th>\n",
              "    </tr>\n",
              "  </thead>\n",
              "  <tbody>\n",
              "    <tr>\n",
              "      <th>0</th>\n",
              "      <td>noles</td>\n",
              "      <td>0</td>\n",
              "      <td>55380.0</td>\n",
              "      <td>0.000015</td>\n",
              "      <td>1</td>\n",
              "      <td>1</td>\n",
              "      <td>0</td>\n",
              "      <td>0</td>\n",
              "      <td>0.016116</td>\n",
              "    </tr>\n",
              "    <tr>\n",
              "      <th>1</th>\n",
              "      <td>melas</td>\n",
              "      <td>0</td>\n",
              "      <td>64255.0</td>\n",
              "      <td>0.000018</td>\n",
              "      <td>1</td>\n",
              "      <td>1</td>\n",
              "      <td>0</td>\n",
              "      <td>0</td>\n",
              "      <td>0.016116</td>\n",
              "    </tr>\n",
              "    <tr>\n",
              "      <th>2</th>\n",
              "      <td>waist</td>\n",
              "      <td>1</td>\n",
              "      <td>5013500.0</td>\n",
              "      <td>0.001391</td>\n",
              "      <td>1</td>\n",
              "      <td>1</td>\n",
              "      <td>0</td>\n",
              "      <td>0</td>\n",
              "      <td>0.804226</td>\n",
              "    </tr>\n",
              "    <tr>\n",
              "      <th>3</th>\n",
              "      <td>ohias</td>\n",
              "      <td>0</td>\n",
              "      <td>0.0</td>\n",
              "      <td>0.000000</td>\n",
              "      <td>1</td>\n",
              "      <td>1</td>\n",
              "      <td>0</td>\n",
              "      <td>0</td>\n",
              "      <td>0.016116</td>\n",
              "    </tr>\n",
              "    <tr>\n",
              "      <th>4</th>\n",
              "      <td>mummy</td>\n",
              "      <td>1</td>\n",
              "      <td>1878933.0</td>\n",
              "      <td>0.000521</td>\n",
              "      <td>1</td>\n",
              "      <td>1</td>\n",
              "      <td>0</td>\n",
              "      <td>0</td>\n",
              "      <td>0.761396</td>\n",
              "    </tr>\n",
              "  </tbody>\n",
              "</table>\n",
              "</div>\n",
              "      <button class=\"colab-df-convert\" onclick=\"convertToInteractive('df-65f54024-9c6b-4418-9daa-c74119a46e6a')\"\n",
              "              title=\"Convert this dataframe to an interactive table.\"\n",
              "              style=\"display:none;\">\n",
              "        \n",
              "  <svg xmlns=\"http://www.w3.org/2000/svg\" height=\"24px\"viewBox=\"0 0 24 24\"\n",
              "       width=\"24px\">\n",
              "    <path d=\"M0 0h24v24H0V0z\" fill=\"none\"/>\n",
              "    <path d=\"M18.56 5.44l.94 2.06.94-2.06 2.06-.94-2.06-.94-.94-2.06-.94 2.06-2.06.94zm-11 1L8.5 8.5l.94-2.06 2.06-.94-2.06-.94L8.5 2.5l-.94 2.06-2.06.94zm10 10l.94 2.06.94-2.06 2.06-.94-2.06-.94-.94-2.06-.94 2.06-2.06.94z\"/><path d=\"M17.41 7.96l-1.37-1.37c-.4-.4-.92-.59-1.43-.59-.52 0-1.04.2-1.43.59L10.3 9.45l-7.72 7.72c-.78.78-.78 2.05 0 2.83L4 21.41c.39.39.9.59 1.41.59.51 0 1.02-.2 1.41-.59l7.78-7.78 2.81-2.81c.8-.78.8-2.07 0-2.86zM5.41 20L4 18.59l7.72-7.72 1.47 1.35L5.41 20z\"/>\n",
              "  </svg>\n",
              "      </button>\n",
              "      \n",
              "  <style>\n",
              "    .colab-df-container {\n",
              "      display:flex;\n",
              "      flex-wrap:wrap;\n",
              "      gap: 12px;\n",
              "    }\n",
              "\n",
              "    .colab-df-convert {\n",
              "      background-color: #E8F0FE;\n",
              "      border: none;\n",
              "      border-radius: 50%;\n",
              "      cursor: pointer;\n",
              "      display: none;\n",
              "      fill: #1967D2;\n",
              "      height: 32px;\n",
              "      padding: 0 0 0 0;\n",
              "      width: 32px;\n",
              "    }\n",
              "\n",
              "    .colab-df-convert:hover {\n",
              "      background-color: #E2EBFA;\n",
              "      box-shadow: 0px 1px 2px rgba(60, 64, 67, 0.3), 0px 1px 3px 1px rgba(60, 64, 67, 0.15);\n",
              "      fill: #174EA6;\n",
              "    }\n",
              "\n",
              "    [theme=dark] .colab-df-convert {\n",
              "      background-color: #3B4455;\n",
              "      fill: #D2E3FC;\n",
              "    }\n",
              "\n",
              "    [theme=dark] .colab-df-convert:hover {\n",
              "      background-color: #434B5C;\n",
              "      box-shadow: 0px 1px 3px 1px rgba(0, 0, 0, 0.15);\n",
              "      filter: drop-shadow(0px 1px 2px rgba(0, 0, 0, 0.3));\n",
              "      fill: #FFFFFF;\n",
              "    }\n",
              "  </style>\n",
              "\n",
              "      <script>\n",
              "        const buttonEl =\n",
              "          document.querySelector('#df-65f54024-9c6b-4418-9daa-c74119a46e6a button.colab-df-convert');\n",
              "        buttonEl.style.display =\n",
              "          google.colab.kernel.accessAllowed ? 'block' : 'none';\n",
              "\n",
              "        async function convertToInteractive(key) {\n",
              "          const element = document.querySelector('#df-65f54024-9c6b-4418-9daa-c74119a46e6a');\n",
              "          const dataTable =\n",
              "            await google.colab.kernel.invokeFunction('convertToInteractive',\n",
              "                                                     [key], {});\n",
              "          if (!dataTable) return;\n",
              "\n",
              "          const docLinkHtml = 'Like what you see? Visit the ' +\n",
              "            '<a target=\"_blank\" href=https://colab.research.google.com/notebooks/data_table.ipynb>data table notebook</a>'\n",
              "            + ' to learn more about interactive tables.';\n",
              "          element.innerHTML = '';\n",
              "          dataTable['output_type'] = 'display_data';\n",
              "          await google.colab.output.renderOutput(dataTable, element);\n",
              "          const docLink = document.createElement('div');\n",
              "          docLink.innerHTML = docLinkHtml;\n",
              "          element.appendChild(docLink);\n",
              "        }\n",
              "      </script>\n",
              "    </div>\n",
              "  </div>\n",
              "  "
            ]
          },
          "metadata": {},
          "execution_count": 438
        }
      ],
      "source": [
        "# Insert pred into pred_result_df\n",
        "pred_proba = ab_model.predict_proba(ML_df[features])[:, 1]\n",
        "\n",
        "pred_result_df['pred'] = pred_proba                                         # Replace pred with pred_proba\n",
        "\n",
        "pred_result_df.head()"
      ]
    },
    {
      "cell_type": "markdown",
      "metadata": {
        "id": "Nf6CskAIXr8r"
      },
      "source": [
        "If there is a large amount of False Negative or False Positive. The threshold for positive prediction can be changed.\n",
        "\n",
        "However, since I will be using pred_prod instead of actual prediction, this can be skipped."
      ]
    },
    {
      "cell_type": "code",
      "execution_count": null,
      "metadata": {
        "colab": {
          "base_uri": "https://localhost:8080/",
          "height": 258
        },
        "id": "59TUygJsGFbC",
        "outputId": "b67e4ee4-3a3f-408e-da91-a19125bcd6bc"
      },
      "outputs": [
        {
          "output_type": "stream",
          "name": "stdout",
          "text": [
            "(2255, 9)\n",
            "7862\n",
            "52\n"
          ]
        },
        {
          "output_type": "execute_result",
          "data": {
            "text/plain": [
              "    word  answer    count  count_norm  singular  present  name  in_model      pred\n",
              "0  noles       0  55380.0    0.000015         1        1     0         0  0.016116\n",
              "1  melas       0  64255.0    0.000018         1        1     0         0  0.016116\n",
              "3  ohias       0      0.0    0.000000         1        1     0         0  0.016116\n",
              "5  shakt       0      0.0    0.000000         1        1     0         0  0.016116\n",
              "7  azurn       0      0.0    0.000000         1        1     0         0  0.016116"
            ],
            "text/html": [
              "\n",
              "  <div id=\"df-a511c63d-cc29-4aa1-983f-1fecc60293a5\">\n",
              "    <div class=\"colab-df-container\">\n",
              "      <div>\n",
              "<style scoped>\n",
              "    .dataframe tbody tr th:only-of-type {\n",
              "        vertical-align: middle;\n",
              "    }\n",
              "\n",
              "    .dataframe tbody tr th {\n",
              "        vertical-align: top;\n",
              "    }\n",
              "\n",
              "    .dataframe thead th {\n",
              "        text-align: right;\n",
              "    }\n",
              "</style>\n",
              "<table border=\"1\" class=\"dataframe\">\n",
              "  <thead>\n",
              "    <tr style=\"text-align: right;\">\n",
              "      <th></th>\n",
              "      <th>word</th>\n",
              "      <th>answer</th>\n",
              "      <th>count</th>\n",
              "      <th>count_norm</th>\n",
              "      <th>singular</th>\n",
              "      <th>present</th>\n",
              "      <th>name</th>\n",
              "      <th>in_model</th>\n",
              "      <th>pred</th>\n",
              "    </tr>\n",
              "  </thead>\n",
              "  <tbody>\n",
              "    <tr>\n",
              "      <th>0</th>\n",
              "      <td>noles</td>\n",
              "      <td>0</td>\n",
              "      <td>55380.0</td>\n",
              "      <td>0.000015</td>\n",
              "      <td>1</td>\n",
              "      <td>1</td>\n",
              "      <td>0</td>\n",
              "      <td>0</td>\n",
              "      <td>0.016116</td>\n",
              "    </tr>\n",
              "    <tr>\n",
              "      <th>1</th>\n",
              "      <td>melas</td>\n",
              "      <td>0</td>\n",
              "      <td>64255.0</td>\n",
              "      <td>0.000018</td>\n",
              "      <td>1</td>\n",
              "      <td>1</td>\n",
              "      <td>0</td>\n",
              "      <td>0</td>\n",
              "      <td>0.016116</td>\n",
              "    </tr>\n",
              "    <tr>\n",
              "      <th>3</th>\n",
              "      <td>ohias</td>\n",
              "      <td>0</td>\n",
              "      <td>0.0</td>\n",
              "      <td>0.000000</td>\n",
              "      <td>1</td>\n",
              "      <td>1</td>\n",
              "      <td>0</td>\n",
              "      <td>0</td>\n",
              "      <td>0.016116</td>\n",
              "    </tr>\n",
              "    <tr>\n",
              "      <th>5</th>\n",
              "      <td>shakt</td>\n",
              "      <td>0</td>\n",
              "      <td>0.0</td>\n",
              "      <td>0.000000</td>\n",
              "      <td>1</td>\n",
              "      <td>1</td>\n",
              "      <td>0</td>\n",
              "      <td>0</td>\n",
              "      <td>0.016116</td>\n",
              "    </tr>\n",
              "    <tr>\n",
              "      <th>7</th>\n",
              "      <td>azurn</td>\n",
              "      <td>0</td>\n",
              "      <td>0.0</td>\n",
              "      <td>0.000000</td>\n",
              "      <td>1</td>\n",
              "      <td>1</td>\n",
              "      <td>0</td>\n",
              "      <td>0</td>\n",
              "      <td>0.016116</td>\n",
              "    </tr>\n",
              "  </tbody>\n",
              "</table>\n",
              "</div>\n",
              "      <button class=\"colab-df-convert\" onclick=\"convertToInteractive('df-a511c63d-cc29-4aa1-983f-1fecc60293a5')\"\n",
              "              title=\"Convert this dataframe to an interactive table.\"\n",
              "              style=\"display:none;\">\n",
              "        \n",
              "  <svg xmlns=\"http://www.w3.org/2000/svg\" height=\"24px\"viewBox=\"0 0 24 24\"\n",
              "       width=\"24px\">\n",
              "    <path d=\"M0 0h24v24H0V0z\" fill=\"none\"/>\n",
              "    <path d=\"M18.56 5.44l.94 2.06.94-2.06 2.06-.94-2.06-.94-.94-2.06-.94 2.06-2.06.94zm-11 1L8.5 8.5l.94-2.06 2.06-.94-2.06-.94L8.5 2.5l-.94 2.06-2.06.94zm10 10l.94 2.06.94-2.06 2.06-.94-2.06-.94-.94-2.06-.94 2.06-2.06.94z\"/><path d=\"M17.41 7.96l-1.37-1.37c-.4-.4-.92-.59-1.43-.59-.52 0-1.04.2-1.43.59L10.3 9.45l-7.72 7.72c-.78.78-.78 2.05 0 2.83L4 21.41c.39.39.9.59 1.41.59.51 0 1.02-.2 1.41-.59l7.78-7.78 2.81-2.81c.8-.78.8-2.07 0-2.86zM5.41 20L4 18.59l7.72-7.72 1.47 1.35L5.41 20z\"/>\n",
              "  </svg>\n",
              "      </button>\n",
              "      \n",
              "  <style>\n",
              "    .colab-df-container {\n",
              "      display:flex;\n",
              "      flex-wrap:wrap;\n",
              "      gap: 12px;\n",
              "    }\n",
              "\n",
              "    .colab-df-convert {\n",
              "      background-color: #E8F0FE;\n",
              "      border: none;\n",
              "      border-radius: 50%;\n",
              "      cursor: pointer;\n",
              "      display: none;\n",
              "      fill: #1967D2;\n",
              "      height: 32px;\n",
              "      padding: 0 0 0 0;\n",
              "      width: 32px;\n",
              "    }\n",
              "\n",
              "    .colab-df-convert:hover {\n",
              "      background-color: #E2EBFA;\n",
              "      box-shadow: 0px 1px 2px rgba(60, 64, 67, 0.3), 0px 1px 3px 1px rgba(60, 64, 67, 0.15);\n",
              "      fill: #174EA6;\n",
              "    }\n",
              "\n",
              "    [theme=dark] .colab-df-convert {\n",
              "      background-color: #3B4455;\n",
              "      fill: #D2E3FC;\n",
              "    }\n",
              "\n",
              "    [theme=dark] .colab-df-convert:hover {\n",
              "      background-color: #434B5C;\n",
              "      box-shadow: 0px 1px 3px 1px rgba(0, 0, 0, 0.15);\n",
              "      filter: drop-shadow(0px 1px 2px rgba(0, 0, 0, 0.3));\n",
              "      fill: #FFFFFF;\n",
              "    }\n",
              "  </style>\n",
              "\n",
              "      <script>\n",
              "        const buttonEl =\n",
              "          document.querySelector('#df-a511c63d-cc29-4aa1-983f-1fecc60293a5 button.colab-df-convert');\n",
              "        buttonEl.style.display =\n",
              "          google.colab.kernel.accessAllowed ? 'block' : 'none';\n",
              "\n",
              "        async function convertToInteractive(key) {\n",
              "          const element = document.querySelector('#df-a511c63d-cc29-4aa1-983f-1fecc60293a5');\n",
              "          const dataTable =\n",
              "            await google.colab.kernel.invokeFunction('convertToInteractive',\n",
              "                                                     [key], {});\n",
              "          if (!dataTable) return;\n",
              "\n",
              "          const docLinkHtml = 'Like what you see? Visit the ' +\n",
              "            '<a target=\"_blank\" href=https://colab.research.google.com/notebooks/data_table.ipynb>data table notebook</a>'\n",
              "            + ' to learn more about interactive tables.';\n",
              "          element.innerHTML = '';\n",
              "          dataTable['output_type'] = 'display_data';\n",
              "          await google.colab.output.renderOutput(dataTable, element);\n",
              "          const docLink = document.createElement('div');\n",
              "          docLink.innerHTML = docLinkHtml;\n",
              "          element.appendChild(docLink);\n",
              "        }\n",
              "      </script>\n",
              "    </div>\n",
              "  </div>\n",
              "  "
            ]
          },
          "metadata": {},
          "execution_count": 439
        }
      ],
      "source": [
        "# If threshold does need to be adjusted, change the number here to find optimal number of predictions\n",
        "print(pred_result_df[pred_result_df['pred'] > 0.42].shape)\n",
        "\n",
        "# Count of words that has low ML Score\n",
        "print(pred_result_df[pred_result_df['pred'] <= 0.02].shape[0])\n",
        "\n",
        "# Count of words that are answer but has low ML Score\n",
        "print(pred_result_df[(ML_df['answer'] == 1) & (pred_result_df['pred'] <= 0.02)].shape[0])\n",
        "\n",
        "pred_result_df[pred_result_df['pred'] <= 0.02].head()"
      ]
    },
    {
      "cell_type": "markdown",
      "metadata": {
        "id": "mMvVe68ER7b8"
      },
      "source": [
        "## Update 1st guess recommendations\n",
        "\n",
        "IG Score and ML Score are on different scale. But simplying adding them works out, bcause:\n",
        "\n",
        "- IG Score measures how much we can reduce the remaining choices\n",
        "- IG Score is usually a larger number, when there is a larger amount of words remaning, which happens at the first few attempts; in later attempts, IG Score will be a smaller number\n",
        "- ML Score measures how likely a word will be used as answer, and is always between 0-1\n",
        "- It is desirable to have a bigger weight on IG Score for first few attempts, in order to reduce as many remaining choices as possible; then later on, weight on ML Score should increase since the guess should now try to be actual numbers\n",
        "- Since range of IG Score decreases, this weight change is automatically simulated by adding two scores together\n",
        "- However, this \"weight\" assignment is probably not perfect, and need to be evaluated using further machine learning and/or mathmatical proof"
      ]
    },
    {
      "cell_type": "code",
      "execution_count": null,
      "metadata": {
        "colab": {
          "base_uri": "https://localhost:8080/",
          "height": 363
        },
        "id": "NaF724kWSCB8",
        "outputId": "9cb7b6cc-c55c-46e0-8285-9a66201a10ea"
      },
      "outputs": [
        {
          "output_type": "execute_result",
          "data": {
            "text/plain": [
              "        Word  IG Score  ML Score  Total Score\n",
              "12106  raise    5.9197    0.8042       6.7240\n",
              "3634   slate    5.8712    0.8042       6.6754\n",
              "180    earns    5.8847    0.7614       6.6461\n",
              "11006  laser    5.8297    0.8042       6.6339\n",
              "11737  stare    5.8360    0.7614       6.5974\n",
              "12111  snare    5.8350    0.7614       6.5964\n",
              "12802  siren    5.8339    0.7614       6.5953\n",
              "3517   arise    5.7765    0.8042       6.5807\n",
              "4669   solar    5.7419    0.8042       6.5462\n",
              "9259   sarge    5.7646    0.7614       6.5260"
            ],
            "text/html": [
              "\n",
              "  <div id=\"df-a82340db-431b-4a7a-a4a8-7b42a1825ee3\">\n",
              "    <div class=\"colab-df-container\">\n",
              "      <div>\n",
              "<style scoped>\n",
              "    .dataframe tbody tr th:only-of-type {\n",
              "        vertical-align: middle;\n",
              "    }\n",
              "\n",
              "    .dataframe tbody tr th {\n",
              "        vertical-align: top;\n",
              "    }\n",
              "\n",
              "    .dataframe thead th {\n",
              "        text-align: right;\n",
              "    }\n",
              "</style>\n",
              "<table border=\"1\" class=\"dataframe\">\n",
              "  <thead>\n",
              "    <tr style=\"text-align: right;\">\n",
              "      <th></th>\n",
              "      <th>Word</th>\n",
              "      <th>IG Score</th>\n",
              "      <th>ML Score</th>\n",
              "      <th>Total Score</th>\n",
              "    </tr>\n",
              "  </thead>\n",
              "  <tbody>\n",
              "    <tr>\n",
              "      <th>12106</th>\n",
              "      <td>raise</td>\n",
              "      <td>5.9197</td>\n",
              "      <td>0.8042</td>\n",
              "      <td>6.7240</td>\n",
              "    </tr>\n",
              "    <tr>\n",
              "      <th>3634</th>\n",
              "      <td>slate</td>\n",
              "      <td>5.8712</td>\n",
              "      <td>0.8042</td>\n",
              "      <td>6.6754</td>\n",
              "    </tr>\n",
              "    <tr>\n",
              "      <th>180</th>\n",
              "      <td>earns</td>\n",
              "      <td>5.8847</td>\n",
              "      <td>0.7614</td>\n",
              "      <td>6.6461</td>\n",
              "    </tr>\n",
              "    <tr>\n",
              "      <th>11006</th>\n",
              "      <td>laser</td>\n",
              "      <td>5.8297</td>\n",
              "      <td>0.8042</td>\n",
              "      <td>6.6339</td>\n",
              "    </tr>\n",
              "    <tr>\n",
              "      <th>11737</th>\n",
              "      <td>stare</td>\n",
              "      <td>5.8360</td>\n",
              "      <td>0.7614</td>\n",
              "      <td>6.5974</td>\n",
              "    </tr>\n",
              "    <tr>\n",
              "      <th>12111</th>\n",
              "      <td>snare</td>\n",
              "      <td>5.8350</td>\n",
              "      <td>0.7614</td>\n",
              "      <td>6.5964</td>\n",
              "    </tr>\n",
              "    <tr>\n",
              "      <th>12802</th>\n",
              "      <td>siren</td>\n",
              "      <td>5.8339</td>\n",
              "      <td>0.7614</td>\n",
              "      <td>6.5953</td>\n",
              "    </tr>\n",
              "    <tr>\n",
              "      <th>3517</th>\n",
              "      <td>arise</td>\n",
              "      <td>5.7765</td>\n",
              "      <td>0.8042</td>\n",
              "      <td>6.5807</td>\n",
              "    </tr>\n",
              "    <tr>\n",
              "      <th>4669</th>\n",
              "      <td>solar</td>\n",
              "      <td>5.7419</td>\n",
              "      <td>0.8042</td>\n",
              "      <td>6.5462</td>\n",
              "    </tr>\n",
              "    <tr>\n",
              "      <th>9259</th>\n",
              "      <td>sarge</td>\n",
              "      <td>5.7646</td>\n",
              "      <td>0.7614</td>\n",
              "      <td>6.5260</td>\n",
              "    </tr>\n",
              "  </tbody>\n",
              "</table>\n",
              "</div>\n",
              "      <button class=\"colab-df-convert\" onclick=\"convertToInteractive('df-a82340db-431b-4a7a-a4a8-7b42a1825ee3')\"\n",
              "              title=\"Convert this dataframe to an interactive table.\"\n",
              "              style=\"display:none;\">\n",
              "        \n",
              "  <svg xmlns=\"http://www.w3.org/2000/svg\" height=\"24px\"viewBox=\"0 0 24 24\"\n",
              "       width=\"24px\">\n",
              "    <path d=\"M0 0h24v24H0V0z\" fill=\"none\"/>\n",
              "    <path d=\"M18.56 5.44l.94 2.06.94-2.06 2.06-.94-2.06-.94-.94-2.06-.94 2.06-2.06.94zm-11 1L8.5 8.5l.94-2.06 2.06-.94-2.06-.94L8.5 2.5l-.94 2.06-2.06.94zm10 10l.94 2.06.94-2.06 2.06-.94-2.06-.94-.94-2.06-.94 2.06-2.06.94z\"/><path d=\"M17.41 7.96l-1.37-1.37c-.4-.4-.92-.59-1.43-.59-.52 0-1.04.2-1.43.59L10.3 9.45l-7.72 7.72c-.78.78-.78 2.05 0 2.83L4 21.41c.39.39.9.59 1.41.59.51 0 1.02-.2 1.41-.59l7.78-7.78 2.81-2.81c.8-.78.8-2.07 0-2.86zM5.41 20L4 18.59l7.72-7.72 1.47 1.35L5.41 20z\"/>\n",
              "  </svg>\n",
              "      </button>\n",
              "      \n",
              "  <style>\n",
              "    .colab-df-container {\n",
              "      display:flex;\n",
              "      flex-wrap:wrap;\n",
              "      gap: 12px;\n",
              "    }\n",
              "\n",
              "    .colab-df-convert {\n",
              "      background-color: #E8F0FE;\n",
              "      border: none;\n",
              "      border-radius: 50%;\n",
              "      cursor: pointer;\n",
              "      display: none;\n",
              "      fill: #1967D2;\n",
              "      height: 32px;\n",
              "      padding: 0 0 0 0;\n",
              "      width: 32px;\n",
              "    }\n",
              "\n",
              "    .colab-df-convert:hover {\n",
              "      background-color: #E2EBFA;\n",
              "      box-shadow: 0px 1px 2px rgba(60, 64, 67, 0.3), 0px 1px 3px 1px rgba(60, 64, 67, 0.15);\n",
              "      fill: #174EA6;\n",
              "    }\n",
              "\n",
              "    [theme=dark] .colab-df-convert {\n",
              "      background-color: #3B4455;\n",
              "      fill: #D2E3FC;\n",
              "    }\n",
              "\n",
              "    [theme=dark] .colab-df-convert:hover {\n",
              "      background-color: #434B5C;\n",
              "      box-shadow: 0px 1px 3px 1px rgba(0, 0, 0, 0.15);\n",
              "      filter: drop-shadow(0px 1px 2px rgba(0, 0, 0, 0.3));\n",
              "      fill: #FFFFFF;\n",
              "    }\n",
              "  </style>\n",
              "\n",
              "      <script>\n",
              "        const buttonEl =\n",
              "          document.querySelector('#df-a82340db-431b-4a7a-a4a8-7b42a1825ee3 button.colab-df-convert');\n",
              "        buttonEl.style.display =\n",
              "          google.colab.kernel.accessAllowed ? 'block' : 'none';\n",
              "\n",
              "        async function convertToInteractive(key) {\n",
              "          const element = document.querySelector('#df-a82340db-431b-4a7a-a4a8-7b42a1825ee3');\n",
              "          const dataTable =\n",
              "            await google.colab.kernel.invokeFunction('convertToInteractive',\n",
              "                                                     [key], {});\n",
              "          if (!dataTable) return;\n",
              "\n",
              "          const docLinkHtml = 'Like what you see? Visit the ' +\n",
              "            '<a target=\"_blank\" href=https://colab.research.google.com/notebooks/data_table.ipynb>data table notebook</a>'\n",
              "            + ' to learn more about interactive tables.';\n",
              "          element.innerHTML = '';\n",
              "          dataTable['output_type'] = 'display_data';\n",
              "          await google.colab.output.renderOutput(dataTable, element);\n",
              "          const docLink = document.createElement('div');\n",
              "          docLink.innerHTML = docLinkHtml;\n",
              "          element.appendChild(docLink);\n",
              "        }\n",
              "      </script>\n",
              "    </div>\n",
              "  </div>\n",
              "  "
            ]
          },
          "metadata": {},
          "execution_count": 440
        }
      ],
      "source": [
        "# Update guess1_gain_df with pred column\n",
        "guess1_gain_df = pd.read_csv('/content/drive/MyDrive/Wordle/Data/1st_guess_info_gain.csv')\n",
        "\n",
        "# Rename \"Score\" into \"IG Score\" (Information Gain Score)\n",
        "guess1_gain_df = guess1_gain_df.rename(columns={\"Score\": \"IG Score\"})\n",
        "\n",
        "# Add prediction probability as \"ML Score\" (Machine Learning Score)\n",
        "guess1_gain_df['ML Score'] = pred_result_df['pred']\n",
        "\n",
        "# Add Total Score that is sum of IG Score and ML Score\n",
        "guess1_gain_df['Total Score'] = guess1_gain_df['IG Score'] + guess1_gain_df['ML Score']\n",
        "\n",
        "# Round to 4th decimal place\n",
        "guess1_gain_df = guess1_gain_df.round(4)\n",
        "\n",
        "# Get top 10 list\n",
        "top10_guess1_df = guess1_gain_df.sort_values(by='Total Score', ascending=False)[0:10]\n",
        "top10_guess1_df"
      ]
    },
    {
      "cell_type": "markdown",
      "metadata": {
        "id": "VbCQIUjarCAA"
      },
      "source": [
        "## Update Wordle Solver"
      ]
    },
    {
      "cell_type": "code",
      "execution_count": null,
      "metadata": {
        "id": "CX69Ccmqw7wk"
      },
      "outputs": [],
      "source": [
        "# Look up a word in ML's pred_result_df, and return its score\n",
        "def get_ML_score(guess):\n",
        "    ML_score = pred_result_df[pred_result_df['word'] == guess]['pred']\n",
        "    return ML_score.values[0]\n",
        "\n",
        "\n",
        "# Update measure_guess_gain_list\n",
        "# - Two input methods: Total Score and IG Score\n",
        "# - Printout toggle\n",
        "def measure_guess_gain_list(guess_list, current_possible, scoring=['Total Score', 'IG Score'], printout=True):\n",
        "    word_list = []\n",
        "    gain_score_list = []\n",
        "    ML_score_list = []\n",
        "    total_score_list = []\n",
        "\n",
        "    if printout:                                                    # Show a progress bar using tqdm if printout is True\n",
        "        for word in tqdm(guess_list):                                                               \n",
        "            word_list.append(word)\n",
        "\n",
        "            gain_score = measure_guess_gain(word, current_possible)\n",
        "            gain_score_list.append(gain_score)\n",
        "            \n",
        "            ML_score = get_ML_score(word)\n",
        "            ML_score_list.append(ML_score)\n",
        "\n",
        "            total_score_list.append(gain_score + ML_score)\n",
        "\n",
        "    else:                                                           # No progress bar if printout is False\n",
        "        for word in guess_list:\n",
        "            word_list.append(word)\n",
        "\n",
        "            gain_score = measure_guess_gain(word, current_possible)\n",
        "            gain_score_list.append(gain_score)\n",
        "            \n",
        "            ML_score = get_ML_score(word)\n",
        "            ML_score_list.append(ML_score)\n",
        "\n",
        "            total_score_list.append(gain_score + ML_score)\n",
        "\n",
        "    output_df = pd.DataFrame({\n",
        "        'Word': word_list,\n",
        "        'IG Score': gain_score_list,\n",
        "        'ML Score': ML_score_list,\n",
        "        'Total Score': total_score_list\n",
        "    })\n",
        "\n",
        "    output_df = output_df.sort_values(by=scoring, ascending=False).round(4)\n",
        "\n",
        "    return output_df\n",
        "\n",
        "\n",
        "# Update wordle solver\n",
        "# - Define which scoring method\n",
        "# - Uses new measure_guess_gain_list\n",
        "def wordle_solver(max_try=6, scoring=['Total Score', 'IG Score']):\n",
        "    attempt = 0\n",
        "    prev_possible = full_list\n",
        "\n",
        "    print('Top 10 recommended 1st guess:')\n",
        "    print(top10_guess1_df.to_string(index=False))\n",
        "\n",
        "    while attempt < max_try:\n",
        "        print('Attempt ', attempt + 1, '/', max_try)\n",
        "\n",
        "        ask_input_solver('guess')\n",
        "        if guess == escape_word:                # If guess is secret escape word, end session\n",
        "            attempt = max_try\n",
        "            break\n",
        "        \n",
        "        ask_input_solver('result')\n",
        "        if result == escape_word:               # If result is secret escape word, end session\n",
        "            attempt = max_try\n",
        "            break\n",
        "\n",
        "        if result == (2, 2, 2, 2, 2):\n",
        "            print('You won!')\n",
        "            attempt = max_try + 1\n",
        "            break\n",
        "        else:\n",
        "            curr_possible = get_possible_words(guess, result, prev_possible)\n",
        "            curr_gain = measure_guess_gain_list(curr_possible, curr_possible, scoring)\n",
        "            \n",
        "            print('# of words remaining', len(curr_possible))\n",
        "            print('Top 10 recommended guess:')\n",
        "            print(curr_gain[0:10].to_string(index=False))\n",
        "            print('-' * 30)\n",
        "\n",
        "            # Prepare for next loop\n",
        "            prev_possible = curr_possible\n",
        "            attempt += 1\n",
        "\n",
        "    if attempt >= max_try:\n",
        "        print('Game Over')"
      ]
    },
    {
      "cell_type": "markdown",
      "metadata": {
        "id": "TRYE53CUlQu3"
      },
      "source": [
        "## Solve a game"
      ]
    },
    {
      "cell_type": "code",
      "execution_count": null,
      "metadata": {
        "colab": {
          "base_uri": "https://localhost:8080/"
        },
        "id": "3X2VTFhvtK2X",
        "outputId": "78ed5f5f-70a5-4344-ed8c-f21ffdf01d25"
      },
      "outputs": [
        {
          "name": "stdout",
          "output_type": "stream",
          "text": [
            "Top 10 recommended 1st guess:\n",
            " Word  IG Score  ML Score  Total Score\n",
            "raise    5.9197    0.5284       6.4481\n",
            "arles    6.0297    0.3728       6.4025\n",
            "laser    5.8297    0.5284       6.3580\n",
            "store    5.6762    0.6788       6.3550\n",
            "slate    5.8712    0.4788       6.3501\n",
            "lares    6.1499    0.1981       6.3481\n",
            "nears    5.9052    0.4336       6.3389\n",
            "earns    5.8847    0.4485       6.3332\n",
            "reais    6.0498    0.2819       6.3317\n",
            "arise    5.7765    0.5284       6.3049\n",
            "Attempt  1 / 6\n",
            "Which word did you guess? raise\n",
            "What is the result? 11000\n"
          ]
        },
        {
          "name": "stderr",
          "output_type": "stream",
          "text": [
            "100%|██████████| 297/297 [00:05<00:00, 57.08it/s]\n"
          ]
        },
        {
          "name": "stdout",
          "output_type": "stream",
          "text": [
            "# of words remaining 297\n",
            "Top 10 recommended guess:\n",
            " Word  IG Score  ML Score  Total Score\n",
            "array   13.0757    0.5284       6.9086\n",
            "armor    7.2614    0.5284       3.8366\n",
            "alarm    7.0837    0.5284       3.7427\n",
            "aroma    8.0048    0.4675       3.7420\n",
            "aorta    8.4994    0.4336       3.6857\n",
            "apart    6.7910    0.5284       3.5881\n",
            "arbor    7.3323    0.4788       3.5110\n",
            "arrow    6.6315    0.5284       3.5038\n",
            "drama    6.6079    0.5284       3.4913\n",
            "agora    7.8297    0.4336       3.3952\n",
            "------------------------------\n",
            "Attempt  2 / 6\n",
            "Which word did you guess? 21010\n",
            "Invalid input. Which word did you guess? array\n",
            "What is the result? 21010\n"
          ]
        },
        {
          "name": "stderr",
          "output_type": "stream",
          "text": [
            "100%|██████████| 8/8 [00:00<00:00, 256.40it/s]\n"
          ]
        },
        {
          "name": "stdout",
          "output_type": "stream",
          "text": [
            "# of words remaining 8\n",
            "Top 10 recommended guess:\n",
            " Word  IG Score  ML Score  Total Score\n",
            "award    1.8113    0.5284       0.9570\n",
            "apart    1.7500    0.5284       0.9246\n",
            "alarm    1.4056    0.5284       0.7427\n",
            "agora    1.4056    0.4336       0.6095\n",
            "anura    2.1556    0.2819       0.6076\n",
            "awarn    2.1556    0.0442       0.0952\n",
            "afara    1.4056    0.0442       0.0621\n",
            "antra    2.5000    0.0144       0.0360\n",
            "------------------------------\n",
            "Attempt  3 / 6\n",
            "Which word did you guess? award\n",
            "What is the result? 20220\n"
          ]
        },
        {
          "name": "stderr",
          "output_type": "stream",
          "text": [
            "100%|██████████| 3/3 [00:00<00:00, 252.81it/s]\n"
          ]
        },
        {
          "name": "stdout",
          "output_type": "stream",
          "text": [
            "# of words remaining 3\n",
            "Top 10 recommended guess:\n",
            " Word  IG Score  ML Score  Total Score\n",
            "alarm    0.9183    0.5284       0.4852\n",
            "apart    0.9183    0.5284       0.4852\n",
            "afara    0.9183    0.0442       0.0406\n",
            "------------------------------\n",
            "Attempt  4 / 6\n",
            "Which word did you guess? alarm\n",
            "What is the result? 22222\n",
            "You won!\n",
            "Game Over\n"
          ]
        }
      ],
      "source": [
        "wordle_solver()"
      ]
    },
    {
      "cell_type": "markdown",
      "metadata": {
        "id": "j54wdTRDEYvy"
      },
      "source": [
        "# Part 4 - Game Simulation\n",
        "\n",
        "Combine Wordle Game in Part 1 and Wordle Solvers to simulate games and evaluate Solver performance"
      ]
    },
    {
      "cell_type": "markdown",
      "metadata": {
        "id": "oKDTZmx_S8XO"
      },
      "source": [
        "## Improve simulation efficiency by pre-generating all 2nd guess results"
      ]
    },
    {
      "cell_type": "code",
      "execution_count": null,
      "metadata": {
        "id": "4XtzDI99Lwo4",
        "colab": {
          "base_uri": "https://localhost:8080/"
        },
        "outputId": "e4f408f5-17f9-48d5-aca6-367f6c5a1e26"
      },
      "outputs": [
        {
          "output_type": "stream",
          "name": "stderr",
          "text": [
            "100%|██████████| 243/243 [04:18<00:00,  1.06s/it]\n"
          ]
        }
      ],
      "source": [
        "# These codes only need to be ran once, because the output is saved into a CSV\n",
        "#\"\"\"\n",
        "guess = 'raise'\n",
        "scoring= 'Total Score'\n",
        "file_name = '2nd_guess_'+guess+'_info_gain.csv'\n",
        "\n",
        "with open(file_name, 'w', newline='') as file:\n",
        "    writer = csv.writer(file)\n",
        "    for result in tqdm(result_matrix):\n",
        "        curr_possible = get_possible_words(guess, result, full_list)\n",
        "        \n",
        "        try:\n",
        "            # Only take top result from each gain list     \n",
        "            top_result = measure_guess_gain_list(curr_possible, curr_possible, scoring, printout=False).nlargest(1, 'Total Score')['Word'].values[0]\n",
        "        except:\n",
        "            # In case a result is impossible\n",
        "            top_result = ''\n",
        "\n",
        "        # Write to file\n",
        "        writer.writerow([result, top_result, curr_possible])\n",
        "#\"\"\""
      ]
    },
    {
      "cell_type": "code",
      "execution_count": null,
      "metadata": {
        "colab": {
          "base_uri": "https://localhost:8080/",
          "height": 424
        },
        "id": "sDZK2zEWdzOs",
        "outputId": "b7111bb6-f4ab-4750-80b2-5776daf0e2e5"
      },
      "outputs": [
        {
          "output_type": "execute_result",
          "data": {
            "text/plain": [
              "                   0      1                                                  2\n",
              "0    (0, 0, 0, 0, 0)  ovolo  ['mummy', 'bunjy', 'ghyll', 'kutch', 'boppy', ...\n",
              "1    (0, 0, 0, 0, 1)  deedy  ['feoff', 'ketol', 'kvell', 'metho', 'begot', ...\n",
              "2    (0, 0, 0, 0, 2)  belle  ['plume', 'jembe', 'emove', 'lemme', 'lefte', ...\n",
              "3    (0, 0, 0, 1, 0)  ottos  ['phuts', 'huffs', 'swoun', 'loons', 'fuffs', ...\n",
              "4    (0, 0, 0, 1, 1)  esses  ['fuels', 'fuses', 'bused', 'keefs', 'hosen', ...\n",
              "..               ...    ...                                                ...\n",
              "238  (2, 2, 2, 1, 1)    NaN                                                 []\n",
              "239  (2, 2, 2, 1, 2)    NaN                                                 []\n",
              "240  (2, 2, 2, 2, 0)    NaN                                                 []\n",
              "241  (2, 2, 2, 2, 1)    NaN                                                 []\n",
              "242  (2, 2, 2, 2, 2)  raise                                          ['raise']\n",
              "\n",
              "[243 rows x 3 columns]"
            ],
            "text/html": [
              "\n",
              "  <div id=\"df-70364edf-7f1c-4393-aa53-36dcf145db08\">\n",
              "    <div class=\"colab-df-container\">\n",
              "      <div>\n",
              "<style scoped>\n",
              "    .dataframe tbody tr th:only-of-type {\n",
              "        vertical-align: middle;\n",
              "    }\n",
              "\n",
              "    .dataframe tbody tr th {\n",
              "        vertical-align: top;\n",
              "    }\n",
              "\n",
              "    .dataframe thead th {\n",
              "        text-align: right;\n",
              "    }\n",
              "</style>\n",
              "<table border=\"1\" class=\"dataframe\">\n",
              "  <thead>\n",
              "    <tr style=\"text-align: right;\">\n",
              "      <th></th>\n",
              "      <th>0</th>\n",
              "      <th>1</th>\n",
              "      <th>2</th>\n",
              "    </tr>\n",
              "  </thead>\n",
              "  <tbody>\n",
              "    <tr>\n",
              "      <th>0</th>\n",
              "      <td>(0, 0, 0, 0, 0)</td>\n",
              "      <td>ovolo</td>\n",
              "      <td>['mummy', 'bunjy', 'ghyll', 'kutch', 'boppy', ...</td>\n",
              "    </tr>\n",
              "    <tr>\n",
              "      <th>1</th>\n",
              "      <td>(0, 0, 0, 0, 1)</td>\n",
              "      <td>deedy</td>\n",
              "      <td>['feoff', 'ketol', 'kvell', 'metho', 'begot', ...</td>\n",
              "    </tr>\n",
              "    <tr>\n",
              "      <th>2</th>\n",
              "      <td>(0, 0, 0, 0, 2)</td>\n",
              "      <td>belle</td>\n",
              "      <td>['plume', 'jembe', 'emove', 'lemme', 'lefte', ...</td>\n",
              "    </tr>\n",
              "    <tr>\n",
              "      <th>3</th>\n",
              "      <td>(0, 0, 0, 1, 0)</td>\n",
              "      <td>ottos</td>\n",
              "      <td>['phuts', 'huffs', 'swoun', 'loons', 'fuffs', ...</td>\n",
              "    </tr>\n",
              "    <tr>\n",
              "      <th>4</th>\n",
              "      <td>(0, 0, 0, 1, 1)</td>\n",
              "      <td>esses</td>\n",
              "      <td>['fuels', 'fuses', 'bused', 'keefs', 'hosen', ...</td>\n",
              "    </tr>\n",
              "    <tr>\n",
              "      <th>...</th>\n",
              "      <td>...</td>\n",
              "      <td>...</td>\n",
              "      <td>...</td>\n",
              "    </tr>\n",
              "    <tr>\n",
              "      <th>238</th>\n",
              "      <td>(2, 2, 2, 1, 1)</td>\n",
              "      <td>NaN</td>\n",
              "      <td>[]</td>\n",
              "    </tr>\n",
              "    <tr>\n",
              "      <th>239</th>\n",
              "      <td>(2, 2, 2, 1, 2)</td>\n",
              "      <td>NaN</td>\n",
              "      <td>[]</td>\n",
              "    </tr>\n",
              "    <tr>\n",
              "      <th>240</th>\n",
              "      <td>(2, 2, 2, 2, 0)</td>\n",
              "      <td>NaN</td>\n",
              "      <td>[]</td>\n",
              "    </tr>\n",
              "    <tr>\n",
              "      <th>241</th>\n",
              "      <td>(2, 2, 2, 2, 1)</td>\n",
              "      <td>NaN</td>\n",
              "      <td>[]</td>\n",
              "    </tr>\n",
              "    <tr>\n",
              "      <th>242</th>\n",
              "      <td>(2, 2, 2, 2, 2)</td>\n",
              "      <td>raise</td>\n",
              "      <td>['raise']</td>\n",
              "    </tr>\n",
              "  </tbody>\n",
              "</table>\n",
              "<p>243 rows × 3 columns</p>\n",
              "</div>\n",
              "      <button class=\"colab-df-convert\" onclick=\"convertToInteractive('df-70364edf-7f1c-4393-aa53-36dcf145db08')\"\n",
              "              title=\"Convert this dataframe to an interactive table.\"\n",
              "              style=\"display:none;\">\n",
              "        \n",
              "  <svg xmlns=\"http://www.w3.org/2000/svg\" height=\"24px\"viewBox=\"0 0 24 24\"\n",
              "       width=\"24px\">\n",
              "    <path d=\"M0 0h24v24H0V0z\" fill=\"none\"/>\n",
              "    <path d=\"M18.56 5.44l.94 2.06.94-2.06 2.06-.94-2.06-.94-.94-2.06-.94 2.06-2.06.94zm-11 1L8.5 8.5l.94-2.06 2.06-.94-2.06-.94L8.5 2.5l-.94 2.06-2.06.94zm10 10l.94 2.06.94-2.06 2.06-.94-2.06-.94-.94-2.06-.94 2.06-2.06.94z\"/><path d=\"M17.41 7.96l-1.37-1.37c-.4-.4-.92-.59-1.43-.59-.52 0-1.04.2-1.43.59L10.3 9.45l-7.72 7.72c-.78.78-.78 2.05 0 2.83L4 21.41c.39.39.9.59 1.41.59.51 0 1.02-.2 1.41-.59l7.78-7.78 2.81-2.81c.8-.78.8-2.07 0-2.86zM5.41 20L4 18.59l7.72-7.72 1.47 1.35L5.41 20z\"/>\n",
              "  </svg>\n",
              "      </button>\n",
              "      \n",
              "  <style>\n",
              "    .colab-df-container {\n",
              "      display:flex;\n",
              "      flex-wrap:wrap;\n",
              "      gap: 12px;\n",
              "    }\n",
              "\n",
              "    .colab-df-convert {\n",
              "      background-color: #E8F0FE;\n",
              "      border: none;\n",
              "      border-radius: 50%;\n",
              "      cursor: pointer;\n",
              "      display: none;\n",
              "      fill: #1967D2;\n",
              "      height: 32px;\n",
              "      padding: 0 0 0 0;\n",
              "      width: 32px;\n",
              "    }\n",
              "\n",
              "    .colab-df-convert:hover {\n",
              "      background-color: #E2EBFA;\n",
              "      box-shadow: 0px 1px 2px rgba(60, 64, 67, 0.3), 0px 1px 3px 1px rgba(60, 64, 67, 0.15);\n",
              "      fill: #174EA6;\n",
              "    }\n",
              "\n",
              "    [theme=dark] .colab-df-convert {\n",
              "      background-color: #3B4455;\n",
              "      fill: #D2E3FC;\n",
              "    }\n",
              "\n",
              "    [theme=dark] .colab-df-convert:hover {\n",
              "      background-color: #434B5C;\n",
              "      box-shadow: 0px 1px 3px 1px rgba(0, 0, 0, 0.15);\n",
              "      filter: drop-shadow(0px 1px 2px rgba(0, 0, 0, 0.3));\n",
              "      fill: #FFFFFF;\n",
              "    }\n",
              "  </style>\n",
              "\n",
              "      <script>\n",
              "        const buttonEl =\n",
              "          document.querySelector('#df-70364edf-7f1c-4393-aa53-36dcf145db08 button.colab-df-convert');\n",
              "        buttonEl.style.display =\n",
              "          google.colab.kernel.accessAllowed ? 'block' : 'none';\n",
              "\n",
              "        async function convertToInteractive(key) {\n",
              "          const element = document.querySelector('#df-70364edf-7f1c-4393-aa53-36dcf145db08');\n",
              "          const dataTable =\n",
              "            await google.colab.kernel.invokeFunction('convertToInteractive',\n",
              "                                                     [key], {});\n",
              "          if (!dataTable) return;\n",
              "\n",
              "          const docLinkHtml = 'Like what you see? Visit the ' +\n",
              "            '<a target=\"_blank\" href=https://colab.research.google.com/notebooks/data_table.ipynb>data table notebook</a>'\n",
              "            + ' to learn more about interactive tables.';\n",
              "          element.innerHTML = '';\n",
              "          dataTable['output_type'] = 'display_data';\n",
              "          await google.colab.output.renderOutput(dataTable, element);\n",
              "          const docLink = document.createElement('div');\n",
              "          docLink.innerHTML = docLinkHtml;\n",
              "          element.appendChild(docLink);\n",
              "        }\n",
              "      </script>\n",
              "    </div>\n",
              "  </div>\n",
              "  "
            ]
          },
          "metadata": {},
          "execution_count": 444
        }
      ],
      "source": [
        "# Load guess information gain file\n",
        "guess2_gain_df = pd.read_csv('/content/drive/MyDrive/Wordle/Data/2nd_guess_raise_info_gain.csv', header=None)\n",
        "guess2_gain_df"
      ]
    },
    {
      "cell_type": "code",
      "execution_count": null,
      "metadata": {
        "colab": {
          "base_uri": "https://localhost:8080/"
        },
        "id": "_5Fz18djNil0",
        "outputId": "d2a9da66-37f9-45c7-b856-87952eb1032d"
      },
      "outputs": [
        {
          "output_type": "stream",
          "name": "stdout",
          "text": [
            "abies\n",
            "['amies', 'ajies', 'abies', 'seiza']\n"
          ]
        }
      ],
      "source": [
        "# Convert first two columns of guess2_gain dataframe into a dictionary, so it's easier to look up the top guess\n",
        "guess2_top_guess_dict = dict(zip(guess2_gain_df[0], guess2_gain_df[1]))\n",
        "\n",
        "# Convert first and third columns of guess2_gain dataframe into a dictionary, so it's easier to look up the possible lists\n",
        "guess2_possible_dict = dict(zip(guess2_gain_df[0], guess2_gain_df[2]))\n",
        "\n",
        "# Verify dict is correctly made by printing some random result\n",
        "print(guess2_top_guess_dict['(0, 1, 2, 1, 1)'])\n",
        "print(guess2_possible_dict['(0, 1, 2, 1, 1)'])"
      ]
    },
    {
      "cell_type": "markdown",
      "metadata": {
        "id": "FmWeieT_wtTS"
      },
      "source": [
        "## Codes to run simulation"
      ]
    },
    {
      "cell_type": "code",
      "execution_count": null,
      "metadata": {
        "id": "Bniy8qjmGkby"
      },
      "outputs": [],
      "source": [
        "def wordle_simulation(answer, max_try=6, scoring=['Total Score', 'IG Score'], printout=True, fast_mode=True):\n",
        "    attempt = 0\n",
        "    prev_possible = full_list\n",
        "    reset_alphabet()\n",
        "    victory = False\n",
        "    attempt_used = 0\n",
        "\n",
        "    if printout:\n",
        "        print('Top 10 recommended 1st guess:')\n",
        "        print(top10_guess1_df.to_string(index=False))\n",
        "    guess = top10_guess1_df.iloc[0, 0]\n",
        "\n",
        "    while attempt < max_try:\n",
        "        if printout:\n",
        "            print('Attempt ', attempt + 1, '/', max_try)\n",
        "\n",
        "        result = verify_input(answer, guess, output=True, printout=printout)\n",
        "        \n",
        "        if result == [2, 2, 2, 2, 2]:                           # Original solver put result in tuple, but simulation puts it into list\n",
        "            if printout:\n",
        "                print('You won!')\n",
        "            attempt_used = attempt + 1                          # Log down how many attempt was used to solve the game\n",
        "            victory = True                                      # Flag victory as True\n",
        "            attempt = max_try + 1\n",
        "            break\n",
        "\n",
        "        else:\n",
        "            # When using fast_mode, directly get result from saved CSV if first guess is 'raise'\n",
        "            # This greatly speeds up the simulation speed, at the cost of not displaying the \"Top 10 recommendation\" on guess 2\n",
        "            if attempt == 0 and guess == top10_guess1_df['Word'].values[0] and fast_mode == True:\n",
        "                new_guess = guess2_top_guess_dict[str(tuple(result))]\n",
        "                curr_possible = eval(guess2_possible_dict[str(tuple(result))])      # Use eval, because the result from the CSV is a list written in string form\n",
        "            \n",
        "            else:\n",
        "                curr_possible = get_possible_words(guess, result, prev_possible)\n",
        "                curr_gain = measure_guess_gain_list(curr_possible, curr_possible, scoring=scoring, printout=printout)\n",
        "                new_guess = curr_gain.iloc[0, 0]\n",
        "            \n",
        "                if printout:\n",
        "                    print('# of words remaining', len(curr_possible))\n",
        "                    print('Top 10 recommended guess:')\n",
        "                    print(curr_gain[0:10].to_string(index=False))\n",
        "                    print('-' * 30)\n",
        "\n",
        "            \n",
        "            # Prepare for next loop\n",
        "            guess = new_guess\n",
        "            prev_possible = curr_possible\n",
        "            attempt += 1\n",
        "            \n",
        "\n",
        "    if attempt >= max_try and printout:\n",
        "        print('Game Over')\n",
        "    \n",
        "    return victory, attempt_used"
      ]
    },
    {
      "cell_type": "markdown",
      "metadata": {
        "id": "dkaDLrQ8vFAJ"
      },
      "source": [
        "## Run Simulation"
      ]
    },
    {
      "cell_type": "code",
      "execution_count": null,
      "metadata": {
        "colab": {
          "base_uri": "https://localhost:8080/"
        },
        "id": "RKSgyIeQMZjL",
        "outputId": "4ba4feac-be90-431d-9c76-983b52a6cb5e"
      },
      "outputs": [
        {
          "output_type": "stream",
          "name": "stdout",
          "text": [
            "Top 10 recommended 1st guess:\n",
            " Word  IG Score  ML Score  Total Score\n",
            "raise    5.9197    0.8042       6.7240\n",
            "slate    5.8712    0.8042       6.6754\n",
            "earns    5.8847    0.7614       6.6461\n",
            "laser    5.8297    0.8042       6.6339\n",
            "stare    5.8360    0.7614       6.5974\n",
            "snare    5.8350    0.7614       6.5964\n",
            "siren    5.8339    0.7614       6.5953\n",
            "arise    5.7765    0.8042       6.5807\n",
            "solar    5.7419    0.8042       6.5462\n",
            "sarge    5.7646    0.7614       6.5260\n",
            "Attempt  1 / 6\n",
            "\u001b[1m\u001b[40m\u001b[37mr\u001b[0m\u001b[1m\u001b[43m\u001b[30ma\u001b[0m\u001b[1m\u001b[40m\u001b[37mi\u001b[0m\u001b[1m\u001b[40m\u001b[37ms\u001b[0m\u001b[1m\u001b[40m\u001b[37me\u001b[0m\n",
            "Available letters: \u001b[1m\u001b[43m\u001b[30ma\u001b[0m\u001b[1m\u001b[47m\u001b[30mb\u001b[0m\u001b[1m\u001b[47m\u001b[30mc\u001b[0m\u001b[1m\u001b[47m\u001b[30md\u001b[0m\u001b[1m\u001b[40m\u001b[37me\u001b[0m\u001b[1m\u001b[47m\u001b[30mf\u001b[0m\u001b[1m\u001b[47m\u001b[30mg\u001b[0m\u001b[1m\u001b[47m\u001b[30mh\u001b[0m\u001b[1m\u001b[40m\u001b[37mi\u001b[0m\u001b[1m\u001b[47m\u001b[30mj\u001b[0m\u001b[1m\u001b[47m\u001b[30mk\u001b[0m\u001b[1m\u001b[47m\u001b[30ml\u001b[0m\u001b[1m\u001b[47m\u001b[30mm\u001b[0m\u001b[1m\u001b[47m\u001b[30mn\u001b[0m\u001b[1m\u001b[47m\u001b[30mo\u001b[0m\u001b[1m\u001b[47m\u001b[30mp\u001b[0m\u001b[1m\u001b[47m\u001b[30mq\u001b[0m\u001b[1m\u001b[40m\u001b[37mr\u001b[0m\u001b[1m\u001b[40m\u001b[37ms\u001b[0m\u001b[1m\u001b[47m\u001b[30mt\u001b[0m\u001b[1m\u001b[47m\u001b[30mu\u001b[0m\u001b[1m\u001b[47m\u001b[30mv\u001b[0m\u001b[1m\u001b[47m\u001b[30mw\u001b[0m\u001b[1m\u001b[47m\u001b[30mx\u001b[0m\u001b[1m\u001b[47m\u001b[30my\u001b[0m\u001b[1m\u001b[47m\u001b[30mz\u001b[0m\n",
            "Attempt  2 / 6\n",
            "\u001b[1m\u001b[42m\u001b[37ma\u001b[0m\u001b[1m\u001b[40m\u001b[37mn\u001b[0m\u001b[1m\u001b[40m\u001b[37ma\u001b[0m\u001b[1m\u001b[42m\u001b[37mn\u001b[0m\u001b[1m\u001b[40m\u001b[37ma\u001b[0m\n",
            "Available letters: \u001b[1m\u001b[42m\u001b[37ma\u001b[0m\u001b[1m\u001b[47m\u001b[30mb\u001b[0m\u001b[1m\u001b[47m\u001b[30mc\u001b[0m\u001b[1m\u001b[47m\u001b[30md\u001b[0m\u001b[1m\u001b[40m\u001b[37me\u001b[0m\u001b[1m\u001b[47m\u001b[30mf\u001b[0m\u001b[1m\u001b[47m\u001b[30mg\u001b[0m\u001b[1m\u001b[47m\u001b[30mh\u001b[0m\u001b[1m\u001b[40m\u001b[37mi\u001b[0m\u001b[1m\u001b[47m\u001b[30mj\u001b[0m\u001b[1m\u001b[47m\u001b[30mk\u001b[0m\u001b[1m\u001b[47m\u001b[30ml\u001b[0m\u001b[1m\u001b[47m\u001b[30mm\u001b[0m\u001b[1m\u001b[42m\u001b[37mn\u001b[0m\u001b[1m\u001b[47m\u001b[30mo\u001b[0m\u001b[1m\u001b[47m\u001b[30mp\u001b[0m\u001b[1m\u001b[47m\u001b[30mq\u001b[0m\u001b[1m\u001b[40m\u001b[37mr\u001b[0m\u001b[1m\u001b[40m\u001b[37ms\u001b[0m\u001b[1m\u001b[47m\u001b[30mt\u001b[0m\u001b[1m\u001b[47m\u001b[30mu\u001b[0m\u001b[1m\u001b[47m\u001b[30mv\u001b[0m\u001b[1m\u001b[47m\u001b[30mw\u001b[0m\u001b[1m\u001b[47m\u001b[30mx\u001b[0m\u001b[1m\u001b[47m\u001b[30my\u001b[0m\u001b[1m\u001b[47m\u001b[30mz\u001b[0m\n"
          ]
        },
        {
          "output_type": "stream",
          "name": "stderr",
          "text": [
            "100%|██████████| 6/6 [00:00<00:00, 102.41it/s]"
          ]
        },
        {
          "output_type": "stream",
          "name": "stdout",
          "text": [
            "# of words remaining 6\n",
            "Top 10 recommended guess:\n",
            " Word  IG Score  ML Score  Total Score\n",
            "along    2.2516    0.8042       3.0559\n",
            "among    2.2516    0.8042       3.0559\n",
            "agony    2.2516    0.7614       3.0130\n",
            "ayont    2.2516    0.0161       2.2677\n",
            "atony    2.2516    0.0161       2.2677\n",
            "adunc    0.6500    0.0161       0.6661\n",
            "------------------------------\n",
            "Attempt  3 / 6\n",
            "\u001b[1m\u001b[42m\u001b[37ma\u001b[0m\u001b[1m\u001b[42m\u001b[37ml\u001b[0m\u001b[1m\u001b[42m\u001b[37mo\u001b[0m\u001b[1m\u001b[42m\u001b[37mn\u001b[0m\u001b[1m\u001b[42m\u001b[37mg\u001b[0m\n",
            "Available letters: \u001b[1m\u001b[42m\u001b[37ma\u001b[0m\u001b[1m\u001b[47m\u001b[30mb\u001b[0m\u001b[1m\u001b[47m\u001b[30mc\u001b[0m\u001b[1m\u001b[47m\u001b[30md\u001b[0m\u001b[1m\u001b[40m\u001b[37me\u001b[0m\u001b[1m\u001b[47m\u001b[30mf\u001b[0m\u001b[1m\u001b[42m\u001b[37mg\u001b[0m\u001b[1m\u001b[47m\u001b[30mh\u001b[0m\u001b[1m\u001b[40m\u001b[37mi\u001b[0m\u001b[1m\u001b[47m\u001b[30mj\u001b[0m\u001b[1m\u001b[47m\u001b[30mk\u001b[0m\u001b[1m\u001b[42m\u001b[37ml\u001b[0m\u001b[1m\u001b[47m\u001b[30mm\u001b[0m\u001b[1m\u001b[42m\u001b[37mn\u001b[0m\u001b[1m\u001b[42m\u001b[37mo\u001b[0m\u001b[1m\u001b[47m\u001b[30mp\u001b[0m\u001b[1m\u001b[47m\u001b[30mq\u001b[0m\u001b[1m\u001b[40m\u001b[37mr\u001b[0m\u001b[1m\u001b[40m\u001b[37ms\u001b[0m\u001b[1m\u001b[47m\u001b[30mt\u001b[0m\u001b[1m\u001b[47m\u001b[30mu\u001b[0m\u001b[1m\u001b[47m\u001b[30mv\u001b[0m\u001b[1m\u001b[47m\u001b[30mw\u001b[0m\u001b[1m\u001b[47m\u001b[30mx\u001b[0m\u001b[1m\u001b[47m\u001b[30my\u001b[0m\u001b[1m\u001b[47m\u001b[30mz\u001b[0m\n",
            "You won!\n",
            "Game Over\n"
          ]
        },
        {
          "output_type": "stream",
          "name": "stderr",
          "text": [
            "\n"
          ]
        },
        {
          "output_type": "execute_result",
          "data": {
            "text/plain": [
              "(True, 3)"
            ]
          },
          "metadata": {},
          "execution_count": 461
        }
      ],
      "source": [
        "# Run one simulation\n",
        "# answer = 'amaze'                          # Simulate a specific answer\n",
        "# answer = random.choice(real_list)         # Random word each simulation\n",
        "\n",
        "answer = 'along'\n",
        "wordle_simulation(answer, fast_mode=True)"
      ]
    },
    {
      "cell_type": "markdown",
      "metadata": {
        "id": "RdXLH53pvHwp"
      },
      "source": [
        "### Simulate on all Wordle answers"
      ]
    },
    {
      "cell_type": "code",
      "execution_count": null,
      "metadata": {
        "colab": {
          "base_uri": "https://localhost:8080/"
        },
        "id": "PvfjWeVivDBA",
        "outputId": "83c64fb8-74e4-4322-c705-42d62b842392"
      },
      "outputs": [
        {
          "output_type": "stream",
          "name": "stderr",
          "text": [
            "100%|██████████| 2315/2315 [13:08<00:00,  2.94it/s]\n"
          ]
        }
      ],
      "source": [
        "# Run bigger simulation using IG + ML Score\n",
        "sim1_victory_list = []\n",
        "sim1_attempt_used_list = []\n",
        "sim1_lost_list = []\n",
        "\n",
        "for answer in tqdm(real_list):\n",
        "    victory, attempt_used = wordle_simulation(answer, scoring='Total Score', printout=False)\n",
        "    sim1_victory_list.append(victory)\n",
        "    sim1_attempt_used_list.append(attempt_used)\n",
        "\n",
        "    # Note down the words that the solver failed on\n",
        "    if attempt_used == 0:\n",
        "        sim1_lost_list.append(answer)"
      ]
    },
    {
      "cell_type": "code",
      "execution_count": null,
      "metadata": {
        "colab": {
          "base_uri": "https://localhost:8080/",
          "height": 560
        },
        "id": "9_0hxrjSvEKZ",
        "outputId": "bd0aeea3-22c6-43b5-8094-7944ec49ed06"
      },
      "outputs": [
        {
          "output_type": "stream",
          "name": "stdout",
          "text": [
            "Simulation using IG + ML Score\n",
            "Win Rate: 96.5443 %\n",
            "Attempt Used Average: 4.1123\n",
            "\n",
            "Attempt Used\n",
            "0                80\n",
            "1                 1\n",
            "2                77\n",
            "3               524\n",
            "4               891\n",
            "5               552\n",
            "6               190\n",
            "dtype: int64\n",
            "\n"
          ]
        },
        {
          "output_type": "execute_result",
          "data": {
            "text/plain": [
              "(array([ 80.,   1.,  77., 524., 891., 552., 190.]),\n",
              " array([-0.5,  0.5,  1.5,  2.5,  3.5,  4.5,  5.5,  6.5]),\n",
              " <a list of 7 Patch objects>)"
            ]
          },
          "metadata": {},
          "execution_count": 463
        },
        {
          "output_type": "display_data",
          "data": {
            "text/plain": [
              "<Figure size 432x288 with 1 Axes>"
            ],
            "image/png": "[encoded data removed]"
          },
          "metadata": {
            "needs_background": "light"
          }
        }
      ],
      "source": [
        "# View simulation result\n",
        "simulation_df = pd.DataFrame({'Victory': sim1_victory_list,\n",
        "                              'Attempt Used': sim1_attempt_used_list})\n",
        "\n",
        "simulation_df.head()\n",
        "\n",
        "print('Simulation using IG + ML Score')\n",
        "print('Win Rate:', round(sum(simulation_df['Victory']) / simulation_df.shape[0] * 100, 4), '%')\n",
        "print('Attempt Used Average:', round(sum(simulation_df['Attempt Used']) / sum(simulation_df['Victory']), 4))\n",
        "print()\n",
        "\n",
        "# Print count of how many attempts were used to solve the game; 0 means it failed (didn't find the answer within 6 attempts)\n",
        "attempt_count = simulation_df.value_counts(subset=['Attempt Used'], sort=False)\n",
        "print(attempt_count)\n",
        "print()\n",
        "\n",
        "# Plot histogram showing the counts\n",
        "pyplot.hist(simulation_df['Attempt Used'], bins=np.arange(-0.5, 7, 1))"
      ]
    },
    {
      "cell_type": "code",
      "execution_count": null,
      "metadata": {
        "colab": {
          "base_uri": "https://localhost:8080/"
        },
        "id": "iErMJg6rsVvN",
        "outputId": "286bd91b-754d-46be-c03b-f3d696bca4e1"
      },
      "outputs": [
        {
          "output_type": "stream",
          "name": "stdout",
          "text": [
            "['baste', 'staid', 'batch', 'mucky', 'bough', 'waver', 'catty', 'ditty', 'pinch', 'jolly', 'shave', 'merry', 'marry', 'gusty', 'ferry', 'catch', 'vapor', 'woozy', 'guppy', 'puppy', 'trope', 'frock', 'fizzy', 'embed', 'gummy', 'tatty', 'daunt', 'papal', 'booby', 'goner', 'spear', 'drawl', 'taffy', 'tripe', 'boxer', 'vaunt', 'wight', 'golly', 'wound', 'saner', 'foist', 'parry', 'frown', 'bobby', 'creak', 'hunch', 'cower', 'eking', 'sappy', 'plunk', 'hitch', 'joker', 'mound']\n"
          ]
        }
      ],
      "source": [
        "print(sim1_lost_list)"
      ]
    },
    {
      "cell_type": "markdown",
      "source": [
        "After running simulations, we see on average the Wordle Solver can guess the right answer using a little over 4, this is good.\n",
        "\n",
        "However it failes to solve the game sometimes. This is troubling."
      ],
      "metadata": {
        "id": "JqnRL_0ZOEcd"
      }
    },
    {
      "cell_type": "markdown",
      "metadata": {
        "id": "vPnOwq7rvYDP"
      },
      "source": [
        "# To Do\n",
        "\n",
        "- Solver: if there's one result, tell user it's the only answer\n",
        "- Solver: if there is 0 result (meaning there is a mistake), go back to last step\n",
        "- Try to implement code that prevents guess from being cornered\n",
        "- Try finding more features to improve Machine Learning score (for example, vulgar swear words are probably not answers, or brand names with almost no meaning)\n",
        "- Try different scoring methods, such as ML score * IG score instead of adding\n"
      ]
    }
  ],
  "metadata": {
    "colab": {
      "collapsed_sections": [],
      "name": "Wordle Solver",
      "provenance": [],
      "toc_visible": true
    },
    "kernelspec": {
      "display_name": "Python 3",
      "name": "python3"
    },
    "language_info": {
      "name": "python"
    }
  },
  "nbformat": 4,
  "nbformat_minor": 0
}