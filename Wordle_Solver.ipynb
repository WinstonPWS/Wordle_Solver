{
  "cells": [
    {
      "cell_type": "markdown",
      "metadata": {
        "id": "9dJCSR72lCxe"
      },
      "source": [
        "# Part 1 - Wordle Game"
      ]
    },
    {
      "cell_type": "code",
      "execution_count": 2,
      "metadata": {
        "id": "4bUdFeJDysdB"
      },
      "outputs": [],
      "source": [
        "import pandas as pd\n",
        "import numpy as np\n",
        "import random\n",
        "from termcolor import colored"
      ]
    },
    {
      "cell_type": "markdown",
      "metadata": {
        "id": "l92D6Dqhq58a"
      },
      "source": [
        "## Codes to setup the game"
      ]
    },
    {
      "cell_type": "code",
      "execution_count": 3,
      "metadata": {
        "colab": {
          "base_uri": "https://localhost:8080/"
        },
        "id": "B7c0D_sbdhPf",
        "outputId": "5d420bb1-61dd-4428-8359-fb163836a053"
      },
      "outputs": [
        {
          "output_type": "stream",
          "name": "stdout",
          "text": [
            "Mounted at /content/drive\n"
          ]
        }
      ],
      "source": [
        "# Mount Google Drive to access files\n",
        "from google.colab import drive\n",
        "drive.mount('/content/drive')"
      ]
    },
    {
      "cell_type": "code",
      "execution_count": 4,
      "metadata": {
        "id": "1UGJsmN1dnbf"
      },
      "outputs": [],
      "source": [
        "# Load files into dataframe\n",
        "full_df = pd.read_csv('/content/drive/MyDrive/Wordle/Data/combined_wordlist.txt', sep=\" \", header=None)\n",
        "allowed_df = pd.read_csv('/content/drive/MyDrive/Wordle/Data/official_allowed_guesses.txt', sep=\" \", header=None)\n",
        "real_df = pd.read_csv('/content/drive/MyDrive/Wordle/Data/shuffled_real_wordles.txt', sep=\" \", header=None)"
      ]
    },
    {
      "cell_type": "code",
      "execution_count": 5,
      "metadata": {
        "id": "ahcpdGj40sV1"
      },
      "outputs": [],
      "source": [
        "# Convert dataframes into list\n",
        "full_list = full_df[0].values.tolist()\n",
        "allowed_list = allowed_df[0].values.tolist()\n",
        "real_list = real_df[0].values.tolist()\n",
        "\n",
        "# Global variables\n",
        "# Use global because it's easier to update them rather than passing outputs around\n",
        "global alphabet\n",
        "global guess\n",
        "global result\n",
        "\n",
        "# Use escape word to quit game before attempts are used up\n",
        "escape_word = 'gameover'\n",
        "\n",
        "# Set random state\n",
        "global_random_state = 1"
      ]
    },
    {
      "cell_type": "code",
      "execution_count": 6,
      "metadata": {
        "id": "QJgP0E41JLxS"
      },
      "outputs": [],
      "source": [
        "# Set alphabet, which is displayed for available choices\n",
        "def reset_alphabet():\n",
        "    global alphabet\n",
        "    alphabet = {'a': 'white', 'b': 'white', 'c': 'white', 'd': 'white', 'e': 'white', 'f': 'white', 'g': 'white',\n",
        "                'h': 'white', 'i': 'white', 'j': 'white', 'k': 'white', 'l': 'white', 'm': 'white', 'n': 'white',\n",
        "                'o': 'white', 'p': 'white', 'q': 'white', 'r': 'white', 's': 'white', 't': 'white',\n",
        "                'u': 'white', 'v': 'white', 'w': 'white', 'x': 'white', 'y': 'white', 'z': 'white'}\n",
        "\n",
        "\n",
        "# Ask for input\n",
        "def ask_input():\n",
        "    global guess\n",
        "    \n",
        "    while True:\n",
        "        guess = input('Enter a 5 letters word: ').lower()\n",
        "\n",
        "        # Secret escape word can be accepted\n",
        "        if guess == escape_word:\n",
        "            break\n",
        "        # Only accept word within full_list\n",
        "        elif guess not in full_list:\n",
        "            print('Invalid input. ', end='')\n",
        "        else:\n",
        "            break\n",
        "\n",
        "\n",
        "# Verify input and display result\n",
        "def verify_input(answer, guess, output=False, printout=True):\n",
        "    result = ['grey'] * 5                       # Initialize result\n",
        "\n",
        "    answer_list = []                            # Initialize answer, to help deal with duplicate letters\n",
        "    for n in answer:\n",
        "        answer_list.append(n)\n",
        "\n",
        "    for i in range(5):                          # First loop for green\n",
        "        cur = guess[i]\n",
        "        if cur == answer[i]:                    # If letter is a match\n",
        "            result[i] = 'green'                 # Display this letter in result as green\n",
        "            alphabet[cur] = 'green'             # Display this letter in alphabet as green\n",
        "            answer_list.remove(cur)             # Remove this letter in answer_list, to remove duplicate for yellow check\n",
        "\n",
        "    for i in range(5):                          # Second loop for yellow and grey\n",
        "        cur = guess[i]\n",
        "        if cur in (answer_list):                # If match with answer_list, which has matched letter removed\n",
        "            if result[i] != 'green':            # Only update result to yellow, if it's not already green\n",
        "                result[i] = 'yellow'\n",
        "                answer_list.remove(cur)         # Similar to above, remove this letter in answer_list\n",
        "            if alphabet[cur] != 'green':        # Only update alphabet to yellow, if it's not already green\n",
        "                alphabet[cur] = 'yellow'\n",
        "        if cur not in answer:                   # If no match with original answer\n",
        "            alphabet[cur] = 'grey'              # Display this letter in alphabet as grey\n",
        "\n",
        "    # Show guess result in color\n",
        "    if printout:                                # Printout will be false during simulation\n",
        "        for i in range(5):\n",
        "            if result[i] in ('green', 'grey'):\n",
        "                print(colored(guess[i], 'white', 'on_'+result[i], attrs=['bold']), end='')\n",
        "            else:\n",
        "                print(colored(guess[i], 'grey', 'on_'+result[i], attrs=['bold']), end='')\n",
        "        print()\n",
        "\n",
        "    # Show available letters of alphabet in color\n",
        "    if printout:                                # Printout will be false during simulation\n",
        "        print('Available letters: ', end='')\n",
        "        for k, v in alphabet.items():\n",
        "            if v in ('green', 'grey'):\n",
        "                print(colored(k, 'white', 'on_'+v, attrs=['bold']), end='')\n",
        "            else:\n",
        "                print(colored(k, 'grey', 'on_'+v, attrs=['bold']), end='')\n",
        "        print()\n",
        "\n",
        "    # Return output in numeric format, which is used in solver\n",
        "    if output:\n",
        "        for i, n in enumerate(result):\n",
        "            if n == 'grey':\n",
        "                result[i] = 0\n",
        "            elif n == 'yellow':\n",
        "                result[i] = 1\n",
        "            elif n == 'green': \n",
        "                result[i] = 2\n",
        "        return result\n",
        "\n",
        "\n",
        "# Play game with limited attempts\n",
        "def wordle_game(max_try=6):\n",
        "    answer = random.choice(real_list)           # Random word each game\n",
        "    reset_alphabet()\n",
        "    attempt = 0\n",
        "\n",
        "    while attempt < max_try:\n",
        "        print('Attempt ', attempt + 1, '/', max_try)\n",
        "        ask_input()\n",
        "\n",
        "        if guess == escape_word:                # If guess is secret escape word, end game with loss\n",
        "            attempt = max_try\n",
        "        else:\n",
        "            verify_input(answer, guess)\n",
        "\n",
        "            if guess != answer:\n",
        "                attempt += 1\n",
        "            else:\n",
        "                print('You win!')\n",
        "                attempt = max_try + 1\n",
        "                break\n",
        "\n",
        "    if attempt == max_try:\n",
        "        print('You lost, the answer is \\'', answer, '\\'.')\n"
      ]
    },
    {
      "cell_type": "markdown",
      "metadata": {
        "id": "DAzdQG8mlTWV"
      },
      "source": [
        "## Play a game"
      ]
    },
    {
      "cell_type": "code",
      "execution_count": null,
      "metadata": {
        "colab": {
          "base_uri": "https://localhost:8080/"
        },
        "id": "k-6gPaQaePBp",
        "outputId": "06904b3a-adb6-4319-fdfa-bf1fdc7c9176"
      },
      "outputs": [
        {
          "name": "stdout",
          "output_type": "stream",
          "text": [
            "Attempt  1 / 6\n",
            "Enter a 5 letters word: tares\n",
            "\u001b[1m\u001b[40m\u001b[37mt\u001b[0m\u001b[1m\u001b[43m\u001b[30ma\u001b[0m\u001b[1m\u001b[43m\u001b[30mr\u001b[0m\u001b[1m\u001b[40m\u001b[37me\u001b[0m\u001b[1m\u001b[43m\u001b[30ms\u001b[0m\n",
            "Available letters: \u001b[1m\u001b[43m\u001b[30ma\u001b[0m\u001b[1m\u001b[47m\u001b[30mb\u001b[0m\u001b[1m\u001b[47m\u001b[30mc\u001b[0m\u001b[1m\u001b[47m\u001b[30md\u001b[0m\u001b[1m\u001b[40m\u001b[37me\u001b[0m\u001b[1m\u001b[47m\u001b[30mf\u001b[0m\u001b[1m\u001b[47m\u001b[30mg\u001b[0m\u001b[1m\u001b[47m\u001b[30mh\u001b[0m\u001b[1m\u001b[47m\u001b[30mi\u001b[0m\u001b[1m\u001b[47m\u001b[30mj\u001b[0m\u001b[1m\u001b[47m\u001b[30mk\u001b[0m\u001b[1m\u001b[47m\u001b[30ml\u001b[0m\u001b[1m\u001b[47m\u001b[30mm\u001b[0m\u001b[1m\u001b[47m\u001b[30mn\u001b[0m\u001b[1m\u001b[47m\u001b[30mo\u001b[0m\u001b[1m\u001b[47m\u001b[30mp\u001b[0m\u001b[1m\u001b[47m\u001b[30mq\u001b[0m\u001b[1m\u001b[43m\u001b[30mr\u001b[0m\u001b[1m\u001b[43m\u001b[30ms\u001b[0m\u001b[1m\u001b[40m\u001b[37mt\u001b[0m\u001b[1m\u001b[47m\u001b[30mu\u001b[0m\u001b[1m\u001b[47m\u001b[30mv\u001b[0m\u001b[1m\u001b[47m\u001b[30mw\u001b[0m\u001b[1m\u001b[47m\u001b[30mx\u001b[0m\u001b[1m\u001b[47m\u001b[30my\u001b[0m\u001b[1m\u001b[47m\u001b[30mz\u001b[0m\n",
            "Attempt  2 / 6\n",
            "Enter a 5 letters word: shaky\n",
            "\u001b[1m\u001b[42m\u001b[37ms\u001b[0m\u001b[1m\u001b[40m\u001b[37mh\u001b[0m\u001b[1m\u001b[43m\u001b[30ma\u001b[0m\u001b[1m\u001b[40m\u001b[37mk\u001b[0m\u001b[1m\u001b[40m\u001b[37my\u001b[0m\n",
            "Available letters: \u001b[1m\u001b[43m\u001b[30ma\u001b[0m\u001b[1m\u001b[47m\u001b[30mb\u001b[0m\u001b[1m\u001b[47m\u001b[30mc\u001b[0m\u001b[1m\u001b[47m\u001b[30md\u001b[0m\u001b[1m\u001b[40m\u001b[37me\u001b[0m\u001b[1m\u001b[47m\u001b[30mf\u001b[0m\u001b[1m\u001b[47m\u001b[30mg\u001b[0m\u001b[1m\u001b[40m\u001b[37mh\u001b[0m\u001b[1m\u001b[47m\u001b[30mi\u001b[0m\u001b[1m\u001b[47m\u001b[30mj\u001b[0m\u001b[1m\u001b[40m\u001b[37mk\u001b[0m\u001b[1m\u001b[47m\u001b[30ml\u001b[0m\u001b[1m\u001b[47m\u001b[30mm\u001b[0m\u001b[1m\u001b[47m\u001b[30mn\u001b[0m\u001b[1m\u001b[47m\u001b[30mo\u001b[0m\u001b[1m\u001b[47m\u001b[30mp\u001b[0m\u001b[1m\u001b[47m\u001b[30mq\u001b[0m\u001b[1m\u001b[43m\u001b[30mr\u001b[0m\u001b[1m\u001b[42m\u001b[37ms\u001b[0m\u001b[1m\u001b[40m\u001b[37mt\u001b[0m\u001b[1m\u001b[47m\u001b[30mu\u001b[0m\u001b[1m\u001b[47m\u001b[30mv\u001b[0m\u001b[1m\u001b[47m\u001b[30mw\u001b[0m\u001b[1m\u001b[47m\u001b[30mx\u001b[0m\u001b[1m\u001b[40m\u001b[37my\u001b[0m\u001b[1m\u001b[47m\u001b[30mz\u001b[0m\n",
            "Attempt  3 / 6\n",
            "Enter a 5 letters word: soars\n",
            "\u001b[1m\u001b[42m\u001b[37ms\u001b[0m\u001b[1m\u001b[42m\u001b[37mo\u001b[0m\u001b[1m\u001b[43m\u001b[30ma\u001b[0m\u001b[1m\u001b[43m\u001b[30mr\u001b[0m\u001b[1m\u001b[40m\u001b[37ms\u001b[0m\n",
            "Available letters: \u001b[1m\u001b[43m\u001b[30ma\u001b[0m\u001b[1m\u001b[47m\u001b[30mb\u001b[0m\u001b[1m\u001b[47m\u001b[30mc\u001b[0m\u001b[1m\u001b[47m\u001b[30md\u001b[0m\u001b[1m\u001b[40m\u001b[37me\u001b[0m\u001b[1m\u001b[47m\u001b[30mf\u001b[0m\u001b[1m\u001b[47m\u001b[30mg\u001b[0m\u001b[1m\u001b[40m\u001b[37mh\u001b[0m\u001b[1m\u001b[47m\u001b[30mi\u001b[0m\u001b[1m\u001b[47m\u001b[30mj\u001b[0m\u001b[1m\u001b[40m\u001b[37mk\u001b[0m\u001b[1m\u001b[47m\u001b[30ml\u001b[0m\u001b[1m\u001b[47m\u001b[30mm\u001b[0m\u001b[1m\u001b[47m\u001b[30mn\u001b[0m\u001b[1m\u001b[42m\u001b[37mo\u001b[0m\u001b[1m\u001b[47m\u001b[30mp\u001b[0m\u001b[1m\u001b[47m\u001b[30mq\u001b[0m\u001b[1m\u001b[43m\u001b[30mr\u001b[0m\u001b[1m\u001b[42m\u001b[37ms\u001b[0m\u001b[1m\u001b[40m\u001b[37mt\u001b[0m\u001b[1m\u001b[47m\u001b[30mu\u001b[0m\u001b[1m\u001b[47m\u001b[30mv\u001b[0m\u001b[1m\u001b[47m\u001b[30mw\u001b[0m\u001b[1m\u001b[47m\u001b[30mx\u001b[0m\u001b[1m\u001b[40m\u001b[37my\u001b[0m\u001b[1m\u001b[47m\u001b[30mz\u001b[0m\n",
            "Attempt  4 / 6\n",
            "Enter a 5 letters word: solar\n",
            "\u001b[1m\u001b[42m\u001b[37ms\u001b[0m\u001b[1m\u001b[42m\u001b[37mo\u001b[0m\u001b[1m\u001b[40m\u001b[37ml\u001b[0m\u001b[1m\u001b[42m\u001b[37ma\u001b[0m\u001b[1m\u001b[42m\u001b[37mr\u001b[0m\n",
            "Available letters: \u001b[1m\u001b[42m\u001b[37ma\u001b[0m\u001b[1m\u001b[47m\u001b[30mb\u001b[0m\u001b[1m\u001b[47m\u001b[30mc\u001b[0m\u001b[1m\u001b[47m\u001b[30md\u001b[0m\u001b[1m\u001b[40m\u001b[37me\u001b[0m\u001b[1m\u001b[47m\u001b[30mf\u001b[0m\u001b[1m\u001b[47m\u001b[30mg\u001b[0m\u001b[1m\u001b[40m\u001b[37mh\u001b[0m\u001b[1m\u001b[47m\u001b[30mi\u001b[0m\u001b[1m\u001b[47m\u001b[30mj\u001b[0m\u001b[1m\u001b[40m\u001b[37mk\u001b[0m\u001b[1m\u001b[40m\u001b[37ml\u001b[0m\u001b[1m\u001b[47m\u001b[30mm\u001b[0m\u001b[1m\u001b[47m\u001b[30mn\u001b[0m\u001b[1m\u001b[42m\u001b[37mo\u001b[0m\u001b[1m\u001b[47m\u001b[30mp\u001b[0m\u001b[1m\u001b[47m\u001b[30mq\u001b[0m\u001b[1m\u001b[42m\u001b[37mr\u001b[0m\u001b[1m\u001b[42m\u001b[37ms\u001b[0m\u001b[1m\u001b[40m\u001b[37mt\u001b[0m\u001b[1m\u001b[47m\u001b[30mu\u001b[0m\u001b[1m\u001b[47m\u001b[30mv\u001b[0m\u001b[1m\u001b[47m\u001b[30mw\u001b[0m\u001b[1m\u001b[47m\u001b[30mx\u001b[0m\u001b[1m\u001b[40m\u001b[37my\u001b[0m\u001b[1m\u001b[47m\u001b[30mz\u001b[0m\n",
            "Attempt  5 / 6\n",
            "Enter a 5 letters word: sonar\n",
            "\u001b[1m\u001b[42m\u001b[37ms\u001b[0m\u001b[1m\u001b[42m\u001b[37mo\u001b[0m\u001b[1m\u001b[42m\u001b[37mn\u001b[0m\u001b[1m\u001b[42m\u001b[37ma\u001b[0m\u001b[1m\u001b[42m\u001b[37mr\u001b[0m\n",
            "Available letters: \u001b[1m\u001b[42m\u001b[37ma\u001b[0m\u001b[1m\u001b[47m\u001b[30mb\u001b[0m\u001b[1m\u001b[47m\u001b[30mc\u001b[0m\u001b[1m\u001b[47m\u001b[30md\u001b[0m\u001b[1m\u001b[40m\u001b[37me\u001b[0m\u001b[1m\u001b[47m\u001b[30mf\u001b[0m\u001b[1m\u001b[47m\u001b[30mg\u001b[0m\u001b[1m\u001b[40m\u001b[37mh\u001b[0m\u001b[1m\u001b[47m\u001b[30mi\u001b[0m\u001b[1m\u001b[47m\u001b[30mj\u001b[0m\u001b[1m\u001b[40m\u001b[37mk\u001b[0m\u001b[1m\u001b[40m\u001b[37ml\u001b[0m\u001b[1m\u001b[47m\u001b[30mm\u001b[0m\u001b[1m\u001b[42m\u001b[37mn\u001b[0m\u001b[1m\u001b[42m\u001b[37mo\u001b[0m\u001b[1m\u001b[47m\u001b[30mp\u001b[0m\u001b[1m\u001b[47m\u001b[30mq\u001b[0m\u001b[1m\u001b[42m\u001b[37mr\u001b[0m\u001b[1m\u001b[42m\u001b[37ms\u001b[0m\u001b[1m\u001b[40m\u001b[37mt\u001b[0m\u001b[1m\u001b[47m\u001b[30mu\u001b[0m\u001b[1m\u001b[47m\u001b[30mv\u001b[0m\u001b[1m\u001b[47m\u001b[30mw\u001b[0m\u001b[1m\u001b[47m\u001b[30mx\u001b[0m\u001b[1m\u001b[40m\u001b[37my\u001b[0m\u001b[1m\u001b[47m\u001b[30mz\u001b[0m\n",
            "You win!\n"
          ]
        }
      ],
      "source": [
        "# Play game\n",
        "wordle_game()"
      ]
    },
    {
      "cell_type": "markdown",
      "metadata": {
        "id": "xHDBEOwdlrx7"
      },
      "source": [
        "# Part 2 - Wordle Solver using Information Gain\n",
        "Provide suggestions solely on maximizing information gain"
      ]
    },
    {
      "cell_type": "code",
      "execution_count": 7,
      "metadata": {
        "id": "ft4xa1T8yY5B"
      },
      "outputs": [],
      "source": [
        "import itertools\n",
        "import math\n",
        "import csv\n",
        "from tqdm import tqdm"
      ]
    },
    {
      "cell_type": "markdown",
      "metadata": {
        "id": "BPjvg_HHjRDV"
      },
      "source": [
        "## Codes to get information gain"
      ]
    },
    {
      "cell_type": "code",
      "execution_count": 8,
      "metadata": {
        "colab": {
          "base_uri": "https://localhost:8080/"
        },
        "id": "MDIFaNRbsXuL",
        "outputId": "6ae9cf21-5a50-4bff-9838-aba810983948"
      },
      "outputs": [
        {
          "output_type": "stream",
          "name": "stdout",
          "text": [
            "243\n",
            "[(0, 0, 0, 0, 0), (0, 0, 0, 0, 1), (0, 0, 0, 0, 2), (0, 0, 0, 1, 0), (0, 0, 0, 1, 1), (0, 0, 0, 1, 2), (0, 0, 0, 2, 0), (0, 0, 0, 2, 1), (0, 0, 0, 2, 2), (0, 0, 1, 0, 0), (0, 0, 1, 0, 1), (0, 0, 1, 0, 2), (0, 0, 1, 1, 0), (0, 0, 1, 1, 1), (0, 0, 1, 1, 2), (0, 0, 1, 2, 0), (0, 0, 1, 2, 1), (0, 0, 1, 2, 2), (0, 0, 2, 0, 0), (0, 0, 2, 0, 1), (0, 0, 2, 0, 2), (0, 0, 2, 1, 0), (0, 0, 2, 1, 1), (0, 0, 2, 1, 2), (0, 0, 2, 2, 0), (0, 0, 2, 2, 1), (0, 0, 2, 2, 2), (0, 1, 0, 0, 0), (0, 1, 0, 0, 1), (0, 1, 0, 0, 2), (0, 1, 0, 1, 0), (0, 1, 0, 1, 1), (0, 1, 0, 1, 2), (0, 1, 0, 2, 0), (0, 1, 0, 2, 1), (0, 1, 0, 2, 2), (0, 1, 1, 0, 0), (0, 1, 1, 0, 1), (0, 1, 1, 0, 2), (0, 1, 1, 1, 0), (0, 1, 1, 1, 1), (0, 1, 1, 1, 2), (0, 1, 1, 2, 0), (0, 1, 1, 2, 1), (0, 1, 1, 2, 2), (0, 1, 2, 0, 0), (0, 1, 2, 0, 1), (0, 1, 2, 0, 2), (0, 1, 2, 1, 0), (0, 1, 2, 1, 1), (0, 1, 2, 1, 2), (0, 1, 2, 2, 0), (0, 1, 2, 2, 1), (0, 1, 2, 2, 2), (0, 2, 0, 0, 0), (0, 2, 0, 0, 1), (0, 2, 0, 0, 2), (0, 2, 0, 1, 0), (0, 2, 0, 1, 1), (0, 2, 0, 1, 2), (0, 2, 0, 2, 0), (0, 2, 0, 2, 1), (0, 2, 0, 2, 2), (0, 2, 1, 0, 0), (0, 2, 1, 0, 1), (0, 2, 1, 0, 2), (0, 2, 1, 1, 0), (0, 2, 1, 1, 1), (0, 2, 1, 1, 2), (0, 2, 1, 2, 0), (0, 2, 1, 2, 1), (0, 2, 1, 2, 2), (0, 2, 2, 0, 0), (0, 2, 2, 0, 1), (0, 2, 2, 0, 2), (0, 2, 2, 1, 0), (0, 2, 2, 1, 1), (0, 2, 2, 1, 2), (0, 2, 2, 2, 0), (0, 2, 2, 2, 1), (0, 2, 2, 2, 2), (1, 0, 0, 0, 0), (1, 0, 0, 0, 1), (1, 0, 0, 0, 2), (1, 0, 0, 1, 0), (1, 0, 0, 1, 1), (1, 0, 0, 1, 2), (1, 0, 0, 2, 0), (1, 0, 0, 2, 1), (1, 0, 0, 2, 2), (1, 0, 1, 0, 0), (1, 0, 1, 0, 1), (1, 0, 1, 0, 2), (1, 0, 1, 1, 0), (1, 0, 1, 1, 1), (1, 0, 1, 1, 2), (1, 0, 1, 2, 0), (1, 0, 1, 2, 1), (1, 0, 1, 2, 2), (1, 0, 2, 0, 0), (1, 0, 2, 0, 1), (1, 0, 2, 0, 2), (1, 0, 2, 1, 0), (1, 0, 2, 1, 1), (1, 0, 2, 1, 2), (1, 0, 2, 2, 0), (1, 0, 2, 2, 1), (1, 0, 2, 2, 2), (1, 1, 0, 0, 0), (1, 1, 0, 0, 1), (1, 1, 0, 0, 2), (1, 1, 0, 1, 0), (1, 1, 0, 1, 1), (1, 1, 0, 1, 2), (1, 1, 0, 2, 0), (1, 1, 0, 2, 1), (1, 1, 0, 2, 2), (1, 1, 1, 0, 0), (1, 1, 1, 0, 1), (1, 1, 1, 0, 2), (1, 1, 1, 1, 0), (1, 1, 1, 1, 1), (1, 1, 1, 1, 2), (1, 1, 1, 2, 0), (1, 1, 1, 2, 1), (1, 1, 1, 2, 2), (1, 1, 2, 0, 0), (1, 1, 2, 0, 1), (1, 1, 2, 0, 2), (1, 1, 2, 1, 0), (1, 1, 2, 1, 1), (1, 1, 2, 1, 2), (1, 1, 2, 2, 0), (1, 1, 2, 2, 1), (1, 1, 2, 2, 2), (1, 2, 0, 0, 0), (1, 2, 0, 0, 1), (1, 2, 0, 0, 2), (1, 2, 0, 1, 0), (1, 2, 0, 1, 1), (1, 2, 0, 1, 2), (1, 2, 0, 2, 0), (1, 2, 0, 2, 1), (1, 2, 0, 2, 2), (1, 2, 1, 0, 0), (1, 2, 1, 0, 1), (1, 2, 1, 0, 2), (1, 2, 1, 1, 0), (1, 2, 1, 1, 1), (1, 2, 1, 1, 2), (1, 2, 1, 2, 0), (1, 2, 1, 2, 1), (1, 2, 1, 2, 2), (1, 2, 2, 0, 0), (1, 2, 2, 0, 1), (1, 2, 2, 0, 2), (1, 2, 2, 1, 0), (1, 2, 2, 1, 1), (1, 2, 2, 1, 2), (1, 2, 2, 2, 0), (1, 2, 2, 2, 1), (1, 2, 2, 2, 2), (2, 0, 0, 0, 0), (2, 0, 0, 0, 1), (2, 0, 0, 0, 2), (2, 0, 0, 1, 0), (2, 0, 0, 1, 1), (2, 0, 0, 1, 2), (2, 0, 0, 2, 0), (2, 0, 0, 2, 1), (2, 0, 0, 2, 2), (2, 0, 1, 0, 0), (2, 0, 1, 0, 1), (2, 0, 1, 0, 2), (2, 0, 1, 1, 0), (2, 0, 1, 1, 1), (2, 0, 1, 1, 2), (2, 0, 1, 2, 0), (2, 0, 1, 2, 1), (2, 0, 1, 2, 2), (2, 0, 2, 0, 0), (2, 0, 2, 0, 1), (2, 0, 2, 0, 2), (2, 0, 2, 1, 0), (2, 0, 2, 1, 1), (2, 0, 2, 1, 2), (2, 0, 2, 2, 0), (2, 0, 2, 2, 1), (2, 0, 2, 2, 2), (2, 1, 0, 0, 0), (2, 1, 0, 0, 1), (2, 1, 0, 0, 2), (2, 1, 0, 1, 0), (2, 1, 0, 1, 1), (2, 1, 0, 1, 2), (2, 1, 0, 2, 0), (2, 1, 0, 2, 1), (2, 1, 0, 2, 2), (2, 1, 1, 0, 0), (2, 1, 1, 0, 1), (2, 1, 1, 0, 2), (2, 1, 1, 1, 0), (2, 1, 1, 1, 1), (2, 1, 1, 1, 2), (2, 1, 1, 2, 0), (2, 1, 1, 2, 1), (2, 1, 1, 2, 2), (2, 1, 2, 0, 0), (2, 1, 2, 0, 1), (2, 1, 2, 0, 2), (2, 1, 2, 1, 0), (2, 1, 2, 1, 1), (2, 1, 2, 1, 2), (2, 1, 2, 2, 0), (2, 1, 2, 2, 1), (2, 1, 2, 2, 2), (2, 2, 0, 0, 0), (2, 2, 0, 0, 1), (2, 2, 0, 0, 2), (2, 2, 0, 1, 0), (2, 2, 0, 1, 1), (2, 2, 0, 1, 2), (2, 2, 0, 2, 0), (2, 2, 0, 2, 1), (2, 2, 0, 2, 2), (2, 2, 1, 0, 0), (2, 2, 1, 0, 1), (2, 2, 1, 0, 2), (2, 2, 1, 1, 0), (2, 2, 1, 1, 1), (2, 2, 1, 1, 2), (2, 2, 1, 2, 0), (2, 2, 1, 2, 1), (2, 2, 1, 2, 2), (2, 2, 2, 0, 0), (2, 2, 2, 0, 1), (2, 2, 2, 0, 2), (2, 2, 2, 1, 0), (2, 2, 2, 1, 1), (2, 2, 2, 1, 2), (2, 2, 2, 2, 0), (2, 2, 2, 2, 1), (2, 2, 2, 2, 2)]\n"
          ]
        }
      ],
      "source": [
        "# Create result_matrix\n",
        "# It contains all possible combinations of guess results:\n",
        "# grey - 0\n",
        "# yellow - 1\n",
        "# green - 2\n",
        "result_matrix = list(itertools.product([0, 1, 2], repeat=5))\n",
        "print(len(result_matrix))\n",
        "print(result_matrix)"
      ]
    },
    {
      "cell_type": "code",
      "execution_count": 9,
      "metadata": {
        "id": "sjDK7V9GjfiC"
      },
      "outputs": [],
      "source": [
        "# Get possible words based on green\n",
        "def check_green(letter, position, current_possible):\n",
        "    new_possible = []\n",
        "    for word in current_possible:\n",
        "        if letter == word[position]:\n",
        "            new_possible.append(word)\n",
        "            # Update remaining position\n",
        "    return new_possible\n",
        "\n",
        "\n",
        "# Get possible words based on yellow\n",
        "# remaining_pos for yellow excludes green position, and current yellow position\n",
        "def check_yellow(letter, position, remaining_pos, current_possible):\n",
        "    new_possible = []\n",
        "    for word in current_possible:\n",
        "        if letter != word[position]:                                # No match on yellow's position\n",
        "            for i in remaining_pos:                                 # Check all remaining position\n",
        "                if letter == word[i]:                               # Look for match\n",
        "                    new_possible.append(word)\n",
        "    new_possible = list(set(new_possible))                          # Convert to set then back to list to only keep unique\n",
        "    return new_possible\n",
        "\n",
        "\n",
        "# Get possible words based on grey\n",
        "# remaining_pos for grey excludes green position; if a letter alread appeared, remaining_pos = position\n",
        "def check_grey(letter, position, remaining_pos, current_possible):\n",
        "    new_possible = []\n",
        "    for word in current_possible:\n",
        "        keep = True                                                 # Set keep to True, assuming we keep this word\n",
        "        for i in remaining_pos:\n",
        "            if letter == word[i]:                                   # If a letter is matched in remaining position\n",
        "                keep = False                                        # Set keep to False\n",
        "        if keep == True:                                            # Only add to list if keep is True\n",
        "            new_possible.append(word)\n",
        "    return new_possible\n",
        "\n",
        "\n",
        "# Combine the 3 functions from above\n",
        "# Get possible words based on result\n",
        "def get_possible_words(guess, result, current_possible):\n",
        "    new_possible = current_possible\n",
        "    remaining_pos = list(range(5))\n",
        "    appeared_yellow = []\n",
        "\n",
        "    # Green\n",
        "    for i in range(5):\n",
        "        if result[i] == 2:\n",
        "            new_possible = check_green(guess[i], i, new_possible)\n",
        "            remaining_pos.remove(i)\n",
        "\n",
        "    # Yellow\n",
        "    for i in range(5):\n",
        "        if result[i] == 1:\n",
        "            temp_remaining_pos = [x for x in remaining_pos if x != i]                           # Need to ignore current yellow from remaining_pos\n",
        "            new_possible = check_yellow(guess[i], i, temp_remaining_pos, new_possible)\n",
        "            appeared_yellow.append(guess[i])\n",
        "\n",
        "    # Grey\n",
        "    for i in range(5):\n",
        "        if result[i] == 0:\n",
        "            if guess[i] in appeared_yellow:                                                     # If a letter is grey but already appeared as yellow, it just means it's not appearing at its current position\n",
        "                new_possible = check_grey(guess[i], i, [i], new_possible)                       # So only check it on its exact positions\n",
        "            else:\n",
        "                new_possible = check_grey(guess[i], i, remaining_pos, new_possible)\n",
        "\n",
        "    return new_possible"
      ]
    },
    {
      "cell_type": "code",
      "execution_count": 10,
      "metadata": {
        "id": "KEr7IBS3pwe-"
      },
      "outputs": [],
      "source": [
        "# Measure a word with result_matrix, show all details\n",
        "# Note, this isn't used in wordle_solver, but it helps explain how information gain is calculated\n",
        "def measure_guess_gain_detail(guess, current_possible):\n",
        "    word_list = []\n",
        "    result_list = []\n",
        "    possible_count_list = []\n",
        "    removed_count_list = []\n",
        "    probability_list = []\n",
        "    gain_list = []\n",
        "\n",
        "    for result in result_matrix:\n",
        "        word_list.append(guess)\n",
        "        result_list.append(result)\n",
        "\n",
        "        possible_word = get_possible_words(guess, result, current_possible)\n",
        "\n",
        "        possible_count_list.append(len(possible_word))\n",
        "\n",
        "        removed = len(current_possible) - len(possible_word)\n",
        "        removed_count_list.append(removed)\n",
        "\n",
        "        probability = len(possible_word) / len(current_possible)\n",
        "        probability_list.append(probability)\n",
        "\n",
        "        # Gain is calculated using probability of this result * information gain of using this result\n",
        "        if probability != 0:\n",
        "            gain_list.append(probability * math.log2(1/probability))\n",
        "        else: gain_list.append(0)\n",
        "\n",
        "    output_df = pd.DataFrame({\n",
        "        'Guess': word_list,\n",
        "        'Result': result_list,\n",
        "        'Possible Count': possible_count_list,\n",
        "        'Removed Count': removed_count_list,\n",
        "        'Result Possibility': probability_list,\n",
        "        'Information Gain': gain_list\n",
        "    })\n",
        "\n",
        "\n",
        "    return output_df"
      ]
    },
    {
      "cell_type": "code",
      "execution_count": 11,
      "metadata": {
        "colab": {
          "base_uri": "https://localhost:8080/"
        },
        "id": "GcDXdYeGxiKo",
        "outputId": "4a94ab0a-51a1-41e4-aab7-c25e72190008"
      },
      "outputs": [
        {
          "output_type": "stream",
          "name": "stdout",
          "text": [
            "     Guess           Result  Possible Count  Removed Count  Result Possibility  Information Gain\n",
            "0    shake  (0, 0, 0, 0, 0)            1197          11775            0.092276          0.317235\n",
            "1    shake  (0, 0, 0, 0, 1)            1213          11759            0.093509          0.319684\n",
            "2    shake  (0, 0, 0, 0, 2)             591          12381            0.045560          0.203018\n",
            "3    shake  (0, 0, 0, 1, 0)             100          12872            0.007709          0.054111\n",
            "4    shake  (0, 0, 0, 1, 1)             118          12854            0.009097          0.061679\n",
            "..     ...              ...             ...            ...                 ...               ...\n",
            "238  shake  (2, 2, 2, 1, 1)               0          12972            0.000000          0.000000\n",
            "239  shake  (2, 2, 2, 1, 2)               0          12972            0.000000          0.000000\n",
            "240  shake  (2, 2, 2, 2, 0)               3          12969            0.000231          0.002793\n",
            "241  shake  (2, 2, 2, 2, 1)               0          12972            0.000000          0.000000\n",
            "242  shake  (2, 2, 2, 2, 2)               1          12971            0.000077          0.001053\n",
            "\n",
            "[243 rows x 6 columns]\n",
            "5.181402661818079\n"
          ]
        }
      ],
      "source": [
        "# Look at detail of gain for a word\n",
        "pd.set_option('display.width', 150)\n",
        "print(measure_guess_gain_detail('shake', full_list))\n",
        "print(measure_guess_gain_detail('shake', full_list)['Information Gain'].sum())"
      ]
    },
    {
      "cell_type": "code",
      "execution_count": 12,
      "metadata": {
        "id": "xjYO-TYWYuYS"
      },
      "outputs": [],
      "source": [
        "# Measure a word with result_matrix, just show information gain\n",
        "def measure_guess_gain(guess, current_possible):\n",
        "    total_IG = 0\n",
        "\n",
        "    for result in result_matrix:\n",
        "        possible_word = get_possible_words(guess, result, current_possible)\n",
        "\n",
        "        probability = len(possible_word) / len(current_possible)\n",
        "\n",
        "        # Gain is calculated using probability of this result * information gain\n",
        "        if probability != 0:\n",
        "            total_IG += probability * math.log2(1/probability)\n",
        "\n",
        "    return total_IG"
      ]
    },
    {
      "cell_type": "code",
      "execution_count": 13,
      "metadata": {
        "colab": {
          "base_uri": "https://localhost:8080/"
        },
        "id": "9gqVS-GNxsfY",
        "outputId": "5a74b8e2-b93e-4bb2-fea0-f8b6a74e7d20"
      },
      "outputs": [
        {
          "output_type": "stream",
          "name": "stdout",
          "text": [
            "5.181402661818071\n"
          ]
        }
      ],
      "source": [
        "# Look at information gain for a word\n",
        "print(measure_guess_gain('shake', full_list))"
      ]
    },
    {
      "cell_type": "markdown",
      "metadata": {
        "id": "TIMmcUy2I_dG"
      },
      "source": [
        "## Generate recommendation for 1st guess\n",
        "- Only need to run these codes onces\n",
        "- In the future, just load the csv or pick a word from result\n",
        "- This is to save time"
      ]
    },
    {
      "cell_type": "code",
      "execution_count": null,
      "metadata": {
        "colab": {
          "base_uri": "https://localhost:8080/"
        },
        "id": "UsbypHJlbD7J",
        "outputId": "3e806582-5b8e-4a22-902d-8df1df616a27"
      },
      "outputs": [
        {
          "name": "stderr",
          "output_type": "stream",
          "text": [
            "100%|██████████| 12972/12972 [1:51:05<00:00,  1.95it/s]\n"
          ]
        }
      ],
      "source": [
        "# These codes only need to be ran once, because the output is saved into a CSV\n",
        "\"\"\"\n",
        "with open('1st_guess_info_gain.csv', 'w', newline='') as file:\n",
        "    writer = csv.writer(file)\n",
        "    for word in tqdm(full_list):\n",
        "        word_gain = measure_guess_gain(word, full_list)\n",
        "        writer.writerow([word, word_gain])\n",
        "\"\"\""
      ]
    },
    {
      "cell_type": "code",
      "execution_count": 14,
      "metadata": {
        "colab": {
          "base_uri": "https://localhost:8080/",
          "height": 363
        },
        "id": "r-l2_zMFNIei",
        "outputId": "74371087-58d6-4de5-8eb7-15ce53504deb"
      },
      "outputs": [
        {
          "output_type": "execute_result",
          "data": {
            "text/plain": [
              "        Word  IG Score\n",
              "103    tares  6.194053\n",
              "9267   lares  6.149919\n",
              "6646   rales  6.114343\n",
              "1202   rates  6.096243\n",
              "7529   teras  6.076619\n",
              "6625   nares  6.066831\n",
              "12250  soare  6.061395\n",
              "9592   tales  6.054988\n",
              "11871  reais  6.049778\n",
              "783    tears  6.032339"
            ],
            "text/html": [
              "\n",
              "  <div id=\"df-0bb126ee-75f8-437c-960e-f8bc0789c9ff\">\n",
              "    <div class=\"colab-df-container\">\n",
              "      <div>\n",
              "<style scoped>\n",
              "    .dataframe tbody tr th:only-of-type {\n",
              "        vertical-align: middle;\n",
              "    }\n",
              "\n",
              "    .dataframe tbody tr th {\n",
              "        vertical-align: top;\n",
              "    }\n",
              "\n",
              "    .dataframe thead th {\n",
              "        text-align: right;\n",
              "    }\n",
              "</style>\n",
              "<table border=\"1\" class=\"dataframe\">\n",
              "  <thead>\n",
              "    <tr style=\"text-align: right;\">\n",
              "      <th></th>\n",
              "      <th>Word</th>\n",
              "      <th>IG Score</th>\n",
              "    </tr>\n",
              "  </thead>\n",
              "  <tbody>\n",
              "    <tr>\n",
              "      <th>103</th>\n",
              "      <td>tares</td>\n",
              "      <td>6.194053</td>\n",
              "    </tr>\n",
              "    <tr>\n",
              "      <th>9267</th>\n",
              "      <td>lares</td>\n",
              "      <td>6.149919</td>\n",
              "    </tr>\n",
              "    <tr>\n",
              "      <th>6646</th>\n",
              "      <td>rales</td>\n",
              "      <td>6.114343</td>\n",
              "    </tr>\n",
              "    <tr>\n",
              "      <th>1202</th>\n",
              "      <td>rates</td>\n",
              "      <td>6.096243</td>\n",
              "    </tr>\n",
              "    <tr>\n",
              "      <th>7529</th>\n",
              "      <td>teras</td>\n",
              "      <td>6.076619</td>\n",
              "    </tr>\n",
              "    <tr>\n",
              "      <th>6625</th>\n",
              "      <td>nares</td>\n",
              "      <td>6.066831</td>\n",
              "    </tr>\n",
              "    <tr>\n",
              "      <th>12250</th>\n",
              "      <td>soare</td>\n",
              "      <td>6.061395</td>\n",
              "    </tr>\n",
              "    <tr>\n",
              "      <th>9592</th>\n",
              "      <td>tales</td>\n",
              "      <td>6.054988</td>\n",
              "    </tr>\n",
              "    <tr>\n",
              "      <th>11871</th>\n",
              "      <td>reais</td>\n",
              "      <td>6.049778</td>\n",
              "    </tr>\n",
              "    <tr>\n",
              "      <th>783</th>\n",
              "      <td>tears</td>\n",
              "      <td>6.032339</td>\n",
              "    </tr>\n",
              "  </tbody>\n",
              "</table>\n",
              "</div>\n",
              "      <button class=\"colab-df-convert\" onclick=\"convertToInteractive('df-0bb126ee-75f8-437c-960e-f8bc0789c9ff')\"\n",
              "              title=\"Convert this dataframe to an interactive table.\"\n",
              "              style=\"display:none;\">\n",
              "        \n",
              "  <svg xmlns=\"http://www.w3.org/2000/svg\" height=\"24px\"viewBox=\"0 0 24 24\"\n",
              "       width=\"24px\">\n",
              "    <path d=\"M0 0h24v24H0V0z\" fill=\"none\"/>\n",
              "    <path d=\"M18.56 5.44l.94 2.06.94-2.06 2.06-.94-2.06-.94-.94-2.06-.94 2.06-2.06.94zm-11 1L8.5 8.5l.94-2.06 2.06-.94-2.06-.94L8.5 2.5l-.94 2.06-2.06.94zm10 10l.94 2.06.94-2.06 2.06-.94-2.06-.94-.94-2.06-.94 2.06-2.06.94z\"/><path d=\"M17.41 7.96l-1.37-1.37c-.4-.4-.92-.59-1.43-.59-.52 0-1.04.2-1.43.59L10.3 9.45l-7.72 7.72c-.78.78-.78 2.05 0 2.83L4 21.41c.39.39.9.59 1.41.59.51 0 1.02-.2 1.41-.59l7.78-7.78 2.81-2.81c.8-.78.8-2.07 0-2.86zM5.41 20L4 18.59l7.72-7.72 1.47 1.35L5.41 20z\"/>\n",
              "  </svg>\n",
              "      </button>\n",
              "      \n",
              "  <style>\n",
              "    .colab-df-container {\n",
              "      display:flex;\n",
              "      flex-wrap:wrap;\n",
              "      gap: 12px;\n",
              "    }\n",
              "\n",
              "    .colab-df-convert {\n",
              "      background-color: #E8F0FE;\n",
              "      border: none;\n",
              "      border-radius: 50%;\n",
              "      cursor: pointer;\n",
              "      display: none;\n",
              "      fill: #1967D2;\n",
              "      height: 32px;\n",
              "      padding: 0 0 0 0;\n",
              "      width: 32px;\n",
              "    }\n",
              "\n",
              "    .colab-df-convert:hover {\n",
              "      background-color: #E2EBFA;\n",
              "      box-shadow: 0px 1px 2px rgba(60, 64, 67, 0.3), 0px 1px 3px 1px rgba(60, 64, 67, 0.15);\n",
              "      fill: #174EA6;\n",
              "    }\n",
              "\n",
              "    [theme=dark] .colab-df-convert {\n",
              "      background-color: #3B4455;\n",
              "      fill: #D2E3FC;\n",
              "    }\n",
              "\n",
              "    [theme=dark] .colab-df-convert:hover {\n",
              "      background-color: #434B5C;\n",
              "      box-shadow: 0px 1px 3px 1px rgba(0, 0, 0, 0.15);\n",
              "      filter: drop-shadow(0px 1px 2px rgba(0, 0, 0, 0.3));\n",
              "      fill: #FFFFFF;\n",
              "    }\n",
              "  </style>\n",
              "\n",
              "      <script>\n",
              "        const buttonEl =\n",
              "          document.querySelector('#df-0bb126ee-75f8-437c-960e-f8bc0789c9ff button.colab-df-convert');\n",
              "        buttonEl.style.display =\n",
              "          google.colab.kernel.accessAllowed ? 'block' : 'none';\n",
              "\n",
              "        async function convertToInteractive(key) {\n",
              "          const element = document.querySelector('#df-0bb126ee-75f8-437c-960e-f8bc0789c9ff');\n",
              "          const dataTable =\n",
              "            await google.colab.kernel.invokeFunction('convertToInteractive',\n",
              "                                                     [key], {});\n",
              "          if (!dataTable) return;\n",
              "\n",
              "          const docLinkHtml = 'Like what you see? Visit the ' +\n",
              "            '<a target=\"_blank\" href=https://colab.research.google.com/notebooks/data_table.ipynb>data table notebook</a>'\n",
              "            + ' to learn more about interactive tables.';\n",
              "          element.innerHTML = '';\n",
              "          dataTable['output_type'] = 'display_data';\n",
              "          await google.colab.output.renderOutput(dataTable, element);\n",
              "          const docLink = document.createElement('div');\n",
              "          docLink.innerHTML = docLinkHtml;\n",
              "          element.appendChild(docLink);\n",
              "        }\n",
              "      </script>\n",
              "    </div>\n",
              "  </div>\n",
              "  "
            ]
          },
          "metadata": {},
          "execution_count": 14
        }
      ],
      "source": [
        "# Load guess information gain file\n",
        "guess1_gain_df = pd.read_csv('/content/drive/MyDrive/Wordle/Data/1st_guess_info_gain.csv')\n",
        "\n",
        "# Load files into dataframe, if uploaded manually\n",
        "# guess1_gain_df = pd.read_csv('1st_guess_info_gain.csv')\n",
        "\n",
        "# Rename \"Score\" into \"IG Score\" (Information Gain Score)\n",
        "guess1_gain_df = guess1_gain_df.rename(columns={\"Score\": \"IG Score\"})\n",
        "\n",
        "# Get top 10 list\n",
        "top10_guess1_df = guess1_gain_df.sort_values(by='IG Score', ascending=False)[0:10]\n",
        "top10_guess1_df"
      ]
    },
    {
      "cell_type": "markdown",
      "metadata": {
        "id": "pUQL50pzIzev"
      },
      "source": [
        "## Codes to run Wordle Solver"
      ]
    },
    {
      "cell_type": "code",
      "execution_count": 15,
      "metadata": {
        "id": "Cj9Z7b8j5wVU"
      },
      "outputs": [],
      "source": [
        "# Measure information gain for all possible guesses\n",
        "def measure_guess_gain_list(guess_list, current_possible):\n",
        "    word_list = []\n",
        "    gain_list = []\n",
        "\n",
        "    for word in tqdm(guess_list):                                                               # This part takes awhile, so show a progress bar\n",
        "        word_list.append(word)\n",
        "        gain_list.append(measure_guess_gain(word, current_possible))\n",
        "\n",
        "    output_df = pd.DataFrame({\n",
        "        'Word': word_list,\n",
        "        'Score': gain_list\n",
        "    })\n",
        "\n",
        "    output_df = output_df.sort_values(by='Score', ascending=False)\n",
        "\n",
        "    return output_df\n",
        "\n",
        "\n",
        "# Ask for input\n",
        "def ask_input_solver(status):\n",
        "    while True:\n",
        "        global guess\n",
        "        global result\n",
        "\n",
        "        if status == 'guess':\n",
        "            message = 'Which word did you guess? '\n",
        "\n",
        "            guess = input(message).lower()\n",
        "        \n",
        "            # Secret escape word can be accepted\n",
        "            if guess == escape_word:\n",
        "                break\n",
        "            # Only accept word within full_list\n",
        "            elif guess not in full_list:\n",
        "                print('Invalid input. ', end='')\n",
        "            else:\n",
        "                break\n",
        "\n",
        "        elif status == 'result':\n",
        "            message = 'What is the result? '\n",
        "\n",
        "            result = input(message)\n",
        "            if result == escape_word:\n",
        "                guess = escape_word\n",
        "                break\n",
        "            else:\n",
        "                try:\n",
        "                    result = tuple([int(a) for a in str(result)])           # Wrap input result in a tuple, to match result_matrix\n",
        "                    if result not in result_matrix:                         # If input result is not within result matrix\n",
        "                        print('Invalid input. ', end='')\n",
        "                    else:\n",
        "                        break\n",
        "                except:\n",
        "                    print('Invalid input. ', end='')\n",
        "\n",
        "\n",
        "# Solve a game with limited attempts\n",
        "def wordle_solver(max_try=6):\n",
        "    attempt = 0\n",
        "    prev_possible = full_list\n",
        "\n",
        "    print('Top 10 recommended 1st guess:')\n",
        "    print(top10_guess1_df.to_string(index=False))\n",
        "\n",
        "    while attempt < max_try:\n",
        "        print('Attempt ', attempt + 1, '/', max_try)\n",
        "\n",
        "        ask_input_solver('guess')\n",
        "        if guess == escape_word:                # If guess is secret escape word, end session\n",
        "            attempt = max_try\n",
        "            break\n",
        "        \n",
        "        ask_input_solver('result')\n",
        "        if result == escape_word:               # If result is secret escape word, end session\n",
        "            attempt = max_try\n",
        "            break\n",
        "\n",
        "        if result == (2, 2, 2, 2, 2):\n",
        "            print('You won!')\n",
        "            attempt = max_try + 1\n",
        "            break\n",
        "        else:\n",
        "            curr_possible = get_possible_words(guess, result, prev_possible)\n",
        "            curr_gain = measure_guess_gain_list(curr_possible, curr_possible)\n",
        "            \n",
        "            print('# of words remaining', len(curr_possible))\n",
        "            print('Top 10 recommended guess:')\n",
        "            print(curr_gain[0:10].to_string(index=False))\n",
        "            print('-' * 30)\n",
        "\n",
        "            # Prepare for next loop\n",
        "            prev_possible = curr_possible\n",
        "            attempt += 1\n",
        "\n",
        "    if attempt >= max_try:\n",
        "        print('Game Over')"
      ]
    },
    {
      "cell_type": "markdown",
      "metadata": {
        "id": "jU1aGQqEU6kY"
      },
      "source": [
        "## Solve a game\n",
        "\n",
        "When prompted to enter result, use numbers to represent color.\n",
        "\n",
        "- 0 = Grey\n",
        "\n",
        "- 1 = Yellow\n",
        "\n",
        "- 2 = Green\n",
        "\n",
        "\n",
        "For example, the word below would be 20010."
      ]
    },
    {
      "cell_type": "markdown",
      "metadata": {
        "id": "X0B-I8Pp0-qp"
      },
      "source": [
        "![Result Example.JPG](data:image/jpeg;base64,/9j/4AAQSkZJRgABAQEAYABgAAD/4RDyRXhpZgAATU0AKgAAAAgABAE7AAIAAAANAAAISodpAAQAAAABAAAIWJydAAEAAAAaAAAQ0OocAAcAAAgMAAAAPgAAAAAc6gAAAAgAAAAAAAAAAAAAAAAAAAAAAAAAAAAAAAAAAAAAAAAAAAAAAAAAAAAAAAAAAAAAAAAAAAAAAAAAAAAAAAAAAAAAAAAAAAAAAAAAAAAAAAAAAAAAAAAAAAAAAAAAAAAAAAAAAAAAAAAAAAAAAAAAAAAAAAAAAAAAAAAAAAAAAAAAAAAAAAAAAAAAAAAAAAAAAAAAAAAAAAAAAAAAAAAAAAAAAAAAAAAAAAAAAAAAAAAAAAAAAAAAAAAAAAAAAAAAAAAAAAAAAAAAAAAAAAAAAAAAAAAAAAAAAAAAAAAAAAAAAAAAAAAAAAAAAAAAAAAAAAAAAAAAAAAAAAAAAAAAAAAAAAAAAAAAAAAAAAAAAAAAAAAAAAAAAAAAAAAAAAAAAAAAAAAAAAAAAAAAAAAAAAAAAAAAAAAAAAAAAAAAAAAAAAAAAAAAAAAAAAAAAAAAAAAAAAAAAAAAAAAAAAAAAAAAAAAAAAAAAAAAAAAAAAAAAAAAAAAAAAAAAAAAAAAAAAAAAAAAAAAAAAAAAAAAAAAAAAAAAAAAAAAAAAAAAAAAAAAAAAAAAAAAAAAAAAAAAAAAAAAAAAAAAAAAAAAAAAAAAAAAAAAAAAAAAAAAAAAAAAAAAAAAAAAAAAAAAAAAAAAAAAAAAAAAAAAAAAAAAAAAAAAAAAAAAAAAAAAAAAAAAAAAAAAAAAAAAAAAAAAAAAAAAAAAAAAAAAAAAAAAAAAAAAAAAAAAAAAAAAAAAAAAAAAAAAAAAAAAAAAAAAAAAAAAAAAAAAAAAAAAAAAAAAAAAAAAAAAAAAAAAAAAAAAAAAAAAAAAAAAAAAAAAAAAAAAAAAAAAAAAAAAAAAAAAAAAAAAAAAAAAAAAAAAAAAAAAAAAAAAAAAAAAAAAAAAAAAAAAAAAAAAAAAAAAAAAAAAAAAAAAAAAAAAAAAAAAAAAAAAAAAAAAAAAAAAAAAAAAAAAAAAAAAAAAAAAAAAAAAAAAAAAAAAAAAAAAAAAAAAAAAAAAAAAAAAAAAAAAAAAAAAAAAAAAAAAAAAAAAAAAAAAAAAAAAAAAAAAAAAAAAAAAAAAAAAAAAAAAAAAAAAAAAAAAAAAAAAAAAAAAAAAAAAAAAAAAAAAAAAAAAAAAAAAAAAAAAAAAAAAAAAAAAAAAAAAAAAAAAAAAAAAAAAAAAAAAAAAAAAAAAAAAAAAAAAAAAAAAAAAAAAAAAAAAAAAAAAAAAAAAAAAAAAAAAAAAAAAAAAAAAAAAAAAAAAAAAAAAAAAAAAAAAAAAAAAAAAAAAAAAAAAAAAAAAAAAAAAAAAAAAAAAAAAAAAAAAAAAAAAAAAAAAAAAAAAAAAAAAAAAAAAAAAAAAAAAAAAAAAAAAAAAAAAAAAAAAAAAAAAAAAAAAAAAAAAAAAAAAAAAAAAAAAAAAAAAAAAAAAAAAAAAAAAAAAAAAAAAAAAAAAAAAAAAAAAAAAAAAAAAAAAAAAAAAAAAAAAAAAAAAAAAAAAAAAAAAAAAAAAAAAAAAAAAAAAAAAAAAAAAAAAAAAAAAAAAAAAAAAAAAAAAAAAAAAAAAAAAAAAAAAAAAAAAAAAAAAAAAAAAAAAAAAAAAAAAAAAAAAAAAAAAAAAAAAAAAAAAAAAAAAAAAAAAAAAAAAAAAAAAAAAAAAAAAAAAAAAAAAAAAAAAAAAAAAAAAAAAAAAAAAAAAAAAAAAAAAAAAAAAAAAAAAAAAAAAAAAAAAAAAAAAAAAAAAAAAAAAAAAAAAAAAAAAAAAAAAAAAAAAAAAAAAAAAAAAAAAAAAAAAAAAAAAAAAAAAAAAAAAAAAAAAAAAAAAAAAAAAAAAAAAAAAAAAAAAAAAAAAAAAAAAAAAAAAAAAAAAAAAAAAAAAAAAAAAAAAAAAAAAAAAAAAAAAAAAAAAAAAAAAAAAAAAAAAAAAAAAAAAAAAAAAAAAAAAAAAAAAAAAAAAAAAAAAAAAAAAAAAAAAAAAAAAAAAAAAAAAAAAAAAAAAAAAAAAAAAAAAAAAAAAAAAAAAAAAAAAAAAAAAAAAAAAAAAAAAAAAAAAAAAAAAAAAAAAAAAAAAAAAAAAAAAAAAAAAAAAAAAAAAAAAAAAAAAAAAAAAAAAAAAAAAAAAAAAAAAAAAAAAAAAAAAAAAAAAAAAAAAAAAAAAAAAAAAAAAAAAAAAAAAAAAAAAAAAAAAAAAAAAAAAAAAAAAAAAAAAAAAAAAAAAAAAAAAAAAAAAAAAAAAAAAAAAAAAAAAAAAAAAAAAAAAAAAAAAAAAAAAAAAAAAAAAAAAAAAAAAAAAAAAAAAAAAAAAAAAAAAAAAAAAAAAAAAAAAAAAAAAAAAAAAAAAAAAAAAAAAAAAAAAAAAAAAAAAAAAAAAAAAAAAAAAAAAAAAAAAAAAAAAAAAAAAAAAAAAAAAAAAAAAAAAAAAAAAAAAAAAAAAAAAAAAAAAAAAAAAAAAAAAAAAAAAAAAAAAAAAAAAAAAAAAAAAAAAAAAAAAAAAAAAAAAAAAAAAAAAAAAAAAAAAAAAAAAAAAAAAAAAAAAAAAAAAAAAAAAAAAAAAAAAAAAAAAAAAAAAAAAAAAAAAAAAAAAAAAAAAAAAAAAAAAAAAAAAAAAAAAAAAAAAAAAAAAAAAAAAAAAAAAAAAAAAAAAAAAAAAAAAAAAAAAAAAAAAAAAAAAAAAAAAAAAAAAAAAAAAAAAAAAAAAAAAAAAAAAAAAAAAAAAAAAAAAAAAAAAAAAAAAAAAAAAAAAAAAAAAAFdhbmdzaHUgUGVuZwAAAAWQAwACAAAAFAAAEKaQBAACAAAAFAAAELqSkQACAAAAAzExAACSkgACAAAAAzExAADqHAAHAAAIDAAACJoAAAAAHOoAAAAIAAAAAAAAAAAAAAAAAAAAAAAAAAAAAAAAAAAAAAAAAAAAAAAAAAAAAAAAAAAAAAAAAAAAAAAAAAAAAAAAAAAAAAAAAAAAAAAAAAAAAAAAAAAAAAAAAAAAAAAAAAAAAAAAAAAAAAAAAAAAAAAAAAAAAAAAAAAAAAAAAAAAAAAAAAAAAAAAAAAAAAAAAAAAAAAAAAAAAAAAAAAAAAAAAAAAAAAAAAAAAAAAAAAAAAAAAAAAAAAAAAAAAAAAAAAAAAAAAAAAAAAAAAAAAAAAAAAAAAAAAAAAAAAAAAAAAAAAAAAAAAAAAAAAAAAAAAAAAAAAAAAAAAAAAAAAAAAAAAAAAAAAAAAAAAAAAAAAAAAAAAAAAAAAAAAAAAAAAAAAAAAAAAAAAAAAAAAAAAAAAAAAAAAAAAAAAAAAAAAAAAAAAAAAAAAAAAAAAAAAAAAAAAAAAAAAAAAAAAAAAAAAAAAAAAAAAAAAAAAAAAAAAAAAAAAAAAAAAAAAAAAAAAAAAAAAAAAAAAAAAAAAAAAAAAAAAAAAAAAAAAAAAAAAAAAAAAAAAAAAAAAAAAAAAAAAAAAAAAAAAAAAAAAAAAAAAAAAAAAAAAAAAAAAAAAAAAAAAAAAAAAAAAAAAAAAAAAAAAAAAAAAAAAAAAAAAAAAAAAAAAAAAAAAAAAAAAAAAAAAAAAAAAAAAAAAAAAAAAAAAAAAAAAAAAAAAAAAAAAAAAAAAAAAAAAAAAAAAAAAAAAAAAAAAAAAAAAAAAAAAAAAAAAAAAAAAAAAAAAAAAAAAAAAAAAAAAAAAAAAAAAAAAAAAAAAAAAAAAAAAAAAAAAAAAAAAAAAAAAAAAAAAAAAAAAAAAAAAAAAAAAAAAAAAAAAAAAAAAAAAAAAAAAAAAAAAAAAAAAAAAAAAAAAAAAAAAAAAAAAAAAAAAAAAAAAAAAAAAAAAAAAAAAAAAAAAAAAAAAAAAAAAAAAAAAAAAAAAAAAAAAAAAAAAAAAAAAAAAAAAAAAAAAAAAAAAAAAAAAAAAAAAAAAAAAAAAAAAAAAAAAAAAAAAAAAAAAAAAAAAAAAAAAAAAAAAAAAAAAAAAAAAAAAAAAAAAAAAAAAAAAAAAAAAAAAAAAAAAAAAAAAAAAAAAAAAAAAAAAAAAAAAAAAAAAAAAAAAAAAAAAAAAAAAAAAAAAAAAAAAAAAAAAAAAAAAAAAAAAAAAAAAAAAAAAAAAAAAAAAAAAAAAAAAAAAAAAAAAAAAAAAAAAAAAAAAAAAAAAAAAAAAAAAAAAAAAAAAAAAAAAAAAAAAAAAAAAAAAAAAAAAAAAAAAAAAAAAAAAAAAAAAAAAAAAAAAAAAAAAAAAAAAAAAAAAAAAAAAAAAAAAAAAAAAAAAAAAAAAAAAAAAAAAAAAAAAAAAAAAAAAAAAAAAAAAAAAAAAAAAAAAAAAAAAAAAAAAAAAAAAAAAAAAAAAAAAAAAAAAAAAAAAAAAAAAAAAAAAAAAAAAAAAAAAAAAAAAAAAAAAAAAAAAAAAAAAAAAAAAAAAAAAAAAAAAAAAAAAAAAAAAAAAAAAAAAAAAAAAAAAAAAAAAAAAAAAAAAAAAAAAAAAAAAAAAAAAAAAAAAAAAAAAAAAAAAAAAAAAAAAAAAAAAAAAAAAAAAAAAAAAAAAAAAAAAAAAAAAAAAAAAAAAAAAAAAAAAAAAAAAAAAAAAAAAAAAAAAAAAAAAAAAAAAAAAAAAAAAAAAAAAAAAAAAAAAAAAAAAAAAAAAAAAAAAAAAAAAAAAAAAAAAAAAAAAAAAAAAAAAAAAAAAAAAAAAAAAAAAAAAAAAAAAAAAAAAAAAAAAAAAAAAAAAAAAAAAAAAAAAAAAAAAAAAAAAAAAAAAAAAAAAAAAAAAAAAAAAAAAAAAAAAAAAAAAAAAAAAAAAAAAAAAAAAAAAAAAAAAAAAAAAAAAAAAAAAAAAAAAAAAAAAAAAAAAAAAAAAAAAAAAAAAAAAAAAAAAAAAAAAAAAAAAAAAAAAAAAAAAAAAAAAAAAAAAAAAAAAAAAAAAAAAAAAAAAAAAAAAAAAAAAAAAAAAAAAAAAAAAAAAAAAAAAAAAAAAAAAAAAAAAAAAAAAAAAAAAAAAAAAAAAAAAAAAAAAAAAAAAAAAAAAAAAAAAAAAAAAAAAAAAAAAAAAAAAAAAAAAAAAAAAAAAAAAAAAAAAAAAAAAAAAAAAAAAAAAAAAAAAAAAAAAAAAAAAAAAAAAAAAAAAAAAAAAAAAAAAAAAAAAAAAAAAAAAAAAAAAAAAAAAAAAAAAAAAAAAAAAAAAAAAAAAAAAAAAAAAAAAAAAAAAAAAAAAAAAAAAAAAAAAAAAAAAAAAAAAAAAAAAAAAAAAAAAAAAAAAAAAAAAAAAAAAAAAAAAAAAAAAAAAAAAAAAAAAAAAAAAAAAAAAAAAAAAAAAAAAAAAAAAAAAAAAAAAAAAAAAAAAAAAAAAAAAAAAAAAAAAAAAAAAAAAAAAAAAAAAAAAAAAAAAAAAAAAAAAAAAAAAAAAAAAAAAAAAAAAAAAAAAAAAAAAAAAAAAAAAAAAAAAAAAAAAAAAAAAAAAAAAAAAAAAAAAAAAAAAAAAAAAAAAAAAAAAAAAAAAAAAAAAAAAAAAAAAAAAAAAAAAAAAAAAAAAAAAAAAAAAAAAAAAAAAAAAAAAAAAAAAAAAAAAAAAAAAAAAAAAAAAAAAAAAAAAAAAAAAAAAAAAAAAAAAAAAAAAAAAAAAAAAAAAAAAAAAAAAAAAAyMDIyOjAzOjExIDA2OjUzOjEwADIwMjI6MDM6MTEgMDY6NTM6MTAAAABXAGEAbgBnAHMAaAB1ACAAUABlAG4AZwAAAP/hCx9odHRwOi8vbnMuYWRvYmUuY29tL3hhcC8xLjAvADw/eHBhY2tldCBiZWdpbj0n77u/JyBpZD0nVzVNME1wQ2VoaUh6cmVTek5UY3prYzlkJz8+DQo8eDp4bXBtZXRhIHhtbG5zOng9ImFkb2JlOm5zOm1ldGEvIj48cmRmOlJERiB4bWxuczpyZGY9Imh0dHA6Ly93d3cudzMub3JnLzE5OTkvMDIvMjItcmRmLXN5bnRheC1ucyMiPjxyZGY6RGVzY3JpcHRpb24gcmRmOmFib3V0PSJ1dWlkOmZhZjViZGQ1LWJhM2QtMTFkYS1hZDMxLWQzM2Q3NTE4MmYxYiIgeG1sbnM6ZGM9Imh0dHA6Ly9wdXJsLm9yZy9kYy9lbGVtZW50cy8xLjEvIi8+PHJkZjpEZXNjcmlwdGlvbiByZGY6YWJvdXQ9InV1aWQ6ZmFmNWJkZDUtYmEzZC0xMWRhLWFkMzEtZDMzZDc1MTgyZjFiIiB4bWxuczp4bXA9Imh0dHA6Ly9ucy5hZG9iZS5jb20veGFwLzEuMC8iPjx4bXA6Q3JlYXRlRGF0ZT4yMDIyLTAzLTExVDA2OjUzOjEwLjEwOTwveG1wOkNyZWF0ZURhdGU+PC9yZGY6RGVzY3JpcHRpb24+PHJkZjpEZXNjcmlwdGlvbiByZGY6YWJvdXQ9InV1aWQ6ZmFmNWJkZDUtYmEzZC0xMWRhLWFkMzEtZDMzZDc1MTgyZjFiIiB4bWxuczpkYz0iaHR0cDovL3B1cmwub3JnL2RjL2VsZW1lbnRzLzEuMS8iPjxkYzpjcmVhdG9yPjxyZGY6U2VxIHhtbG5zOnJkZj0iaHR0cDovL3d3dy53My5vcmcvMTk5OS8wMi8yMi1yZGYtc3ludGF4LW5zIyI+PHJkZjpsaT5XYW5nc2h1IFBlbmc8L3JkZjpsaT48L3JkZjpTZXE+DQoJCQk8L2RjOmNyZWF0b3I+PC9yZGY6RGVzY3JpcHRpb24+PC9yZGY6UkRGPjwveDp4bXBtZXRhPg0KICAgICAgICAgICAgICAgICAgICAgICAgICAgICAgICAgICAgICAgICAgICAgICAgICAgICAgICAgICAgICAgICAgICAgICAgICAgICAgICAgICAgICAgICAgICAgICAgICAgIAogICAgICAgICAgICAgICAgICAgICAgICAgICAgICAgICAgICAgICAgICAgICAgICAgICAgICAgICAgICAgICAgICAgICAgICAgICAgICAgICAgICAgICAgICAgICAgICAgICAgCiAgICAgICAgICAgICAgICAgICAgICAgICAgICAgICAgICAgICAgICAgICAgICAgICAgICAgICAgICAgICAgICAgICAgICAgICAgICAgICAgICAgICAgICAgICAgICAgICAgICAKICAgICAgICAgICAgICAgICAgICAgICAgICAgICAgICAgICAgICAgICAgICAgICAgICAgICAgICAgICAgICAgICAgICAgICAgICAgICAgICAgICAgICAgICAgICAgICAgICAgIAogICAgICAgICAgICAgICAgICAgICAgICAgICAgICAgICAgICAgICAgICAgICAgICAgICAgICAgICAgICAgICAgICAgICAgICAgICAgICAgICAgICAgICAgICAgICAgICAgICAgCiAgICAgICAgICAgICAgICAgICAgICAgICAgICAgICAgICAgICAgICAgICAgICAgICAgICAgICAgICAgICAgICAgICAgICAgICAgICAgICAgICAgICAgICAgICAgICAgICAgICAKICAgICAgICAgICAgICAgICAgICAgICAgICAgICAgICAgICAgICAgICAgICAgICAgICAgICAgICAgICAgICAgICAgICAgICAgICAgICAgICAgICAgICAgICAgICAgICAgICAgIAogICAgICAgICAgICAgICAgICAgICAgICAgICAgICAgICAgICAgICAgICAgICAgICAgICAgICAgICAgICAgICAgICAgICAgICAgICAgICAgICAgICAgICAgICAgICAgICAgICAgCiAgICAgICAgICAgICAgICAgICAgICAgICAgICAgICAgICAgICAgICAgICAgICAgICAgICAgICAgICAgICAgICAgICAgICAgICAgICAgICAgICAgICAgICAgICAgICAgICAgICAKICAgICAgICAgICAgICAgICAgICAgICAgICAgICAgICAgICAgICAgICAgICAgICAgICAgICAgICAgICAgICAgICAgICAgICAgICAgICAgICAgICAgICAgICAgICAgICAgICAgIAogICAgICAgICAgICAgICAgICAgICAgICAgICAgICAgICAgICAgICAgICAgICAgICAgICAgICAgICAgICAgICAgICAgICAgICAgICAgICAgICAgICAgICAgICAgICAgICAgICAgCiAgICAgICAgICAgICAgICAgICAgICAgICAgICAgICAgICAgICAgICAgICAgICAgICAgICAgICAgICAgICAgICAgICAgICAgICAgICAgICAgICAgICAgICAgICAgICAgICAgICAKICAgICAgICAgICAgICAgICAgICAgICAgICAgICAgICAgICAgICAgICAgICAgICAgICAgICAgICAgICAgICAgICAgICAgICAgICAgICAgICAgICAgICAgICAgICAgICAgICAgIAogICAgICAgICAgICAgICAgICAgICAgICAgICAgICAgICAgICAgICAgICAgICAgICAgICAgICAgICAgICAgICAgICAgICAgICAgICAgICAgICAgICAgICAgICAgICAgICAgICAgCiAgICAgICAgICAgICAgICAgICAgICAgICAgICAgICAgICAgICAgICAgICAgICAgICAgICAgICAgICAgICAgICAgICAgICAgICAgICAgICAgICAgICAgICAgICAgICAgICAgICAKICAgICAgICAgICAgICAgICAgICAgICAgICAgICAgICAgICAgICAgICAgICAgICAgICAgICAgICAgICAgICAgICAgICAgICAgICAgICAgICAgICAgICAgICAgICAgICAgICAgIAogICAgICAgICAgICAgICAgICAgICAgICAgICAgICAgICAgICAgICAgICAgICAgICAgICAgICAgICAgICAgICAgICAgICAgICAgICAgICAgICAgICAgICAgICAgICAgICAgICAgCiAgICAgICAgICAgICAgICAgICAgICAgICAgICAgICAgICAgICAgICAgICAgICAgICAgICAgICAgICAgICAgICAgICAgICAgICAgICAgICAgICAgICAgICAgICAgICAgICAgICAKICAgICAgICAgICAgICAgICAgICAgICAgICAgICAgICAgICAgICAgICAgICAgICAgICAgICAgICAgICAgICAgICAgICAgICAgICAgICAgICAgICAgICAgICAgICAgICAgICAgIAogICAgICAgICAgICAgICAgICAgICAgICAgICAgICAgICAgICAgICAgICAgICAgICAgICAgICAgICAgICAgICAgICAgICAgICAgICAgICAgICAgICAgICAgICAgICAgICAgICAgCiAgICAgICAgICAgICAgICAgICAgICAgICAgICA8P3hwYWNrZXQgZW5kPSd3Jz8+/9sAQwAHBQUGBQQHBgUGCAcHCAoRCwoJCQoVDxAMERgVGhkYFRgXGx4nIRsdJR0XGCIuIiUoKSssKxogLzMvKjInKisq/9sAQwEHCAgKCQoUCwsUKhwYHCoqKioqKioqKioqKioqKioqKioqKioqKioqKioqKioqKioqKioqKioqKioqKioqKioq/8AAEQgAUAFuAwEiAAIRAQMRAf/EAB8AAAEFAQEBAQEBAAAAAAAAAAABAgMEBQYHCAkKC//EALUQAAIBAwMCBAMFBQQEAAABfQECAwAEEQUSITFBBhNRYQcicRQygZGhCCNCscEVUtHwJDNicoIJChYXGBkaJSYnKCkqNDU2Nzg5OkNERUZHSElKU1RVVldYWVpjZGVmZ2hpanN0dXZ3eHl6g4SFhoeIiYqSk5SVlpeYmZqio6Slpqeoqaqys7S1tre4ubrCw8TFxsfIycrS09TV1tfY2drh4uPk5ebn6Onq8fLz9PX29/j5+v/EAB8BAAMBAQEBAQEBAQEAAAAAAAABAgMEBQYHCAkKC//EALURAAIBAgQEAwQHBQQEAAECdwABAgMRBAUhMQYSQVEHYXETIjKBCBRCkaGxwQkjM1LwFWJy0QoWJDThJfEXGBkaJicoKSo1Njc4OTpDREVGR0hJSlNUVVZXWFlaY2RlZmdoaWpzdHV2d3h5eoKDhIWGh4iJipKTlJWWl5iZmqKjpKWmp6ipqrKztLW2t7i5usLDxMXGx8jJytLT1NXW19jZ2uLj5OXm5+jp6vLz9PX29/j5+v/aAAwDAQACEQMRAD8A+kaKK4jxb4tvdP1RrDTWWExAGSQqGJJGcDPGMEVjWrRox5pETmoK7O3oryj/AITTX/8An/8A/IMf/wATR/wmmv8A/P8A/wDkGP8A+Jrj/tGl2f4f5mH1qHZnq9FeUf8ACaa//wA//wD5Bj/+Jo/4TTX/APn/AP8AyDH/APE0f2jS7P8AD/MPrUOzPV6K8o/4TTX/APn/AP8AyDH/APE0f8Jpr/8Az/8A/kGP/wCJo/tGl2f4f5h9ah2Z6vRXlUfjbXkkDNeK4B5VoUwfyANekaNqI1bR7e9CbPNXlfQgkH9Qa6KGKp1m1E0p1o1HZF2iuCvfF2oy3TmzlEEIOEUIpJHqcg1X/wCEq1n/AJ/P/ISf4V3+ykXzo9Forzr/AISrWf8An8/8hJ/hR/wlWs/8/n/kJP8ACn7GQc6PRaK86/4SrWf+fz/yEn+FH/CVaz/z+f8AkJP8KPYyDnR6LRXnX/CVaz/z+f8AkJP8KsWXi7UYrpDeSieEnDqUUED1GAKXspBzo72iqmqXo07TJ7oru8teB6knA/U1wzeK9YZiRdBQewiXA/MVMYOWw3JI9Eorzr/hKtZ/5/P/ACEn+FH/AAlWs/8AP5/5CT/Cr9jIXOj0WivOv+Eq1n/n8/8AISf4Uf8ACVaz/wA/n/kJP8KPYyDnR6LRXnX/AAlWs/8AP5/5CT/Cj/hKtZ/5/P8AyEn+FHsZBzo9Fork/DfiS7vdQFnfMJfMBKOFAIIGccewNbGu6nJp1vGIAPNlJAJGcAdf51yYmrHC03UqbI1pxdWSjE1KK4r/AISDU/8An5/8hr/hR/wkGp/8/P8A5DX/AArw/wDWHC/yy+5f5nb9Qq91/XyO1oriv+Eg1P8A5+f/ACGv+FH/AAkGp/8APz/5DX/Cj/WHC/yy+5f5h9Qq91/XyO1oriv+Eg1P/n5/8hr/AIUf8JBqf/Pz/wCQ1/wo/wBYcL/LL7l/mH1Cr3X9fI7WiuK/4SDU/wDn5/8AIa/4V0OhanJqNvIJwPNiIBIGMg9P5V1YXN8PiqvsoJpvv/w7M6uEqUo8zNSiuT8SeJLuy1A2diwi8sAu5UEkkZxz7EVjf8JVrP8Az+f+Qk/wr3FTk1c4nJI9Forzr/hKtZ/5/P8AyEn+FH/CVaz/AM/n/kJP8KfsZC50ei0V51/wlWs/8/n/AJCT/Cj/AISrWf8An8/8hJ/hR7GQc6PRaK86/wCEq1n/AJ/P/ISf4UqeK9YVgTdBwD90xLg/kKPZSDnR6JRVTS73+0dMgugu3zF5HoQcH9RVusdiwryjxp/yN97/ANs//Ra16vXlHjT/AJG+9/7Z/wDota83Mf4S9f0Zy4r4F6mFRRRXhHnhRRRQAUUUUAFer+C/+RQsv+2n/oxq8or1fwX/AMihZf8AbT/0Y1ell38V+n6o6sL8b9DgKKKK+sOgKKKKACiiigAooooA9F8Vf8izdf8AAP8A0Na86r0XxV/yLN1/wD/0Na86rGj8Jc9wooorYgKKKKACiiigDX8K/wDIzWv/AAP/ANAaui8W/wDLp/wP/wBlrnfCv/IzWv8AwP8A9Aaui8W/8un/AAP/ANlr5/Pv9yn8v/Skd+B/jL5/kc3RRRX5ufRBRRRQAUUUUAFdJ4S/5e/+Af8As1c3XSeEv+Xv/gH/ALNXrZN/v0Pn+TOXGfwJfL8znfFX/IzXX/AP/QFrIrX8Vf8AIzXX/AP/AEBayK/UI/Cj5l7hRRRVCCiiigAooooA9F8K/wDIs2v/AAP/ANDatesjwr/yLNr/AMD/APQ2rXril8TN1sFeUeNP+Rvvf+2f/ota9Xryjxp/yN97/wBs/wD0WteXmP8ACXr+jObFfAvUwqKKK8I889G8Mafa6Z4XGrC1+1XTIZPlXLdeFX0qovxAtLktDqWkkREYI3iT8CCBWRoniXVNC09N1sZ7BmOwuCAD3Ab+ldTpmq6T4w8y3utOxMibj5ihsDpw45H6V7UantEoUZW02a/U7KcvdUYuz9NzzWZxLPJIqCMMxYIvRcnoKZV/XLBNM1u6s4mLJE+FJ64IyP51QrxrW0OWSak0wr1fwX/yKFl/20/9GNXlFer+C/8AkULL/tp/6MavRy7+K/T9UdGF+N+hwFFFFfWHQS2k/wBmvIZyu/ypFfbnGcHOK7jRfESaxfNb/Ylh2oX3b93cDGMD1rgq6HwV/wAhuT/rg38xUTSa1HFtM1tU8UppupS2n9nrJ5ZHz+ZjOQD02+9cSx3MT0yc1qeJ/wDkZLv6r/6CKyqVOKUUypN3sFFFFaEHovir/kWbr/gH/oa151Xovir/AJFm6/4B/wChrXnVY0fhLnuFFFa3hrT/AO0NZj3jMUP7x/w6D86121IOu0a0h0nS7WC42rNcNzkdWIzj8AMVx3iHT/7O1iWNRiKT95H9D2/A5rstY0efUru3mivBALc7lXZn5s9evsKreLtPN3pIuFGZbb5jjuvf/H8K54y97m7mvLpY4OiiiukyNfwr/wAjNa/8D/8AQGrovFv/AC6f8D/9lrnfCv8AyM1r/wAD/wDQGrovFv8Ay6f8D/8AZa+fz7/cp/L/ANKR34H+Mvn+RzdFFFfm59EdT4VUGynyAf3np7U1PEdvJP5NxZ7ULbSchh+IxT/Cn/HjP/10/pTrTR9Ke6LxTm4dTuKmQHHPoK+1oLEvD4dUGkmne9tf177Hjz9n7WbqJlDxHpkNoY7i2UIrnayDoD7VhVt+JL8z3ItVRlWE87v4j/hWJXzWZey+tz9jt+vX8T0MNz+yXPuFdJ4S/wCXv/gH/s1c3XSeEv8Al7/4B/7NW2Tf79D5/kycZ/Al8vzOd8Vf8jNdf8A/9AWsitfxV/yM11/wD/0BayK/UI/Cj5l7hXeeHpFt/CIuDGHMYkfHTOCe9cHXe+HZvs3hAT7d/lrI23OM4JOKir8JUPiM7/hN0/6Ba/8Af7/7Gubv7r7bfzXIj8sSNu2Zziuk/wCE3X/oGL/3+/8Asa5RjuYn1OaIRs72sDem4lFFFakHovhX/kWbX/gf/obVr1keFf8AkWbX/gf/AKG1a9cUviZutgryjxp/yN97/wBs/wD0Wter15R40/5G+9/7Z/8Aota8vMf4S9f0ZzYr4F6mFRRRXhHnnV6N43fTdPjsrixjmijG1SjbTj3GCD+lXbj4hRRwsumaaI2YfekIAB+g6/nXD0V1/XK3La5rGtOKsmSXFxLdXEk9w5eSRizMe5qOiiuQybbd2Fer+C/+RQsv+2n/AKMavKK9X8F/8ihZf9tP/RjV6WXfxX6fqjqwvxv0OAooor6w6ArQ0XVf7HvmuPJ87chTbv29wc5wfSs+iluBb1W//tLUpbsReV5mPl3ZxgY6/hVSiihKysht3CiiimI9F8Vf8izdf8A/9DWvOq9F8Vf8izdf8A/9DWvOqxo/CXPcK2tE8QJo1tIiWfmySNkyGTH0GMVi0Vq0mrMjYdLI00zyyHLuxZj6k1taR4lOmae9pLa/aY2JIzJtwD1HQ1h0UOKasx3d7isVLkoCFzwCc4FJRRTEa/hX/kZrX/gf/oDV0Xi3/l0/4H/7LXO+Ff8AkZrX/gf/AKA1dF4t/wCXT/gf/stfP59/uU/l/wClI78D/GXz/I5uiiivzc+iNXSta/syB4/s/m723Z37ccfSqdreyWl8LmLghslc9R6VWorpeKrNQXN8G3kZ+yhdu2+5o6rqcepsji28qReC2/OR6dKzqKKzq1Z1pupPd/10KhBQjyx2Cuk8Jf8AL3/wD/2aubrpPCX/AC9/8A/9mr0cm/36Hz/JnPjP4Evl+Zzvir/kZrr/AIB/6AtZFa/ir/kZrr/gH/oC1kV+oR+FHzL3Cuh0nxV/ZmmpaGy83aSd3m4zk56YNc9RTaTVmCdjrP8AhN0/6Ba/9/v/ALGuc1K8GoajLdCPyhIQdmc44x1qtRUqEU7oHJsKKKKsR6L4V/5Fm1/4H/6G1a9ZHhX/AJFm1/4H/wChtWvXFL4mbrYK8q8bRsni26ZlIDhGU+o2AfzBr1WqWo6Np+rBRqFssxT7rZII/Ec1x4qg69PlTMq1N1I2R4xRXq//AAhegf8APh/5Gk/+Ko/4QvQP+fD/AMjSf/FV5n9nVe6/H/I5fqs+6PKKK9X/AOEL0D/nw/8AI0n/AMVR/wAIXoH/AD4f+RpP/iqP7Oq91+P+QfVZ90eUUV6v/wAIXoH/AD4f+RpP/iqP+EL0D/nw/wDI0n/xVH9nVe6/H/IPqs+6PKK9Z8HI0fhKxDgqSHbB9C7EfoaE8HaDHIHXT1JByN0jsPyJxW0qhVCqAFAwAB0rswmElRk5SZtRoum7s8ldGjkZHGGUkEHsaSvTLvQdMvZjLc2is56spK5+uCM1B/wiujf8+f8A5Ff/ABr2vbI15GedUV6L/wAIro3/AD5/+RX/AMaP+EV0b/nz/wDIr/40e2iHIzzqivRf+EV0b/nz/wDIr/40f8Iro3/Pn/5Ff/Gj20Q5GedUqI0kiogyzEAAdzXon/CK6N/z5/8AkV/8antNC0yymEttaKsg6MSWx9Mk4o9sg5GReJ0Z/Dd2FGThT+AYE15xXrbAMpVgCCMEHvWU3hjR3YsbMZPpIwH5A1FOooqzKlG55zRXov8Awiujf8+f/kV/8aP+EV0b/nz/APIr/wCNX7aJPIzzqivRf+EV0b/nz/8AIr/40f8ACK6N/wA+f/kV/wDGj20Q5GedUV6L/wAIro3/AD5/+RX/AMaP+EV0b/nz/wDIr/40e2iHIzkvCiM3iS3KjIUOW9htI/qK6LxapKWrY+UFwT9cf4VsWWmWenKRZW6xbupGST+J5qaeCK5iMc6K6HqCK83MaLxlCVJO1/0dzpw8/YzUmeeUV2v/AAj+mf8APt/5Eb/Gj/hH9M/59v8AyI3+NfIf6vYr+aP3v/I9b6/S7P8Ar5nFUV2v/CP6Z/z7f+RG/wAaP+Ef0z/n2/8AIjf40f6vYr+aP3v/ACD6/S7P+vmcVRXa/wDCP6Z/z7f+RG/xo/4R/TP+fb/yI3+NH+r2K/mj97/yD6/S7P8Ar5nFV0vhJSEumx8pKAH6Z/xrQ/4R/TP+fb/yI3+NXoIIraIRwIqIOgAr0MuyathsQq1SS0vtftbsjnxGMhUpuEVuef8AitGXxJcFhgMEK+42gf0rHr1K90yz1EAXlusu3oTwR+I5ql/wiujf8+f/AJFf/GvsI1UlZnkuDuedUV6L/wAIro3/AD5/+RX/AMaP+EV0b/nz/wDIr/40/bRFyM86or0X/hFdG/58/wDyK/8AjR/wiujf8+f/AJFf/Gj20Q5GedUV6L/wiujf8+f/AJFf/GnJ4Z0eNwy2Skj+87MPyJo9tEORh4YRk8N2gcYOGPPoWJFatIAFUBQAAMADtS1zt3dzVH//2Q==)"
      ]
    },
    {
      "cell_type": "code",
      "execution_count": 37,
      "metadata": {
        "colab": {
          "base_uri": "https://localhost:8080/"
        },
        "id": "MjJSO74wyFqo",
        "outputId": "71a8a932-75fc-4bd7-de08-d7127301c8c0"
      },
      "outputs": [
        {
          "name": "stdout",
          "output_type": "stream",
          "text": [
            "Top 10 recommended 1st guess:\n",
            " Word  IG Score\n",
            "tares  6.194053\n",
            "lares  6.149919\n",
            "rales  6.114343\n",
            "rates  6.096243\n",
            "teras  6.076619\n",
            "nares  6.066831\n",
            "soare  6.061395\n",
            "tales  6.054988\n",
            "reais  6.049778\n",
            "tears  6.032339\n",
            "Attempt  1 / 6\n",
            "Which word did you guess? tares\n",
            "What is the result? 10011\n"
          ]
        },
        {
          "output_type": "stream",
          "name": "stderr",
          "text": [
            "100%|██████████| 96/96 [00:00<00:00, 138.74it/s]\n"
          ]
        },
        {
          "name": "stdout",
          "output_type": "stream",
          "text": [
            "# of words remaining 96\n",
            "Top 10 recommended guess:\n",
            " Word    Score\n",
            "sente 6.106118\n",
            "stept 6.083382\n",
            "stent 5.843787\n",
            "suete 5.695349\n",
            "styte 5.600700\n",
            "steme 5.082155\n",
            "stele 5.081460\n",
            "stede 5.014712\n",
            "geste 4.963633\n",
            "egest 4.667513\n",
            "------------------------------\n",
            "Attempt  2 / 6\n",
            "Which word did you guess? sente\n",
            "What is the result? 12020\n"
          ]
        },
        {
          "output_type": "stream",
          "name": "stderr",
          "text": [
            "100%|██████████| 8/8 [00:00<00:00, 290.97it/s]\n"
          ]
        },
        {
          "name": "stdout",
          "output_type": "stream",
          "text": [
            "# of words remaining 8\n",
            "Top 10 recommended guess:\n",
            " Word    Score\n",
            "pesty 1.811278\n",
            "pesto 1.548795\n",
            "yesty 1.405639\n",
            "festy 1.405639\n",
            "zesty 1.405639\n",
            "besti 1.061278\n",
            "mesto 1.061278\n",
            "cesti 1.061278\n",
            "------------------------------\n",
            "Attempt  3 / 6\n",
            "Which word did you guess? pesty\n",
            "What is the result? 02222\n"
          ]
        },
        {
          "output_type": "stream",
          "name": "stderr",
          "text": [
            "100%|██████████| 3/3 [00:00<00:00, 292.10it/s]\n"
          ]
        },
        {
          "name": "stdout",
          "output_type": "stream",
          "text": [
            "# of words remaining 3\n",
            "Top 10 recommended guess:\n",
            " Word    Score\n",
            "yesty 0.918296\n",
            "festy 0.918296\n",
            "zesty 0.918296\n",
            "------------------------------\n",
            "Attempt  4 / 6\n",
            "Which word did you guess? yesty\n",
            "What is the result? 02222\n"
          ]
        },
        {
          "output_type": "stream",
          "name": "stderr",
          "text": [
            "100%|██████████| 2/2 [00:00<00:00, 311.38it/s]\n"
          ]
        },
        {
          "name": "stdout",
          "output_type": "stream",
          "text": [
            "# of words remaining 2\n",
            "Top 10 recommended guess:\n",
            " Word  Score\n",
            "festy    1.0\n",
            "zesty    1.0\n",
            "------------------------------\n",
            "Attempt  5 / 6\n",
            "Which word did you guess? festy\n",
            "What is the result? 02222\n"
          ]
        },
        {
          "output_type": "stream",
          "name": "stderr",
          "text": [
            "100%|██████████| 1/1 [00:00<00:00, 286.36it/s]\n"
          ]
        },
        {
          "output_type": "stream",
          "name": "stdout",
          "text": [
            "# of words remaining 1\n",
            "Top 10 recommended guess:\n",
            " Word  Score\n",
            "zesty    0.0\n",
            "------------------------------\n",
            "Attempt  6 / 6\n",
            "Which word did you guess? zesty\n",
            "What is the result? 22222\n",
            "You won!\n",
            "Game Over\n"
          ]
        }
      ],
      "source": [
        "# Result color code: Grey=0, Yellow=1, Green=2\n",
        "# Example: 01002, if second letter is yellow and last letter is green\n",
        "wordle_solver()"
      ]
    },
    {
      "cell_type": "markdown",
      "metadata": {
        "id": "MnjcGlc-88tY"
      },
      "source": [
        "# Part 3 - Wordle Solver with Machine Learning Added"
      ]
    },
    {
      "cell_type": "markdown",
      "metadata": {
        "id": "EmcgNHOnLguQ"
      },
      "source": [
        "## Cleaning and Feature Engineering"
      ]
    },
    {
      "cell_type": "markdown",
      "metadata": {
        "id": "Z8uxHIkSQ1dI"
      },
      "source": [
        "Create ML_df which is full list of words with extra details used for ML"
      ]
    },
    {
      "cell_type": "code",
      "execution_count": 16,
      "metadata": {
        "colab": {
          "base_uri": "https://localhost:8080/",
          "height": 224
        },
        "id": "wls7Q4O8Qwfb",
        "outputId": "9018dff6-faac-4f7d-d43d-64dd0b5c23f0"
      },
      "outputs": [
        {
          "output_type": "stream",
          "name": "stdout",
          "text": [
            "(12972, 1)\n"
          ]
        },
        {
          "output_type": "execute_result",
          "data": {
            "text/plain": [
              "    word\n",
              "0  noles\n",
              "1  melas\n",
              "2  waist\n",
              "3  ohias\n",
              "4  mummy"
            ],
            "text/html": [
              "\n",
              "  <div id=\"df-6a1270a3-05f5-4f30-8d64-8c851c39d703\">\n",
              "    <div class=\"colab-df-container\">\n",
              "      <div>\n",
              "<style scoped>\n",
              "    .dataframe tbody tr th:only-of-type {\n",
              "        vertical-align: middle;\n",
              "    }\n",
              "\n",
              "    .dataframe tbody tr th {\n",
              "        vertical-align: top;\n",
              "    }\n",
              "\n",
              "    .dataframe thead th {\n",
              "        text-align: right;\n",
              "    }\n",
              "</style>\n",
              "<table border=\"1\" class=\"dataframe\">\n",
              "  <thead>\n",
              "    <tr style=\"text-align: right;\">\n",
              "      <th></th>\n",
              "      <th>word</th>\n",
              "    </tr>\n",
              "  </thead>\n",
              "  <tbody>\n",
              "    <tr>\n",
              "      <th>0</th>\n",
              "      <td>noles</td>\n",
              "    </tr>\n",
              "    <tr>\n",
              "      <th>1</th>\n",
              "      <td>melas</td>\n",
              "    </tr>\n",
              "    <tr>\n",
              "      <th>2</th>\n",
              "      <td>waist</td>\n",
              "    </tr>\n",
              "    <tr>\n",
              "      <th>3</th>\n",
              "      <td>ohias</td>\n",
              "    </tr>\n",
              "    <tr>\n",
              "      <th>4</th>\n",
              "      <td>mummy</td>\n",
              "    </tr>\n",
              "  </tbody>\n",
              "</table>\n",
              "</div>\n",
              "      <button class=\"colab-df-convert\" onclick=\"convertToInteractive('df-6a1270a3-05f5-4f30-8d64-8c851c39d703')\"\n",
              "              title=\"Convert this dataframe to an interactive table.\"\n",
              "              style=\"display:none;\">\n",
              "        \n",
              "  <svg xmlns=\"http://www.w3.org/2000/svg\" height=\"24px\"viewBox=\"0 0 24 24\"\n",
              "       width=\"24px\">\n",
              "    <path d=\"M0 0h24v24H0V0z\" fill=\"none\"/>\n",
              "    <path d=\"M18.56 5.44l.94 2.06.94-2.06 2.06-.94-2.06-.94-.94-2.06-.94 2.06-2.06.94zm-11 1L8.5 8.5l.94-2.06 2.06-.94-2.06-.94L8.5 2.5l-.94 2.06-2.06.94zm10 10l.94 2.06.94-2.06 2.06-.94-2.06-.94-.94-2.06-.94 2.06-2.06.94z\"/><path d=\"M17.41 7.96l-1.37-1.37c-.4-.4-.92-.59-1.43-.59-.52 0-1.04.2-1.43.59L10.3 9.45l-7.72 7.72c-.78.78-.78 2.05 0 2.83L4 21.41c.39.39.9.59 1.41.59.51 0 1.02-.2 1.41-.59l7.78-7.78 2.81-2.81c.8-.78.8-2.07 0-2.86zM5.41 20L4 18.59l7.72-7.72 1.47 1.35L5.41 20z\"/>\n",
              "  </svg>\n",
              "      </button>\n",
              "      \n",
              "  <style>\n",
              "    .colab-df-container {\n",
              "      display:flex;\n",
              "      flex-wrap:wrap;\n",
              "      gap: 12px;\n",
              "    }\n",
              "\n",
              "    .colab-df-convert {\n",
              "      background-color: #E8F0FE;\n",
              "      border: none;\n",
              "      border-radius: 50%;\n",
              "      cursor: pointer;\n",
              "      display: none;\n",
              "      fill: #1967D2;\n",
              "      height: 32px;\n",
              "      padding: 0 0 0 0;\n",
              "      width: 32px;\n",
              "    }\n",
              "\n",
              "    .colab-df-convert:hover {\n",
              "      background-color: #E2EBFA;\n",
              "      box-shadow: 0px 1px 2px rgba(60, 64, 67, 0.3), 0px 1px 3px 1px rgba(60, 64, 67, 0.15);\n",
              "      fill: #174EA6;\n",
              "    }\n",
              "\n",
              "    [theme=dark] .colab-df-convert {\n",
              "      background-color: #3B4455;\n",
              "      fill: #D2E3FC;\n",
              "    }\n",
              "\n",
              "    [theme=dark] .colab-df-convert:hover {\n",
              "      background-color: #434B5C;\n",
              "      box-shadow: 0px 1px 3px 1px rgba(0, 0, 0, 0.15);\n",
              "      filter: drop-shadow(0px 1px 2px rgba(0, 0, 0, 0.3));\n",
              "      fill: #FFFFFF;\n",
              "    }\n",
              "  </style>\n",
              "\n",
              "      <script>\n",
              "        const buttonEl =\n",
              "          document.querySelector('#df-6a1270a3-05f5-4f30-8d64-8c851c39d703 button.colab-df-convert');\n",
              "        buttonEl.style.display =\n",
              "          google.colab.kernel.accessAllowed ? 'block' : 'none';\n",
              "\n",
              "        async function convertToInteractive(key) {\n",
              "          const element = document.querySelector('#df-6a1270a3-05f5-4f30-8d64-8c851c39d703');\n",
              "          const dataTable =\n",
              "            await google.colab.kernel.invokeFunction('convertToInteractive',\n",
              "                                                     [key], {});\n",
              "          if (!dataTable) return;\n",
              "\n",
              "          const docLinkHtml = 'Like what you see? Visit the ' +\n",
              "            '<a target=\"_blank\" href=https://colab.research.google.com/notebooks/data_table.ipynb>data table notebook</a>'\n",
              "            + ' to learn more about interactive tables.';\n",
              "          element.innerHTML = '';\n",
              "          dataTable['output_type'] = 'display_data';\n",
              "          await google.colab.output.renderOutput(dataTable, element);\n",
              "          const docLink = document.createElement('div');\n",
              "          docLink.innerHTML = docLinkHtml;\n",
              "          element.appendChild(docLink);\n",
              "        }\n",
              "      </script>\n",
              "    </div>\n",
              "  </div>\n",
              "  "
            ]
          },
          "metadata": {},
          "execution_count": 16
        }
      ],
      "source": [
        "# Create ML_df\n",
        "ML_df = full_df.copy()\n",
        "ML_df.columns = ['word']                                     # Add header so it can be joined (merged) on this column\n",
        "print(ML_df.shape)\n",
        "ML_df.head()"
      ]
    },
    {
      "cell_type": "markdown",
      "metadata": {
        "id": "7iyNsH3GRjhK"
      },
      "source": [
        "### Add a column for Answer\n",
        "\n",
        "- This will be a boolean showing whether the word was used as answer before\n",
        "- This column will be used as output(y) in ML models"
      ]
    },
    {
      "cell_type": "code",
      "source": [
        "# Update answer column on ML_df, showing if the word was used as answer\n",
        "answer_check = ML_df['word'].isin(real_list)\n",
        "ML_df['answer'] = answer_check.astype(int)                      # Convert bool to int\n",
        "\n",
        "# Double check that we have the correct number of answer set to 1 or True\n",
        "print(len(real_list))\n",
        "print(sum(ML_df['answer']))\n",
        "\n",
        "print(ML_df.shape)\n",
        "ML_df.head()"
      ],
      "metadata": {
        "colab": {
          "base_uri": "https://localhost:8080/",
          "height": 258
        },
        "id": "EnpwBRoHIyt6",
        "outputId": "966d1563-7e9d-4947-c9d3-643ea99dd239"
      },
      "execution_count": 17,
      "outputs": [
        {
          "output_type": "stream",
          "name": "stdout",
          "text": [
            "2315\n",
            "2315\n",
            "(12972, 2)\n"
          ]
        },
        {
          "output_type": "execute_result",
          "data": {
            "text/plain": [
              "    word  answer\n",
              "0  noles       0\n",
              "1  melas       0\n",
              "2  waist       1\n",
              "3  ohias       0\n",
              "4  mummy       1"
            ],
            "text/html": [
              "\n",
              "  <div id=\"df-703ea042-43a3-4a09-b61a-78e4c1234fa0\">\n",
              "    <div class=\"colab-df-container\">\n",
              "      <div>\n",
              "<style scoped>\n",
              "    .dataframe tbody tr th:only-of-type {\n",
              "        vertical-align: middle;\n",
              "    }\n",
              "\n",
              "    .dataframe tbody tr th {\n",
              "        vertical-align: top;\n",
              "    }\n",
              "\n",
              "    .dataframe thead th {\n",
              "        text-align: right;\n",
              "    }\n",
              "</style>\n",
              "<table border=\"1\" class=\"dataframe\">\n",
              "  <thead>\n",
              "    <tr style=\"text-align: right;\">\n",
              "      <th></th>\n",
              "      <th>word</th>\n",
              "      <th>answer</th>\n",
              "    </tr>\n",
              "  </thead>\n",
              "  <tbody>\n",
              "    <tr>\n",
              "      <th>0</th>\n",
              "      <td>noles</td>\n",
              "      <td>0</td>\n",
              "    </tr>\n",
              "    <tr>\n",
              "      <th>1</th>\n",
              "      <td>melas</td>\n",
              "      <td>0</td>\n",
              "    </tr>\n",
              "    <tr>\n",
              "      <th>2</th>\n",
              "      <td>waist</td>\n",
              "      <td>1</td>\n",
              "    </tr>\n",
              "    <tr>\n",
              "      <th>3</th>\n",
              "      <td>ohias</td>\n",
              "      <td>0</td>\n",
              "    </tr>\n",
              "    <tr>\n",
              "      <th>4</th>\n",
              "      <td>mummy</td>\n",
              "      <td>1</td>\n",
              "    </tr>\n",
              "  </tbody>\n",
              "</table>\n",
              "</div>\n",
              "      <button class=\"colab-df-convert\" onclick=\"convertToInteractive('df-703ea042-43a3-4a09-b61a-78e4c1234fa0')\"\n",
              "              title=\"Convert this dataframe to an interactive table.\"\n",
              "              style=\"display:none;\">\n",
              "        \n",
              "  <svg xmlns=\"http://www.w3.org/2000/svg\" height=\"24px\"viewBox=\"0 0 24 24\"\n",
              "       width=\"24px\">\n",
              "    <path d=\"M0 0h24v24H0V0z\" fill=\"none\"/>\n",
              "    <path d=\"M18.56 5.44l.94 2.06.94-2.06 2.06-.94-2.06-.94-.94-2.06-.94 2.06-2.06.94zm-11 1L8.5 8.5l.94-2.06 2.06-.94-2.06-.94L8.5 2.5l-.94 2.06-2.06.94zm10 10l.94 2.06.94-2.06 2.06-.94-2.06-.94-.94-2.06-.94 2.06-2.06.94z\"/><path d=\"M17.41 7.96l-1.37-1.37c-.4-.4-.92-.59-1.43-.59-.52 0-1.04.2-1.43.59L10.3 9.45l-7.72 7.72c-.78.78-.78 2.05 0 2.83L4 21.41c.39.39.9.59 1.41.59.51 0 1.02-.2 1.41-.59l7.78-7.78 2.81-2.81c.8-.78.8-2.07 0-2.86zM5.41 20L4 18.59l7.72-7.72 1.47 1.35L5.41 20z\"/>\n",
              "  </svg>\n",
              "      </button>\n",
              "      \n",
              "  <style>\n",
              "    .colab-df-container {\n",
              "      display:flex;\n",
              "      flex-wrap:wrap;\n",
              "      gap: 12px;\n",
              "    }\n",
              "\n",
              "    .colab-df-convert {\n",
              "      background-color: #E8F0FE;\n",
              "      border: none;\n",
              "      border-radius: 50%;\n",
              "      cursor: pointer;\n",
              "      display: none;\n",
              "      fill: #1967D2;\n",
              "      height: 32px;\n",
              "      padding: 0 0 0 0;\n",
              "      width: 32px;\n",
              "    }\n",
              "\n",
              "    .colab-df-convert:hover {\n",
              "      background-color: #E2EBFA;\n",
              "      box-shadow: 0px 1px 2px rgba(60, 64, 67, 0.3), 0px 1px 3px 1px rgba(60, 64, 67, 0.15);\n",
              "      fill: #174EA6;\n",
              "    }\n",
              "\n",
              "    [theme=dark] .colab-df-convert {\n",
              "      background-color: #3B4455;\n",
              "      fill: #D2E3FC;\n",
              "    }\n",
              "\n",
              "    [theme=dark] .colab-df-convert:hover {\n",
              "      background-color: #434B5C;\n",
              "      box-shadow: 0px 1px 3px 1px rgba(0, 0, 0, 0.15);\n",
              "      filter: drop-shadow(0px 1px 2px rgba(0, 0, 0, 0.3));\n",
              "      fill: #FFFFFF;\n",
              "    }\n",
              "  </style>\n",
              "\n",
              "      <script>\n",
              "        const buttonEl =\n",
              "          document.querySelector('#df-703ea042-43a3-4a09-b61a-78e4c1234fa0 button.colab-df-convert');\n",
              "        buttonEl.style.display =\n",
              "          google.colab.kernel.accessAllowed ? 'block' : 'none';\n",
              "\n",
              "        async function convertToInteractive(key) {\n",
              "          const element = document.querySelector('#df-703ea042-43a3-4a09-b61a-78e4c1234fa0');\n",
              "          const dataTable =\n",
              "            await google.colab.kernel.invokeFunction('convertToInteractive',\n",
              "                                                     [key], {});\n",
              "          if (!dataTable) return;\n",
              "\n",
              "          const docLinkHtml = 'Like what you see? Visit the ' +\n",
              "            '<a target=\"_blank\" href=https://colab.research.google.com/notebooks/data_table.ipynb>data table notebook</a>'\n",
              "            + ' to learn more about interactive tables.';\n",
              "          element.innerHTML = '';\n",
              "          dataTable['output_type'] = 'display_data';\n",
              "          await google.colab.output.renderOutput(dataTable, element);\n",
              "          const docLink = document.createElement('div');\n",
              "          docLink.innerHTML = docLinkHtml;\n",
              "          element.appendChild(docLink);\n",
              "        }\n",
              "      </script>\n",
              "    </div>\n",
              "  </div>\n",
              "  "
            ]
          },
          "metadata": {},
          "execution_count": 17
        }
      ]
    },
    {
      "cell_type": "markdown",
      "metadata": {
        "id": "jWzms2j8-pW4"
      },
      "source": [
        "### Add a column for Word Frequency\n",
        "\n",
        "- This column uses the number of count for this word as frequency\n",
        "- Source: https://www.kaggle.com/rtatman/english-word-frequency?select=unigram_freq.csv\n",
        "- This column will be used as one of the inputs(X) in the ML models"
      ]
    },
    {
      "cell_type": "code",
      "execution_count": 18,
      "metadata": {
        "colab": {
          "base_uri": "https://localhost:8080/",
          "height": 258
        },
        "id": "MqCRgALq88Mj",
        "outputId": "062568c2-3bd6-4fd3-945e-05bbc95f1d59"
      },
      "outputs": [
        {
          "output_type": "stream",
          "name": "stdout",
          "text": [
            "(333333, 2)\n",
            "(8092, 2)\n",
            "(12972, 4)\n"
          ]
        },
        {
          "output_type": "execute_result",
          "data": {
            "text/plain": [
              "    word  answer      count  count_norm\n",
              "0  noles       0    55380.0    0.000015\n",
              "1  melas       0    64255.0    0.000018\n",
              "2  waist       1  5013500.0    0.001391\n",
              "3  ohias       0        0.0    0.000000\n",
              "4  mummy       1  1878933.0    0.000521"
            ],
            "text/html": [
              "\n",
              "  <div id=\"df-02df41f4-0891-46bb-ab08-e097c12c5356\">\n",
              "    <div class=\"colab-df-container\">\n",
              "      <div>\n",
              "<style scoped>\n",
              "    .dataframe tbody tr th:only-of-type {\n",
              "        vertical-align: middle;\n",
              "    }\n",
              "\n",
              "    .dataframe tbody tr th {\n",
              "        vertical-align: top;\n",
              "    }\n",
              "\n",
              "    .dataframe thead th {\n",
              "        text-align: right;\n",
              "    }\n",
              "</style>\n",
              "<table border=\"1\" class=\"dataframe\">\n",
              "  <thead>\n",
              "    <tr style=\"text-align: right;\">\n",
              "      <th></th>\n",
              "      <th>word</th>\n",
              "      <th>answer</th>\n",
              "      <th>count</th>\n",
              "      <th>count_norm</th>\n",
              "    </tr>\n",
              "  </thead>\n",
              "  <tbody>\n",
              "    <tr>\n",
              "      <th>0</th>\n",
              "      <td>noles</td>\n",
              "      <td>0</td>\n",
              "      <td>55380.0</td>\n",
              "      <td>0.000015</td>\n",
              "    </tr>\n",
              "    <tr>\n",
              "      <th>1</th>\n",
              "      <td>melas</td>\n",
              "      <td>0</td>\n",
              "      <td>64255.0</td>\n",
              "      <td>0.000018</td>\n",
              "    </tr>\n",
              "    <tr>\n",
              "      <th>2</th>\n",
              "      <td>waist</td>\n",
              "      <td>1</td>\n",
              "      <td>5013500.0</td>\n",
              "      <td>0.001391</td>\n",
              "    </tr>\n",
              "    <tr>\n",
              "      <th>3</th>\n",
              "      <td>ohias</td>\n",
              "      <td>0</td>\n",
              "      <td>0.0</td>\n",
              "      <td>0.000000</td>\n",
              "    </tr>\n",
              "    <tr>\n",
              "      <th>4</th>\n",
              "      <td>mummy</td>\n",
              "      <td>1</td>\n",
              "      <td>1878933.0</td>\n",
              "      <td>0.000521</td>\n",
              "    </tr>\n",
              "  </tbody>\n",
              "</table>\n",
              "</div>\n",
              "      <button class=\"colab-df-convert\" onclick=\"convertToInteractive('df-02df41f4-0891-46bb-ab08-e097c12c5356')\"\n",
              "              title=\"Convert this dataframe to an interactive table.\"\n",
              "              style=\"display:none;\">\n",
              "        \n",
              "  <svg xmlns=\"http://www.w3.org/2000/svg\" height=\"24px\"viewBox=\"0 0 24 24\"\n",
              "       width=\"24px\">\n",
              "    <path d=\"M0 0h24v24H0V0z\" fill=\"none\"/>\n",
              "    <path d=\"M18.56 5.44l.94 2.06.94-2.06 2.06-.94-2.06-.94-.94-2.06-.94 2.06-2.06.94zm-11 1L8.5 8.5l.94-2.06 2.06-.94-2.06-.94L8.5 2.5l-.94 2.06-2.06.94zm10 10l.94 2.06.94-2.06 2.06-.94-2.06-.94-.94-2.06-.94 2.06-2.06.94z\"/><path d=\"M17.41 7.96l-1.37-1.37c-.4-.4-.92-.59-1.43-.59-.52 0-1.04.2-1.43.59L10.3 9.45l-7.72 7.72c-.78.78-.78 2.05 0 2.83L4 21.41c.39.39.9.59 1.41.59.51 0 1.02-.2 1.41-.59l7.78-7.78 2.81-2.81c.8-.78.8-2.07 0-2.86zM5.41 20L4 18.59l7.72-7.72 1.47 1.35L5.41 20z\"/>\n",
              "  </svg>\n",
              "      </button>\n",
              "      \n",
              "  <style>\n",
              "    .colab-df-container {\n",
              "      display:flex;\n",
              "      flex-wrap:wrap;\n",
              "      gap: 12px;\n",
              "    }\n",
              "\n",
              "    .colab-df-convert {\n",
              "      background-color: #E8F0FE;\n",
              "      border: none;\n",
              "      border-radius: 50%;\n",
              "      cursor: pointer;\n",
              "      display: none;\n",
              "      fill: #1967D2;\n",
              "      height: 32px;\n",
              "      padding: 0 0 0 0;\n",
              "      width: 32px;\n",
              "    }\n",
              "\n",
              "    .colab-df-convert:hover {\n",
              "      background-color: #E2EBFA;\n",
              "      box-shadow: 0px 1px 2px rgba(60, 64, 67, 0.3), 0px 1px 3px 1px rgba(60, 64, 67, 0.15);\n",
              "      fill: #174EA6;\n",
              "    }\n",
              "\n",
              "    [theme=dark] .colab-df-convert {\n",
              "      background-color: #3B4455;\n",
              "      fill: #D2E3FC;\n",
              "    }\n",
              "\n",
              "    [theme=dark] .colab-df-convert:hover {\n",
              "      background-color: #434B5C;\n",
              "      box-shadow: 0px 1px 3px 1px rgba(0, 0, 0, 0.15);\n",
              "      filter: drop-shadow(0px 1px 2px rgba(0, 0, 0, 0.3));\n",
              "      fill: #FFFFFF;\n",
              "    }\n",
              "  </style>\n",
              "\n",
              "      <script>\n",
              "        const buttonEl =\n",
              "          document.querySelector('#df-02df41f4-0891-46bb-ab08-e097c12c5356 button.colab-df-convert');\n",
              "        buttonEl.style.display =\n",
              "          google.colab.kernel.accessAllowed ? 'block' : 'none';\n",
              "\n",
              "        async function convertToInteractive(key) {\n",
              "          const element = document.querySelector('#df-02df41f4-0891-46bb-ab08-e097c12c5356');\n",
              "          const dataTable =\n",
              "            await google.colab.kernel.invokeFunction('convertToInteractive',\n",
              "                                                     [key], {});\n",
              "          if (!dataTable) return;\n",
              "\n",
              "          const docLinkHtml = 'Like what you see? Visit the ' +\n",
              "            '<a target=\"_blank\" href=https://colab.research.google.com/notebooks/data_table.ipynb>data table notebook</a>'\n",
              "            + ' to learn more about interactive tables.';\n",
              "          element.innerHTML = '';\n",
              "          dataTable['output_type'] = 'display_data';\n",
              "          await google.colab.output.renderOutput(dataTable, element);\n",
              "          const docLink = document.createElement('div');\n",
              "          docLink.innerHTML = docLinkHtml;\n",
              "          element.appendChild(docLink);\n",
              "        }\n",
              "      </script>\n",
              "    </div>\n",
              "  </div>\n",
              "  "
            ]
          },
          "metadata": {},
          "execution_count": 18
        }
      ],
      "source": [
        "from sklearn import preprocessing\n",
        "\n",
        "# Load word frequency file\n",
        "freq_df = pd.read_csv('/content/drive/MyDrive/Wordle/Data/unigram_freq.csv')\n",
        "print(freq_df.shape)\n",
        "\n",
        "# Only keep words in wordle full list\n",
        "freq_wordle_df = freq_df.loc[freq_df['word'].isin(full_list)]\n",
        "print(freq_wordle_df.shape)\n",
        "\n",
        "# Add new column to ML_df, showing frequency\n",
        "ML_df = pd.merge(ML_df, freq_wordle_df, on='word', how='left')\n",
        "ML_df['count'] = ML_df['count'].fillna(0)                     # Replace NaN with 0\n",
        "\n",
        "# Add new column to ML_df, showing normalized frequency\n",
        "count_norm = preprocessing.normalize([ML_df['count']])\n",
        "ML_df['count_norm'] = count_norm[0]\n",
        "\n",
        "print(ML_df.shape)\n",
        "ML_df.head()"
      ]
    },
    {
      "cell_type": "markdown",
      "metadata": {
        "id": "cjYN7FoJ30Dv"
      },
      "source": [
        "### Add a column for Base Form\n",
        "\n",
        "- This will be a boolean showing if the word is in its base form\n",
        "- I hypothesized that plural forms and past tense words will less likely be picked as answer\n",
        "- If this is confirmed, then the number of likely guesses can be reduced\n",
        "- This column will be used as one of the inputs(X) in the ML models"
      ]
    },
    {
      "cell_type": "code",
      "execution_count": 19,
      "metadata": {
        "id": "qC0WnLls3xe3",
        "colab": {
          "base_uri": "https://localhost:8080/"
        },
        "outputId": "c279ad58-d2c0-4843-e5d0-34b9b1605d84"
      },
      "outputs": [
        {
          "output_type": "stream",
          "name": "stdout",
          "text": [
            "[nltk_data] Downloading package wordnet to /root/nltk_data...\n",
            "[nltk_data]   Unzipping corpora/wordnet.zip.\n"
          ]
        }
      ],
      "source": [
        "import nltk\n",
        "from nltk.stem import WordNetLemmatizer\n",
        "nltk.download('wordnet')\n",
        "\n",
        "# Save the lemmatizer into an object\n",
        "wordnet_lemmatizer = WordNetLemmatizer()\n",
        "\n",
        "# Create list of lemmatized singular words (for noun) from full_list\n",
        "singular_words = []\n",
        "for word in full_list:\n",
        "    if word == wordnet_lemmatizer.lemmatize(word, 'n'):\n",
        "        singular_words.append(word)\n",
        "\n",
        "# Create list of lemmatized present tense words (for verb) from full_list\n",
        "present_words = []\n",
        "for word in full_list:\n",
        "    if word == wordnet_lemmatizer.lemmatize(word, 'v'):\n",
        "        present_words.append(word)\n",
        "\n",
        "# Add new column to ML_df, showing if the word is in singular form (for noun)\n",
        "singular_check = ML_df['word'].isin(singular_words)\n",
        "ML_df['singular'] = singular_check.astype(int)                        # Convert bool to int\n",
        "\n",
        "# Add new column to ML_df, showing if the word is in present form (for verb)\n",
        "present_check = ML_df['word'].isin(present_words)\n",
        "ML_df['present'] = present_check.astype(int)                          # Convert bool to int"
      ]
    },
    {
      "cell_type": "code",
      "execution_count": 20,
      "metadata": {
        "colab": {
          "base_uri": "https://localhost:8080/"
        },
        "id": "fgRSaX365zVG",
        "outputId": "c6718ff9-3e2e-485d-bc5f-78565ee88448"
      },
      "outputs": [
        {
          "output_type": "stream",
          "name": "stdout",
          "text": [
            "      word  answer      count  count_norm  singular  present\n",
            "615  cigar       1  3993843.0    0.001108         1        1\n",
            "\n",
            "        word  answer      count  count_norm  singular  present\n",
            "11739  plush       1  4692870.0    0.001302         1        1\n",
            "\n",
            "       word  answer       count  count_norm  singular  present\n",
            "3331  meals       0  11515834.0    0.003195         0        1\n",
            "\n",
            "       word  answer       count  count_norm  singular  present\n",
            "4429  words       0  90910143.0    0.025222         0        0\n",
            "\n",
            "       word  answer      count  count_norm  singular  present\n",
            "1670  acted       0  4468180.0     0.00124         1        0\n",
            "\n",
            "     word  answer      count  count_norm  singular  present\n",
            "31  boxed       0  5778226.0    0.001603         1        0\n",
            "\n",
            "Count of False\n",
            "2041\n",
            "1413\n"
          ]
        }
      ],
      "source": [
        "# Look at a few words to check if result is right\n",
        "print(ML_df[ML_df['word'] == 'cigar'].to_string())\n",
        "print()\n",
        "print(ML_df[ML_df['word'] == 'plush'].to_string())\n",
        "print()\n",
        "print(ML_df[ML_df['word'] == 'meals'].to_string())              # Plural\n",
        "print()\n",
        "print(ML_df[ML_df['word'] == 'words'].to_string())              # Plural\n",
        "print()\n",
        "print(ML_df[ML_df['word'] == 'acted'].to_string())              # Past tense\n",
        "print()\n",
        "print(ML_df[ML_df['word'] == 'boxed'].to_string())              # Past tense\n",
        "print()\n",
        "\n",
        "print('Count of False')\n",
        "print(len(ML_df[ML_df['singular'] == 0]))\n",
        "print(len(ML_df[ML_df['present'] == 0]))"
      ]
    },
    {
      "cell_type": "markdown",
      "metadata": {
        "id": "lIQ60xse29ks"
      },
      "source": [
        "### Add a column for Name\n",
        "\n",
        "- This will be a boolean showing if the word is in a name\n",
        "- Source: https://github.com/smashew/NameDatabases/blob/master/NamesDatabases/first%20names/us.txt\n",
        "- I hypothesized that words that are common names are less likely be picked as answer (this is actually false, which will be shown later)\n",
        "- If this is confirmed, then the number of likely guesses can be reduced\n",
        "- This column will be used as one of the inputs(X) in the ML models"
      ]
    },
    {
      "cell_type": "code",
      "source": [
        "# Load name file\n",
        "name_df = pd.read_csv('/content/drive/MyDrive/Wordle/Data/common_names.txt', header=None)\n",
        "\n",
        "# Get list of names\n",
        "name_list = name_df[0]\n",
        "\n",
        "# Convert to lower case\n",
        "name_list = list(map(lambda x: x.lower(), name_list))\n",
        "\n",
        "# Only keep words in wordle full list\n",
        "name_wordle_list = [w for w in name_list if w in full_list]\n",
        "\n",
        "# Add new column to ML_df, showing if the word is in a name\n",
        "name_check = ML_df['word'].isin(name_wordle_list)\n",
        "ML_df['name'] = name_check.astype(int)                          # Convert bool to int\n",
        "\n",
        "# Look at a few words to check if result is right\n",
        "print(ML_df[ML_df['word'] == 'billy'].to_string())\n",
        "print()\n",
        "print(ML_df[ML_df['word'] == 'nancy'].to_string())\n",
        "print()\n",
        "print(ML_df[ML_df['word'] == 'jacky'].to_string())              # This name database doesn't have Jacky for some reason\n",
        "print()\n",
        "print(ML_df[ML_df['word'] == 'price'].to_string())\n",
        "print()"
      ],
      "metadata": {
        "colab": {
          "base_uri": "https://localhost:8080/"
        },
        "id": "20CZSeSl3JlG",
        "outputId": "81f2a42e-feae-4779-ed67-1b16839f0f1c"
      },
      "execution_count": 21,
      "outputs": [
        {
          "output_type": "stream",
          "name": "stdout",
          "text": [
            "       word  answer       count  count_norm  singular  present  name\n",
            "5840  billy       1  13515249.0     0.00375         1        1     1\n",
            "\n",
            "       word  answer       count  count_norm  singular  present  name\n",
            "5152  nancy       0  13381057.0    0.003712         1        1     1\n",
            "\n",
            "       word  answer     count  count_norm  singular  present  name\n",
            "6181  jacky       0  395853.0     0.00011         1        1     0\n",
            "\n",
            "      word  answer        count  count_norm  singular  present  name\n",
            "407  price       1  501651226.0     0.13918         1        1     0\n",
            "\n"
          ]
        }
      ]
    },
    {
      "cell_type": "code",
      "execution_count": 22,
      "metadata": {
        "colab": {
          "base_uri": "https://localhost:8080/"
        },
        "id": "TlTBteCXgJMe",
        "outputId": "f0ea9e15-4ed4-46c0-cf23-b731b82be13f"
      },
      "outputs": [
        {
          "output_type": "stream",
          "name": "stdout",
          "text": [
            "A:1, N:1\n",
            "86\n",
            "\n",
            "A:0, N:1\n",
            "145\n",
            "\n",
            "A:1, N:0\n",
            "2229\n",
            "\n",
            "A:0, N:0\n",
            "10512\n"
          ]
        }
      ],
      "source": [
        "# Count of words that are answer and name\n",
        "print('A:1, N:1')\n",
        "print(ML_df[(ML_df['answer'] == 1) & (ML_df['name'] == 1)].shape[0])\n",
        "print()\n",
        "\n",
        "# Count of words that are not answer and name\n",
        "print('A:0, N:1')\n",
        "print(ML_df[(ML_df['answer'] == 0) & (ML_df['name'] == 1)].shape[0])\n",
        "print()\n",
        "\n",
        "# Count of words that are answer and not name\n",
        "print('A:1, N:0')\n",
        "print(ML_df[(ML_df['answer'] == 1) & (ML_df['name'] == 0)].shape[0])\n",
        "print()\n",
        "\n",
        "# Count of words that are not answer and not name\n",
        "print('A:0, N:0')\n",
        "print(ML_df[(ML_df['answer'] == 0) & (ML_df['name'] == 0)].shape[0])"
      ]
    },
    {
      "cell_type": "markdown",
      "metadata": {
        "id": "8CSj9mKUctjD"
      },
      "source": [
        "## Feature selection"
      ]
    },
    {
      "cell_type": "code",
      "execution_count": 23,
      "metadata": {
        "colab": {
          "base_uri": "https://localhost:8080/",
          "height": 143
        },
        "id": "gAiXXHzfcq_-",
        "outputId": "19141219-34a4-4eaa-9d4d-8e087591a290"
      },
      "outputs": [
        {
          "output_type": "execute_result",
          "data": {
            "text/plain": [
              "               count  count_norm  singular  present    name\n",
              "answer                                                     \n",
              "0       1.469030e+06      0.0004    0.8090   0.8764  0.0136\n",
              "1       2.056245e+07      0.0057    0.9974   0.9585  0.0371"
            ],
            "text/html": [
              "\n",
              "  <div id=\"df-4f09120c-c2df-4c65-bd6c-a9b0c18af338\">\n",
              "    <div class=\"colab-df-container\">\n",
              "      <div>\n",
              "<style scoped>\n",
              "    .dataframe tbody tr th:only-of-type {\n",
              "        vertical-align: middle;\n",
              "    }\n",
              "\n",
              "    .dataframe tbody tr th {\n",
              "        vertical-align: top;\n",
              "    }\n",
              "\n",
              "    .dataframe thead th {\n",
              "        text-align: right;\n",
              "    }\n",
              "</style>\n",
              "<table border=\"1\" class=\"dataframe\">\n",
              "  <thead>\n",
              "    <tr style=\"text-align: right;\">\n",
              "      <th></th>\n",
              "      <th>count</th>\n",
              "      <th>count_norm</th>\n",
              "      <th>singular</th>\n",
              "      <th>present</th>\n",
              "      <th>name</th>\n",
              "    </tr>\n",
              "    <tr>\n",
              "      <th>answer</th>\n",
              "      <th></th>\n",
              "      <th></th>\n",
              "      <th></th>\n",
              "      <th></th>\n",
              "      <th></th>\n",
              "    </tr>\n",
              "  </thead>\n",
              "  <tbody>\n",
              "    <tr>\n",
              "      <th>0</th>\n",
              "      <td>1.469030e+06</td>\n",
              "      <td>0.0004</td>\n",
              "      <td>0.8090</td>\n",
              "      <td>0.8764</td>\n",
              "      <td>0.0136</td>\n",
              "    </tr>\n",
              "    <tr>\n",
              "      <th>1</th>\n",
              "      <td>2.056245e+07</td>\n",
              "      <td>0.0057</td>\n",
              "      <td>0.9974</td>\n",
              "      <td>0.9585</td>\n",
              "      <td>0.0371</td>\n",
              "    </tr>\n",
              "  </tbody>\n",
              "</table>\n",
              "</div>\n",
              "      <button class=\"colab-df-convert\" onclick=\"convertToInteractive('df-4f09120c-c2df-4c65-bd6c-a9b0c18af338')\"\n",
              "              title=\"Convert this dataframe to an interactive table.\"\n",
              "              style=\"display:none;\">\n",
              "        \n",
              "  <svg xmlns=\"http://www.w3.org/2000/svg\" height=\"24px\"viewBox=\"0 0 24 24\"\n",
              "       width=\"24px\">\n",
              "    <path d=\"M0 0h24v24H0V0z\" fill=\"none\"/>\n",
              "    <path d=\"M18.56 5.44l.94 2.06.94-2.06 2.06-.94-2.06-.94-.94-2.06-.94 2.06-2.06.94zm-11 1L8.5 8.5l.94-2.06 2.06-.94-2.06-.94L8.5 2.5l-.94 2.06-2.06.94zm10 10l.94 2.06.94-2.06 2.06-.94-2.06-.94-.94-2.06-.94 2.06-2.06.94z\"/><path d=\"M17.41 7.96l-1.37-1.37c-.4-.4-.92-.59-1.43-.59-.52 0-1.04.2-1.43.59L10.3 9.45l-7.72 7.72c-.78.78-.78 2.05 0 2.83L4 21.41c.39.39.9.59 1.41.59.51 0 1.02-.2 1.41-.59l7.78-7.78 2.81-2.81c.8-.78.8-2.07 0-2.86zM5.41 20L4 18.59l7.72-7.72 1.47 1.35L5.41 20z\"/>\n",
              "  </svg>\n",
              "      </button>\n",
              "      \n",
              "  <style>\n",
              "    .colab-df-container {\n",
              "      display:flex;\n",
              "      flex-wrap:wrap;\n",
              "      gap: 12px;\n",
              "    }\n",
              "\n",
              "    .colab-df-convert {\n",
              "      background-color: #E8F0FE;\n",
              "      border: none;\n",
              "      border-radius: 50%;\n",
              "      cursor: pointer;\n",
              "      display: none;\n",
              "      fill: #1967D2;\n",
              "      height: 32px;\n",
              "      padding: 0 0 0 0;\n",
              "      width: 32px;\n",
              "    }\n",
              "\n",
              "    .colab-df-convert:hover {\n",
              "      background-color: #E2EBFA;\n",
              "      box-shadow: 0px 1px 2px rgba(60, 64, 67, 0.3), 0px 1px 3px 1px rgba(60, 64, 67, 0.15);\n",
              "      fill: #174EA6;\n",
              "    }\n",
              "\n",
              "    [theme=dark] .colab-df-convert {\n",
              "      background-color: #3B4455;\n",
              "      fill: #D2E3FC;\n",
              "    }\n",
              "\n",
              "    [theme=dark] .colab-df-convert:hover {\n",
              "      background-color: #434B5C;\n",
              "      box-shadow: 0px 1px 3px 1px rgba(0, 0, 0, 0.15);\n",
              "      filter: drop-shadow(0px 1px 2px rgba(0, 0, 0, 0.3));\n",
              "      fill: #FFFFFF;\n",
              "    }\n",
              "  </style>\n",
              "\n",
              "      <script>\n",
              "        const buttonEl =\n",
              "          document.querySelector('#df-4f09120c-c2df-4c65-bd6c-a9b0c18af338 button.colab-df-convert');\n",
              "        buttonEl.style.display =\n",
              "          google.colab.kernel.accessAllowed ? 'block' : 'none';\n",
              "\n",
              "        async function convertToInteractive(key) {\n",
              "          const element = document.querySelector('#df-4f09120c-c2df-4c65-bd6c-a9b0c18af338');\n",
              "          const dataTable =\n",
              "            await google.colab.kernel.invokeFunction('convertToInteractive',\n",
              "                                                     [key], {});\n",
              "          if (!dataTable) return;\n",
              "\n",
              "          const docLinkHtml = 'Like what you see? Visit the ' +\n",
              "            '<a target=\"_blank\" href=https://colab.research.google.com/notebooks/data_table.ipynb>data table notebook</a>'\n",
              "            + ' to learn more about interactive tables.';\n",
              "          element.innerHTML = '';\n",
              "          dataTable['output_type'] = 'display_data';\n",
              "          await google.colab.output.renderOutput(dataTable, element);\n",
              "          const docLink = document.createElement('div');\n",
              "          docLink.innerHTML = docLinkHtml;\n",
              "          element.appendChild(docLink);\n",
              "        }\n",
              "      </script>\n",
              "    </div>\n",
              "  </div>\n",
              "  "
            ]
          },
          "metadata": {},
          "execution_count": 23
        }
      ],
      "source": [
        "# Group by answer\n",
        "ML_df.groupby(by='answer').mean().round(4)"
      ]
    },
    {
      "cell_type": "markdown",
      "source": [
        "Words that are answer:\n",
        "\n",
        "- tend to have a higher count\n",
        "- are much more likely to be in base form (singular and present)\n",
        "- are slightly more likely to be name"
      ],
      "metadata": {
        "id": "buUl6In3PTMd"
      }
    },
    {
      "cell_type": "code",
      "execution_count": 24,
      "metadata": {
        "colab": {
          "base_uri": "https://localhost:8080/",
          "height": 334
        },
        "id": "So86Qf9yt6ze",
        "outputId": "63472a65-fffb-4564-a7ce-3374a9940bd1"
      },
      "outputs": [
        {
          "output_type": "stream",
          "name": "stdout",
          "text": [
            "count_norm: 0.6888221590935226\n",
            "  singular: 0.27190044077738834\n",
            "   present: 0.021256852495654607\n",
            "      name: 0.01802054763343459\n"
          ]
        },
        {
          "output_type": "display_data",
          "data": {
            "text/plain": [
              "<Figure size 432x288 with 1 Axes>"
            ],
            "image/png": "[encoded data removed]"
          },
          "metadata": {
            "needs_background": "light"
          }
        }
      ],
      "source": [
        "# Decision tree for feature importance on a regression problem\n",
        "from sklearn.tree import DecisionTreeRegressor\n",
        "from matplotlib import pyplot\n",
        "\n",
        "# Define dataset\n",
        "y = ML_df[['answer']]\n",
        "X = ML_df[['count_norm', 'singular', 'present', 'name']]\n",
        "\n",
        "# Define the model (give it max depth of 5, which is one more than features of X)\n",
        "model = DecisionTreeRegressor(max_depth=5, random_state=global_random_state)\n",
        "\n",
        "# Fit the model\n",
        "model.fit(X, y)\n",
        "\n",
        "# Get importance\n",
        "importance = model.feature_importances_\n",
        "\n",
        "# Summarize feature importance\n",
        "\"\"\"\n",
        "for i,v in enumerate(importance):\n",
        "\tprint('Feature: %0d, Score: %.5f' % (i,v))\n",
        "\"\"\"\n",
        "\n",
        "print('count_norm:', importance[0])\n",
        "print('  singular:', importance[1])\n",
        "print('   present:', importance[2])\n",
        "print('      name:', importance[3])\n",
        "\n",
        "# Plot feature importance\n",
        "pyplot.bar([x for x in range(len(importance))], importance)\n",
        "pyplot.show()"
      ]
    },
    {
      "cell_type": "markdown",
      "source": [
        "In conclusion, seems like name is not a good predictor (at least with current setup). It is also shown that my hypothesis about name less likely to be answer is false.\n",
        "\n",
        "This is verified by just looking at the mean, as well as using decision tree regressor to check feature importance.\n",
        "\n",
        "So name column will not be selected as input feature for ML models in later sections.\n",
        "\n",
        "Whether a word is in present tense is also not a useful predictor (surprisingly).\n",
        "\n",
        "Reference: https://machinelearningmastery.com/calculate-feature-importance-with-python/"
      ],
      "metadata": {
        "id": "_vLwJJxSPM8d"
      }
    },
    {
      "cell_type": "markdown",
      "metadata": {
        "id": "DJjQ7WoM9coO"
      },
      "source": [
        "## ML"
      ]
    },
    {
      "cell_type": "code",
      "execution_count": 25,
      "metadata": {
        "id": "Wa6z2hRLSTwv"
      },
      "outputs": [],
      "source": [
        "from sklearn.feature_selection import RFECV\n",
        "from sklearn import model_selection\n",
        "from sklearn.model_selection import train_test_split\n",
        "from sklearn.model_selection import GridSearchCV\n",
        "from sklearn.model_selection import PredefinedSplit\n",
        "from sklearn.model_selection import cross_val_score\n",
        "from sklearn import svm, tree, linear_model, neighbors, naive_bayes, ensemble, discriminant_analysis, gaussian_process\n",
        "from sklearn import metrics\n",
        "\n",
        "import warnings"
      ]
    },
    {
      "cell_type": "markdown",
      "metadata": {
        "id": "gLosbv8cuUYP"
      },
      "source": [
        "### Train Test Split"
      ]
    },
    {
      "cell_type": "code",
      "source": [
        "# Load Wordle answers listed in order; this dataset differs from real_list, because real_list is in random order\n",
        "answer_ordered_df = pd.read_csv('/content/drive/MyDrive/Wordle/Data/Wordle Answers.csv')\n",
        "\n",
        "# Only take 1st 300 words, as currently these answers are known\n",
        "answer_ordered_df = answer_ordered_df[0:300]\n",
        "\n",
        "# Convert into list\n",
        "answer_list = answer_ordered_df['Word'].values.tolist()\n",
        "\n",
        "# Check\n",
        "print(len(answer_list))\n",
        "print(answer_list[0:5])\n",
        "print()\n",
        "\n",
        "# Add new column to ML_df, marking these 300 answers as ones we want to keep for model\n",
        "in_model_check = ML_df['word'].isin(answer_list)\n",
        "ML_df['in_model'] = in_model_check.astype(int)                  # Convert bool to int\n",
        "\n",
        "# Look at a few words to check if result is right\n",
        "print(ML_df[ML_df['word'] == 'cigar'].to_string())\n",
        "print()\n",
        "print(ML_df[ML_df['word'] == 'awake'].to_string())\n",
        "print()\n",
        "print(ML_df[ML_df['word'] == 'heist'].to_string())              # This word is an answer, but it is for a later date, so it should have in_model == 0\n",
        "print()\n",
        "print(ML_df[ML_df['word'] == 'ovolo'].to_string())              # Not an answer and not in model"
      ],
      "metadata": {
        "colab": {
          "base_uri": "https://localhost:8080/"
        },
        "id": "Ai7et0lYKxOL",
        "outputId": "1152e2eb-d111-4c49-ccab-bf76d758b45e"
      },
      "execution_count": 26,
      "outputs": [
        {
          "output_type": "stream",
          "name": "stdout",
          "text": [
            "300\n",
            "['cigar', 'rebut', 'sissy', 'humph', 'awake']\n",
            "\n",
            "      word  answer      count  count_norm  singular  present  name  in_model\n",
            "615  cigar       1  3993843.0    0.001108         1        1     0         1\n",
            "\n",
            "       word  answer      count  count_norm  singular  present  name  in_model\n",
            "7427  awake       1  3230337.0    0.000896         1        1     0         1\n",
            "\n",
            "        word  answer     count  count_norm  singular  present  name  in_model\n",
            "10442  heist       1  419629.0    0.000116         1        1     0         0\n",
            "\n",
            "       word  answer  count  count_norm  singular  present  name  in_model\n",
            "9639  ovolo       0    0.0         0.0         1        1     0         0\n"
          ]
        }
      ]
    },
    {
      "cell_type": "code",
      "execution_count": 27,
      "metadata": {
        "colab": {
          "base_uri": "https://localhost:8080/"
        },
        "id": "cerdEm2_7b62",
        "outputId": "ae1ebe34-deac-4017-a5df-4aad138fd3a3"
      },
      "outputs": [
        {
          "output_type": "stream",
          "name": "stdout",
          "text": [
            "  Full list: 12972\n",
            "Answer list: 2315\n",
            "Ratio: 5.603455723542116\n",
            "ML_300_df: (300, 8)\n",
            "ML_1380_df: (1380, 8)\n",
            "ML_1680_df: (1680, 8)\n"
          ]
        }
      ],
      "source": [
        "# Find ratio of answer and full list\n",
        "print('  Full list:', len(full_list))\n",
        "print('Answer list:', len(real_list))\n",
        "\n",
        "ratio = len(full_list) / len(real_list)\n",
        "print('Ratio:', ratio)\n",
        "\n",
        "# Maintain the ratio in our sample selection\n",
        "# Since there is only 300 words as known answers, use 300 * 5.6 = 1680 as total sample size\n",
        "\n",
        "# Extract 300 entries where word was used as answer, which we marked as in_model\n",
        "ML_300_df = ML_df[ML_df['in_model'] == 1]\n",
        "print('ML_300_df:', ML_300_df.shape)\n",
        "\n",
        "# Extract 1380 entries where word was not used as answer\n",
        "ML_1380_df = ML_df[ML_df['answer'] == 0].sample(n=1380, random_state=1)\n",
        "print('ML_1380_df:', ML_1380_df.shape)\n",
        "\n",
        "# Combine above 2 dataframes, and create the whole set of 1680 words used to run ML model\n",
        "ML_1680_df = pd.concat([ML_300_df, ML_1380_df])\n",
        "print('ML_1680_df:', ML_1680_df.shape)"
      ]
    },
    {
      "cell_type": "code",
      "execution_count": 28,
      "metadata": {
        "colab": {
          "base_uri": "https://localhost:8080/",
          "height": 276
        },
        "id": "HA0gHiDnE-O8",
        "outputId": "c8c7eaa5-07c9-488c-d527-d64522574bc7"
      },
      "outputs": [
        {
          "output_type": "stream",
          "name": "stdout",
          "text": [
            "(1512, 3)\n",
            "(168, 3)\n",
            "(1512,)\n",
            "(168,)\n"
          ]
        },
        {
          "output_type": "execute_result",
          "data": {
            "text/plain": [
              "       count_norm  singular  present\n",
              "34       0.000000         1        1\n",
              "4379     0.000000         1        1\n",
              "12910    0.000027         1        0\n",
              "12847    0.000000         1        1\n",
              "11459    0.000000         1        1"
            ],
            "text/html": [
              "\n",
              "  <div id=\"df-0d0bc138-3c70-4a79-bcf4-e7b60bec6cc3\">\n",
              "    <div class=\"colab-df-container\">\n",
              "      <div>\n",
              "<style scoped>\n",
              "    .dataframe tbody tr th:only-of-type {\n",
              "        vertical-align: middle;\n",
              "    }\n",
              "\n",
              "    .dataframe tbody tr th {\n",
              "        vertical-align: top;\n",
              "    }\n",
              "\n",
              "    .dataframe thead th {\n",
              "        text-align: right;\n",
              "    }\n",
              "</style>\n",
              "<table border=\"1\" class=\"dataframe\">\n",
              "  <thead>\n",
              "    <tr style=\"text-align: right;\">\n",
              "      <th></th>\n",
              "      <th>count_norm</th>\n",
              "      <th>singular</th>\n",
              "      <th>present</th>\n",
              "    </tr>\n",
              "  </thead>\n",
              "  <tbody>\n",
              "    <tr>\n",
              "      <th>34</th>\n",
              "      <td>0.000000</td>\n",
              "      <td>1</td>\n",
              "      <td>1</td>\n",
              "    </tr>\n",
              "    <tr>\n",
              "      <th>4379</th>\n",
              "      <td>0.000000</td>\n",
              "      <td>1</td>\n",
              "      <td>1</td>\n",
              "    </tr>\n",
              "    <tr>\n",
              "      <th>12910</th>\n",
              "      <td>0.000027</td>\n",
              "      <td>1</td>\n",
              "      <td>0</td>\n",
              "    </tr>\n",
              "    <tr>\n",
              "      <th>12847</th>\n",
              "      <td>0.000000</td>\n",
              "      <td>1</td>\n",
              "      <td>1</td>\n",
              "    </tr>\n",
              "    <tr>\n",
              "      <th>11459</th>\n",
              "      <td>0.000000</td>\n",
              "      <td>1</td>\n",
              "      <td>1</td>\n",
              "    </tr>\n",
              "  </tbody>\n",
              "</table>\n",
              "</div>\n",
              "      <button class=\"colab-df-convert\" onclick=\"convertToInteractive('df-0d0bc138-3c70-4a79-bcf4-e7b60bec6cc3')\"\n",
              "              title=\"Convert this dataframe to an interactive table.\"\n",
              "              style=\"display:none;\">\n",
              "        \n",
              "  <svg xmlns=\"http://www.w3.org/2000/svg\" height=\"24px\"viewBox=\"0 0 24 24\"\n",
              "       width=\"24px\">\n",
              "    <path d=\"M0 0h24v24H0V0z\" fill=\"none\"/>\n",
              "    <path d=\"M18.56 5.44l.94 2.06.94-2.06 2.06-.94-2.06-.94-.94-2.06-.94 2.06-2.06.94zm-11 1L8.5 8.5l.94-2.06 2.06-.94-2.06-.94L8.5 2.5l-.94 2.06-2.06.94zm10 10l.94 2.06.94-2.06 2.06-.94-2.06-.94-.94-2.06-.94 2.06-2.06.94z\"/><path d=\"M17.41 7.96l-1.37-1.37c-.4-.4-.92-.59-1.43-.59-.52 0-1.04.2-1.43.59L10.3 9.45l-7.72 7.72c-.78.78-.78 2.05 0 2.83L4 21.41c.39.39.9.59 1.41.59.51 0 1.02-.2 1.41-.59l7.78-7.78 2.81-2.81c.8-.78.8-2.07 0-2.86zM5.41 20L4 18.59l7.72-7.72 1.47 1.35L5.41 20z\"/>\n",
              "  </svg>\n",
              "      </button>\n",
              "      \n",
              "  <style>\n",
              "    .colab-df-container {\n",
              "      display:flex;\n",
              "      flex-wrap:wrap;\n",
              "      gap: 12px;\n",
              "    }\n",
              "\n",
              "    .colab-df-convert {\n",
              "      background-color: #E8F0FE;\n",
              "      border: none;\n",
              "      border-radius: 50%;\n",
              "      cursor: pointer;\n",
              "      display: none;\n",
              "      fill: #1967D2;\n",
              "      height: 32px;\n",
              "      padding: 0 0 0 0;\n",
              "      width: 32px;\n",
              "    }\n",
              "\n",
              "    .colab-df-convert:hover {\n",
              "      background-color: #E2EBFA;\n",
              "      box-shadow: 0px 1px 2px rgba(60, 64, 67, 0.3), 0px 1px 3px 1px rgba(60, 64, 67, 0.15);\n",
              "      fill: #174EA6;\n",
              "    }\n",
              "\n",
              "    [theme=dark] .colab-df-convert {\n",
              "      background-color: #3B4455;\n",
              "      fill: #D2E3FC;\n",
              "    }\n",
              "\n",
              "    [theme=dark] .colab-df-convert:hover {\n",
              "      background-color: #434B5C;\n",
              "      box-shadow: 0px 1px 3px 1px rgba(0, 0, 0, 0.15);\n",
              "      filter: drop-shadow(0px 1px 2px rgba(0, 0, 0, 0.3));\n",
              "      fill: #FFFFFF;\n",
              "    }\n",
              "  </style>\n",
              "\n",
              "      <script>\n",
              "        const buttonEl =\n",
              "          document.querySelector('#df-0d0bc138-3c70-4a79-bcf4-e7b60bec6cc3 button.colab-df-convert');\n",
              "        buttonEl.style.display =\n",
              "          google.colab.kernel.accessAllowed ? 'block' : 'none';\n",
              "\n",
              "        async function convertToInteractive(key) {\n",
              "          const element = document.querySelector('#df-0d0bc138-3c70-4a79-bcf4-e7b60bec6cc3');\n",
              "          const dataTable =\n",
              "            await google.colab.kernel.invokeFunction('convertToInteractive',\n",
              "                                                     [key], {});\n",
              "          if (!dataTable) return;\n",
              "\n",
              "          const docLinkHtml = 'Like what you see? Visit the ' +\n",
              "            '<a target=\"_blank\" href=https://colab.research.google.com/notebooks/data_table.ipynb>data table notebook</a>'\n",
              "            + ' to learn more about interactive tables.';\n",
              "          element.innerHTML = '';\n",
              "          dataTable['output_type'] = 'display_data';\n",
              "          await google.colab.output.renderOutput(dataTable, element);\n",
              "          const docLink = document.createElement('div');\n",
              "          docLink.innerHTML = docLinkHtml;\n",
              "          element.appendChild(docLink);\n",
              "        }\n",
              "      </script>\n",
              "    </div>\n",
              "  </div>\n",
              "  "
            ]
          },
          "metadata": {},
          "execution_count": 28
        }
      ],
      "source": [
        "# Train test split\n",
        "# Note, name is not selected as feature\n",
        "features = ['count_norm', 'singular', 'present']\n",
        "\n",
        "y = ML_1680_df['answer']\n",
        "X = ML_1680_df[features]\n",
        "\n",
        "X_train, X_valid, y_train, y_valid = train_test_split(X, y, test_size=0.1, random_state=global_random_state)\n",
        "\n",
        "print(X_train.shape)\n",
        "print(X_valid.shape)\n",
        "print(y_train.shape)\n",
        "print(y_valid.shape)\n",
        "\n",
        "X_train.head()"
      ]
    },
    {
      "cell_type": "markdown",
      "metadata": {
        "id": "qnPKdvrnLEBn"
      },
      "source": [
        "\n",
        "### Model Selection\n",
        "\n",
        "- Quickly apply multiple ML algorithms, and evaluate which performs better\n",
        "- Codes are from: https://www.kaggle.com/ldfreeman3/a-data-science-framework-to-achieve-99-accuracy\n",
        "- However, I made some adjustments of my own\n"
      ]
    },
    {
      "cell_type": "code",
      "execution_count": 164,
      "metadata": {
        "id": "GjGNsRvo71Xc"
      },
      "outputs": [],
      "source": [
        "\"\"\"\n",
        "# These codes only need to be ran once\n",
        "\"\"\"\n",
        "\n",
        "# Both F1_score and Recall have merits to be the scoring method\n",
        "# F1 score helps find a balanced result\n",
        "# Recall is also good, because the point is to get as many positives as possible and false positive can be tolerated\n",
        "score_method = 'f1_micro'\n",
        "# score_method = 'recall'\n",
        "\n",
        "# Turn off warnings (most warnings are about models not converging)\n",
        "# Reset warnings at the end of this block\n",
        "warnings.filterwarnings(\"ignore\")\n",
        "\n",
        "# Machine Learning Algorithm (MLA) Selection and Initialization\n",
        "MLA = [\n",
        "    # Ensemble Methods\n",
        "    ensemble.AdaBoostClassifier(),\n",
        "    ensemble.BaggingClassifier(),\n",
        "    ensemble.ExtraTreesClassifier(),\n",
        "    ensemble.GradientBoostingClassifier(),\n",
        "    ensemble.RandomForestClassifier(),\n",
        "\n",
        "    # Gaussian Processes\n",
        "    gaussian_process.GaussianProcessClassifier(),\n",
        "\n",
        "    # GLM\n",
        "    linear_model.LogisticRegressionCV(),\n",
        "    linear_model.PassiveAggressiveClassifier(),\n",
        "    linear_model.RidgeClassifierCV(),\n",
        "    linear_model.SGDClassifier(),\n",
        "    linear_model.Perceptron(),\n",
        "\n",
        "    # Navies Bayes\n",
        "    naive_bayes.BernoulliNB(),\n",
        "    naive_bayes.GaussianNB(),\n",
        "\n",
        "    # Nearest Neighbor\n",
        "    neighbors.KNeighborsClassifier(),\n",
        "\n",
        "    # SVM\n",
        "    svm.SVC(probability=True),\n",
        "    # svm.NuSVC(probability=True),                                  # This is skipped because it runs into issues\n",
        "    svm.LinearSVC(),\n",
        "\n",
        "    # Trees\n",
        "    tree.DecisionTreeClassifier(),\n",
        "    tree.ExtraTreeClassifier(),\n",
        "\n",
        "    # Discriminant Analysis\n",
        "    discriminant_analysis.LinearDiscriminantAnalysis(),\n",
        "    discriminant_analysis.QuadraticDiscriminantAnalysis()\n",
        "]\n",
        "\n",
        "# Split dataset in cross-validation with this splitter class\n",
        "# Note: this is an alternative to train_test_split\n",
        "cv_split = model_selection.ShuffleSplit(n_splits=10, test_size=.2, train_size=.7, random_state=global_random_state)\n",
        "# Run model 10x with 70/20 split intentionally leaving out 10%\n",
        "\n",
        "# Create table to compare MLA metrics\n",
        "MLA_columns = ['[MLA Name]',\n",
        "               '[MLA Parameters]',\n",
        "               '[MLA Train Score Mean]',\n",
        "               '[MLA Test Score Mean]',\n",
        "               '[MLA Test Score Mean Minus 3*STD]',\n",
        "               '[MLA Time]']\n",
        "MLA_compare = pd.DataFrame(columns=MLA_columns)\n",
        "\n",
        "# Create table to compare MLA predictions\n",
        "MLA_predict = y\n",
        "\n",
        "# Index through MLA and save performance to table\n",
        "row_index = 0\n",
        "for alg in MLA:\n",
        "    # Set name and parameters\n",
        "    MLA_name = alg.__class__.__name__\n",
        "    MLA_compare.loc[row_index, '[MLA Name]'] = MLA_name\n",
        "    MLA_compare.loc[row_index, '[MLA Parameters]'] = str(alg.get_params())\n",
        "\n",
        "    # Score model with cross validation\n",
        "    cv_results = model_selection.cross_validate(alg, X, y, scoring=score_method, cv=cv_split, return_train_score=True)\n",
        "\n",
        "    MLA_compare.loc[row_index, '[MLA Train Score Mean]'] = cv_results['train_score'].mean()\n",
        "    MLA_compare.loc[row_index, '[MLA Test Score Mean]'] = cv_results['test_score'].mean()\n",
        "\n",
        "    # If this is a non-bias random sample, then +/-3 standard deviations (std) from the mean, should statistically capture 99.7% of the subsets\n",
        "    # Let's know the worst that can happen!\n",
        "    MLA_compare.loc[row_index, '[MLA Test Score Mean Minus 3*STD]'] = cv_results['test_score'].mean() - cv_results['test_score'].std() * 3\n",
        "\n",
        "    MLA_compare.loc[row_index, '[MLA Time]'] = cv_results['fit_time'].mean()\n",
        "\n",
        "    # Save MLA predictions\n",
        "    alg.fit(X, y)\n",
        "    MLA_predict[MLA_name] = alg.predict(X)\n",
        "\n",
        "    y = ML_1680_df['answer']      # Some models changed Y, so it is refreshed here\n",
        "\n",
        "    row_index += 1\n",
        "\n",
        "# Reset warnings\n",
        "warnings.resetwarnings()"
      ]
    },
    {
      "cell_type": "code",
      "execution_count": 165,
      "metadata": {
        "colab": {
          "base_uri": "https://localhost:8080/"
        },
        "id": "rDSJd9sq_RYi",
        "outputId": "4cedf84f-1dfe-48b0-d93f-44cf0ca21d90"
      },
      "outputs": [
        {
          "output_type": "stream",
          "name": "stdout",
          "text": [
            "             [MLA Name]     [MLA Parameters] [MLA Train Score Mean] [MLA Test Score Mean] [MLA Test Score Mean Minus 3*STD] [MLA Time]\n",
            "0    AdaBoostClassifier  {'algorithm': 'S...             0.930442               0.916667              0.885996                0.283555\n",
            "3   GradientBoosting...  {'ccp_alpha': 0....             0.948129               0.915774               0.88432                0.111878\n",
            "13  KNeighborsClassi...  {'algorithm': 'a...             0.932568               0.911607              0.876786                0.003415\n",
            "1     BaggingClassifier  {'base_estimator...             0.980187               0.894643              0.858884                0.034542\n",
            "4   RandomForestClas...  {'bootstrap': Tr...             0.989626               0.893452               0.84675                0.199876\n",
            "17  ExtraTreeClassifier  {'ccp_alpha': 0....             0.991327               0.891369              0.846326                0.003311\n",
            "2   ExtraTreesClassi...  {'bootstrap': Fa...             0.996514               0.890179              0.836689                 0.13997\n",
            "16  DecisionTreeClas...  {'ccp_alpha': 0....             0.989626               0.889881              0.845417                0.003487\n",
            "6   LogisticRegressi...  {'Cs': 10, 'clas...             0.865051               0.866369              0.806415                0.347291\n",
            "18  LinearDiscrimina...  {'covariance_est...             0.835544               0.841071              0.772003                0.004225\n",
            "8     RidgeClassifierCV  {'alphas': array...             0.827721               0.833036              0.763022                0.005071\n",
            "9         SGDClassifier  {'alpha': 0.0001...              0.82466               0.829762              0.763932                0.007872\n",
            "15            LinearSVC  {'C': 1.0, 'clas...             0.823384               0.827976              0.762147                0.006466\n",
            "14                  SVC  {'C': 1.0, 'brea...             0.821599               0.827381              0.759618                0.138706\n",
            "11          BernoulliNB  {'alpha': 1.0, '...             0.820748               0.826786              0.760353                 0.00357\n",
            "5   GaussianProcessC...  {'copy_X_train':...             0.820748               0.826786              0.760353                1.670216\n",
            "7   PassiveAggressiv...  {'C': 1.0, 'aver...             0.782653               0.770536               0.28827                0.003702\n",
            "10           Perceptron  {'alpha': 0.0001...             0.764116               0.763095              0.332423                0.003693\n",
            "19  QuadraticDiscrim...  {'priors': None,...             0.379167                0.36994             -0.548645                0.003089\n",
            "12           GaussianNB  {'priors': None,...             0.379507               0.367857              0.258855                0.004461\n",
            "------------------------------\n"
          ]
        }
      ],
      "source": [
        "\"\"\"\n",
        "# These codes only need to be ran once\n",
        "\"\"\"\n",
        "\n",
        "# Print and sort table\n",
        "MLA_compare.sort_values(by=['[MLA Test Score Mean]'], ascending=False, inplace=True)\n",
        "with pd.option_context('display.max_columns', None, 'display.max_colwidth', 20):\n",
        "    print(MLA_compare)\n",
        "print('-' * 30)"
      ]
    },
    {
      "cell_type": "markdown",
      "metadata": {
        "id": "_xnYnTGUPXxb"
      },
      "source": [
        "### Adaptive Boost Classifier (on Decision Tree)\n",
        "\n",
        "- In terms of F1 score, best performing model is AdaBoostClassifier, bosting on decision tree\n",
        "- But it's recall is not high"
      ]
    },
    {
      "cell_type": "code",
      "execution_count": 45,
      "metadata": {
        "colab": {
          "base_uri": "https://localhost:8080/"
        },
        "id": "7TbWBw0hRz3e",
        "outputId": "8a4d7592-064d-4087-fcf3-b402c8f4777a"
      },
      "outputs": [
        {
          "output_type": "stream",
          "name": "stdout",
          "text": [
            "<<Adaptive Boost>>\n",
            "{'base_estimator': DecisionTreeClassifier(max_depth=2, random_state=1), 'learning_rate': 0.05, 'n_estimators': 40, 'random_state': 1}\n"
          ]
        }
      ],
      "source": [
        "\"\"\"\n",
        "# These codes only need to be ran once\n",
        "\"\"\"\n",
        "\n",
        "# Hyper-parameter search using GridSearchCV\n",
        "parameters = {'base_estimator': [tree.DecisionTreeClassifier(max_depth=2, random_state=global_random_state),\n",
        "                                 tree.DecisionTreeClassifier(max_depth=3, random_state=global_random_state),\n",
        "                                 tree.DecisionTreeClassifier(max_depth=4, random_state=global_random_state),\n",
        "                                 tree.DecisionTreeClassifier(max_depth=5, random_state=global_random_state)],\n",
        "              'n_estimators': list(range(10, 60, 10)),\n",
        "              'learning_rate': [0.01, 0.05, 0.1, 0.2, 0.3, 0.4, 0.5],\n",
        "              'random_state': [global_random_state]}\n",
        "# Note: models such as rf_model and gb_model could be added into base_estimator\n",
        "\n",
        "ab_gridSearch = GridSearchCV(ensemble.AdaBoostClassifier(),\n",
        "                             parameters,\n",
        "                             cv=5,\n",
        "                             scoring='f1_micro')\n",
        "ab_gridSearch.fit(X_train, y_train)\n",
        "print(\"<<Adaptive Boost>>\")\n",
        "print(ab_gridSearch.best_params_)"
      ]
    },
    {
      "cell_type": "code",
      "execution_count": 29,
      "metadata": {
        "colab": {
          "base_uri": "https://localhost:8080/"
        },
        "id": "9KvUeoUXYt3f",
        "outputId": "a6d46bfc-b5cf-4af6-d147-1767cb8efa48"
      },
      "outputs": [
        {
          "output_type": "stream",
          "name": "stdout",
          "text": [
            "           Training Data  Validation Data\n",
            "Accuracy        0.925926         0.928571\n",
            "F1 Score        0.780392         0.818182\n",
            "Precision       0.815574         0.843750\n",
            "Recall          0.748120         0.794118\n",
            "AUC Score       0.856002         0.878402\n"
          ]
        }
      ],
      "source": [
        "# Build model using best_estimator_ from Grid Search\n",
        "# Uncomment and use the line below if block above was ran\n",
        "# ab_model = ab_gridSearch.best_estimator_\n",
        "\n",
        "# ------------------------------------------------------------------------------\n",
        "\n",
        "# Build model by manually inputting the best_estimator parameters\n",
        "# {'base_estimator': DecisionTreeClassifier(max_depth=2, random_state=1), 'learning_rate': 0.05, 'n_estimators': 40, 'random_state': 1}\n",
        "dc_model = tree.DecisionTreeClassifier(max_depth=2, random_state=global_random_state)\n",
        "ab_model = ensemble.AdaBoostClassifier(base_estimator=dc_model, learning_rate=0.05, n_estimators=40, random_state=global_random_state)\n",
        "\n",
        "ab_model.fit(X_train, y_train)\n",
        "y_train_pred = ab_model.predict(X_train)\n",
        "y_valid_pred = ab_model.predict(X_valid)\n",
        "\n",
        "# Evaluate model using prediction on training and validation set\n",
        "train_score = {'Accuracy': metrics.accuracy_score(y_train, y_train_pred),\n",
        "               'F1 Score': metrics.f1_score(y_train, y_train_pred),\n",
        "               'Precision': metrics.precision_score(y_train, y_train_pred),\n",
        "               'Recall': metrics.recall_score(y_train, y_train_pred),\n",
        "               'AUC Score': metrics.roc_auc_score(y_train, y_train_pred)}\n",
        "validation_score = {'Accuracy': metrics.accuracy_score(y_valid, y_valid_pred),\n",
        "                    'F1 Score': metrics.f1_score(y_valid, y_valid_pred),\n",
        "                    'Precision': metrics.precision_score(y_valid, y_valid_pred),\n",
        "                    'Recall': metrics.recall_score(y_valid, y_valid_pred),\n",
        "                    'AUC Score': metrics.roc_auc_score(y_valid, y_valid_pred)}\n",
        "\n",
        "ab_result = pd.DataFrame({'Training Data': train_score, 'Validation Data': validation_score})\n",
        "print(ab_result)"
      ]
    },
    {
      "cell_type": "markdown",
      "metadata": {
        "id": "LVtJ2ce8Av1j"
      },
      "source": [
        "### Evaluate Model\n",
        "\n",
        "- Now the true test, predict the whole dataset and see if it does well\n",
        "- View the wrong predictions in test set, so we can get some insights on which word it gets wrong\n",
        "- This may appear as \"cheating\", since we are looking at all the answers for Wordle game in the future, but this is only for evaluation\n",
        "- The ML model doesn't use this data, so the model itself is still honest and doesn't overfit"
      ]
    },
    {
      "cell_type": "code",
      "execution_count": 30,
      "metadata": {
        "colab": {
          "base_uri": "https://localhost:8080/",
          "height": 736
        },
        "id": "OemhVSKlWaVl",
        "outputId": "3973d6e9-564b-4cdc-c0bc-b95c3947b590"
      },
      "outputs": [
        {
          "output_type": "stream",
          "name": "stdout",
          "text": [
            "Confusion Matrix\n",
            "              pred:False  pred:True\n",
            "answer:False       10116        541\n",
            "answer:True          684       1631\n",
            "\n",
            "Accuracy\n",
            "0.9055658341042245\n",
            "\n",
            "F1 Score\n",
            "0.7269890795631826\n",
            "\n",
            "Precision\n",
            "0.7509208103130756\n",
            "\n",
            "Recall\n",
            "0.7045356371490281\n",
            "\n",
            "Wrong Predictions\n"
          ]
        },
        {
          "output_type": "execute_result",
          "data": {
            "text/plain": [
              "        word  answer        count  count_norm  singular  present  name  in_model  pred\n",
              "31     boxed       0    5778226.0    0.001603         1        0     0         0     1\n",
              "64     yahoo       0  155733641.0    0.043207         1        1     0         0     1\n",
              "66     annul       1     146490.0    0.000041         1        1     0         0     0\n",
              "72     gamut       1     553397.0    0.000154         1        1     0         0     0\n",
              "86     auger       0     678597.0    0.000188         1        1     0         0     1\n",
              "...      ...     ...          ...         ...       ...      ...   ...       ...   ...\n",
              "12883  alder       0     972850.0    0.000270         1        1     0         0     1\n",
              "12899  foist       1      55908.0    0.000016         1        1     0         0     0\n",
              "12912  rhine       0    1162642.0    0.000323         1        1     0         0     1\n",
              "12959  bough       1     520067.0    0.000144         1        1     0         0     0\n",
              "12966  crept       1     588735.0    0.000163         1        0     0         0     0\n",
              "\n",
              "[1225 rows x 9 columns]"
            ],
            "text/html": [
              "\n",
              "  <div id=\"df-ed3df625-38fa-4857-9c69-e0b99ff22afe\">\n",
              "    <div class=\"colab-df-container\">\n",
              "      <div>\n",
              "<style scoped>\n",
              "    .dataframe tbody tr th:only-of-type {\n",
              "        vertical-align: middle;\n",
              "    }\n",
              "\n",
              "    .dataframe tbody tr th {\n",
              "        vertical-align: top;\n",
              "    }\n",
              "\n",
              "    .dataframe thead th {\n",
              "        text-align: right;\n",
              "    }\n",
              "</style>\n",
              "<table border=\"1\" class=\"dataframe\">\n",
              "  <thead>\n",
              "    <tr style=\"text-align: right;\">\n",
              "      <th></th>\n",
              "      <th>word</th>\n",
              "      <th>answer</th>\n",
              "      <th>count</th>\n",
              "      <th>count_norm</th>\n",
              "      <th>singular</th>\n",
              "      <th>present</th>\n",
              "      <th>name</th>\n",
              "      <th>in_model</th>\n",
              "      <th>pred</th>\n",
              "    </tr>\n",
              "  </thead>\n",
              "  <tbody>\n",
              "    <tr>\n",
              "      <th>31</th>\n",
              "      <td>boxed</td>\n",
              "      <td>0</td>\n",
              "      <td>5778226.0</td>\n",
              "      <td>0.001603</td>\n",
              "      <td>1</td>\n",
              "      <td>0</td>\n",
              "      <td>0</td>\n",
              "      <td>0</td>\n",
              "      <td>1</td>\n",
              "    </tr>\n",
              "    <tr>\n",
              "      <th>64</th>\n",
              "      <td>yahoo</td>\n",
              "      <td>0</td>\n",
              "      <td>155733641.0</td>\n",
              "      <td>0.043207</td>\n",
              "      <td>1</td>\n",
              "      <td>1</td>\n",
              "      <td>0</td>\n",
              "      <td>0</td>\n",
              "      <td>1</td>\n",
              "    </tr>\n",
              "    <tr>\n",
              "      <th>66</th>\n",
              "      <td>annul</td>\n",
              "      <td>1</td>\n",
              "      <td>146490.0</td>\n",
              "      <td>0.000041</td>\n",
              "      <td>1</td>\n",
              "      <td>1</td>\n",
              "      <td>0</td>\n",
              "      <td>0</td>\n",
              "      <td>0</td>\n",
              "    </tr>\n",
              "    <tr>\n",
              "      <th>72</th>\n",
              "      <td>gamut</td>\n",
              "      <td>1</td>\n",
              "      <td>553397.0</td>\n",
              "      <td>0.000154</td>\n",
              "      <td>1</td>\n",
              "      <td>1</td>\n",
              "      <td>0</td>\n",
              "      <td>0</td>\n",
              "      <td>0</td>\n",
              "    </tr>\n",
              "    <tr>\n",
              "      <th>86</th>\n",
              "      <td>auger</td>\n",
              "      <td>0</td>\n",
              "      <td>678597.0</td>\n",
              "      <td>0.000188</td>\n",
              "      <td>1</td>\n",
              "      <td>1</td>\n",
              "      <td>0</td>\n",
              "      <td>0</td>\n",
              "      <td>1</td>\n",
              "    </tr>\n",
              "    <tr>\n",
              "      <th>...</th>\n",
              "      <td>...</td>\n",
              "      <td>...</td>\n",
              "      <td>...</td>\n",
              "      <td>...</td>\n",
              "      <td>...</td>\n",
              "      <td>...</td>\n",
              "      <td>...</td>\n",
              "      <td>...</td>\n",
              "      <td>...</td>\n",
              "    </tr>\n",
              "    <tr>\n",
              "      <th>12883</th>\n",
              "      <td>alder</td>\n",
              "      <td>0</td>\n",
              "      <td>972850.0</td>\n",
              "      <td>0.000270</td>\n",
              "      <td>1</td>\n",
              "      <td>1</td>\n",
              "      <td>0</td>\n",
              "      <td>0</td>\n",
              "      <td>1</td>\n",
              "    </tr>\n",
              "    <tr>\n",
              "      <th>12899</th>\n",
              "      <td>foist</td>\n",
              "      <td>1</td>\n",
              "      <td>55908.0</td>\n",
              "      <td>0.000016</td>\n",
              "      <td>1</td>\n",
              "      <td>1</td>\n",
              "      <td>0</td>\n",
              "      <td>0</td>\n",
              "      <td>0</td>\n",
              "    </tr>\n",
              "    <tr>\n",
              "      <th>12912</th>\n",
              "      <td>rhine</td>\n",
              "      <td>0</td>\n",
              "      <td>1162642.0</td>\n",
              "      <td>0.000323</td>\n",
              "      <td>1</td>\n",
              "      <td>1</td>\n",
              "      <td>0</td>\n",
              "      <td>0</td>\n",
              "      <td>1</td>\n",
              "    </tr>\n",
              "    <tr>\n",
              "      <th>12959</th>\n",
              "      <td>bough</td>\n",
              "      <td>1</td>\n",
              "      <td>520067.0</td>\n",
              "      <td>0.000144</td>\n",
              "      <td>1</td>\n",
              "      <td>1</td>\n",
              "      <td>0</td>\n",
              "      <td>0</td>\n",
              "      <td>0</td>\n",
              "    </tr>\n",
              "    <tr>\n",
              "      <th>12966</th>\n",
              "      <td>crept</td>\n",
              "      <td>1</td>\n",
              "      <td>588735.0</td>\n",
              "      <td>0.000163</td>\n",
              "      <td>1</td>\n",
              "      <td>0</td>\n",
              "      <td>0</td>\n",
              "      <td>0</td>\n",
              "      <td>0</td>\n",
              "    </tr>\n",
              "  </tbody>\n",
              "</table>\n",
              "<p>1225 rows × 9 columns</p>\n",
              "</div>\n",
              "      <button class=\"colab-df-convert\" onclick=\"convertToInteractive('df-ed3df625-38fa-4857-9c69-e0b99ff22afe')\"\n",
              "              title=\"Convert this dataframe to an interactive table.\"\n",
              "              style=\"display:none;\">\n",
              "        \n",
              "  <svg xmlns=\"http://www.w3.org/2000/svg\" height=\"24px\"viewBox=\"0 0 24 24\"\n",
              "       width=\"24px\">\n",
              "    <path d=\"M0 0h24v24H0V0z\" fill=\"none\"/>\n",
              "    <path d=\"M18.56 5.44l.94 2.06.94-2.06 2.06-.94-2.06-.94-.94-2.06-.94 2.06-2.06.94zm-11 1L8.5 8.5l.94-2.06 2.06-.94-2.06-.94L8.5 2.5l-.94 2.06-2.06.94zm10 10l.94 2.06.94-2.06 2.06-.94-2.06-.94-.94-2.06-.94 2.06-2.06.94z\"/><path d=\"M17.41 7.96l-1.37-1.37c-.4-.4-.92-.59-1.43-.59-.52 0-1.04.2-1.43.59L10.3 9.45l-7.72 7.72c-.78.78-.78 2.05 0 2.83L4 21.41c.39.39.9.59 1.41.59.51 0 1.02-.2 1.41-.59l7.78-7.78 2.81-2.81c.8-.78.8-2.07 0-2.86zM5.41 20L4 18.59l7.72-7.72 1.47 1.35L5.41 20z\"/>\n",
              "  </svg>\n",
              "      </button>\n",
              "      \n",
              "  <style>\n",
              "    .colab-df-container {\n",
              "      display:flex;\n",
              "      flex-wrap:wrap;\n",
              "      gap: 12px;\n",
              "    }\n",
              "\n",
              "    .colab-df-convert {\n",
              "      background-color: #E8F0FE;\n",
              "      border: none;\n",
              "      border-radius: 50%;\n",
              "      cursor: pointer;\n",
              "      display: none;\n",
              "      fill: #1967D2;\n",
              "      height: 32px;\n",
              "      padding: 0 0 0 0;\n",
              "      width: 32px;\n",
              "    }\n",
              "\n",
              "    .colab-df-convert:hover {\n",
              "      background-color: #E2EBFA;\n",
              "      box-shadow: 0px 1px 2px rgba(60, 64, 67, 0.3), 0px 1px 3px 1px rgba(60, 64, 67, 0.15);\n",
              "      fill: #174EA6;\n",
              "    }\n",
              "\n",
              "    [theme=dark] .colab-df-convert {\n",
              "      background-color: #3B4455;\n",
              "      fill: #D2E3FC;\n",
              "    }\n",
              "\n",
              "    [theme=dark] .colab-df-convert:hover {\n",
              "      background-color: #434B5C;\n",
              "      box-shadow: 0px 1px 3px 1px rgba(0, 0, 0, 0.15);\n",
              "      filter: drop-shadow(0px 1px 2px rgba(0, 0, 0, 0.3));\n",
              "      fill: #FFFFFF;\n",
              "    }\n",
              "  </style>\n",
              "\n",
              "      <script>\n",
              "        const buttonEl =\n",
              "          document.querySelector('#df-ed3df625-38fa-4857-9c69-e0b99ff22afe button.colab-df-convert');\n",
              "        buttonEl.style.display =\n",
              "          google.colab.kernel.accessAllowed ? 'block' : 'none';\n",
              "\n",
              "        async function convertToInteractive(key) {\n",
              "          const element = document.querySelector('#df-ed3df625-38fa-4857-9c69-e0b99ff22afe');\n",
              "          const dataTable =\n",
              "            await google.colab.kernel.invokeFunction('convertToInteractive',\n",
              "                                                     [key], {});\n",
              "          if (!dataTable) return;\n",
              "\n",
              "          const docLinkHtml = 'Like what you see? Visit the ' +\n",
              "            '<a target=\"_blank\" href=https://colab.research.google.com/notebooks/data_table.ipynb>data table notebook</a>'\n",
              "            + ' to learn more about interactive tables.';\n",
              "          element.innerHTML = '';\n",
              "          dataTable['output_type'] = 'display_data';\n",
              "          await google.colab.output.renderOutput(dataTable, element);\n",
              "          const docLink = document.createElement('div');\n",
              "          docLink.innerHTML = docLinkHtml;\n",
              "          element.appendChild(docLink);\n",
              "        }\n",
              "      </script>\n",
              "    </div>\n",
              "  </div>\n",
              "  "
            ]
          },
          "metadata": {},
          "execution_count": 30
        }
      ],
      "source": [
        "pred = ab_model.predict(ML_df[features])\n",
        "\n",
        "pred_result_df = ML_df.copy()\n",
        "pred_result_df['pred'] = pred                                               # Add pred_proba as a column\n",
        "\n",
        "print('Confusion Matrix')\n",
        "conf_matrix = pd.DataFrame(metrics.confusion_matrix(ML_df['answer'], pred), \n",
        "                           index=['answer:False', 'answer:True'],\n",
        "                           columns=['pred:False', 'pred:True'])\n",
        "print(conf_matrix)\n",
        "print()\n",
        "\n",
        "print('Accuracy')\n",
        "print(metrics.accuracy_score(ML_df['answer'], pred))\n",
        "print()\n",
        "\n",
        "print('F1 Score')\n",
        "print(metrics.f1_score(ML_df['answer'], pred))\n",
        "print()\n",
        "\n",
        "print('Precision')\n",
        "print(metrics.precision_score(ML_df['answer'], pred))\n",
        "print()\n",
        "\n",
        "print('Recall')\n",
        "print(metrics.recall_score(ML_df['answer'], pred))\n",
        "print()\n",
        "\n",
        "print('Wrong Predictions')\n",
        "pred_result_df[pred_result_df['pred'] != pred_result_df['answer']]"
      ]
    },
    {
      "cell_type": "markdown",
      "source": [
        "Use predict_proba's second number, to get probability of predictiong 'answer' (1)\n",
        "\n",
        "predict_proba shows two classes, 0 and 1 in this case\n",
        "\n",
        "We just need 1's probability, so add this at the end: [:, 1]"
      ],
      "metadata": {
        "id": "ziIm_V1hQnPd"
      }
    },
    {
      "cell_type": "code",
      "execution_count": 31,
      "metadata": {
        "colab": {
          "base_uri": "https://localhost:8080/",
          "height": 206
        },
        "id": "OuGimopfguBg",
        "outputId": "73345d10-b959-4aea-bf55-bf613d69ab4d"
      },
      "outputs": [
        {
          "output_type": "execute_result",
          "data": {
            "text/plain": [
              "    word  answer      count  count_norm  singular  present  name  in_model      pred\n",
              "0  noles       0    55380.0    0.000015         1        1     0         0  0.091216\n",
              "1  melas       0    64255.0    0.000018         1        1     0         0  0.247166\n",
              "2  waist       1  5013500.0    0.001391         1        1     0         0  0.679636\n",
              "3  ohias       0        0.0    0.000000         1        1     0         0  0.065579\n",
              "4  mummy       1  1878933.0    0.000521         1        1     0         0  0.589212"
            ],
            "text/html": [
              "\n",
              "  <div id=\"df-bb1901b2-8ee1-45ee-9a8e-cb6551d9eda5\">\n",
              "    <div class=\"colab-df-container\">\n",
              "      <div>\n",
              "<style scoped>\n",
              "    .dataframe tbody tr th:only-of-type {\n",
              "        vertical-align: middle;\n",
              "    }\n",
              "\n",
              "    .dataframe tbody tr th {\n",
              "        vertical-align: top;\n",
              "    }\n",
              "\n",
              "    .dataframe thead th {\n",
              "        text-align: right;\n",
              "    }\n",
              "</style>\n",
              "<table border=\"1\" class=\"dataframe\">\n",
              "  <thead>\n",
              "    <tr style=\"text-align: right;\">\n",
              "      <th></th>\n",
              "      <th>word</th>\n",
              "      <th>answer</th>\n",
              "      <th>count</th>\n",
              "      <th>count_norm</th>\n",
              "      <th>singular</th>\n",
              "      <th>present</th>\n",
              "      <th>name</th>\n",
              "      <th>in_model</th>\n",
              "      <th>pred</th>\n",
              "    </tr>\n",
              "  </thead>\n",
              "  <tbody>\n",
              "    <tr>\n",
              "      <th>0</th>\n",
              "      <td>noles</td>\n",
              "      <td>0</td>\n",
              "      <td>55380.0</td>\n",
              "      <td>0.000015</td>\n",
              "      <td>1</td>\n",
              "      <td>1</td>\n",
              "      <td>0</td>\n",
              "      <td>0</td>\n",
              "      <td>0.091216</td>\n",
              "    </tr>\n",
              "    <tr>\n",
              "      <th>1</th>\n",
              "      <td>melas</td>\n",
              "      <td>0</td>\n",
              "      <td>64255.0</td>\n",
              "      <td>0.000018</td>\n",
              "      <td>1</td>\n",
              "      <td>1</td>\n",
              "      <td>0</td>\n",
              "      <td>0</td>\n",
              "      <td>0.247166</td>\n",
              "    </tr>\n",
              "    <tr>\n",
              "      <th>2</th>\n",
              "      <td>waist</td>\n",
              "      <td>1</td>\n",
              "      <td>5013500.0</td>\n",
              "      <td>0.001391</td>\n",
              "      <td>1</td>\n",
              "      <td>1</td>\n",
              "      <td>0</td>\n",
              "      <td>0</td>\n",
              "      <td>0.679636</td>\n",
              "    </tr>\n",
              "    <tr>\n",
              "      <th>3</th>\n",
              "      <td>ohias</td>\n",
              "      <td>0</td>\n",
              "      <td>0.0</td>\n",
              "      <td>0.000000</td>\n",
              "      <td>1</td>\n",
              "      <td>1</td>\n",
              "      <td>0</td>\n",
              "      <td>0</td>\n",
              "      <td>0.065579</td>\n",
              "    </tr>\n",
              "    <tr>\n",
              "      <th>4</th>\n",
              "      <td>mummy</td>\n",
              "      <td>1</td>\n",
              "      <td>1878933.0</td>\n",
              "      <td>0.000521</td>\n",
              "      <td>1</td>\n",
              "      <td>1</td>\n",
              "      <td>0</td>\n",
              "      <td>0</td>\n",
              "      <td>0.589212</td>\n",
              "    </tr>\n",
              "  </tbody>\n",
              "</table>\n",
              "</div>\n",
              "      <button class=\"colab-df-convert\" onclick=\"convertToInteractive('df-bb1901b2-8ee1-45ee-9a8e-cb6551d9eda5')\"\n",
              "              title=\"Convert this dataframe to an interactive table.\"\n",
              "              style=\"display:none;\">\n",
              "        \n",
              "  <svg xmlns=\"http://www.w3.org/2000/svg\" height=\"24px\"viewBox=\"0 0 24 24\"\n",
              "       width=\"24px\">\n",
              "    <path d=\"M0 0h24v24H0V0z\" fill=\"none\"/>\n",
              "    <path d=\"M18.56 5.44l.94 2.06.94-2.06 2.06-.94-2.06-.94-.94-2.06-.94 2.06-2.06.94zm-11 1L8.5 8.5l.94-2.06 2.06-.94-2.06-.94L8.5 2.5l-.94 2.06-2.06.94zm10 10l.94 2.06.94-2.06 2.06-.94-2.06-.94-.94-2.06-.94 2.06-2.06.94z\"/><path d=\"M17.41 7.96l-1.37-1.37c-.4-.4-.92-.59-1.43-.59-.52 0-1.04.2-1.43.59L10.3 9.45l-7.72 7.72c-.78.78-.78 2.05 0 2.83L4 21.41c.39.39.9.59 1.41.59.51 0 1.02-.2 1.41-.59l7.78-7.78 2.81-2.81c.8-.78.8-2.07 0-2.86zM5.41 20L4 18.59l7.72-7.72 1.47 1.35L5.41 20z\"/>\n",
              "  </svg>\n",
              "      </button>\n",
              "      \n",
              "  <style>\n",
              "    .colab-df-container {\n",
              "      display:flex;\n",
              "      flex-wrap:wrap;\n",
              "      gap: 12px;\n",
              "    }\n",
              "\n",
              "    .colab-df-convert {\n",
              "      background-color: #E8F0FE;\n",
              "      border: none;\n",
              "      border-radius: 50%;\n",
              "      cursor: pointer;\n",
              "      display: none;\n",
              "      fill: #1967D2;\n",
              "      height: 32px;\n",
              "      padding: 0 0 0 0;\n",
              "      width: 32px;\n",
              "    }\n",
              "\n",
              "    .colab-df-convert:hover {\n",
              "      background-color: #E2EBFA;\n",
              "      box-shadow: 0px 1px 2px rgba(60, 64, 67, 0.3), 0px 1px 3px 1px rgba(60, 64, 67, 0.15);\n",
              "      fill: #174EA6;\n",
              "    }\n",
              "\n",
              "    [theme=dark] .colab-df-convert {\n",
              "      background-color: #3B4455;\n",
              "      fill: #D2E3FC;\n",
              "    }\n",
              "\n",
              "    [theme=dark] .colab-df-convert:hover {\n",
              "      background-color: #434B5C;\n",
              "      box-shadow: 0px 1px 3px 1px rgba(0, 0, 0, 0.15);\n",
              "      filter: drop-shadow(0px 1px 2px rgba(0, 0, 0, 0.3));\n",
              "      fill: #FFFFFF;\n",
              "    }\n",
              "  </style>\n",
              "\n",
              "      <script>\n",
              "        const buttonEl =\n",
              "          document.querySelector('#df-bb1901b2-8ee1-45ee-9a8e-cb6551d9eda5 button.colab-df-convert');\n",
              "        buttonEl.style.display =\n",
              "          google.colab.kernel.accessAllowed ? 'block' : 'none';\n",
              "\n",
              "        async function convertToInteractive(key) {\n",
              "          const element = document.querySelector('#df-bb1901b2-8ee1-45ee-9a8e-cb6551d9eda5');\n",
              "          const dataTable =\n",
              "            await google.colab.kernel.invokeFunction('convertToInteractive',\n",
              "                                                     [key], {});\n",
              "          if (!dataTable) return;\n",
              "\n",
              "          const docLinkHtml = 'Like what you see? Visit the ' +\n",
              "            '<a target=\"_blank\" href=https://colab.research.google.com/notebooks/data_table.ipynb>data table notebook</a>'\n",
              "            + ' to learn more about interactive tables.';\n",
              "          element.innerHTML = '';\n",
              "          dataTable['output_type'] = 'display_data';\n",
              "          await google.colab.output.renderOutput(dataTable, element);\n",
              "          const docLink = document.createElement('div');\n",
              "          docLink.innerHTML = docLinkHtml;\n",
              "          element.appendChild(docLink);\n",
              "        }\n",
              "      </script>\n",
              "    </div>\n",
              "  </div>\n",
              "  "
            ]
          },
          "metadata": {},
          "execution_count": 31
        }
      ],
      "source": [
        "# Insert pred into pred_result_df\n",
        "pred_proba = ab_model.predict_proba(ML_df[features])[:, 1]\n",
        "\n",
        "pred_result_df['pred'] = pred_proba                                         # Replace pred with pred_proba\n",
        "\n",
        "pred_result_df.head()"
      ]
    },
    {
      "cell_type": "markdown",
      "metadata": {
        "id": "Nf6CskAIXr8r"
      },
      "source": [
        "If there is a large amount of False Negative or False Positive. The threshold for positive prediction can be changed.\n",
        "\n",
        "However, since I will be using pred_prod instead of actual prediction, this can be skipped."
      ]
    },
    {
      "cell_type": "code",
      "execution_count": 32,
      "metadata": {
        "colab": {
          "base_uri": "https://localhost:8080/",
          "height": 258
        },
        "id": "59TUygJsGFbC",
        "outputId": "72a7a7d1-79d7-4a09-a89d-214474f32755"
      },
      "outputs": [
        {
          "output_type": "stream",
          "name": "stdout",
          "text": [
            "(3111, 9)\n",
            "594\n",
            "2\n"
          ]
        },
        {
          "output_type": "execute_result",
          "data": {
            "text/plain": [
              "     word  answer      count  count_norm  singular  present  name  in_model      pred\n",
              "23  safes       0  1079012.0    0.000299         0        1     0         0  0.013877\n",
              "24  mites       0   798205.0    0.000221         0        1     0         0  0.013605\n",
              "51  bases       0  8663363.0    0.002404         0        0     0         0  0.011853\n",
              "55  reefs       0  1553553.0    0.000431         0        0     0         0  0.008045\n",
              "90  crops       0  7931319.0    0.002200         0        0     0         0  0.011853"
            ],
            "text/html": [
              "\n",
              "  <div id=\"df-3e6d117c-0592-4054-9e96-ca8841ee7162\">\n",
              "    <div class=\"colab-df-container\">\n",
              "      <div>\n",
              "<style scoped>\n",
              "    .dataframe tbody tr th:only-of-type {\n",
              "        vertical-align: middle;\n",
              "    }\n",
              "\n",
              "    .dataframe tbody tr th {\n",
              "        vertical-align: top;\n",
              "    }\n",
              "\n",
              "    .dataframe thead th {\n",
              "        text-align: right;\n",
              "    }\n",
              "</style>\n",
              "<table border=\"1\" class=\"dataframe\">\n",
              "  <thead>\n",
              "    <tr style=\"text-align: right;\">\n",
              "      <th></th>\n",
              "      <th>word</th>\n",
              "      <th>answer</th>\n",
              "      <th>count</th>\n",
              "      <th>count_norm</th>\n",
              "      <th>singular</th>\n",
              "      <th>present</th>\n",
              "      <th>name</th>\n",
              "      <th>in_model</th>\n",
              "      <th>pred</th>\n",
              "    </tr>\n",
              "  </thead>\n",
              "  <tbody>\n",
              "    <tr>\n",
              "      <th>23</th>\n",
              "      <td>safes</td>\n",
              "      <td>0</td>\n",
              "      <td>1079012.0</td>\n",
              "      <td>0.000299</td>\n",
              "      <td>0</td>\n",
              "      <td>1</td>\n",
              "      <td>0</td>\n",
              "      <td>0</td>\n",
              "      <td>0.013877</td>\n",
              "    </tr>\n",
              "    <tr>\n",
              "      <th>24</th>\n",
              "      <td>mites</td>\n",
              "      <td>0</td>\n",
              "      <td>798205.0</td>\n",
              "      <td>0.000221</td>\n",
              "      <td>0</td>\n",
              "      <td>1</td>\n",
              "      <td>0</td>\n",
              "      <td>0</td>\n",
              "      <td>0.013605</td>\n",
              "    </tr>\n",
              "    <tr>\n",
              "      <th>51</th>\n",
              "      <td>bases</td>\n",
              "      <td>0</td>\n",
              "      <td>8663363.0</td>\n",
              "      <td>0.002404</td>\n",
              "      <td>0</td>\n",
              "      <td>0</td>\n",
              "      <td>0</td>\n",
              "      <td>0</td>\n",
              "      <td>0.011853</td>\n",
              "    </tr>\n",
              "    <tr>\n",
              "      <th>55</th>\n",
              "      <td>reefs</td>\n",
              "      <td>0</td>\n",
              "      <td>1553553.0</td>\n",
              "      <td>0.000431</td>\n",
              "      <td>0</td>\n",
              "      <td>0</td>\n",
              "      <td>0</td>\n",
              "      <td>0</td>\n",
              "      <td>0.008045</td>\n",
              "    </tr>\n",
              "    <tr>\n",
              "      <th>90</th>\n",
              "      <td>crops</td>\n",
              "      <td>0</td>\n",
              "      <td>7931319.0</td>\n",
              "      <td>0.002200</td>\n",
              "      <td>0</td>\n",
              "      <td>0</td>\n",
              "      <td>0</td>\n",
              "      <td>0</td>\n",
              "      <td>0.011853</td>\n",
              "    </tr>\n",
              "  </tbody>\n",
              "</table>\n",
              "</div>\n",
              "      <button class=\"colab-df-convert\" onclick=\"convertToInteractive('df-3e6d117c-0592-4054-9e96-ca8841ee7162')\"\n",
              "              title=\"Convert this dataframe to an interactive table.\"\n",
              "              style=\"display:none;\">\n",
              "        \n",
              "  <svg xmlns=\"http://www.w3.org/2000/svg\" height=\"24px\"viewBox=\"0 0 24 24\"\n",
              "       width=\"24px\">\n",
              "    <path d=\"M0 0h24v24H0V0z\" fill=\"none\"/>\n",
              "    <path d=\"M18.56 5.44l.94 2.06.94-2.06 2.06-.94-2.06-.94-.94-2.06-.94 2.06-2.06.94zm-11 1L8.5 8.5l.94-2.06 2.06-.94-2.06-.94L8.5 2.5l-.94 2.06-2.06.94zm10 10l.94 2.06.94-2.06 2.06-.94-2.06-.94-.94-2.06-.94 2.06-2.06.94z\"/><path d=\"M17.41 7.96l-1.37-1.37c-.4-.4-.92-.59-1.43-.59-.52 0-1.04.2-1.43.59L10.3 9.45l-7.72 7.72c-.78.78-.78 2.05 0 2.83L4 21.41c.39.39.9.59 1.41.59.51 0 1.02-.2 1.41-.59l7.78-7.78 2.81-2.81c.8-.78.8-2.07 0-2.86zM5.41 20L4 18.59l7.72-7.72 1.47 1.35L5.41 20z\"/>\n",
              "  </svg>\n",
              "      </button>\n",
              "      \n",
              "  <style>\n",
              "    .colab-df-container {\n",
              "      display:flex;\n",
              "      flex-wrap:wrap;\n",
              "      gap: 12px;\n",
              "    }\n",
              "\n",
              "    .colab-df-convert {\n",
              "      background-color: #E8F0FE;\n",
              "      border: none;\n",
              "      border-radius: 50%;\n",
              "      cursor: pointer;\n",
              "      display: none;\n",
              "      fill: #1967D2;\n",
              "      height: 32px;\n",
              "      padding: 0 0 0 0;\n",
              "      width: 32px;\n",
              "    }\n",
              "\n",
              "    .colab-df-convert:hover {\n",
              "      background-color: #E2EBFA;\n",
              "      box-shadow: 0px 1px 2px rgba(60, 64, 67, 0.3), 0px 1px 3px 1px rgba(60, 64, 67, 0.15);\n",
              "      fill: #174EA6;\n",
              "    }\n",
              "\n",
              "    [theme=dark] .colab-df-convert {\n",
              "      background-color: #3B4455;\n",
              "      fill: #D2E3FC;\n",
              "    }\n",
              "\n",
              "    [theme=dark] .colab-df-convert:hover {\n",
              "      background-color: #434B5C;\n",
              "      box-shadow: 0px 1px 3px 1px rgba(0, 0, 0, 0.15);\n",
              "      filter: drop-shadow(0px 1px 2px rgba(0, 0, 0, 0.3));\n",
              "      fill: #FFFFFF;\n",
              "    }\n",
              "  </style>\n",
              "\n",
              "      <script>\n",
              "        const buttonEl =\n",
              "          document.querySelector('#df-3e6d117c-0592-4054-9e96-ca8841ee7162 button.colab-df-convert');\n",
              "        buttonEl.style.display =\n",
              "          google.colab.kernel.accessAllowed ? 'block' : 'none';\n",
              "\n",
              "        async function convertToInteractive(key) {\n",
              "          const element = document.querySelector('#df-3e6d117c-0592-4054-9e96-ca8841ee7162');\n",
              "          const dataTable =\n",
              "            await google.colab.kernel.invokeFunction('convertToInteractive',\n",
              "                                                     [key], {});\n",
              "          if (!dataTable) return;\n",
              "\n",
              "          const docLinkHtml = 'Like what you see? Visit the ' +\n",
              "            '<a target=\"_blank\" href=https://colab.research.google.com/notebooks/data_table.ipynb>data table notebook</a>'\n",
              "            + ' to learn more about interactive tables.';\n",
              "          element.innerHTML = '';\n",
              "          dataTable['output_type'] = 'display_data';\n",
              "          await google.colab.output.renderOutput(dataTable, element);\n",
              "          const docLink = document.createElement('div');\n",
              "          docLink.innerHTML = docLinkHtml;\n",
              "          element.appendChild(docLink);\n",
              "        }\n",
              "      </script>\n",
              "    </div>\n",
              "  </div>\n",
              "  "
            ]
          },
          "metadata": {},
          "execution_count": 32
        }
      ],
      "source": [
        "# If threshold does need to be adjusted, change the number here to find optimal number of predictions\n",
        "print(pred_result_df[pred_result_df['pred'] > 0.42].shape)\n",
        "\n",
        "# Count of words that has low ML Score\n",
        "print(pred_result_df[pred_result_df['pred'] <= 0.02].shape[0])\n",
        "\n",
        "# Count of words that are answer but has low ML Score\n",
        "print(pred_result_df[(ML_df['answer'] == 1) & (pred_result_df['pred'] <= 0.02)].shape[0])\n",
        "\n",
        "pred_result_df[pred_result_df['pred'] <= 0.02].head()"
      ]
    },
    {
      "cell_type": "markdown",
      "metadata": {
        "id": "mMvVe68ER7b8"
      },
      "source": [
        "## Update 1st guess recommendations\n",
        "\n",
        "Combine the IG Score and ML Score by multiplying them."
      ]
    },
    {
      "cell_type": "code",
      "execution_count": 33,
      "metadata": {
        "colab": {
          "base_uri": "https://localhost:8080/",
          "height": 363
        },
        "id": "NaF724kWSCB8",
        "outputId": "2895288c-fbc5-4560-99d4-0ea9e1f21696"
      },
      "outputs": [
        {
          "output_type": "execute_result",
          "data": {
            "text/plain": [
              "        Word  IG Score  ML Score  Total Score\n",
              "5459   least    5.6792    0.7577       4.3033\n",
              "2846   store    5.6762    0.7577       4.3010\n",
              "9725   paris    5.6687    0.7577       4.2954\n",
              "11667  saint    5.6546    0.7577       4.2847\n",
              "9942   share    5.6414    0.7577       4.2747\n",
              "9959   later    5.6061    0.7577       4.2479\n",
              "89     suite    5.5646    0.7577       4.2164\n",
              "3104   scale    5.5554    0.7577       4.2095\n",
              "6623   stone    5.5281    0.7577       4.1888\n",
              "10690  learn    5.4821    0.7577       4.1539"
            ],
            "text/html": [
              "\n",
              "  <div id=\"df-4a92c640-4e88-4796-9ab4-f85a8b27fbe6\">\n",
              "    <div class=\"colab-df-container\">\n",
              "      <div>\n",
              "<style scoped>\n",
              "    .dataframe tbody tr th:only-of-type {\n",
              "        vertical-align: middle;\n",
              "    }\n",
              "\n",
              "    .dataframe tbody tr th {\n",
              "        vertical-align: top;\n",
              "    }\n",
              "\n",
              "    .dataframe thead th {\n",
              "        text-align: right;\n",
              "    }\n",
              "</style>\n",
              "<table border=\"1\" class=\"dataframe\">\n",
              "  <thead>\n",
              "    <tr style=\"text-align: right;\">\n",
              "      <th></th>\n",
              "      <th>Word</th>\n",
              "      <th>IG Score</th>\n",
              "      <th>ML Score</th>\n",
              "      <th>Total Score</th>\n",
              "    </tr>\n",
              "  </thead>\n",
              "  <tbody>\n",
              "    <tr>\n",
              "      <th>5459</th>\n",
              "      <td>least</td>\n",
              "      <td>5.6792</td>\n",
              "      <td>0.7577</td>\n",
              "      <td>4.3033</td>\n",
              "    </tr>\n",
              "    <tr>\n",
              "      <th>2846</th>\n",
              "      <td>store</td>\n",
              "      <td>5.6762</td>\n",
              "      <td>0.7577</td>\n",
              "      <td>4.3010</td>\n",
              "    </tr>\n",
              "    <tr>\n",
              "      <th>9725</th>\n",
              "      <td>paris</td>\n",
              "      <td>5.6687</td>\n",
              "      <td>0.7577</td>\n",
              "      <td>4.2954</td>\n",
              "    </tr>\n",
              "    <tr>\n",
              "      <th>11667</th>\n",
              "      <td>saint</td>\n",
              "      <td>5.6546</td>\n",
              "      <td>0.7577</td>\n",
              "      <td>4.2847</td>\n",
              "    </tr>\n",
              "    <tr>\n",
              "      <th>9942</th>\n",
              "      <td>share</td>\n",
              "      <td>5.6414</td>\n",
              "      <td>0.7577</td>\n",
              "      <td>4.2747</td>\n",
              "    </tr>\n",
              "    <tr>\n",
              "      <th>9959</th>\n",
              "      <td>later</td>\n",
              "      <td>5.6061</td>\n",
              "      <td>0.7577</td>\n",
              "      <td>4.2479</td>\n",
              "    </tr>\n",
              "    <tr>\n",
              "      <th>89</th>\n",
              "      <td>suite</td>\n",
              "      <td>5.5646</td>\n",
              "      <td>0.7577</td>\n",
              "      <td>4.2164</td>\n",
              "    </tr>\n",
              "    <tr>\n",
              "      <th>3104</th>\n",
              "      <td>scale</td>\n",
              "      <td>5.5554</td>\n",
              "      <td>0.7577</td>\n",
              "      <td>4.2095</td>\n",
              "    </tr>\n",
              "    <tr>\n",
              "      <th>6623</th>\n",
              "      <td>stone</td>\n",
              "      <td>5.5281</td>\n",
              "      <td>0.7577</td>\n",
              "      <td>4.1888</td>\n",
              "    </tr>\n",
              "    <tr>\n",
              "      <th>10690</th>\n",
              "      <td>learn</td>\n",
              "      <td>5.4821</td>\n",
              "      <td>0.7577</td>\n",
              "      <td>4.1539</td>\n",
              "    </tr>\n",
              "  </tbody>\n",
              "</table>\n",
              "</div>\n",
              "      <button class=\"colab-df-convert\" onclick=\"convertToInteractive('df-4a92c640-4e88-4796-9ab4-f85a8b27fbe6')\"\n",
              "              title=\"Convert this dataframe to an interactive table.\"\n",
              "              style=\"display:none;\">\n",
              "        \n",
              "  <svg xmlns=\"http://www.w3.org/2000/svg\" height=\"24px\"viewBox=\"0 0 24 24\"\n",
              "       width=\"24px\">\n",
              "    <path d=\"M0 0h24v24H0V0z\" fill=\"none\"/>\n",
              "    <path d=\"M18.56 5.44l.94 2.06.94-2.06 2.06-.94-2.06-.94-.94-2.06-.94 2.06-2.06.94zm-11 1L8.5 8.5l.94-2.06 2.06-.94-2.06-.94L8.5 2.5l-.94 2.06-2.06.94zm10 10l.94 2.06.94-2.06 2.06-.94-2.06-.94-.94-2.06-.94 2.06-2.06.94z\"/><path d=\"M17.41 7.96l-1.37-1.37c-.4-.4-.92-.59-1.43-.59-.52 0-1.04.2-1.43.59L10.3 9.45l-7.72 7.72c-.78.78-.78 2.05 0 2.83L4 21.41c.39.39.9.59 1.41.59.51 0 1.02-.2 1.41-.59l7.78-7.78 2.81-2.81c.8-.78.8-2.07 0-2.86zM5.41 20L4 18.59l7.72-7.72 1.47 1.35L5.41 20z\"/>\n",
              "  </svg>\n",
              "      </button>\n",
              "      \n",
              "  <style>\n",
              "    .colab-df-container {\n",
              "      display:flex;\n",
              "      flex-wrap:wrap;\n",
              "      gap: 12px;\n",
              "    }\n",
              "\n",
              "    .colab-df-convert {\n",
              "      background-color: #E8F0FE;\n",
              "      border: none;\n",
              "      border-radius: 50%;\n",
              "      cursor: pointer;\n",
              "      display: none;\n",
              "      fill: #1967D2;\n",
              "      height: 32px;\n",
              "      padding: 0 0 0 0;\n",
              "      width: 32px;\n",
              "    }\n",
              "\n",
              "    .colab-df-convert:hover {\n",
              "      background-color: #E2EBFA;\n",
              "      box-shadow: 0px 1px 2px rgba(60, 64, 67, 0.3), 0px 1px 3px 1px rgba(60, 64, 67, 0.15);\n",
              "      fill: #174EA6;\n",
              "    }\n",
              "\n",
              "    [theme=dark] .colab-df-convert {\n",
              "      background-color: #3B4455;\n",
              "      fill: #D2E3FC;\n",
              "    }\n",
              "\n",
              "    [theme=dark] .colab-df-convert:hover {\n",
              "      background-color: #434B5C;\n",
              "      box-shadow: 0px 1px 3px 1px rgba(0, 0, 0, 0.15);\n",
              "      filter: drop-shadow(0px 1px 2px rgba(0, 0, 0, 0.3));\n",
              "      fill: #FFFFFF;\n",
              "    }\n",
              "  </style>\n",
              "\n",
              "      <script>\n",
              "        const buttonEl =\n",
              "          document.querySelector('#df-4a92c640-4e88-4796-9ab4-f85a8b27fbe6 button.colab-df-convert');\n",
              "        buttonEl.style.display =\n",
              "          google.colab.kernel.accessAllowed ? 'block' : 'none';\n",
              "\n",
              "        async function convertToInteractive(key) {\n",
              "          const element = document.querySelector('#df-4a92c640-4e88-4796-9ab4-f85a8b27fbe6');\n",
              "          const dataTable =\n",
              "            await google.colab.kernel.invokeFunction('convertToInteractive',\n",
              "                                                     [key], {});\n",
              "          if (!dataTable) return;\n",
              "\n",
              "          const docLinkHtml = 'Like what you see? Visit the ' +\n",
              "            '<a target=\"_blank\" href=https://colab.research.google.com/notebooks/data_table.ipynb>data table notebook</a>'\n",
              "            + ' to learn more about interactive tables.';\n",
              "          element.innerHTML = '';\n",
              "          dataTable['output_type'] = 'display_data';\n",
              "          await google.colab.output.renderOutput(dataTable, element);\n",
              "          const docLink = document.createElement('div');\n",
              "          docLink.innerHTML = docLinkHtml;\n",
              "          element.appendChild(docLink);\n",
              "        }\n",
              "      </script>\n",
              "    </div>\n",
              "  </div>\n",
              "  "
            ]
          },
          "metadata": {},
          "execution_count": 33
        }
      ],
      "source": [
        "# Update guess1_gain_df with pred column\n",
        "guess1_gain_df = pd.read_csv('/content/drive/MyDrive/Wordle/Data/1st_guess_info_gain.csv')\n",
        "\n",
        "# Rename \"Score\" into \"IG Score\" (Information Gain Score)\n",
        "guess1_gain_df = guess1_gain_df.rename(columns={\"Score\": \"IG Score\"})\n",
        "\n",
        "# Add prediction probability as \"ML Score\" (Machine Learning Score)\n",
        "guess1_gain_df['ML Score'] = pred_result_df['pred']\n",
        "\n",
        "# Add Total Score that is sum of IG Score and ML Score\n",
        "guess1_gain_df['Total Score'] = guess1_gain_df['IG Score'] * guess1_gain_df['ML Score']\n",
        "\n",
        "# Round to 4th decimal place\n",
        "guess1_gain_df = guess1_gain_df.round(4)\n",
        "\n",
        "# Get top 10 list\n",
        "top10_guess1_df = guess1_gain_df.sort_values(by='Total Score', ascending=False)[0:10]\n",
        "top10_guess1_df"
      ]
    },
    {
      "cell_type": "markdown",
      "metadata": {
        "id": "VbCQIUjarCAA"
      },
      "source": [
        "## Update Wordle Solver"
      ]
    },
    {
      "cell_type": "code",
      "execution_count": 34,
      "metadata": {
        "id": "CX69Ccmqw7wk"
      },
      "outputs": [],
      "source": [
        "# Look up a word in ML's pred_result_df, and return its score\n",
        "def get_ML_score(guess):\n",
        "    ML_score = pred_result_df[pred_result_df['word'] == guess]['pred']\n",
        "    return ML_score.values[0]\n",
        "\n",
        "\n",
        "# Update measure_guess_gain_list\n",
        "# - Two input methods: Total Score and IG Score\n",
        "# - Printout toggle\n",
        "def measure_guess_gain_list(guess_list, current_possible, scoring=['Total Score', 'IG Score'], printout=True):\n",
        "    word_list = []\n",
        "    gain_score_list = []\n",
        "    ML_score_list = []\n",
        "    total_score_list = []\n",
        "\n",
        "    if printout:                                                    # Show a progress bar using tqdm if printout is True\n",
        "        for word in tqdm(guess_list):                                                               \n",
        "            word_list.append(word)\n",
        "\n",
        "            gain_score = measure_guess_gain(word, current_possible)\n",
        "            gain_score_list.append(gain_score)\n",
        "            \n",
        "            ML_score = get_ML_score(word)\n",
        "            ML_score_list.append(ML_score)\n",
        "\n",
        "            total_score_list.append(gain_score * ML_score)\n",
        "\n",
        "    else:                                                           # No progress bar if printout is False\n",
        "        for word in guess_list:\n",
        "            word_list.append(word)\n",
        "\n",
        "            gain_score = measure_guess_gain(word, current_possible)\n",
        "            gain_score_list.append(gain_score)\n",
        "            \n",
        "            ML_score = get_ML_score(word)\n",
        "            ML_score_list.append(ML_score)\n",
        "\n",
        "            total_score_list.append(gain_score * ML_score)\n",
        "\n",
        "    output_df = pd.DataFrame({\n",
        "        'Word': word_list,\n",
        "        'IG Score': gain_score_list,\n",
        "        'ML Score': ML_score_list,\n",
        "        'Total Score': total_score_list\n",
        "    })\n",
        "\n",
        "    output_df = output_df.sort_values(by=scoring, ascending=False).round(4)\n",
        "\n",
        "    return output_df\n",
        "\n",
        "\n",
        "# Update wordle solver\n",
        "# - Define which scoring method\n",
        "# - Uses new measure_guess_gain_list\n",
        "def wordle_solver(max_try=6, scoring=['Total Score', 'IG Score']):\n",
        "    attempt = 0\n",
        "    prev_possible = full_list\n",
        "\n",
        "    print('Top 10 recommended 1st guess:')\n",
        "    print(top10_guess1_df.to_string(index=False))\n",
        "\n",
        "    while attempt < max_try:\n",
        "        print('Attempt ', attempt + 1, '/', max_try)\n",
        "\n",
        "        ask_input_solver('guess')\n",
        "        if guess == escape_word:                # If guess is secret escape word, end session\n",
        "            attempt = max_try\n",
        "            break\n",
        "        \n",
        "        ask_input_solver('result')\n",
        "        if result == escape_word:               # If result is secret escape word, end session\n",
        "            attempt = max_try\n",
        "            break\n",
        "\n",
        "        if result == (2, 2, 2, 2, 2):\n",
        "            print('You won!')\n",
        "            attempt = max_try + 1\n",
        "            break\n",
        "        else:\n",
        "            curr_possible = get_possible_words(guess, result, prev_possible)\n",
        "            curr_gain = measure_guess_gain_list(curr_possible, curr_possible, scoring)\n",
        "            \n",
        "            print('# of words remaining', len(curr_possible))\n",
        "            print('Top 10 recommended guess:')\n",
        "            print(curr_gain[0:10].to_string(index=False))\n",
        "            print('-' * 30)\n",
        "\n",
        "            # Prepare for next loop\n",
        "            prev_possible = curr_possible\n",
        "            attempt += 1\n",
        "\n",
        "    if attempt >= max_try:\n",
        "        print('Game Over')"
      ]
    },
    {
      "cell_type": "markdown",
      "metadata": {
        "id": "TRYE53CUlQu3"
      },
      "source": [
        "## Solve a game"
      ]
    },
    {
      "cell_type": "code",
      "execution_count": 193,
      "metadata": {
        "colab": {
          "base_uri": "https://localhost:8080/"
        },
        "id": "3X2VTFhvtK2X",
        "outputId": "c038ae45-b897-42b3-f8d9-9e814a452488"
      },
      "outputs": [
        {
          "name": "stdout",
          "output_type": "stream",
          "text": [
            "Top 10 recommended 1st guess:\n",
            " Word  IG Score  ML Score  Total Score\n",
            "least    5.6792    0.7577       4.3033\n",
            "store    5.6762    0.7577       4.3010\n",
            "paris    5.6687    0.7577       4.2954\n",
            "saint    5.6546    0.7577       4.2847\n",
            "share    5.6414    0.7577       4.2747\n",
            "later    5.6061    0.7577       4.2479\n",
            "suite    5.5646    0.7577       4.2164\n",
            "scale    5.5554    0.7577       4.2095\n",
            "stone    5.5281    0.7577       4.1888\n",
            "learn    5.4821    0.7577       4.1539\n",
            "Attempt  1 / 6\n",
            "Which word did you guess? least\n",
            "What is the result? 00221\n"
          ]
        },
        {
          "output_type": "stream",
          "name": "stderr",
          "text": [
            "100%|██████████| 3/3 [00:00<00:00, 205.34it/s]\n"
          ]
        },
        {
          "output_type": "stream",
          "name": "stdout",
          "text": [
            "# of words remaining 3\n",
            "Top 10 recommended guess:\n",
            " Word  IG Score  ML Score  Total Score\n",
            "trash     1.585    0.6796       1.0772\n",
            "stash     1.585    0.5892       0.9339\n",
            "trass     1.585    0.0656       0.1039\n",
            "------------------------------\n",
            "Attempt  2 / 6\n",
            "Which word did you guess? trash\n",
            "What is the result? 22222\n",
            "You won!\n",
            "Game Over\n"
          ]
        }
      ],
      "source": [
        "wordle_solver()"
      ]
    },
    {
      "cell_type": "markdown",
      "metadata": {
        "id": "j54wdTRDEYvy"
      },
      "source": [
        "# Part 4 - Game Simulation\n",
        "\n",
        "Combine Wordle Game in Part 1 and Wordle Solvers to simulate games and evaluate Solver performance"
      ]
    },
    {
      "cell_type": "markdown",
      "metadata": {
        "id": "oKDTZmx_S8XO"
      },
      "source": [
        "## Improve simulation efficiency by pre-generating all 2nd guess results"
      ]
    },
    {
      "cell_type": "code",
      "execution_count": 174,
      "metadata": {
        "id": "4XtzDI99Lwo4",
        "colab": {
          "base_uri": "https://localhost:8080/"
        },
        "outputId": "da667638-e28a-46a7-de3e-d3246b56eebb"
      },
      "outputs": [
        {
          "output_type": "stream",
          "name": "stderr",
          "text": [
            "100%|██████████| 243/243 [04:55<00:00,  1.22s/it]\n"
          ]
        }
      ],
      "source": [
        "# These codes only need to be ran once, because the output is saved into a CSV\n",
        "\"\"\"\n",
        "guess = 'least'\n",
        "scoring= 'Total Score'\n",
        "file_name = '2nd_guess_'+guess+'_info_gain.csv'\n",
        "\n",
        "with open(file_name, 'w', newline='') as file:\n",
        "    writer = csv.writer(file)\n",
        "    for result in tqdm(result_matrix):\n",
        "        curr_possible = get_possible_words(guess, result, full_list)\n",
        "        \n",
        "        try:\n",
        "            # Only take top result from each gain list     \n",
        "            top_result = measure_guess_gain_list(curr_possible, curr_possible, scoring, printout=False).nlargest(1, 'Total Score')['Word'].values[0]\n",
        "        except:\n",
        "            # In case a result is impossible\n",
        "            top_result = ''\n",
        "\n",
        "        # Write to file\n",
        "        writer.writerow([result, top_result, curr_possible])\n",
        "\"\"\""
      ]
    },
    {
      "cell_type": "code",
      "execution_count": 35,
      "metadata": {
        "colab": {
          "base_uri": "https://localhost:8080/",
          "height": 424
        },
        "id": "sDZK2zEWdzOs",
        "outputId": "e02caddb-d0ed-4313-bca9-c0aaf7d03298"
      },
      "outputs": [
        {
          "output_type": "execute_result",
          "data": {
            "text/plain": [
              "                   0      1                                                  2\n",
              "0    (0, 0, 0, 0, 0)  onion  ['mummy', 'porch', 'moron', 'gimpy', 'bunjy', ...\n",
              "1    (0, 0, 0, 0, 1)  tooth  ['forth', 'tunny', 'vutty', 'ontic', 'titty', ...\n",
              "2    (0, 0, 0, 0, 2)  idiot  ['innit', 'input', 'micht', 'fount', 'chott', ...\n",
              "3    (0, 0, 0, 1, 0)  sushi  ['simps', 'fonds', 'monos', 'yukos', 'koffs', ...\n",
              "4    (0, 0, 0, 1, 1)  potts  ['ducts', 'rusts', 'stoic', 'stoop', 'girts', ...\n",
              "..               ...    ...                                                ...\n",
              "238  (2, 2, 2, 1, 1)  leats                                          ['leats']\n",
              "239  (2, 2, 2, 1, 2)    NaN                                                 []\n",
              "240  (2, 2, 2, 2, 0)  lease                                 ['lease', 'leash']\n",
              "241  (2, 2, 2, 2, 1)    NaN                                                 []\n",
              "242  (2, 2, 2, 2, 2)  least                                          ['least']\n",
              "\n",
              "[243 rows x 3 columns]"
            ],
            "text/html": [
              "\n",
              "  <div id=\"df-994b1625-5407-4fef-8151-09af465a1abb\">\n",
              "    <div class=\"colab-df-container\">\n",
              "      <div>\n",
              "<style scoped>\n",
              "    .dataframe tbody tr th:only-of-type {\n",
              "        vertical-align: middle;\n",
              "    }\n",
              "\n",
              "    .dataframe tbody tr th {\n",
              "        vertical-align: top;\n",
              "    }\n",
              "\n",
              "    .dataframe thead th {\n",
              "        text-align: right;\n",
              "    }\n",
              "</style>\n",
              "<table border=\"1\" class=\"dataframe\">\n",
              "  <thead>\n",
              "    <tr style=\"text-align: right;\">\n",
              "      <th></th>\n",
              "      <th>0</th>\n",
              "      <th>1</th>\n",
              "      <th>2</th>\n",
              "    </tr>\n",
              "  </thead>\n",
              "  <tbody>\n",
              "    <tr>\n",
              "      <th>0</th>\n",
              "      <td>(0, 0, 0, 0, 0)</td>\n",
              "      <td>onion</td>\n",
              "      <td>['mummy', 'porch', 'moron', 'gimpy', 'bunjy', ...</td>\n",
              "    </tr>\n",
              "    <tr>\n",
              "      <th>1</th>\n",
              "      <td>(0, 0, 0, 0, 1)</td>\n",
              "      <td>tooth</td>\n",
              "      <td>['forth', 'tunny', 'vutty', 'ontic', 'titty', ...</td>\n",
              "    </tr>\n",
              "    <tr>\n",
              "      <th>2</th>\n",
              "      <td>(0, 0, 0, 0, 2)</td>\n",
              "      <td>idiot</td>\n",
              "      <td>['innit', 'input', 'micht', 'fount', 'chott', ...</td>\n",
              "    </tr>\n",
              "    <tr>\n",
              "      <th>3</th>\n",
              "      <td>(0, 0, 0, 1, 0)</td>\n",
              "      <td>sushi</td>\n",
              "      <td>['simps', 'fonds', 'monos', 'yukos', 'koffs', ...</td>\n",
              "    </tr>\n",
              "    <tr>\n",
              "      <th>4</th>\n",
              "      <td>(0, 0, 0, 1, 1)</td>\n",
              "      <td>potts</td>\n",
              "      <td>['ducts', 'rusts', 'stoic', 'stoop', 'girts', ...</td>\n",
              "    </tr>\n",
              "    <tr>\n",
              "      <th>...</th>\n",
              "      <td>...</td>\n",
              "      <td>...</td>\n",
              "      <td>...</td>\n",
              "    </tr>\n",
              "    <tr>\n",
              "      <th>238</th>\n",
              "      <td>(2, 2, 2, 1, 1)</td>\n",
              "      <td>leats</td>\n",
              "      <td>['leats']</td>\n",
              "    </tr>\n",
              "    <tr>\n",
              "      <th>239</th>\n",
              "      <td>(2, 2, 2, 1, 2)</td>\n",
              "      <td>NaN</td>\n",
              "      <td>[]</td>\n",
              "    </tr>\n",
              "    <tr>\n",
              "      <th>240</th>\n",
              "      <td>(2, 2, 2, 2, 0)</td>\n",
              "      <td>lease</td>\n",
              "      <td>['lease', 'leash']</td>\n",
              "    </tr>\n",
              "    <tr>\n",
              "      <th>241</th>\n",
              "      <td>(2, 2, 2, 2, 1)</td>\n",
              "      <td>NaN</td>\n",
              "      <td>[]</td>\n",
              "    </tr>\n",
              "    <tr>\n",
              "      <th>242</th>\n",
              "      <td>(2, 2, 2, 2, 2)</td>\n",
              "      <td>least</td>\n",
              "      <td>['least']</td>\n",
              "    </tr>\n",
              "  </tbody>\n",
              "</table>\n",
              "<p>243 rows × 3 columns</p>\n",
              "</div>\n",
              "      <button class=\"colab-df-convert\" onclick=\"convertToInteractive('df-994b1625-5407-4fef-8151-09af465a1abb')\"\n",
              "              title=\"Convert this dataframe to an interactive table.\"\n",
              "              style=\"display:none;\">\n",
              "        \n",
              "  <svg xmlns=\"http://www.w3.org/2000/svg\" height=\"24px\"viewBox=\"0 0 24 24\"\n",
              "       width=\"24px\">\n",
              "    <path d=\"M0 0h24v24H0V0z\" fill=\"none\"/>\n",
              "    <path d=\"M18.56 5.44l.94 2.06.94-2.06 2.06-.94-2.06-.94-.94-2.06-.94 2.06-2.06.94zm-11 1L8.5 8.5l.94-2.06 2.06-.94-2.06-.94L8.5 2.5l-.94 2.06-2.06.94zm10 10l.94 2.06.94-2.06 2.06-.94-2.06-.94-.94-2.06-.94 2.06-2.06.94z\"/><path d=\"M17.41 7.96l-1.37-1.37c-.4-.4-.92-.59-1.43-.59-.52 0-1.04.2-1.43.59L10.3 9.45l-7.72 7.72c-.78.78-.78 2.05 0 2.83L4 21.41c.39.39.9.59 1.41.59.51 0 1.02-.2 1.41-.59l7.78-7.78 2.81-2.81c.8-.78.8-2.07 0-2.86zM5.41 20L4 18.59l7.72-7.72 1.47 1.35L5.41 20z\"/>\n",
              "  </svg>\n",
              "      </button>\n",
              "      \n",
              "  <style>\n",
              "    .colab-df-container {\n",
              "      display:flex;\n",
              "      flex-wrap:wrap;\n",
              "      gap: 12px;\n",
              "    }\n",
              "\n",
              "    .colab-df-convert {\n",
              "      background-color: #E8F0FE;\n",
              "      border: none;\n",
              "      border-radius: 50%;\n",
              "      cursor: pointer;\n",
              "      display: none;\n",
              "      fill: #1967D2;\n",
              "      height: 32px;\n",
              "      padding: 0 0 0 0;\n",
              "      width: 32px;\n",
              "    }\n",
              "\n",
              "    .colab-df-convert:hover {\n",
              "      background-color: #E2EBFA;\n",
              "      box-shadow: 0px 1px 2px rgba(60, 64, 67, 0.3), 0px 1px 3px 1px rgba(60, 64, 67, 0.15);\n",
              "      fill: #174EA6;\n",
              "    }\n",
              "\n",
              "    [theme=dark] .colab-df-convert {\n",
              "      background-color: #3B4455;\n",
              "      fill: #D2E3FC;\n",
              "    }\n",
              "\n",
              "    [theme=dark] .colab-df-convert:hover {\n",
              "      background-color: #434B5C;\n",
              "      box-shadow: 0px 1px 3px 1px rgba(0, 0, 0, 0.15);\n",
              "      filter: drop-shadow(0px 1px 2px rgba(0, 0, 0, 0.3));\n",
              "      fill: #FFFFFF;\n",
              "    }\n",
              "  </style>\n",
              "\n",
              "      <script>\n",
              "        const buttonEl =\n",
              "          document.querySelector('#df-994b1625-5407-4fef-8151-09af465a1abb button.colab-df-convert');\n",
              "        buttonEl.style.display =\n",
              "          google.colab.kernel.accessAllowed ? 'block' : 'none';\n",
              "\n",
              "        async function convertToInteractive(key) {\n",
              "          const element = document.querySelector('#df-994b1625-5407-4fef-8151-09af465a1abb');\n",
              "          const dataTable =\n",
              "            await google.colab.kernel.invokeFunction('convertToInteractive',\n",
              "                                                     [key], {});\n",
              "          if (!dataTable) return;\n",
              "\n",
              "          const docLinkHtml = 'Like what you see? Visit the ' +\n",
              "            '<a target=\"_blank\" href=https://colab.research.google.com/notebooks/data_table.ipynb>data table notebook</a>'\n",
              "            + ' to learn more about interactive tables.';\n",
              "          element.innerHTML = '';\n",
              "          dataTable['output_type'] = 'display_data';\n",
              "          await google.colab.output.renderOutput(dataTable, element);\n",
              "          const docLink = document.createElement('div');\n",
              "          docLink.innerHTML = docLinkHtml;\n",
              "          element.appendChild(docLink);\n",
              "        }\n",
              "      </script>\n",
              "    </div>\n",
              "  </div>\n",
              "  "
            ]
          },
          "metadata": {},
          "execution_count": 35
        }
      ],
      "source": [
        "# Load guess information gain file\n",
        "guess2_gain_df = pd.read_csv('/content/drive/MyDrive/Wordle/Data/2nd_guess_least_info_gain.csv', header=None)\n",
        "guess2_gain_df"
      ]
    },
    {
      "cell_type": "code",
      "execution_count": 36,
      "metadata": {
        "colab": {
          "base_uri": "https://localhost:8080/"
        },
        "id": "_5Fz18djNil0",
        "outputId": "10ae9524-2c5c-4879-90e2-ea8434df0b56"
      },
      "outputs": [
        {
          "output_type": "stream",
          "name": "stdout",
          "text": [
            "state\n",
            "['stage', 'tsade', 'skate', 'stane', 'state', 'stare', 'stade', 'twaes', 'stake', 'stave', 'spate', 'etats']\n"
          ]
        }
      ],
      "source": [
        "# Convert first two columns of guess2_gain dataframe into a dictionary, so it's easier to look up the top guess\n",
        "guess2_top_guess_dict = dict(zip(guess2_gain_df[0], guess2_gain_df[1]))\n",
        "\n",
        "# Convert first and third columns of guess2_gain dataframe into a dictionary, so it's easier to look up the possible lists\n",
        "guess2_possible_dict = dict(zip(guess2_gain_df[0], guess2_gain_df[2]))\n",
        "\n",
        "# Verify dict is correctly made by printing some random result\n",
        "print(guess2_top_guess_dict['(0, 1, 2, 1, 1)'])\n",
        "print(guess2_possible_dict['(0, 1, 2, 1, 1)'])"
      ]
    },
    {
      "cell_type": "markdown",
      "metadata": {
        "id": "FmWeieT_wtTS"
      },
      "source": [
        "## Codes to run simulation"
      ]
    },
    {
      "cell_type": "code",
      "execution_count": 37,
      "metadata": {
        "id": "Bniy8qjmGkby"
      },
      "outputs": [],
      "source": [
        "def wordle_simulation(answer, max_try=6, scoring=['Total Score', 'IG Score'], printout=True, fast_mode=True):\n",
        "    attempt = 0\n",
        "    prev_possible = full_list\n",
        "    reset_alphabet()\n",
        "    victory = False\n",
        "    attempt_used = 0\n",
        "\n",
        "    if printout:\n",
        "        print('Top 10 recommended 1st guess:')\n",
        "        print(top10_guess1_df.to_string(index=False))\n",
        "    guess = top10_guess1_df.iloc[0, 0]\n",
        "\n",
        "    while attempt < max_try:\n",
        "        if printout:\n",
        "            print('Attempt ', attempt + 1, '/', max_try)\n",
        "\n",
        "        result = verify_input(answer, guess, output=True, printout=printout)\n",
        "        \n",
        "        if result == [2, 2, 2, 2, 2]:                           # Original solver put result in tuple, but simulation puts it into list\n",
        "            if printout:\n",
        "                print('You won!')\n",
        "            attempt_used = attempt + 1                          # Log down how many attempt was used to solve the game\n",
        "            attempt = max_try + 1\n",
        "            if attempt_used <= 6:\n",
        "                victory = True                                      # Flag victory as True\n",
        "                #print('v+1')\n",
        "            #print(attempt_used)\n",
        "            break\n",
        "\n",
        "        else:\n",
        "            # When using fast_mode, directly get result from saved CSV if first guess is 'raise'\n",
        "            # This greatly speeds up the simulation speed, at the cost of not displaying the \"Top 10 recommendation\" on guess 2\n",
        "            if attempt == 0 and guess == top10_guess1_df['Word'].values[0] and fast_mode == True:\n",
        "                new_guess = guess2_top_guess_dict[str(tuple(result))]\n",
        "                curr_possible = eval(guess2_possible_dict[str(tuple(result))])      # Use eval, because the result from the CSV is a list written in string form\n",
        "            \n",
        "            else:\n",
        "                curr_possible = get_possible_words(guess, result, prev_possible)\n",
        "                curr_gain = measure_guess_gain_list(curr_possible, curr_possible, scoring=scoring, printout=printout)\n",
        "                new_guess = curr_gain.iloc[0, 0]\n",
        "            \n",
        "                if printout:\n",
        "                    print('# of words remaining', len(curr_possible))\n",
        "                    print('Top 10 recommended guess:')\n",
        "                    print(curr_gain[0:10].to_string(index=False))\n",
        "                    print('-' * 30)\n",
        "\n",
        "            \n",
        "            # Prepare for next loop\n",
        "            guess = new_guess\n",
        "            prev_possible = curr_possible\n",
        "            attempt += 1\n",
        "            \n",
        "\n",
        "    if attempt >= max_try and printout:\n",
        "        print('Game Over')\n",
        "    \n",
        "    return victory, attempt_used"
      ]
    },
    {
      "cell_type": "markdown",
      "metadata": {
        "id": "dkaDLrQ8vFAJ"
      },
      "source": [
        "## Run Simulation"
      ]
    },
    {
      "cell_type": "markdown",
      "source": [
        "### One simulation"
      ],
      "metadata": {
        "id": "pL9sKRmgY4pJ"
      }
    },
    {
      "cell_type": "code",
      "execution_count": 39,
      "metadata": {
        "colab": {
          "base_uri": "https://localhost:8080/"
        },
        "id": "RKSgyIeQMZjL",
        "outputId": "9bcdb593-f467-4cfa-b961-e20acaae5311"
      },
      "outputs": [
        {
          "output_type": "stream",
          "name": "stdout",
          "text": [
            "Top 10 recommended 1st guess:\n",
            " Word  IG Score  ML Score  Total Score\n",
            "least    5.6792    0.7577       4.3033\n",
            "store    5.6762    0.7577       4.3010\n",
            "paris    5.6687    0.7577       4.2954\n",
            "saint    5.6546    0.7577       4.2847\n",
            "share    5.6414    0.7577       4.2747\n",
            "later    5.6061    0.7577       4.2479\n",
            "suite    5.5646    0.7577       4.2164\n",
            "scale    5.5554    0.7577       4.2095\n",
            "stone    5.5281    0.7577       4.1888\n",
            "learn    5.4821    0.7577       4.1539\n",
            "Attempt  1 / 6\n",
            "\u001b[1m\u001b[40m\u001b[37ml\u001b[0m\u001b[1m\u001b[40m\u001b[37me\u001b[0m\u001b[1m\u001b[43m\u001b[30ma\u001b[0m\u001b[1m\u001b[40m\u001b[37ms\u001b[0m\u001b[1m\u001b[43m\u001b[30mt\u001b[0m\n",
            "Available letters: \u001b[1m\u001b[43m\u001b[30ma\u001b[0m\u001b[1m\u001b[47m\u001b[30mb\u001b[0m\u001b[1m\u001b[47m\u001b[30mc\u001b[0m\u001b[1m\u001b[47m\u001b[30md\u001b[0m\u001b[1m\u001b[40m\u001b[37me\u001b[0m\u001b[1m\u001b[47m\u001b[30mf\u001b[0m\u001b[1m\u001b[47m\u001b[30mg\u001b[0m\u001b[1m\u001b[47m\u001b[30mh\u001b[0m\u001b[1m\u001b[47m\u001b[30mi\u001b[0m\u001b[1m\u001b[47m\u001b[30mj\u001b[0m\u001b[1m\u001b[47m\u001b[30mk\u001b[0m\u001b[1m\u001b[40m\u001b[37ml\u001b[0m\u001b[1m\u001b[47m\u001b[30mm\u001b[0m\u001b[1m\u001b[47m\u001b[30mn\u001b[0m\u001b[1m\u001b[47m\u001b[30mo\u001b[0m\u001b[1m\u001b[47m\u001b[30mp\u001b[0m\u001b[1m\u001b[47m\u001b[30mq\u001b[0m\u001b[1m\u001b[47m\u001b[30mr\u001b[0m\u001b[1m\u001b[40m\u001b[37ms\u001b[0m\u001b[1m\u001b[43m\u001b[30mt\u001b[0m\u001b[1m\u001b[47m\u001b[30mu\u001b[0m\u001b[1m\u001b[47m\u001b[30mv\u001b[0m\u001b[1m\u001b[47m\u001b[30mw\u001b[0m\u001b[1m\u001b[47m\u001b[30mx\u001b[0m\u001b[1m\u001b[47m\u001b[30my\u001b[0m\u001b[1m\u001b[47m\u001b[30mz\u001b[0m\n",
            "Attempt  2 / 6\n",
            "\u001b[1m\u001b[43m\u001b[30ma\u001b[0m\u001b[1m\u001b[40m\u001b[37mo\u001b[0m\u001b[1m\u001b[40m\u001b[37mr\u001b[0m\u001b[1m\u001b[43m\u001b[30mt\u001b[0m\u001b[1m\u001b[40m\u001b[37ma\u001b[0m\n",
            "Available letters: \u001b[1m\u001b[43m\u001b[30ma\u001b[0m\u001b[1m\u001b[47m\u001b[30mb\u001b[0m\u001b[1m\u001b[47m\u001b[30mc\u001b[0m\u001b[1m\u001b[47m\u001b[30md\u001b[0m\u001b[1m\u001b[40m\u001b[37me\u001b[0m\u001b[1m\u001b[47m\u001b[30mf\u001b[0m\u001b[1m\u001b[47m\u001b[30mg\u001b[0m\u001b[1m\u001b[47m\u001b[30mh\u001b[0m\u001b[1m\u001b[47m\u001b[30mi\u001b[0m\u001b[1m\u001b[47m\u001b[30mj\u001b[0m\u001b[1m\u001b[47m\u001b[30mk\u001b[0m\u001b[1m\u001b[40m\u001b[37ml\u001b[0m\u001b[1m\u001b[47m\u001b[30mm\u001b[0m\u001b[1m\u001b[47m\u001b[30mn\u001b[0m\u001b[1m\u001b[40m\u001b[37mo\u001b[0m\u001b[1m\u001b[47m\u001b[30mp\u001b[0m\u001b[1m\u001b[47m\u001b[30mq\u001b[0m\u001b[1m\u001b[40m\u001b[37mr\u001b[0m\u001b[1m\u001b[40m\u001b[37ms\u001b[0m\u001b[1m\u001b[43m\u001b[30mt\u001b[0m\u001b[1m\u001b[47m\u001b[30mu\u001b[0m\u001b[1m\u001b[47m\u001b[30mv\u001b[0m\u001b[1m\u001b[47m\u001b[30mw\u001b[0m\u001b[1m\u001b[47m\u001b[30mx\u001b[0m\u001b[1m\u001b[47m\u001b[30my\u001b[0m\u001b[1m\u001b[47m\u001b[30mz\u001b[0m\n"
          ]
        },
        {
          "output_type": "stream",
          "name": "stderr",
          "text": [
            "100%|██████████| 37/37 [00:00<00:00, 43.55it/s]\n"
          ]
        },
        {
          "output_type": "stream",
          "name": "stdout",
          "text": [
            "# of words remaining 37\n",
            "Top 10 recommended guess:\n",
            " Word  IG Score  ML Score  Total Score\n",
            "titan    3.7428    0.6796       2.5438\n",
            "match    3.0088    0.7577       2.2798\n",
            "watch    2.9652    0.7577       2.2468\n",
            "catch    3.2849    0.6796       2.2326\n",
            "patch    2.8389    0.7577       2.1511\n",
            "batik    3.4881    0.5724       1.9966\n",
            "batch    2.9373    0.6796       1.9963\n",
            "hatch    2.8299    0.6796       1.9233\n",
            "tammy    3.2329    0.5892       1.9049\n",
            "takin    3.9625    0.4259       1.6876\n",
            "------------------------------\n",
            "Attempt  3 / 6\n",
            "\u001b[1m\u001b[40m\u001b[37mt\u001b[0m\u001b[1m\u001b[40m\u001b[37mi\u001b[0m\u001b[1m\u001b[42m\u001b[37mt\u001b[0m\u001b[1m\u001b[43m\u001b[30ma\u001b[0m\u001b[1m\u001b[40m\u001b[37mn\u001b[0m\n",
            "Available letters: \u001b[1m\u001b[43m\u001b[30ma\u001b[0m\u001b[1m\u001b[47m\u001b[30mb\u001b[0m\u001b[1m\u001b[47m\u001b[30mc\u001b[0m\u001b[1m\u001b[47m\u001b[30md\u001b[0m\u001b[1m\u001b[40m\u001b[37me\u001b[0m\u001b[1m\u001b[47m\u001b[30mf\u001b[0m\u001b[1m\u001b[47m\u001b[30mg\u001b[0m\u001b[1m\u001b[47m\u001b[30mh\u001b[0m\u001b[1m\u001b[40m\u001b[37mi\u001b[0m\u001b[1m\u001b[47m\u001b[30mj\u001b[0m\u001b[1m\u001b[47m\u001b[30mk\u001b[0m\u001b[1m\u001b[40m\u001b[37ml\u001b[0m\u001b[1m\u001b[47m\u001b[30mm\u001b[0m\u001b[1m\u001b[40m\u001b[37mn\u001b[0m\u001b[1m\u001b[40m\u001b[37mo\u001b[0m\u001b[1m\u001b[47m\u001b[30mp\u001b[0m\u001b[1m\u001b[47m\u001b[30mq\u001b[0m\u001b[1m\u001b[40m\u001b[37mr\u001b[0m\u001b[1m\u001b[40m\u001b[37ms\u001b[0m\u001b[1m\u001b[42m\u001b[37mt\u001b[0m\u001b[1m\u001b[47m\u001b[30mu\u001b[0m\u001b[1m\u001b[47m\u001b[30mv\u001b[0m\u001b[1m\u001b[47m\u001b[30mw\u001b[0m\u001b[1m\u001b[47m\u001b[30mx\u001b[0m\u001b[1m\u001b[47m\u001b[30my\u001b[0m\u001b[1m\u001b[47m\u001b[30mz\u001b[0m\n"
          ]
        },
        {
          "output_type": "stream",
          "name": "stderr",
          "text": [
            "100%|██████████| 8/8 [00:00<00:00, 111.89it/s]\n"
          ]
        },
        {
          "output_type": "stream",
          "name": "stdout",
          "text": [
            "# of words remaining 8\n",
            "Top 10 recommended guess:\n",
            " Word  IG Score  ML Score  Total Score\n",
            "match    1.0613    0.7577       0.8042\n",
            "watch    1.0613    0.7577       0.8042\n",
            "patch    1.0613    0.7577       0.8042\n",
            "batch    1.0613    0.6796       0.7213\n",
            "hatch    1.0613    0.6796       0.7213\n",
            "catch    1.0613    0.6796       0.7213\n",
            "datum    1.0613    0.5892       0.6253\n",
            "gatch    1.0613    0.0656       0.0696\n",
            "------------------------------\n",
            "Attempt  4 / 6\n",
            "\u001b[1m\u001b[40m\u001b[37mm\u001b[0m\u001b[1m\u001b[42m\u001b[37ma\u001b[0m\u001b[1m\u001b[42m\u001b[37mt\u001b[0m\u001b[1m\u001b[42m\u001b[37mc\u001b[0m\u001b[1m\u001b[42m\u001b[37mh\u001b[0m\n",
            "Available letters: \u001b[1m\u001b[42m\u001b[37ma\u001b[0m\u001b[1m\u001b[47m\u001b[30mb\u001b[0m\u001b[1m\u001b[42m\u001b[37mc\u001b[0m\u001b[1m\u001b[47m\u001b[30md\u001b[0m\u001b[1m\u001b[40m\u001b[37me\u001b[0m\u001b[1m\u001b[47m\u001b[30mf\u001b[0m\u001b[1m\u001b[47m\u001b[30mg\u001b[0m\u001b[1m\u001b[42m\u001b[37mh\u001b[0m\u001b[1m\u001b[40m\u001b[37mi\u001b[0m\u001b[1m\u001b[47m\u001b[30mj\u001b[0m\u001b[1m\u001b[47m\u001b[30mk\u001b[0m\u001b[1m\u001b[40m\u001b[37ml\u001b[0m\u001b[1m\u001b[40m\u001b[37mm\u001b[0m\u001b[1m\u001b[40m\u001b[37mn\u001b[0m\u001b[1m\u001b[40m\u001b[37mo\u001b[0m\u001b[1m\u001b[47m\u001b[30mp\u001b[0m\u001b[1m\u001b[47m\u001b[30mq\u001b[0m\u001b[1m\u001b[40m\u001b[37mr\u001b[0m\u001b[1m\u001b[40m\u001b[37ms\u001b[0m\u001b[1m\u001b[42m\u001b[37mt\u001b[0m\u001b[1m\u001b[47m\u001b[30mu\u001b[0m\u001b[1m\u001b[47m\u001b[30mv\u001b[0m\u001b[1m\u001b[47m\u001b[30mw\u001b[0m\u001b[1m\u001b[47m\u001b[30mx\u001b[0m\u001b[1m\u001b[47m\u001b[30my\u001b[0m\u001b[1m\u001b[47m\u001b[30mz\u001b[0m\n"
          ]
        },
        {
          "output_type": "stream",
          "name": "stderr",
          "text": [
            "100%|██████████| 6/6 [00:00<00:00, 53.42it/s]\n"
          ]
        },
        {
          "output_type": "stream",
          "name": "stdout",
          "text": [
            "# of words remaining 6\n",
            "Top 10 recommended guess:\n",
            " Word  IG Score  ML Score  Total Score\n",
            "watch      0.65    0.7577       0.4925\n",
            "patch      0.65    0.7577       0.4925\n",
            "batch      0.65    0.6796       0.4418\n",
            "hatch      0.65    0.6796       0.4418\n",
            "catch      0.65    0.6796       0.4418\n",
            "gatch      0.65    0.0656       0.0426\n",
            "------------------------------\n",
            "Attempt  5 / 6\n",
            "\u001b[1m\u001b[40m\u001b[37mw\u001b[0m\u001b[1m\u001b[42m\u001b[37ma\u001b[0m\u001b[1m\u001b[42m\u001b[37mt\u001b[0m\u001b[1m\u001b[42m\u001b[37mc\u001b[0m\u001b[1m\u001b[42m\u001b[37mh\u001b[0m\n",
            "Available letters: \u001b[1m\u001b[42m\u001b[37ma\u001b[0m\u001b[1m\u001b[47m\u001b[30mb\u001b[0m\u001b[1m\u001b[42m\u001b[37mc\u001b[0m\u001b[1m\u001b[47m\u001b[30md\u001b[0m\u001b[1m\u001b[40m\u001b[37me\u001b[0m\u001b[1m\u001b[47m\u001b[30mf\u001b[0m\u001b[1m\u001b[47m\u001b[30mg\u001b[0m\u001b[1m\u001b[42m\u001b[37mh\u001b[0m\u001b[1m\u001b[40m\u001b[37mi\u001b[0m\u001b[1m\u001b[47m\u001b[30mj\u001b[0m\u001b[1m\u001b[47m\u001b[30mk\u001b[0m\u001b[1m\u001b[40m\u001b[37ml\u001b[0m\u001b[1m\u001b[40m\u001b[37mm\u001b[0m\u001b[1m\u001b[40m\u001b[37mn\u001b[0m\u001b[1m\u001b[40m\u001b[37mo\u001b[0m\u001b[1m\u001b[47m\u001b[30mp\u001b[0m\u001b[1m\u001b[47m\u001b[30mq\u001b[0m\u001b[1m\u001b[40m\u001b[37mr\u001b[0m\u001b[1m\u001b[40m\u001b[37ms\u001b[0m\u001b[1m\u001b[42m\u001b[37mt\u001b[0m\u001b[1m\u001b[47m\u001b[30mu\u001b[0m\u001b[1m\u001b[47m\u001b[30mv\u001b[0m\u001b[1m\u001b[40m\u001b[37mw\u001b[0m\u001b[1m\u001b[47m\u001b[30mx\u001b[0m\u001b[1m\u001b[47m\u001b[30my\u001b[0m\u001b[1m\u001b[47m\u001b[30mz\u001b[0m\n"
          ]
        },
        {
          "output_type": "stream",
          "name": "stderr",
          "text": [
            "100%|██████████| 5/5 [00:00<00:00, 93.71it/s]\n"
          ]
        },
        {
          "output_type": "stream",
          "name": "stdout",
          "text": [
            "# of words remaining 5\n",
            "Top 10 recommended guess:\n",
            " Word  IG Score  ML Score  Total Score\n",
            "patch    0.7219    0.7577       0.5470\n",
            "batch    0.7219    0.6796       0.4906\n",
            "hatch    0.7219    0.6796       0.4906\n",
            "catch    0.7219    0.6796       0.4906\n",
            "gatch    0.7219    0.0656       0.0473\n",
            "------------------------------\n",
            "Attempt  6 / 6\n",
            "\u001b[1m\u001b[40m\u001b[37mp\u001b[0m\u001b[1m\u001b[42m\u001b[37ma\u001b[0m\u001b[1m\u001b[42m\u001b[37mt\u001b[0m\u001b[1m\u001b[42m\u001b[37mc\u001b[0m\u001b[1m\u001b[42m\u001b[37mh\u001b[0m\n",
            "Available letters: \u001b[1m\u001b[42m\u001b[37ma\u001b[0m\u001b[1m\u001b[47m\u001b[30mb\u001b[0m\u001b[1m\u001b[42m\u001b[37mc\u001b[0m\u001b[1m\u001b[47m\u001b[30md\u001b[0m\u001b[1m\u001b[40m\u001b[37me\u001b[0m\u001b[1m\u001b[47m\u001b[30mf\u001b[0m\u001b[1m\u001b[47m\u001b[30mg\u001b[0m\u001b[1m\u001b[42m\u001b[37mh\u001b[0m\u001b[1m\u001b[40m\u001b[37mi\u001b[0m\u001b[1m\u001b[47m\u001b[30mj\u001b[0m\u001b[1m\u001b[47m\u001b[30mk\u001b[0m\u001b[1m\u001b[40m\u001b[37ml\u001b[0m\u001b[1m\u001b[40m\u001b[37mm\u001b[0m\u001b[1m\u001b[40m\u001b[37mn\u001b[0m\u001b[1m\u001b[40m\u001b[37mo\u001b[0m\u001b[1m\u001b[40m\u001b[37mp\u001b[0m\u001b[1m\u001b[47m\u001b[30mq\u001b[0m\u001b[1m\u001b[40m\u001b[37mr\u001b[0m\u001b[1m\u001b[40m\u001b[37ms\u001b[0m\u001b[1m\u001b[42m\u001b[37mt\u001b[0m\u001b[1m\u001b[47m\u001b[30mu\u001b[0m\u001b[1m\u001b[47m\u001b[30mv\u001b[0m\u001b[1m\u001b[40m\u001b[37mw\u001b[0m\u001b[1m\u001b[47m\u001b[30mx\u001b[0m\u001b[1m\u001b[47m\u001b[30my\u001b[0m\u001b[1m\u001b[47m\u001b[30mz\u001b[0m\n"
          ]
        },
        {
          "output_type": "stream",
          "name": "stderr",
          "text": [
            "100%|██████████| 4/4 [00:00<00:00, 46.33it/s]\n"
          ]
        },
        {
          "output_type": "stream",
          "name": "stdout",
          "text": [
            "# of words remaining 4\n",
            "Top 10 recommended guess:\n",
            " Word  IG Score  ML Score  Total Score\n",
            "batch    0.8113    0.6796       0.5514\n",
            "hatch    0.8113    0.6796       0.5514\n",
            "catch    0.8113    0.6796       0.5514\n",
            "gatch    0.8113    0.0656       0.0532\n",
            "------------------------------\n",
            "Game Over\n"
          ]
        },
        {
          "output_type": "execute_result",
          "data": {
            "text/plain": [
              "(False, 0)"
            ]
          },
          "metadata": {},
          "execution_count": 39
        }
      ],
      "source": [
        "# Run one simulation\n",
        "# answer = 'amaze'                          # Simulate a specific answer\n",
        "# answer = random.choice(real_list)         # Random word each simulation\n",
        "\n",
        "answer = 'catch'\n",
        "wordle_simulation(answer, fast_mode=True)"
      ]
    },
    {
      "cell_type": "markdown",
      "source": [
        "### IG Score"
      ],
      "metadata": {
        "id": "6B4xRTfVU8Y2"
      }
    },
    {
      "cell_type": "code",
      "source": [
        "# Run bigger simulation using IG Score\n",
        "sim1_victory_list = []\n",
        "sim1_attempt_used_list = []\n",
        "sim1_lost_list = []\n",
        "\n",
        "for answer in tqdm(real_list):\n",
        "    victory, attempt_used = wordle_simulation(answer, max_try=99, scoring='IG Score', printout=False)\n",
        "    sim1_victory_list.append(victory)\n",
        "    sim1_attempt_used_list.append(attempt_used)\n",
        "\n",
        "    # Note down the words that the solver failed on\n",
        "    if attempt_used > 6:\n",
        "        sim1_lost_list.append(answer)"
      ],
      "metadata": {
        "colab": {
          "base_uri": "https://localhost:8080/"
        },
        "id": "L9HFes2sVJy2",
        "outputId": "3a0aa8f7-8f77-4d8f-fcd1-0d32b5f5aa50"
      },
      "execution_count": 42,
      "outputs": [
        {
          "output_type": "stream",
          "name": "stderr",
          "text": [
            "100%|██████████| 2315/2315 [12:30<00:00,  3.08it/s]\n"
          ]
        }
      ]
    },
    {
      "cell_type": "code",
      "source": [
        "# View simulation result\n",
        "simulation1_df = pd.DataFrame({'Victory': sim1_victory_list,\n",
        "                              'Attempt Used': sim1_attempt_used_list})\n",
        "\n",
        "simulation1_df.head()\n",
        "\n",
        "print('Simulation using IG Score')\n",
        "print('Win Rate:', round(sum(simulation1_df['Victory']) / simulation1_df.shape[0] * 100, 4), '%')\n",
        "print('Attempt Used Average:', round(sum(simulation1_df['Attempt Used']) / sum(simulation1_df['Victory']), 4))\n",
        "print()\n",
        "\n",
        "# Print count of how many attempts were used to solve the game; 0 means it failed (didn't find the answer within 6 attempts)\n",
        "attempt_count = simulation1_df.value_counts(subset=['Attempt Used'], sort=False)\n",
        "print(attempt_count)\n",
        "print()\n",
        "\n",
        "# Plot histogram showing the counts\n",
        "pyplot.hist(simulation1_df['Attempt Used'], bins=np.arange(0.5, 13, 1))\n",
        "\n",
        "# Show which words were lost\n",
        "print(\"Lost Count:\", len(sim1_lost_list))\n",
        "print(\"Lost Words:\", sim1_lost_list)"
      ],
      "metadata": {
        "colab": {
          "base_uri": "https://localhost:8080/",
          "height": 632
        },
        "id": "l1-fkV9tVKaG",
        "outputId": "ab9b8e67-4a7a-49fb-d411-a6eb9a2f770d"
      },
      "execution_count": 43,
      "outputs": [
        {
          "output_type": "stream",
          "name": "stdout",
          "text": [
            "Simulation using IG Score\n",
            "Win Rate: 93.7797 %\n",
            "Attempt Used Average: 4.7296\n",
            "\n",
            "Attempt Used\n",
            "1                 1\n",
            "2               120\n",
            "3               359\n",
            "4               834\n",
            "5               614\n",
            "6               243\n",
            "7                90\n",
            "8                36\n",
            "9                14\n",
            "10                3\n",
            "12                1\n",
            "dtype: int64\n",
            "\n",
            "Lost Count: 144\n",
            "Lost Words: ['wager', 'sower', 'angle', 'stout', 'coven', 'swear', 'hippy', 'staff', 'clove', 'mucky', 'safer', 'curvy', 'lager', 'patch', 'fluff', 'hutch', 'candy', 'buggy', 'buddy', 'catty', 'mafia', 'taper', 'ditty', 'tabby', 'bunny', 'heist', 'steak', 'maker', 'blind', 'round', 'final', 'nutty', 'gawky', 'hater', 'leaky', 'ferry', 'taunt', 'catch', 'steed', 'goose', 'guppy', 'cater', 'navel', 'gully', 'puppy', 'gooey', 'femme', 'bushy', 'score', 'hasty', 'trope', 'polar', 'hatch', 'tower', 'craze', 'hinge', 'fizzy', 'gummy', 'tatty', 'brake', 'wacky', 'farce', 'irate', 'caddy', 'rover', 'foggy', 'papal', 'mouth', 'booby', 'hover', 'hoist', 'goner', 'dizzy', 'crave', 'sandy', 'funny', 'taffy', 'tripe', 'grave', 'stake', 'gavel', 'charm', 'boxer', 'swell', 'vaunt', 'bully', 'aping', 'birth', 'coral', 'miner', 'winch', 'goody', 'woken', 'blood', 'toddy', 'brown', 'wight', 'faint', 'verve', 'water', 'dough', 'jiffy', 'otter', 'happy', 'golly', 'wound', 'saner', 'foyer', 'handy', 'wider', 'hussy', 'stave', 'foist', 'parry', 'ideal', 'budge', 'vodka', 'bobby', 'paper', 'unwed', 'beefy', 'caste', 'hunch', 'rower', 'crane', 'cower', 'snake', 'racer', 'haven', 'taker', 'squad', 'tight', 'holly', 'maybe', 'boozy', 'dutch', 'liver', 'shame', 'goofy', 'mural', 'pitch', 'hitch', 'bingo', 'joker']\n"
          ]
        },
        {
          "output_type": "display_data",
          "data": {
            "text/plain": [
              "<Figure size 432x288 with 1 Axes>"
            ],
            "image/png": "[encoded data removed]"
          },
          "metadata": {
            "needs_background": "light"
          }
        }
      ]
    },
    {
      "cell_type": "markdown",
      "source": [
        "### IG * ML Score"
      ],
      "metadata": {
        "id": "0XPPnScSU6Fn"
      }
    },
    {
      "cell_type": "code",
      "execution_count": 40,
      "metadata": {
        "colab": {
          "base_uri": "https://localhost:8080/"
        },
        "id": "PvfjWeVivDBA",
        "outputId": "ff983182-c42f-4feb-848a-88c477055fc6"
      },
      "outputs": [
        {
          "output_type": "stream",
          "name": "stderr",
          "text": [
            "100%|██████████| 2315/2315 [12:29<00:00,  3.09it/s]\n"
          ]
        }
      ],
      "source": [
        "# Run bigger simulation using IG * ML Score\n",
        "sim2_victory_list = []\n",
        "sim2_attempt_used_list = []\n",
        "sim2_lost_list = []\n",
        "\n",
        "for answer in tqdm(real_list):\n",
        "    victory, attempt_used = wordle_simulation(answer, max_try=99, scoring='Total Score', printout=False)\n",
        "    sim2_victory_list.append(victory)\n",
        "    sim2_attempt_used_list.append(attempt_used)\n",
        "\n",
        "    # Note down the words that the solver failed on\n",
        "    if attempt_used > 6:\n",
        "        sim2_lost_list.append(answer)"
      ]
    },
    {
      "cell_type": "code",
      "execution_count": 44,
      "metadata": {
        "colab": {
          "base_uri": "https://localhost:8080/",
          "height": 632
        },
        "id": "9_0hxrjSvEKZ",
        "outputId": "5a92a210-81b5-4b81-8bfd-418dd1092e9f"
      },
      "outputs": [
        {
          "output_type": "stream",
          "name": "stdout",
          "text": [
            "Simulation using IG * ML Score\n",
            "Win Rate: 97.9266 %\n",
            "Attempt Used Average: 4.0459\n",
            "\n",
            "Attempt Used\n",
            "1                 1\n",
            "2               120\n",
            "3               706\n",
            "4               864\n",
            "5               453\n",
            "6               123\n",
            "7                33\n",
            "8                12\n",
            "9                 3\n",
            "dtype: int64\n",
            "\n",
            "\n",
            "\n",
            "Lost Count: 48\n",
            "Lost Words: ['fuzzy', 'mammy', 'baste', 'batch', 'cinch', 'mucky', 'bound', 'bough', 'buggy', 'waver', 'catty', 'shave', 'gusty', 'gawky', 'hater', 'ferry', 'catch', 'fight', 'bitty', 'guppy', 'puppy', 'grown', 'hatch', 'fizzy', 'gummy', 'tatty', 'jaunt', 'daunt', 'goner', 'taffy', 'tripe', 'boxer', 'vaunt', 'jazzy', 'wight', 'golly', 'wound', 'saner', 'stave', 'foist', 'parry', 'creak', 'cower', 'sappy', 'boozy', 'stack', 'hitch', 'joker']\n"
          ]
        },
        {
          "output_type": "display_data",
          "data": {
            "text/plain": [
              "<Figure size 432x288 with 1 Axes>"
            ],
            "image/png": "[encoded data removed]"
          },
          "metadata": {
            "needs_background": "light"
          }
        }
      ],
      "source": [
        "# View simulation result\n",
        "simulation2_df = pd.DataFrame({'Victory': sim2_victory_list,\n",
        "                              'Attempt Used': sim2_attempt_used_list})\n",
        "\n",
        "print('Simulation using IG * ML Score')\n",
        "print('Win Rate:', round(sum(simulation2_df['Victory']) / simulation2_df.shape[0] * 100, 4), '%')\n",
        "print('Attempt Used Average:', round(sum(simulation2_df['Attempt Used']) / sum(simulation2_df['Victory']), 4))\n",
        "print()\n",
        "\n",
        "# Print count of how many attempts were used to solve the game; 0 means it failed (didn't find the answer within 6 attempts)\n",
        "attempt_count = simulation2_df.value_counts(subset=['Attempt Used'], sort=False)\n",
        "print(attempt_count)\n",
        "print()\n",
        "print()\n",
        "print()\n",
        "\n",
        "# Plot histogram showing the counts\n",
        "pyplot.hist(simulation2_df['Attempt Used'], bins=np.arange(0.5, 10, 1))\n",
        "\n",
        "# Show which words were lost\n",
        "print(\"Lost Count:\", len(sim2_lost_list))\n",
        "print(\"Lost Words:\", sim2_lost_list)"
      ]
    },
    {
      "cell_type": "markdown",
      "source": [
        "After running simulations, we see on average the Wordle Solver can guess the right answer using a little over 4, this is good.\n",
        "\n",
        "However it failes to solve the game sometimes. This is troubling."
      ],
      "metadata": {
        "id": "JqnRL_0ZOEcd"
      }
    },
    {
      "cell_type": "markdown",
      "metadata": {
        "id": "vPnOwq7rvYDP"
      },
      "source": [
        "# To Do\n",
        "\n",
        "- Usability: if there's one result, tell user it's the only answer\n",
        "- Usability: if there is 0 result (meaning there is a mistake), go back to last step\n",
        "- Performance: Try to implement code that prevents guess from being cornered\n",
        "- Performance: Try finding more features to improve Machine Learning score (for example, vulgar swear words are probably not answers, or brand names with almost no meaning)\n",
        "- Performance: Try different scoring methods, perhaps the weight of IG and ML scores would change based on current attempt number\n"
      ]
    }
  ],
  "metadata": {
    "colab": {
      "collapsed_sections": [],
      "name": "Wordle Solver",
      "provenance": [],
      "toc_visible": true
    },
    "kernelspec": {
      "display_name": "Python 3",
      "name": "python3"
    },
    "language_info": {
      "name": "python"
    }
  },
  "nbformat": 4,
  "nbformat_minor": 0
}